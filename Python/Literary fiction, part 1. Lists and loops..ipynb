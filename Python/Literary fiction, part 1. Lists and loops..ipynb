{
 "cells": [
  {
   "cell_type": "markdown",
   "metadata": {
    "collapsed": true
   },
   "source": [
    "Let's do some actual coding.\n",
    "\n",
    "# Literary fiction interlude:\n",
    "\n",
    "Your name is Lalama Evans, half-Hawaiian, former server at Ruby Tuesdays, and currently a psychology graduate student at the Metropolitan University of Fruitville, Florida.\n",
    "\n",
    "Your advisor, who shall remain nameless, looks exactly like the advisor in Ph.D. comics.\n",
    "\n",
    "He wants your project to involve the neurotransmitter serotonin, mainly because he finds it really interesting that this amine is also found in plants, and he rambles on about it constantly. Especially at departmental mixers. Especially if he has had too much wine.\n",
    "\n",
    "You on the other hand would like your project to be about something useful that will help you get a job after grad school.\n",
    "\n",
    "So you compromise: you'll study something useful that happens to involve serotonin.\n",
    "\n",
    "You are also a bit of a hacker, because you had a good teacher for computing class in middle school. She was also the mayor of your small town but that's a story for another day.\n",
    "\n",
    "You figure that you are probably going to study serotonin in some strains of mice, so you go to the Jackson labs website, where they have a ton of data about different strains.\n",
    "\n",
    "A lot of the data is in files that have the _comma-separated value_ format, called csv files for short. You start by downloading a csv file that has information about serotonin receptor levels in the brains of different mouse strains."
   ]
  },
  {
   "cell_type": "markdown",
   "metadata": {
    "collapsed": true
   },
   "source": [
    "#  Parsing a csv file, part 1"
   ]
  },
  {
   "cell_type": "code",
   "execution_count": 1,
   "metadata": {
    "collapsed": false
   },
   "outputs": [],
   "source": [
    "import urllib.request\n",
    "import csv\n",
    "\n",
    "url_for_file = \"https://raw.githubusercontent.com/NickleDave/EWIN-coding-bootcamp/master/Python/Wiltshire3_means.csv\"\n",
    "with urllib.request.urlopen(url_for_file) as response:\n",
    "   csv_file = response.read().decode('utf-8')\n",
    "\n",
    "reader = csv.reader(csv_file, delimiter=',')\n",
    "parsed_file_1st_attempt = list(reader)"
   ]
  },
  {
   "cell_type": "markdown",
   "metadata": {},
   "source": [
    "## import statements\n",
    "###  what did we just do?\n",
    "\n",
    "First we `import`ed two packages, `urllib` and `csv`.\n",
    "* **package**: just what it sounds like, a way to \"package up\" a set of objects and functions.\n",
    "* smallest unit of code that you can import in Python is a **module**\n",
    "    - a module is one file\n",
    "    - a package can have multiple modules\n",
    "\n",
    "You can `import` wherever you want in a script, but it is considered good form to put your list of `import` statements at the top.\n",
    "\n",
    "There are three common ways to use the import command.\n",
    "\n",
    "1. wholesale:\n",
    "    - e.g., `import urllib`\n",
    "    - this will load every \"sub-module\"\n",
    "2. selective:\n",
    "    - e.g., `from urllib import request,magic_parser`\n",
    "    - this lets you load only the sub-modules you want to use. Convenient if you only need those and you don't want to type the whole name of the module, followed by its sub-module every time.\n",
    "3. abbreviated\n",
    "    - e.g., `import numpy as np`\n",
    "    - So now you can type `np.mean()` instead of `numpy.mean()`\n",
    "\n",
    "The `urllib` library lets us get stuff off the web. You don't have to know anything else about this for now.\n",
    "\n",
    "We used it to load the file from pheone.jax.org into the variable `csv_file`.\n",
    "Let's see what's in that variable."
   ]
  },
  {
   "cell_type": "code",
   "execution_count": null,
   "metadata": {
    "collapsed": false
   },
   "outputs": [],
   "source": [
    "csv_file"
   ]
  },
  {
   "cell_type": "markdown",
   "metadata": {},
   "source": [
    "The `csv` module is for parsing csv files (obvs).\n",
    "\n",
    "When we ran these lines of code...\n",
    "\n",
    "`\n",
    "reader = csv.reader(csv_file, delimiter=',')\n",
    "parsed_file = list(reader)\n",
    "`\n",
    "\n",
    "...it should in theory have split each line of the file up wherever it found a comma.\n",
    "Let's see if it did that."
   ]
  },
  {
   "cell_type": "code",
   "execution_count": null,
   "metadata": {
    "collapsed": false
   },
   "outputs": [],
   "source": [
    "parsed_file_1st_attempt[57:73] # <-- the numbers inside square brackets are indices, we'll explain that in a bit"
   ]
  },
  {
   "cell_type": "markdown",
   "metadata": {},
   "source": [
    "Hmm, looks like it didn't.\n",
    "Instead it split up the string at each letter, except for the quoted bits.\n",
    "Maybe there's something we're not understanding about `urllib`.\n",
    "\n",
    "Let's turn to our old friend Google, who takes us to a stackoverflow post.\n",
    "(All programmers should know stackoverflow.)\n",
    "http://stackoverflow.com/questions/21351882/reading-data-from-a-csv-file-online-in-python-3\n",
    "\n",
    "Oh, I get it now, the `csv_file` is one big long string. Since a string is a type of sequence, and `csv.reader` splits up sequences, it's splitting up the string into characters.\n",
    "\n",
    "What we need to do is split up our big long string so there's some other kind of sequence.\n",
    "\n",
    "The different lines in the file are actually separated by the character that represents a new line, '\\n'.\n",
    "\n",
    "But we have to tell Python to split the string up whenever it sees that character.\n",
    "\n",
    "To do that we can call the `splitlines` method on the string, as shown in the cell below."
   ]
  },
  {
   "cell_type": "code",
   "execution_count": null,
   "metadata": {
    "collapsed": false
   },
   "outputs": [],
   "source": [
    "url_for_file = \"http://phenome.jax.org/tmp/Wiltshire3_means.csv\"\n",
    "with urllib.request.urlopen(url_for_file) as response:\n",
    "   csv_file_split = response.read().decode('utf-8').splitlines() # <-- calling the splitlines method"
   ]
  },
  {
   "cell_type": "markdown",
   "metadata": {},
   "source": [
    "**Notice that we can chain multiple methods calls together using the period.**\n",
    "\n",
    "The methods will be processed in order from left to right.\n",
    "\n",
    "Here's the line again from the cell above where we did that:\n",
    "\n",
    "`csv_file = response.read().decode('utf-8').splitlines()`\n",
    "\n",
    "What this line of code does is say:\n",
    "1. use the `read` method of the `response` object on itself. i.e., get whatever's at the link I gave you.\n",
    "2. then `decode` whatever you read in using the \"utf-8\" scheme (one of many ways to decode bytes into text)\n",
    "3. then finally take the text and split it up with the `splitlines` method, that by default splits wherever it finds the special character '\\n' that represents the end of a line (like when you type `enter`)\n",
    "\n",
    "So what does `csv_file` look like after we run `splitlines` on it?"
   ]
  },
  {
   "cell_type": "code",
   "execution_count": null,
   "metadata": {
    "collapsed": false
   },
   "outputs": [],
   "source": [
    "csv_file_split[:4] # <-- the numbers inside square brackets are indices, we'll explain that in a bit"
   ]
  },
  {
   "cell_type": "markdown",
   "metadata": {},
   "source": [
    "Notice that now when we display the variable, it's surrounded by square brackets.\n",
    "That's because `splitlines` returns a *list* of strings.\n",
    "\n",
    "## Lists\n",
    "\n",
    "* one of the main data types in Python\n",
    "  - often called *arrays* in other languages\n",
    "\n",
    "\n",
    "* just a way of grouping things together\n",
    "\n",
    "\n",
    "* Lists are **ordered**.\n",
    "  - item 2 comes after item 1, and always will, unless we modify the list\n",
    "  \n",
    "  \n",
    "This matters, for example, when we want to process the lines from a file in order.\n",
    "\n",
    "Now that we have a list of strings, we can use the csv.reader on them.\n",
    "\n",
    "Recall that we figured out from a stackoverflow post that the csv.reader will take whatever sequence we give it and split it up.\n",
    "Since a list, like a string, is a sequence, we can get the reader to split it up."
   ]
  },
  {
   "cell_type": "code",
   "execution_count": null,
   "metadata": {
    "collapsed": true
   },
   "outputs": [],
   "source": [
    "reader = csv.reader(csv_file_split, delimiter=',')"
   ]
  },
  {
   "cell_type": "markdown",
   "metadata": {},
   "source": [
    "Okay, so now we made a `reader` object (from the `csv` module).\n",
    "Did we parse our file yet?"
   ]
  },
  {
   "cell_type": "code",
   "execution_count": null,
   "metadata": {
    "collapsed": false
   },
   "outputs": [],
   "source": [
    "reader"
   ]
  },
  {
   "cell_type": "markdown",
   "metadata": {},
   "source": [
    "What the heckin' heck is that?\n",
    "\n",
    "That's the objects location in memory.\n",
    "\n",
    "But it's not what we wanted at all. We want the lines from our csv file, split up at the commas.\n",
    "\n",
    "The `reader` is actually an `iterator` object.\n",
    "In Pythonese, we say an object is an `iterator` if it implements a `next` method.\n",
    "In this case, each time we call the `next` method on the `reader`, it spits out one of the lines from our list, only split up wherever it found a comma.\n",
    "\n"
   ]
  },
  {
   "cell_type": "code",
   "execution_count": null,
   "metadata": {
    "collapsed": false
   },
   "outputs": [],
   "source": [
    "reader.__next__()"
   ]
  },
  {
   "cell_type": "markdown",
   "metadata": {},
   "source": [
    "So you could in theory write a script like the cell below to get all the lines of the file:"
   ]
  },
  {
   "cell_type": "code",
   "execution_count": null,
   "metadata": {
    "collapsed": true
   },
   "outputs": [],
   "source": [
    "#... 399 lines above\n",
    "line400 = next(reader)\n",
    "line401 = next(reader)\n",
    "line402 = next(reader)\n",
    "line403 = next(reader)\n",
    "#... and so on"
   ]
  },
  {
   "cell_type": "markdown",
   "metadata": {},
   "source": [
    "But that would be silly. There's many other ways to get all the lines of the file out of the `reader`.\n",
    "\n",
    "## for loops\n",
    "\n",
    "We use a *for loop* to *iterate* over the rows of the file.\n",
    "To hold all the lines from the csv file after their parsed, we'll create an empty list."
   ]
  },
  {
   "cell_type": "code",
   "execution_count": null,
   "metadata": {
    "collapsed": false
   },
   "outputs": [],
   "source": [
    "reader = csv.reader(csv_file_split, delimiter=',') # create reader again since we had already called 'next'\n",
    "parsed_file_for_loop = [] # an empty list\n",
    "for row in reader:\n",
    "    parsed_file_for_loop.append(row)"
   ]
  },
  {
   "cell_type": "markdown",
   "metadata": {},
   "source": [
    "Here's what happens each time through the loop:\n",
    "   1. the reader object parses one line of the file and puts that parsed line inside the variable `row`\n",
    "   2. the `append` method of our list object `parsed_file` is called, to add `row` to the end of our list\n",
    "\n",
    "- things to know about for loops in Python:\n",
    "  - we loop over a **sequence**\n",
    "    - a list or a string\n",
    "  - we put a *dummy variable* after the keyword `for`\n",
    "    - each time through the loop, this *dummy variable* contains the next item in the sequence\n",
    "  - a common gotcha: **don't forget the colon after the `for` statement**\n",
    "    - if you do, the interpreter will tell you the next line has a `SyntaxError` even though it doesn't\n",
    "    - I do this all the time and you will to\n",
    "\n",
    "**Notice that we don't have to tell Python how many times to go through the loop.** It just iterates until it runs out of lines. If you want to sound like a brilliant computer scientist, you can say the for loop *consumes* the `iterator`.\n",
    "\n",
    "This is different from other languages you might have seen.\n",
    "Here's a for loop in Java code\n",
    "\n",
    "```Java\n",
    "for (i=0;i++;i<10)\n",
    "    { // <-- curly braces\n",
    "    j = i * 10;\n",
    "    k = k + j;\n",
    "    }\n",
    "print(k);\n",
    "```\n",
    "\n",
    "## significant white space\n",
    "\n",
    "* other languages:\n",
    "  - use curly braces to identify blocks of code\n",
    "    - like the or loop above\n",
    "  - also require semi-colons at the end of lines\n",
    "\n",
    "\n",
    "* Python doesn't require either\n",
    "\n",
    "\n",
    "* How does the Python interpreter know which lines of code belong inside our *for loop*?\n",
    "  - white space is used to organize code\n",
    "  - All lines indented the same amount belong to a given block\n",
    "\n",
    "```Python\n",
    "for i in range(10):\n",
    "    # beginning of code block in for loop\n",
    "    j = i * 10\n",
    "    k = k + j\n",
    "    # end of code block\n",
    "print(k)\n",
    "```\n",
    "\n",
    "Many people that are used to other languages find this weird at first.\n",
    "\n",
    "You'll get over it.\n",
    "\n",
    "Once you do, you'll realize that it enforces readability in a way that other languages do not.\n",
    "\n",
    "For example, in Java, people can choose how much they indent. As long as there's opening and closing curly braces, it doesn't matter where they are. In practice, good Java coders use consistent indentation, but there's actually nothing about the language that says they have to.\n",
    "\n",
    "## other ways to consume your iterators\n",
    "### list comprehension\n",
    "a `list comprehension` is like a `for loop` that you write inside of a list."
   ]
  },
  {
   "cell_type": "code",
   "execution_count": null,
   "metadata": {
    "collapsed": true
   },
   "outputs": [],
   "source": [
    "reader = csv.reader(csv_file_split, delimiter=',') # create reader again since we had already called 'next'\n",
    "parsed_file_list_comp = [row for row in reader]"
   ]
  },
  {
   "cell_type": "markdown",
   "metadata": {},
   "source": [
    "### calling the list function\n",
    "* `list` function can convert an iterator to a list\n",
    "* notice that this is very easy for humans to read"
   ]
  },
  {
   "cell_type": "code",
   "execution_count": null,
   "metadata": {
    "collapsed": true
   },
   "outputs": [],
   "source": [
    "reader = csv.reader(csv_file_split, delimiter=',') # create reader again since we had already called 'next'\n",
    "parsed_file_list_func = list(reader)"
   ]
  },
  {
   "cell_type": "markdown",
   "metadata": {},
   "source": [
    "These all gave us the same result:"
   ]
  },
  {
   "cell_type": "code",
   "execution_count": null,
   "metadata": {
    "collapsed": false
   },
   "outputs": [],
   "source": [
    "print(\"parsed_file_for_loop is the same as parsed_file_list_comp: \",\n",
    "      parsed_file_for_loop == parsed_file_list_comp) # double equals signs means \"are these two things equal\""
   ]
  },
  {
   "cell_type": "markdown",
   "metadata": {},
   "source": [
    "## indexing\n",
    "How's our `parsed_file` look now that we gave the `reader` a `list` instead of a `string`?"
   ]
  },
  {
   "cell_type": "code",
   "execution_count": null,
   "metadata": {
    "collapsed": false
   },
   "outputs": [],
   "source": [
    "parsed_file_for_loop[5]"
   ]
  },
  {
   "cell_type": "markdown",
   "metadata": {},
   "source": [
    "Okay, so that looks like what we got from"
   ]
  },
  {
   "cell_type": "code",
   "execution_count": null,
   "metadata": {
    "collapsed": false
   },
   "outputs": [],
   "source": [
    "parsed_file_1st_attempt[57:73]"
   ]
  },
  {
   "cell_type": "markdown",
   "metadata": {},
   "source": [
    "only not split up.\n",
    "Good.\n",
    "That's what we wanted.\n",
    "\n",
    "You examine elements/items from a list by **indexing**.\n",
    "\n",
    "* To index into a list, we use **slice notation**: index numbers and colons inside square brackets\n",
    "     `parsed_file_1st_attempt[57:73]`\n",
    "     \n",
    "Things to know about slice notation:\n",
    "  - it is **zero indexed**\n",
    "    - the first item in a list is item 0, the second item is item 1\n",
    "  - if you don't put a number in front of the colon, that implies index 0\n",
    "  - the *start* index is *always* included, and the *end* index is *never* included\n",
    "    - so `parsed_file[:5]` is the first five elements from `parsed_file`\n",
    "  - if you don't put a number after the colon, that implies the last index, no matter what it is\n",
    "    - so `parsed_file[:5] + parsed_file[5:]` gives you all of `parsed_file` without any repeated elements\n",
    "\n",
    "Why zero index?\n",
    "  - say you want the first five items of a list\n",
    "    - in one-indexing world where you include the last element\n",
    "      `list_thing[1:5]`\n",
    "  - but what if you want to start at index five, and then keep the next five items\n",
    "      `list_thing[5:5+5-1] # because 5 + 5 = 10, but we only want [5,6,7,8,9]\n",
    "  - have to do similar things with minus ones if we don't include the last index from our slice notation\n",
    "  \n"
   ]
  },
  {
   "cell_type": "markdown",
   "metadata": {},
   "source": [
    "# Exercises\n",
    "\n",
    "1) Display the first six items of the `parsed_file_for_loop` list."
   ]
  },
  {
   "cell_type": "code",
   "execution_count": null,
   "metadata": {
    "collapsed": false
   },
   "outputs": [],
   "source": [
    "parsed_file_for_loop[:7]"
   ]
  },
  {
   "cell_type": "markdown",
   "metadata": {},
   "source": [
    "2) Assign item 4 from the `parsed_file_for_loop` list to a variable with a name of your choosing"
   ]
  },
  {
   "cell_type": "code",
   "execution_count": null,
   "metadata": {
    "collapsed": false
   },
   "outputs": [],
   "source": []
  },
  {
   "cell_type": "markdown",
   "metadata": {},
   "source": [
    "3) What type of object is the item that you assigned to the variable? Hint: there's a function you call to find out."
   ]
  },
  {
   "cell_type": "code",
   "execution_count": null,
   "metadata": {
    "collapsed": true
   },
   "outputs": [],
   "source": []
  },
  {
   "cell_type": "markdown",
   "metadata": {},
   "source": [
    "4) Use the same function to find out what type of object the original `csv_file` variable is (that we didn't use `splitlines` on)"
   ]
  },
  {
   "cell_type": "code",
   "execution_count": null,
   "metadata": {
    "collapsed": true
   },
   "outputs": [],
   "source": []
  },
  {
   "cell_type": "markdown",
   "metadata": {},
   "source": [
    "What happens if you try to use splice notation on that `csv_file` object? E.g. using the indices [57:73] from above"
   ]
  },
  {
   "cell_type": "code",
   "execution_count": null,
   "metadata": {
    "collapsed": true
   },
   "outputs": [],
   "source": []
  },
  {
   "cell_type": "markdown",
   "metadata": {},
   "source": [
    "Use a `for loop` and the `print` function to display items 57-73 of `csv_file` on separate lines"
   ]
  },
  {
   "cell_type": "code",
   "execution_count": null,
   "metadata": {
    "collapsed": true
   },
   "outputs": [],
   "source": []
  }
 ],
 "metadata": {
  "anaconda-cloud": {},
  "kernelspec": {
   "display_name": "Python [Root]",
   "language": "python",
   "name": "Python [Root]"
  },
  "language_info": {
   "codemirror_mode": {
    "name": "ipython",
    "version": 3
   },
   "file_extension": ".py",
   "mimetype": "text/x-python",
   "name": "python",
   "nbconvert_exporter": "python",
   "pygments_lexer": "ipython3",
   "version": "3.5.2"
  }
 },
 "nbformat": 4,
 "nbformat_minor": 0
}
