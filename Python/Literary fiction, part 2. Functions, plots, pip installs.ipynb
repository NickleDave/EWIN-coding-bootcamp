{
 "cells": [
  {
   "cell_type": "markdown",
   "metadata": {},
   "source": [
    "# literary fiction, part 2\n",
    "When last we left Lalama, she had figured out how to load her csv file into the `reader` and parse all the lines.\n",
    "\n",
    "But there will still a bunch of useless lines at the top of the file.\n",
    "\n",
    "Let's get that file back in memory now."
   ]
  },
  {
   "cell_type": "code",
   "execution_count": 2,
   "metadata": {
    "collapsed": true
   },
   "outputs": [],
   "source": [
    "import urllib.request\n",
    "import csv\n",
    "\n",
    "url_for_file = \"https://raw.githubusercontent.com/NickleDave/EWIN-coding-bootcamp/master/Python/Wiltshire3_means.csv\"\n",
    "with urllib.request.urlopen(url_for_file) as response:\n",
    "   csv_file = response.read().decode('utf-8').splitlines()"
   ]
  },
  {
   "cell_type": "markdown",
   "metadata": {},
   "source": [
    "Let's look again at the first six items in the list of lines from the file."
   ]
  },
  {
   "cell_type": "code",
   "execution_count": 5,
   "metadata": {
    "collapsed": false
   },
   "outputs": [
    {
     "name": "stdout",
     "output_type": "stream",
     "text": [
      "line 0 is: \"// Phenotype data set from Mouse Phenome Database (phenome.jax.org)\",,,,,,,,\n",
      "line 1 is: \"// Data set: Wiltshire3    Title: Drug study: Neurobiochemical analytes in response to chronic fluoxetine treatment in males of 30 inbred mouse strains    Year: 2011\",,,,,,,,\n",
      "line 2 is: \"// List of strain means and summary statistics\",,,,,,,,,,,\n",
      "line 3 is: \"// For more info on these data visit phenome.jax.org and type Wiltshire3 into search box\",,,,,,,,,,\n",
      "line 4 is: ,,,,,,,,,,,\n",
      "line 5 is: measnum,varname,strain,sex,mean,sd,sem,nmice,cv,zscore,,,\n",
      "line 6 is: 38101,ACTH_cont,\"129S1/SvImJ\",m,1.80,0.0660,0.0381,3,0.0366,-1.40\n"
     ]
    }
   ],
   "source": [
    "for index,line in enumerate(csv_file[0:7]):\n",
    "    print(\"line {0} is: {1}\".format(index,line))"
   ]
  },
  {
   "cell_type": "markdown",
   "metadata": {},
   "source": [
    "Notice the following:\n",
    "\n",
    "* Lines 0-3 are comments, and begin with \"//\"\n",
    "\n",
    "* Line 4 was just a bunch of commas\n",
    "\n",
    "* Line 5 is the **header**, the row of a csv file that tells us the name of each column of values.\n",
    "\n",
    "* So really we want to skip lines 0-5, although we might want the fifth line for later.\n",
    "\n",
    "Also let's talk about what we just did in the cell above\n",
    "\n",
    "## enumerate\n",
    "\n",
    "when you call `enumerate` with a `sequence`, it returns an `iterator` that yields a `counter`.\n",
    "\n",
    "https://docs.python.org/3.5/library/functions.html#enumerate\n",
    "\n",
    "This is useful e.g. when you need to modify every item in a list\n",
    "\n",
    "```Python\n",
    "POINTS_FOR_CURVE = 20\n",
    "for ind,val in enumerate(list_of_grades):\n",
    "    list_of_grades[ind] = val + POINTS_FOR_CURVE\n",
    "```\n",
    "\n",
    "## format\n",
    "\n",
    "In the bad old days, programmers used a function called `sprintf` to write formatted data to a string.\n",
    "\n",
    "For our example above, we don't really have to format the data.\n",
    "\n",
    "An example of formatting would be \"show this number in scientific notation with only 2 significant digits\".\n",
    "\n",
    "Python `strings` now have a `format` method to make formatting more human readable.\n",
    "\n",
    "Here's a good page on how `format` works: https://pyformat.info/"
   ]
  },
  {
   "cell_type": "markdown",
   "metadata": {},
   "source": [
    "Okay, so we want to skip the first five lines.\n",
    "\n",
    "Remember that we can get the next line out of the reader by calling the next method of the iterator.\n",
    "\n",
    "So we could do this:"
   ]
  },
  {
   "cell_type": "code",
   "execution_count": null,
   "metadata": {
    "collapsed": true
   },
   "outputs": [],
   "source": [
    "with urllib.request.urlopen(url_for_file) as response:\n",
    "   csv_file = response.read().decode('utf-8').splitlines()\n",
    "\n",
    "for skip_index in range(0,6):\n",
    "    next(csv)"
   ]
  },
  {
   "cell_type": "markdown",
   "metadata": {},
   "source": [
    "How many commas are we looking for?"
   ]
  },
  {
   "cell_type": "code",
   "execution_count": 6,
   "metadata": {
    "collapsed": false
   },
   "outputs": [
    {
     "data": {
      "text/plain": [
       "11"
      ]
     },
     "execution_count": 6,
     "metadata": {},
     "output_type": "execute_result"
    }
   ],
   "source": [
    "len(csv_file[4])"
   ]
  },
  {
   "cell_type": "code",
   "execution_count": null,
   "metadata": {
    "collapsed": true
   },
   "outputs": [],
   "source": [
    "\n",
    "\n",
    "def parse_jackson_csv(csv_string):\n",
    "    \"\"\"\n",
    "    Parses csv files from Jackson labs website.\n",
    "    Deals with some of the idiosyncracies that csv.sniffer doesn't recognize.\n",
    "    \"\"\"\n",
    "    SEPARATOR_BEFORE_HEADER = \",,,,,,,,,,\\n,,,,,,,,,,,\\n\"\n",
    "    index = csv_string.rfind(SEPARATOR_BEFORE_HEADER)\n",
    "    new_start_index = index+len(SEPARATOR_BEFORE_HEADER)+1\n",
    "    csv_string = csv_string[new_start_index:]\n",
    "    return csv_string"
   ]
  },
  {
   "cell_type": "code",
   "execution_count": null,
   "metadata": {
    "collapsed": true
   },
   "outputs": [],
   "source": [
    "csv_string = parse_jackson_csv(csv_file)"
   ]
  },
  {
   "cell_type": "code",
   "execution_count": null,
   "metadata": {
    "collapsed": false
   },
   "outputs": [],
   "source": [
    "dialect = csv.Sniffer()kj.sniff(csv_string)\n",
    "reader = csv.reader(csv_string, dialect)\n",
    "thing = list(reader)"
   ]
  },
  {
   "cell_type": "code",
   "execution_count": null,
   "metadata": {
    "collapsed": false
   },
   "outputs": [],
   "source": [
    "thing"
   ]
  },
  {
   "cell_type": "code",
   "execution_count": null,
   "metadata": {
    "collapsed": true
   },
   "outputs": [],
   "source": [
    "url_for_file = \"http://phenome.jax.org/tmp/Willott1_table.csv\"\n",
    "with urllib.request.urlopen(url_for_file) as response:\n",
    "   csv_file = response.read().decode('utf-8')\n",
    "reader = csv.reader(csv_file, delimiter=',', quotechar='\"')"
   ]
  },
  {
   "cell_type": "markdown",
   "metadata": {},
   "source": [
    "## the easy way"
   ]
  },
  {
   "cell_type": "code",
   "execution_count": null,
   "metadata": {
    "collapsed": true
   },
   "outputs": [],
   "source": [
    "!pip install openpyxl"
   ]
  }
 ],
 "metadata": {
  "anaconda-cloud": {},
  "kernelspec": {
   "display_name": "Python [Root]",
   "language": "python",
   "name": "Python [Root]"
  },
  "language_info": {
   "codemirror_mode": {
    "name": "ipython",
    "version": 3
   },
   "file_extension": ".py",
   "mimetype": "text/x-python",
   "name": "python",
   "nbconvert_exporter": "python",
   "pygments_lexer": "ipython3",
   "version": "3.5.2"
  }
 },
 "nbformat": 4,
 "nbformat_minor": 0
}
