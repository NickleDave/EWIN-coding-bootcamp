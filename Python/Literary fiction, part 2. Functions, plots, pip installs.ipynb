{
 "cells": [
  {
   "cell_type": "markdown",
   "metadata": {},
   "source": [
    "# literary fiction, part 2\n",
    "When last we left Lalama, she had figured out how to load her csv file into the `reader` and parse all the lines.\n",
    "\n",
    "But there will still a bunch of useless lines at the top of the file.\n",
    "\n",
    "Let's get that file back in memory now."
   ]
  },
  {
   "cell_type": "code",
   "execution_count": 2,
   "metadata": {
    "collapsed": true
   },
   "outputs": [],
   "source": [
    "import urllib.request\n",
    "\n",
    "url_for_file = \"https://raw.githubusercontent.com/NickleDave/EWIN-coding-bootcamp/master/Python/Wiltshire3_means.csv\"\n",
    "with urllib.request.urlopen(url_for_file) as response:\n",
    "   csv_file = response.read().decode('utf-8').splitlines()"
   ]
  },
  {
   "cell_type": "markdown",
   "metadata": {},
   "source": [
    "Let's look again at the first six items in the list of lines from the file."
   ]
  },
  {
   "cell_type": "code",
   "execution_count": 3,
   "metadata": {
    "collapsed": false
   },
   "outputs": [
    {
     "name": "stdout",
     "output_type": "stream",
     "text": [
      "line 0 is: \"// Phenotype data set from Mouse Phenome Database (phenome.jax.org)\",,,,,,,,\n",
      "line 1 is: \"// Data set: Wiltshire3    Title: Drug study: Neurobiochemical analytes in response to chronic fluoxetine treatment in males of 30 inbred mouse strains    Year: 2011\",,,,,,,,\n",
      "line 2 is: \"// List of strain means and summary statistics\",,,,,,,,,,,\n",
      "line 3 is: \"// For more info on these data visit phenome.jax.org and type Wiltshire3 into search box\",,,,,,,,,,\n",
      "line 4 is: ,,,,,,,,,,,\n",
      "line 5 is: measnum,varname,strain,sex,mean,sd,sem,nmice,cv,zscore,,,\n",
      "line 6 is: 38101,ACTH_cont,\"129S1/SvImJ\",m,1.80,0.0660,0.0381,3,0.0366,-1.40\n"
     ]
    }
   ],
   "source": [
    "for index,line in enumerate(csv_file[0:7]):\n",
    "    print(\"line {0} is: {1}\".format(index,line))"
   ]
  },
  {
   "cell_type": "markdown",
   "metadata": {},
   "source": [
    "Notice the following:\n",
    "\n",
    "* Lines 0-3 are comments, and begin with \"//\"\n",
    "\n",
    "* Line 4 was just a bunch of commas\n",
    "\n",
    "* Line 5 looks like it's the **header**, the row of a csv file that tells us the name of each column of values.\n",
    "\n",
    "* So really we want to skip lines 0-5, although we might want the fifth line for later.\n",
    "\n",
    "Also let's talk about what we just did in the cell above\n",
    "\n",
    "## enumerate\n",
    "\n",
    "when you pass `enumerate` a `sequence`, it returns an `iterator` that yields a `counter` each time the `next` method is called.\n",
    "\n",
    "https://docs.python.org/3.5/library/functions.html#enumerate\n",
    "\n",
    "This is useful e.g. when you need to modify every item in a list\n",
    "\n",
    "```Python\n",
    "POINTS_FOR_CURVE = 20\n",
    "for ind,val in enumerate(list_of_grades):\n",
    "    list_of_grades[ind] = val + POINTS_FOR_CURVE\n",
    "```\n",
    "\n",
    "## format\n",
    "\n",
    "In the bad old days, programmers used a function called `sprintf` to write formatted data to a string.\n",
    "\n",
    "Old school Python used a syntax similar to `sprintf` for string formatting.\n",
    "\n",
    "For our example above, we didn't really have to format the data.\n",
    "We could have also written\n",
    "```Python\n",
    "print(\"line \" + index + \" is: \" line)\n",
    "```\n",
    "because Python **overloads** the plus sign: it not only adds numbers together, it also **concatenates** strings.\n",
    "\n",
    "An example of formatting would be \"show this number in scientific notation with only 2 significant digits\".\n",
    "\n",
    "Python `strings` now have a `format` method to make formatting more human readable.\n",
    "\n",
    "Here's a good page on how `format` works: https://pyformat.info/"
   ]
  },
  {
   "cell_type": "markdown",
   "metadata": {},
   "source": [
    "Okay, so we want to skip the first five lines.\n",
    "\n",
    "Remember that we can get the next line out of the reader by calling the next method of the iterator.\n",
    "\n",
    "So we could do this:"
   ]
  },
  {
   "cell_type": "code",
   "execution_count": 4,
   "metadata": {
    "collapsed": false
   },
   "outputs": [
    {
     "name": "stdout",
     "output_type": "stream",
     "text": [
      "First item in parsed_file list is now:\n",
      " ['38101', 'ACTH_cont', '129S1/SvImJ', 'm', '1.80', '0.0660', '0.0381', '3', '0.0366', '-1.40']\n"
     ]
    }
   ],
   "source": [
    "with urllib.request.urlopen(url_for_file) as response:\n",
    "   csv_file = response.read().decode('utf-8').splitlines()\n",
    "\n",
    "import csv\n",
    "\n",
    "reader = csv.reader(csv_file, delimiter=',')\n",
    "\n",
    "for skip_index in range(0,6):\n",
    "    next(reader)\n",
    "\n",
    "parsed_file = list(reader)\n",
    "print(\"First item in parsed_file list is now:\\n {}\".format(parsed_file[0]))"
   ]
  },
  {
   "cell_type": "markdown",
   "metadata": {},
   "source": [
    "## range\n",
    "\n",
    "Recall that since Python lets us iterate over sequences, we don't have to make counters for every for loop as we do in other languages.\n",
    "\n",
    "But sometimes you do need a counter.\n",
    "\n",
    "* **range** function gives you iterator that spits out counters (kind of like `enumerate` but more flexible)\n",
    "    - syntax: `range(start,stop[,step])`\n",
    "    - the `stop` value is not included, just like when you index a list[start:stop]\n",
    "        ```Python\n",
    "        list(range(10)) # range gives us an iterator, have to consume it with list function\n",
    "        >>>[0, 1, 2, 3, 4, 5, 6, 7, 8, 9]\n",
    "        ```\n",
    "    - if you don't give a value for `start`, the default is zero\n",
    "    - you can give `range` a `step` value so that the iterator yields `[start, start + step, start + 2 * step, ...]`\n",
    "        ```Python\n",
    "        [val for val in range(5,25,5)] # <-- a list comprehension\n",
    "        >>>[5, 10, 15, 20]\n",
    "        list(range(25,5,-5))\n",
    "        >>>[25, 20, 15, 10]\n",
    "        ```"
   ]
  },
  {
   "cell_type": "markdown",
   "metadata": {},
   "source": [
    "So the first item of our `parsed_file` list is now the first line of values from the csv file.\n",
    "\n",
    "Ok, great.\n",
    "\n",
    "* what if we have another csv file and it has a different number of lines with comments?"
   ]
  },
  {
   "cell_type": "code",
   "execution_count": null,
   "metadata": {
    "collapsed": true
   },
   "outputs": [],
   "source": [
    "url_for_file2 = ''\n",
    "with urllib.request.urlopen(url_for_file2) as response:\n",
    "   csv_file2 = response.read().decode('utf-8').splitlines()"
   ]
  },
  {
   "cell_type": "markdown",
   "metadata": {},
   "source": [
    "* We could:\n",
    "  - open up each file\n",
    "  - look at how many lines there are with comments and the header\n",
    "  - and then change our little script so it skips the right number of lines\n",
    "\n",
    "* boring\n",
    "* takes time\n",
    "* computer can do this for us\n",
    "\n",
    "Let's write a function that will figure out how many lines we need to skip in each file.\n",
    "\n",
    "## writing functions\n",
    "\n",
    "* functions\n",
    "  - begin with the **def** keyword\n",
    "  - followed by the function name\n",
    "  - and then the argument list in parentheses\n",
    "  - then a colon\n",
    "  - then (if you are a nice programmer) a docstring, enclosed in quotes\n",
    "      - so other people, and you, months later, can figure out what your code does\n",
    "  - then the code, indented\n",
    "  - and, if necessary, a **return** statement\n",
    "\n",
    "```Python\n",
    "def adder_function(argument1,argument2):\n",
    "    \"\"\"\n",
    "    adds argument1 and argument2\n",
    "    \"\"\"\n",
    "    return argument1 + argument2\n",
    "```\n",
    "\n",
    "* simple function that lets us skip a certain number of lines in our file"
   ]
  },
  {
   "cell_type": "code",
   "execution_count": 6,
   "metadata": {
    "collapsed": true
   },
   "outputs": [],
   "source": [
    "def skip_lines(reader,num_to_skip):\n",
    "    \"\"\"\n",
    "    skips lines in a csv file that's being parsed by csv.reader\n",
    "    \n",
    "    arguments:\n",
    "        reader -- csv.reader object containing csv file to be parsed\n",
    "        num_to_skip -- \n",
    "    \n",
    "    returns:\n",
    "        reader (with num_to_skip lines parsed but not kept)\n",
    "    \"\"\"\n",
    "    \n",
    "    last_index = num_to_skip + 1 # because of how indexing works in Python\n",
    "    for index in range(last_index):\n",
    "        next(reader)\n",
    "    return reader"
   ]
  },
  {
   "cell_type": "markdown",
   "metadata": {},
   "source": [
    "This function isn't much of an improvement though. We still have to count how many lines to skip."
   ]
  },
  {
   "cell_type": "code",
   "execution_count": 7,
   "metadata": {
    "collapsed": false
   },
   "outputs": [
    {
     "name": "stdout",
     "output_type": "stream",
     "text": [
      "First item in parsed_file list is now:\n",
      " ['38101', 'ACTH_cont', '129S1/SvImJ', 'm', '1.80', '0.0660', '0.0381', '3', '0.0366', '-1.40']\n"
     ]
    }
   ],
   "source": [
    "reader = csv.reader(csv_file, delimiter=',')\n",
    "\n",
    "reader = skip_lines(reader,5)\n",
    "\n",
    "parsed_file = list(reader)\n",
    "\n",
    "print(\"First item in parsed_file list is now:\\n {}\".format(parsed_file[0]))"
   ]
  },
  {
   "cell_type": "markdown",
   "metadata": {},
   "source": [
    "Let's get Python to parse these weird csv files for us.\n",
    "\n",
    "Remember the format.\n",
    "\n",
    "That will help us plan what we want our function to do.\n",
    "\n",
    "* First there's lines with comments; they begin with \"//\"\n",
    "* Then there's a line with a bunch of commas\n",
    "\n",
    "**We want to skip these lines.**\n",
    " \n",
    "* Then there's the **header**, the row of a csv file that tells us the name of each column of values.\n",
    "\n",
    "**We want to give the user the option to extract the header in a separate variable, in case they need to use the names of the columns.**\n",
    "\n",
    "\n",
    "## logic and control flow statements\n",
    "\n",
    "Python like other languages has many keywords that allow for control flow.\n",
    "\n",
    "* Boolean logic\n",
    "  - True or False\n",
    "  "
   ]
  },
  {
   "cell_type": "code",
   "execution_count": 12,
   "metadata": {
    "collapsed": false
   },
   "outputs": [
    {
     "data": {
      "text/plain": [
       "True"
      ]
     },
     "execution_count": 12,
     "metadata": {},
     "output_type": "execute_result"
    }
   ],
   "source": [
    "type(csv_file) is list"
   ]
  },
  {
   "cell_type": "code",
   "execution_count": 10,
   "metadata": {
    "collapsed": false
   },
   "outputs": [
    {
     "data": {
      "text/plain": [
       "True"
      ]
     },
     "execution_count": 10,
     "metadata": {},
     "output_type": "execute_result"
    }
   ],
   "source": [
    "True is True # tautological AF"
   ]
  },
  {
   "cell_type": "code",
   "execution_count": 8,
   "metadata": {
    "collapsed": false
   },
   "outputs": [
    {
     "data": {
      "text/plain": [
       "True"
      ]
     },
     "execution_count": 8,
     "metadata": {},
     "output_type": "execute_result"
    }
   ],
   "source": [
    "False is False # woah"
   ]
  },
  {
   "cell_type": "markdown",
   "metadata": {},
   "source": [
    "\n",
    "\n",
    "How many commas are we looking for?"
   ]
  },
  {
   "cell_type": "code",
   "execution_count": null,
   "metadata": {
    "collapsed": false
   },
   "outputs": [],
   "source": [
    "len(csv_file[4])"
   ]
  },
  {
   "cell_type": "code",
   "execution_count": null,
   "metadata": {
    "collapsed": true
   },
   "outputs": [],
   "source": [
    "\n",
    "\n",
    "def parse_jackson_csv(csv_string):\n",
    "    \"\"\"\n",
    "    Parses csv files from Jackson labs website.\n",
    "    Deals with some of the idiosyncracies that csv.sniffer doesn't recognize.\n",
    "    \"\"\"\n",
    "    SEPARATOR_BEFORE_HEADER = \",,,,,,,,,,\\n,,,,,,,,,,,\\n\"\n",
    "    index = csv_string.rfind(SEPARATOR_BEFORE_HEADER)\n",
    "    new_start_index = index+len(SEPARATOR_BEFORE_HEADER)+1\n",
    "    csv_string = csv_string[new_start_index:]\n",
    "    return csv_string"
   ]
  },
  {
   "cell_type": "code",
   "execution_count": null,
   "metadata": {
    "collapsed": true
   },
   "outputs": [],
   "source": [
    "csv_string = parse_jackson_csv(csv_file)"
   ]
  },
  {
   "cell_type": "code",
   "execution_count": null,
   "metadata": {
    "collapsed": false
   },
   "outputs": [],
   "source": [
    "dialect = csv.Sniffer()kj.sniff(csv_string)\n",
    "reader = csv.reader(csv_string, dialect)\n",
    "thing = list(reader)"
   ]
  },
  {
   "cell_type": "code",
   "execution_count": null,
   "metadata": {
    "collapsed": false
   },
   "outputs": [],
   "source": [
    "thing"
   ]
  },
  {
   "cell_type": "code",
   "execution_count": null,
   "metadata": {
    "collapsed": true
   },
   "outputs": [],
   "source": [
    "url_for_file = \"http://phenome.jax.org/tmp/Willott1_table.csv\"\n",
    "with urllib.request.urlopen(url_for_file) as response:\n",
    "   csv_file = response.read().decode('utf-8')\n",
    "reader = csv.reader(csv_file, delimiter=',', quotechar='\"')"
   ]
  },
  {
   "cell_type": "markdown",
   "metadata": {},
   "source": [
    "## the easy way"
   ]
  },
  {
   "cell_type": "code",
   "execution_count": null,
   "metadata": {
    "collapsed": true
   },
   "outputs": [],
   "source": [
    "!pip install openpyxl"
   ]
  }
 ],
 "metadata": {
  "anaconda-cloud": {},
  "kernelspec": {
   "display_name": "Python [Root]",
   "language": "python",
   "name": "Python [Root]"
  },
  "language_info": {
   "codemirror_mode": {
    "name": "ipython",
    "version": 3
   },
   "file_extension": ".py",
   "mimetype": "text/x-python",
   "name": "python",
   "nbconvert_exporter": "python",
   "pygments_lexer": "ipython3",
   "version": "3.5.2"
  }
 },
 "nbformat": 4,
 "nbformat_minor": 0
}
