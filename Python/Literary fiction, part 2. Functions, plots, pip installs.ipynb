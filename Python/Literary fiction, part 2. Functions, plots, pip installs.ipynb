{
 "cells": [
  {
   "cell_type": "code",
   "execution_count": null,
   "metadata": {
    "collapsed": true
   },
   "outputs": [],
   "source": [
    "def parse_jackson_csv(csv_string):\n",
    "    \"\"\"\n",
    "    Parses csv files from Jackson labs website.\n",
    "    Deals with some of the idiosyncracies that csv.sniffer doesn't recognize.\n",
    "    \"\"\"\n",
    "    SEPARATOR_BEFORE_HEADER = \",,,,,,,,,,\\n,,,,,,,,,,,\\n\"\n",
    "    index = csv_string.rfind(SEPARATOR_BEFORE_HEADER)\n",
    "    new_start_index = index+len(SEPARATOR_BEFORE_HEADER)+1\n",
    "    csv_string = csv_string[new_start_index:]\n",
    "    return csv_string"
   ]
  },
  {
   "cell_type": "code",
   "execution_count": null,
   "metadata": {
    "collapsed": true
   },
   "outputs": [],
   "source": [
    "csv_string = parse_jackson_csv(csv_file)"
   ]
  },
  {
   "cell_type": "code",
   "execution_count": null,
   "metadata": {
    "collapsed": false
   },
   "outputs": [],
   "source": [
    "dialect = csv.Sniffer()kj.sniff(csv_string)\n",
    "reader = csv.reader(csv_string, dialect)\n",
    "thing = list(reader)"
   ]
  },
  {
   "cell_type": "code",
   "execution_count": null,
   "metadata": {
    "collapsed": false
   },
   "outputs": [],
   "source": [
    "thing"
   ]
  },
  {
   "cell_type": "code",
   "execution_count": null,
   "metadata": {
    "collapsed": true
   },
   "outputs": [],
   "source": [
    "url_for_file = \"http://phenome.jax.org/tmp/Willott1_table.csv\"\n",
    "with urllib.request.urlopen(url_for_file) as response:\n",
    "   csv_file = response.read().decode('utf-8')\n",
    "reader = csv.reader(csv_file, delimiter=',', quotechar='\"')"
   ]
  },
  {
   "cell_type": "markdown",
   "metadata": {},
   "source": [
    "## the easy way"
   ]
  },
  {
   "cell_type": "code",
   "execution_count": null,
   "metadata": {
    "collapsed": true
   },
   "outputs": [],
   "source": [
    "!pip install openpyxl"
   ]
  }
 ],
 "metadata": {
  "anaconda-cloud": {},
  "kernelspec": {
   "display_name": "Python [Root]",
   "language": "python",
   "name": "Python [Root]"
  },
  "language_info": {
   "codemirror_mode": {
    "name": "ipython",
    "version": 3
   },
   "file_extension": ".py",
   "mimetype": "text/x-python",
   "name": "python",
   "nbconvert_exporter": "python",
   "pygments_lexer": "ipython3",
   "version": "3.5.2"
  }
 },
 "nbformat": 4,
 "nbformat_minor": 0
}
