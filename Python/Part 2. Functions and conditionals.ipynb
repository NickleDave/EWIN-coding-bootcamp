{
 "cells": [
  {
   "cell_type": "markdown",
   "metadata": {},
   "source": [
    "# literary fiction, part 2\n",
    "When last we left Lalama, she had figured out how to load her csv file into the `reader` and parse all the lines.\n",
    "\n",
    "But there will still a bunch of useless lines at the top of the file.\n",
    "\n",
    "Let's get that file back in memory now."
   ]
  },
  {
   "cell_type": "code",
   "execution_count": null,
   "metadata": {
    "collapsed": true
   },
   "outputs": [],
   "source": [
    "import urllib.request\n",
    "\n",
    "url_for_file = \"https://raw.githubusercontent.com/NickleDave/EWIN-coding-bootcamp/master/Python/Wiltshire3_means.csv\"\n",
    "with urllib.request.urlopen(url_for_file) as response:\n",
    "   csv_file = response.read().decode('utf-8').splitlines()"
   ]
  },
  {
   "cell_type": "markdown",
   "metadata": {},
   "source": [
    "Let's look again at the first six items in the list of lines from the file."
   ]
  },
  {
   "cell_type": "code",
   "execution_count": null,
   "metadata": {
    "collapsed": false
   },
   "outputs": [],
   "source": [
    "for index,line in enumerate(csv_file[0:7]):\n",
    "    print(\"line {0} is: {1}\".format(index,line))"
   ]
  },
  {
   "cell_type": "code",
   "execution_count": null,
   "metadata": {
    "collapsed": false
   },
   "outputs": [],
   "source": [
    "csv_file[5]"
   ]
  },
  {
   "cell_type": "markdown",
   "metadata": {},
   "source": [
    "Notice the following:\n",
    "\n",
    "* Lines 0-3 are comments, and begin with \"//\"\n",
    "\n",
    "* Line 4 was just a bunch of commas\n",
    "\n",
    "* Line 5 looks like it's the **header**, the row of a csv file that tells us the name of each column of values.\n",
    "  - **Notice that the header row ends with 3 commas. Weird.**\n",
    "\n",
    "* So really we want to skip lines 0-5, although we might want the fifth line for later.\n",
    "\n",
    "Also let's talk about what we just did in the cell above\n",
    "\n",
    "## enumerate\n",
    "\n",
    "when you pass `enumerate` a `sequence`, it returns an `iterator` that yields a `counter` each time the `next` method is called.\n",
    "\n",
    "https://docs.python.org/3.5/library/functions.html#enumerate\n",
    "\n",
    "This is useful e.g. when you need to modify every item in a list\n",
    "\n",
    "```Python\n",
    "POINTS_FOR_CURVE = 20\n",
    "for ind,val in enumerate(list_of_grades):\n",
    "    list_of_grades[ind] = val + POINTS_FOR_CURVE\n",
    "```\n",
    "\n",
    "## format\n",
    "\n",
    "In the bad old days, programmers used a function called `sprintf` to write formatted data to a string.\n",
    "\n",
    "Old school Python used a syntax similar to `sprintf` for string formatting.\n",
    "\n",
    "For our example above, we didn't really have to format the data.\n",
    "We could have also written\n",
    "```Python\n",
    "print(\"line \" + index + \" is: \" line)\n",
    "```\n",
    "because Python **overloads** the plus sign: it not only adds numbers together, it also **concatenates** strings.\n",
    "\n",
    "An example of formatting would be \"show this number in scientific notation with only 2 significant digits\".\n",
    "\n",
    "Python `strings` now have a `format` method to make formatting more human readable."
   ]
  },
  {
   "cell_type": "markdown",
   "metadata": {},
   "source": [
    "Okay, so we want to skip the first five lines.\n",
    "\n",
    "Remember that we can get the next line out of the reader by calling the next method of the iterator.\n",
    "\n",
    "So we could do this:"
   ]
  },
  {
   "cell_type": "code",
   "execution_count": null,
   "metadata": {
    "collapsed": false
   },
   "outputs": [],
   "source": [
    "with urllib.request.urlopen(url_for_file) as response:\n",
    "   csv_file = response.read().decode('utf-8').splitlines()\n",
    "\n",
    "import csv\n",
    "\n",
    "reader = csv.reader(csv_file, delimiter=',')\n",
    "\n",
    "for skip_index in range(0,6):\n",
    "    next(reader)\n",
    "\n",
    "parsed_file = list(reader)\n",
    "print(\"First item in parsed_file list is now:\\n {}\".format(parsed_file[0]))"
   ]
  },
  {
   "cell_type": "markdown",
   "metadata": {},
   "source": [
    "## range\n",
    "\n",
    "Recall that since Python lets us iterate over sequences, we don't have to make counters for every for loop as we do in other languages.\n",
    "\n",
    "But sometimes you do need a counter.\n",
    "\n",
    "* **range** function gives you iterator that spits out counters (kind of like `enumerate` but more flexible)\n",
    "    - syntax: `range(start,stop[,step])`\n",
    "    - the `stop` value is not included, just like when you index a list[start:stop]\n",
    "        ```Python\n",
    "        list(range(10)) # range gives us an iterator, have to consume it with list function\n",
    "        >>>[0, 1, 2, 3, 4, 5, 6, 7, 8, 9]\n",
    "        ```\n",
    "    - if you don't give a value for `start`, the default is zero\n",
    "    - you can give `range` a `step` value so that the iterator yields `[start, start + step, start + 2 * step, ...]`\n",
    "        ```Python\n",
    "        [val for val in range(5,25,5)] # <-- a list comprehension\n",
    "        >>>[5, 10, 15, 20]\n",
    "        list(range(25,5,-5))\n",
    "        >>>[25, 20, 15, 10]\n",
    "        ```"
   ]
  },
  {
   "cell_type": "markdown",
   "metadata": {},
   "source": [
    "So the first item of our `parsed_file` list is now the first line of values from the csv file.\n",
    "\n",
    "Ok, great.\n",
    "\n",
    "* but what if we have another csv file and it has a different number of lines with comments?\n",
    "* and what if our header doesn't have those pointless commas at the end"
   ]
  },
  {
   "cell_type": "code",
   "execution_count": null,
   "metadata": {
    "collapsed": false
   },
   "outputs": [],
   "source": [
    "url_for_file2 = 'https://raw.githubusercontent.com/NickleDave/EWIN-coding-bootcamp/master/Python/Willott1_table-1.csv'\n",
    "with urllib.request.urlopen(url_for_file2) as response:\n",
    "   csv_file2 = response.read().decode('utf-8').splitlines()\n",
    "csv_file2[0:7]"
   ]
  },
  {
   "cell_type": "markdown",
   "metadata": {},
   "source": [
    "* We could:\n",
    "  - open up each file\n",
    "  - look at how many lines there are with comments and the header\n",
    "  - and then change our little script so it skips the right number of lines\n",
    "\n",
    "* boring\n",
    "* takes time\n",
    "* computer can do this for us\n",
    "\n",
    "Let's write a function that will figure out how many lines we need to skip in each file.\n",
    "\n",
    "## writing functions\n",
    "\n",
    "* functions\n",
    "  - begin with the **def** keyword\n",
    "  - followed by the function name\n",
    "  - and then the argument list in parentheses\n",
    "  - then a colon\n",
    "  - then (if you are a nice programmer) a docstring, enclosed in quotes\n",
    "      - so other people, and you, months later, can figure out what your code does\n",
    "  - then the code, indented\n",
    "  - and, if necessary, a **return** statement\n",
    "\n",
    "```Python\n",
    "def adder_function(argument1,argument2):\n",
    "    \"\"\"\n",
    "    adds argument1 and argument2\n",
    "    \"\"\"\n",
    "    return argument1 + argument2\n",
    "```\n",
    "\n",
    "* simple function that lets us skip a certain number of lines in our file"
   ]
  },
  {
   "cell_type": "code",
   "execution_count": null,
   "metadata": {
    "collapsed": true
   },
   "outputs": [],
   "source": [
    "def skip_lines(csv_file,num_to_skip):\n",
    "    \"\"\"\n",
    "    skips lines in a csv file that's being parsed by csv.reader\n",
    "    \n",
    "    arguments:\n",
    "        csv_file -- list of strings, rows from csv file\n",
    "        num_to_skip -- integer, number of rows to skip\n",
    "    \n",
    "    returns:\n",
    "        csv_file[num_to_skip:] -- list with num_to_skip rows removed from beginning\n",
    "    \"\"\"\n",
    "    \n",
    "    return csv_file[num_to_skip:] # start at num_to_skip because of zero indexing"
   ]
  },
  {
   "cell_type": "markdown",
   "metadata": {},
   "source": [
    "This function isn't much of an improvement though. We still have to count how many lines to skip."
   ]
  },
  {
   "cell_type": "code",
   "execution_count": null,
   "metadata": {
    "collapsed": false
   },
   "outputs": [],
   "source": [
    "reader = csv.reader(csv_file, delimiter=',')\n",
    "\n",
    "reader = skip_lines(reader,5)\n",
    "\n",
    "parsed_file = list(reader)\n",
    "\n",
    "print(\"First item in parsed_file list is now:\\n {}\".format(parsed_file[0]))"
   ]
  },
  {
   "cell_type": "markdown",
   "metadata": {},
   "source": [
    "Let's get Python to parse these weird csv files for us.\n",
    "\n",
    "Remember the format.\n",
    "\n",
    "That will help us plan what we want our function to do.\n",
    "\n",
    "* First there's lines with comments; they begin with \"//\"\n",
    "* Then there's a line with a bunch of commas\n",
    "\n",
    "**We want to skip these lines.**\n",
    " \n",
    "* Then there's the **header**, the row of a csv file that tells us the name of each column of values.\n",
    "\n",
    "**We want to give the user the option to extract the header in a separate variable, in case they need to use the names of the columns.**\n",
    "\n",
    "\n",
    "## conditionals\n",
    "\n",
    "Python like other languages has many keywords that let us handle different conditions.\n",
    "\n",
    "Before we can use them, we have to figure out what condition our condition is in.\n",
    "That's why we have\n",
    "\n",
    "* **Boolean values**\n",
    "  - True or False\n",
    "  - Python keywords when capitalized\n",
    "  - not keywords when not capitalized\n",
    "    - common typo that can cause bugs\n",
    "\n",
    "## 'if' statements\n",
    "\n",
    "when an `if statement` evalutes as `True`, then the code block below it is executed"
   ]
  },
  {
   "cell_type": "code",
   "execution_count": null,
   "metadata": {
    "collapsed": false
   },
   "outputs": [],
   "source": [
    "if True:\n",
    "    print(\"I feel like I was just executed.\")"
   ]
  },
  {
   "cell_type": "markdown",
   "metadata": {},
   "source": [
    "Notice you can use 1 and 0 in place of `True` and `False`"
   ]
  },
  {
   "cell_type": "code",
   "execution_count": null,
   "metadata": {
    "collapsed": false
   },
   "outputs": [],
   "source": [
    "if 0:\n",
    "    print(\"If this code block will never get executed, \")\n",
    "    print(\"do I even exist?\")\n",
    "print(\"I will always be executed.\")"
   ]
  },
  {
   "cell_type": "markdown",
   "metadata": {},
   "source": [
    "## 'while' statements\n",
    "\n",
    "The code block in a **while statement** is executed as long as the conditional evaluates to `True`.\n",
    "\n",
    "This gives rise to a very common way of writing loops:"
   ]
  },
  {
   "cell_type": "code",
   "execution_count": null,
   "metadata": {
    "collapsed": false
   },
   "outputs": [],
   "source": [
    "counter = 0\n",
    "while 1:\n",
    "    line = csv_file[counter]\n",
    "    if '//' not in line: # if the line does not contain \"//\"\n",
    "        break # break keyword breaks out of the loop\n",
    "    counter += 1 # counter = counter + 1\n",
    "\n",
    "print(\"I broke out of the while loop at the line \\\"{}\\\"\".format(line))\n",
    "print(\"That's line number {}\".format(counter))"
   ]
  },
  {
   "cell_type": "markdown",
   "metadata": {},
   "source": [
    "This suggests another way of writing our function."
   ]
  },
  {
   "cell_type": "code",
   "execution_count": null,
   "metadata": {
    "collapsed": false
   },
   "outputs": [],
   "source": [
    "def skip_comments_and_comma_row(csv_file):\n",
    "    counter = 0\n",
    "    while 1:\n",
    "        line = csv_file[counter]\n",
    "        if '//' not in line:\n",
    "            break \n",
    "        counter += 1\n",
    "    return csv_file[counter+1:] # <-- +1 because we also don't want the line with the commas"
   ]
  },
  {
   "cell_type": "markdown",
   "metadata": {},
   "source": [
    "How well does this work?"
   ]
  },
  {
   "cell_type": "code",
   "execution_count": null,
   "metadata": {
    "collapsed": false
   },
   "outputs": [],
   "source": [
    "with urllib.request.urlopen(url_for_file) as response:\n",
    "   csv_file = response.read().decode('utf-8').splitlines()\n",
    "csv_file = skip_comments_and_comma_row(csv_file)\n",
    "print(\"first line of csv file is now:\\n{}\".format(csv_file[0]))"
   ]
  },
  {
   "cell_type": "markdown",
   "metadata": {},
   "source": [
    "Okay, nice.\n",
    "\n",
    "But we still have the header as the first row.\n",
    "Really we want to either throw that row out, or maybe keep it in a separate variable.\n",
    "\n",
    "## optional arguments and default values\n",
    "\n",
    "* Optional arguments\n",
    "  - appear at *end* the argument list\n",
    "  - optional because they have a **default** value\n",
    "    - default value appears in the function definition\n",
    "\n",
    "All the arguments in front of the optional arguments are called **positional arguments** because Python passes those arguments values based on whatever position they're in.\n",
    "\n",
    "The ordering doesn't matter for optional arguments."
   ]
  },
  {
   "cell_type": "code",
   "execution_count": null,
   "metadata": {
    "collapsed": false
   },
   "outputs": [],
   "source": [
    "def a_function(foo,bar,baz=0,qux=0):\n",
    "    print(\"bar = {}\".format(bar))\n",
    "    print(\"qux = {}\".format(qux))"
   ]
  },
  {
   "cell_type": "code",
   "execution_count": null,
   "metadata": {
    "collapsed": false
   },
   "outputs": [],
   "source": [
    "a_function(1,2)\n",
    "a_function(10,20,qux=30)"
   ]
  },
  {
   "cell_type": "markdown",
   "metadata": {},
   "source": [
    "We'll add a positional argument to our function defintion that is a Boolean.\n",
    "\n",
    "If it's `True` then we'll return the header row.\n",
    "\n",
    "If it's `False` we'll return the list of rows without the header.\n",
    "\n",
    "We'll set the *default* to `False`."
   ]
  },
  {
   "cell_type": "code",
   "execution_count": null,
   "metadata": {
    "collapsed": true
   },
   "outputs": [],
   "source": [
    "def skip_comments_and_comma_row(csv_file,keep_header=False):\n",
    "    counter = 0\n",
    "    while 1:\n",
    "        line = csv_file[counter]\n",
    "        if '//' not in line:\n",
    "            break \n",
    "        counter += 1\n",
    "    if keep_header:\n",
    "        header = csv_file[counter+1] \n",
    "        return csv_file[counter+2:],header\n",
    "    else:\n",
    "        return csv_file[counter+2:] # <-- +1 because we also don't want the line with the commas"
   ]
  },
  {
   "cell_type": "markdown",
   "metadata": {},
   "source": [
    "We'll test our function to see if it does what we expect.\n",
    "\n",
    "First, let's try not keeping the header."
   ]
  },
  {
   "cell_type": "code",
   "execution_count": null,
   "metadata": {
    "collapsed": false
   },
   "outputs": [],
   "source": [
    "# without the header\n",
    "with urllib.request.urlopen(url_for_file) as response:\n",
    "   csv_file = response.read().decode('utf-8').splitlines()\n",
    "csv_file = skip_comments_and_comma_row(csv_file)\n",
    "print(\"first line of csv file is now:\\n{}\".format(csv_file[0]))"
   ]
  },
  {
   "cell_type": "markdown",
   "metadata": {},
   "source": [
    "Looks like a row of values from a csv file to me.\n",
    "\n",
    "What about when we keep the header?"
   ]
  },
  {
   "cell_type": "code",
   "execution_count": null,
   "metadata": {
    "collapsed": false
   },
   "outputs": [],
   "source": [
    "# without the header\n",
    "with urllib.request.urlopen(url_for_file) as response:\n",
    "   csv_file = response.read().decode('utf-8').splitlines()\n",
    "csv_file, header = skip_comments_and_comma_row(csv_file,keep_header=True)\n",
    "print(\"header is:\\n{}\".format(header))\n",
    "print(\"first line of csv file is now:\\n{}\".format(csv_file[0]))"
   ]
  },
  {
   "cell_type": "markdown",
   "metadata": {},
   "source": [
    "Nice!\n",
    "\n",
    "But it still annoys Lalama/me/you/everyone that those extra commas are at the end of our header row.\n",
    "\n",
    "We can use conditionals inside a list comprehension to only keep the not empty elements in the list."
   ]
  },
  {
   "cell_type": "code",
   "execution_count": null,
   "metadata": {
    "collapsed": false
   },
   "outputs": [],
   "source": [
    "header_without_commas = [item for item in header.split(',') if item is not '']"
   ]
  },
  {
   "cell_type": "markdown",
   "metadata": {},
   "source": [
    "Woah, that was intense. Let's break it down a bit.\n",
    "\n",
    "We can split up the line into its component parts, since it's inside brackets.\n",
    "\n",
    "Python will parse it the same but it's easier for us to read."
   ]
  },
  {
   "cell_type": "code",
   "execution_count": null,
   "metadata": {
    "collapsed": false
   },
   "outputs": [],
   "source": [
    "header_without_commas = [item\n",
    "                             for item in header.split(',')\n",
    "                                             if item is not '']"
   ]
  },
  {
   "cell_type": "markdown",
   "metadata": {},
   "source": [
    "With the list comprehension split up into its constituent parts, we can see more easily that it's basically a more concise `for loop`.\n",
    "Here's the same thing written as a for loop:"
   ]
  },
  {
   "cell_type": "code",
   "execution_count": null,
   "metadata": {
    "collapsed": true
   },
   "outputs": [],
   "source": [
    "header_without_commas = []\n",
    "for item in header.split(','):\n",
    "    if item is not '':\n",
    "        header_without_commas.append(item)"
   ]
  },
  {
   "cell_type": "markdown",
   "metadata": {},
   "source": [
    "## exercises\n",
    "\n",
    "Our function does what we want, but it's annoying that we have to repeat these lines of code each time before we call the function:\n",
    "\n",
    "```Python\n",
    "with urllib.request.urlopen(url_for_file) as response:\n",
    "   csv_file = response.read().decode('utf-8').splitlines()\n",
    "```\n",
    "\n",
    "What would be nice is if we could just pass a filename to the function and have it open the file for us.\n",
    "\n",
    "Here's what those same lines of code look like when you open a file on your computer instead of pulling from a url on the web: (Don't worry about how it works for right now)\n",
    "```Python\n",
    "with open('actual_filename.csv','r') as dummy_filename:\n",
    "       csv_file = dummy_filename.readlines()\n",
    "```\n",
    "\n",
    "You can run this in a code cell below (as long as the csv files are in the same directory as this notebook, which they should be if you haven't moved them).\n",
    "\n",
    "1) Open the file 'Wiltshire3_means.csv' using the code above.\n",
    "\n",
    "You can double click on this cell, highlight the code, then copy it with Ctrl-C.\n",
    "\n",
    "You should only have to change one argument to the `open` function."
   ]
  },
  {
   "cell_type": "code",
   "execution_count": null,
   "metadata": {
    "collapsed": false
   },
   "outputs": [],
   "source": []
  },
  {
   "cell_type": "markdown",
   "metadata": {},
   "source": [
    "2) what `type` of object is `csv_file`? Do we need to call the `splitlines` method on it like we did with the raw file loaded from a url on the web?"
   ]
  },
  {
   "cell_type": "code",
   "execution_count": null,
   "metadata": {
    "collapsed": false
   },
   "outputs": [],
   "source": []
  },
  {
   "cell_type": "markdown",
   "metadata": {},
   "source": [
    "3) Rewrite our function so that it accepts a filename as the first argument and then inside the function opens the file using the syntax you just used.\n",
    "\n",
    "Hint: you can call the `open` function and pass it a variable that refers to a string as the first argument, instead of passing a string literal for the first argument.\n",
    "\n",
    "i.e., this is totally valid:\n",
    "```Python\n",
    "my_favorite_csv = 'Willot1.csv'\n",
    "with open(my_favorite_csv,'r') as dummy_filename:\n",
    "    csv_file = dummy_filename.readlines()\n",
    "```"
   ]
  },
  {
   "cell_type": "code",
   "execution_count": null,
   "metadata": {
    "collapsed": false
   },
   "outputs": [],
   "source": [
    "%%writefile test.py\n",
    "def skip_comments_and_comma_row(csv_file,keep_header=False):\n",
    "    with open(csv_file,'r') as dummy_filename:\n",
    "       csv_file = dummy_filename.readlines()\n",
    "    counter = 0\n",
    "    while 1:\n",
    "        line = csv_file[counter]\n",
    "        if '//' not in line:\n",
    "            break \n",
    "        counter += 1\n",
    "    if keep_header:\n",
    "        header = csv_file[counter+1] \n",
    "        return csv_file[counter+2:],header\n",
    "    else:\n",
    "        return csv_file[counter+2:]"
   ]
  },
  {
   "cell_type": "markdown",
   "metadata": {},
   "source": [
    "4) Now save your function to a file using a **cell magic** command.\n",
    "Enter the following at the top of the cell that contains your function.\n",
    "`%%writefile your_module_name_here.py%%`\n",
    "Then when you hit `shift-enter` or `ctrl-enter` to execute the cell, it should save a file with the name `your_module_name_here.py` to the same directory as this notebook.\n",
    "\n",
    "Congratulations! You just made your first module.\n",
    "\n",
    "* cell magic\n",
    "    - specific to each kernel that runs in a Jupyter notebook\n",
    "    - right now we're using the IPython kernel by default\n",
    "    - IPython used to be the only kernel but now there's kernels for many other languages "
   ]
  },
  {
   "cell_type": "code",
   "execution_count": null,
   "metadata": {
    "collapsed": true
   },
   "outputs": [],
   "source": []
  },
  {
   "cell_type": "markdown",
   "metadata": {},
   "source": [
    "5) Now you should be able to `import` your function from the file using the following syntax:\n",
    "```Python\n",
    "from your_module_name_here import whatever_you_named_the_function\n",
    "```"
   ]
  },
  {
   "cell_type": "code",
   "execution_count": null,
   "metadata": {
    "collapsed": true
   },
   "outputs": [],
   "source": []
  },
  {
   "cell_type": "markdown",
   "metadata": {},
   "source": [
    "6) You can tell it was imported from the right place by looking at the `__file__` property of the function object.\n",
    "Just enter `whatever_you_named_the_function.__file__` in a cell and you should see the filename for your module.\n"
   ]
  },
  {
   "cell_type": "code",
   "execution_count": null,
   "metadata": {
    "collapsed": true
   },
   "outputs": [],
   "source": []
  },
  {
   "cell_type": "markdown",
   "metadata": {},
   "source": [
    "7) To test whether your module really works, click on 'kernel' in the menu bar above and then click on 'Restart & Clear Output'.\n",
    "\n",
    "Then change the cell below so it imports your module and parses the csv file."
   ]
  },
  {
   "cell_type": "code",
   "execution_count": null,
   "metadata": {
    "collapsed": true
   },
   "outputs": [],
   "source": [
    "# it's good form to import modules from the standard library before your own\n",
    "import csv\n",
    "\n",
    "from whatever_you_named_your_module import your_function\n",
    "\n",
    "file_with_skipped_lines = your_function('csv_file')\n",
    "reader = csv.reader(file_with_skipped_lines, delimiter=',')\n",
    "parsed_file = list(reader)"
   ]
  },
  {
   "cell_type": "markdown",
   "metadata": {},
   "source": [
    "8) Okay, now rewrite your function *yet again* so that it parses all of the rows after the header and returns the already parsed list.\n",
    "Use the writefile cell magic to save this new module version.\n",
    "Then test it again by clearing the outputs and running your new function on the file.\n",
    "\n",
    "** you will need to `import` the `csv` module *within* your module! ** "
   ]
  },
  {
   "cell_type": "code",
   "execution_count": null,
   "metadata": {
    "collapsed": true
   },
   "outputs": [],
   "source": []
  },
  {
   "cell_type": "markdown",
   "metadata": {},
   "source": [
    "## more reading\n",
    "\n",
    "### how `format` works:\n",
    "    https://pyformat.info/\n",
    "\n",
    "### conditionals and control flow:\n",
    "    http://openbookproject.net/thinkcs/python/english3e/conditionals.html\n",
    "    https://docs.python.org/3/tutorial/controlflow.html"
   ]
  },
  {
   "cell_type": "code",
   "execution_count": null,
   "metadata": {
    "collapsed": true
   },
   "outputs": [],
   "source": []
  }
 ],
 "metadata": {
  "anaconda-cloud": {},
  "kernelspec": {
   "display_name": "Python [Root]",
   "language": "python",
   "name": "Python [Root]"
  },
  "language_info": {
   "codemirror_mode": {
    "name": "ipython",
    "version": 3
   },
   "file_extension": ".py",
   "mimetype": "text/x-python",
   "name": "python",
   "nbconvert_exporter": "python",
   "pygments_lexer": "ipython3",
   "version": "3.5.2"
  }
 },
 "nbformat": 4,
 "nbformat_minor": 0
}
