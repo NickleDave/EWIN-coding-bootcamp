{
 "cells": [
  {
   "cell_type": "markdown",
   "metadata": {},
   "source": [
    "# Part 3 in the continuing saga of Lalama Evans: dictionaries, calculator stuff"
   ]
  },
  {
   "cell_type": "markdown",
   "metadata": {},
   "source": [
    "You, meaning Lalama, want to study something useful that involves serotinin. That's why you figured it was worth spending all this time writing a parser for csv files on the Jackson website.\n",
    "\n",
    "You have a hunch, or as we say in science, a \"hypothesis\".\n",
    "You know that tests of schizophrenic patients reveal impaired response times to sudden loud noises.\n",
    "This is measured in a test called the Auditory Startle Response (ASR). \n",
    "The ASR is fairly easy to measure in humans and in mice.\n",
    "\n",
    "Your hunch is that the impaired response time results from dysregulation of the serotonin system, since it is known to contribute to sensory processing.\n",
    "\n",
    "You think you can find evidence for your hypothesis using a mouse model.\n",
    "\n",
    "So first you need to find some good candidate mouse strains.\n",
    "\n",
    "Conveniently, the Jax site has data on ABR in different strains that you can download as a csv file.\n",
    "\n",
    "Time to parse that file with your code.\n",
    "Here's one version of the complete function we just wrote that does all the boring stuff for us."
   ]
  },
  {
   "cell_type": "code",
   "execution_count": null,
   "metadata": {
    "collapsed": true
   },
   "outputs": [],
   "source": [
    "import csv\n",
    "\n",
    "def parse_jackson_csv(csv_filename,keep_header=False):\n",
    "    \"\"\"\n",
    "    Parses csv files.\n",
    "    A wrapper around csv.reader that deals with idiosyncracies\n",
    "    of csv files from phenome.jax.org.\n",
    "    Specifically, it discards comments at the top of files and\n",
    "    removes extra columns in header row (that probably result\n",
    "    from converting an .xls file to a .csv)\n",
    "    \n",
    "    arguments\n",
    "    ---------\n",
    "    csv_filename : string, name of csv file\n",
    "    keep_header : if True, returns header. default is False.\n",
    "    \n",
    "    returns\n",
    "    -------\n",
    "    csv_file_parsed : list of lists, csv file after\n",
    "                      parsing by csv.reader\n",
    "    header : list of strings, header row,\n",
    "             only returned if keep_header = True\n",
    "    \"\"\"\n",
    "    \n",
    "    with open(csv_filename,'r') as csv_file_open:\n",
    "        csv_file = csv_file_open.readlines()\n",
    "        \n",
    "    counter = 0\n",
    "    while 1:\n",
    "        line = csv_file[counter]\n",
    "        if '//' not in line:\n",
    "            break \n",
    "        counter += 1\n",
    "    reader = csv.reader(csv_file[counter+1:],delimiter=',')\n",
    "    parsed_file = list(reader)\n",
    "    if keep_header:\n",
    "        header = parsed_file[0]\n",
    "        header = [col_name\n",
    "                     for col_name in header\n",
    "                         if col_name !='']\n",
    "        return parsed_file[1:], header\n",
    "    else:\n",
    "        return parsed_file[1:]"
   ]
  },
  {
   "cell_type": "markdown",
   "metadata": {},
   "source": [
    "We use it to parse our file of ABR responses."
   ]
  },
  {
   "cell_type": "code",
   "execution_count": null,
   "metadata": {
    "collapsed": false
   },
   "outputs": [],
   "source": [
    "filename = 'Willott1_table-1.csv'\n",
    "parsed,header = parse_jackson_csv(filename,keep_header=True)"
   ]
  },
  {
   "cell_type": "markdown",
   "metadata": {},
   "source": [
    "So a natural question to ask would be:\n",
    "** which strains have the strongest and the weakest ASR on average? **\n",
    "\n",
    "But we have a problem to solve before we can answer that.\n",
    "\n",
    "** The rows of the file are *individual* responses. We need to group them by strain. **\n",
    "\n",
    "Here, look at the header and a couple of rows:"
   ]
  },
  {
   "cell_type": "code",
   "execution_count": null,
   "metadata": {
    "collapsed": false
   },
   "outputs": [],
   "source": [
    "print(header)\n",
    "print('')\n",
    "for row in parsed[:2]:\n",
    "    print(row)"
   ]
  },
  {
   "cell_type": "markdown",
   "metadata": {},
   "source": [
    "Notice that each row starts with the strain to which the individual belongs, followed by different measures.\n",
    "\n",
    "How are we even going to group them?\n",
    "\n",
    "Should we just use a list?\n",
    "\n",
    "Maybe we could have another list of lists like we had for our parsed csv file, only this time each item in the list will be a [string,list] pair, i.e., the name of the strain, paired with all the ABRs from that strain.\n",
    "\n",
    "Something like this:\n",
    "```Python\n",
    "[['129S1/SvImJ',[0.121,0.211,0.11,0.15],\n",
    " ['A/J',[0.31,0.289,0.33,0.37],\n",
    " ...\n",
    " ]\n",
    "```\n",
    "\n",
    "But here we don't really care about the order of the strains.\n",
    "\n",
    "And in fact if we ask the computer to find the ASRs for a certain strain, and it has to search through the whole list in order, this can take a long time, especially if we have a lot of data.\n",
    "\n",
    "Seems like it's time for a **dictionary**.\n",
    "\n",
    "## dictionaries\n",
    "\n",
    "* a **dictionary**\n",
    "  - consists of `key`,`value` pairs\n",
    "  ```Python\n",
    "  mouse_dict = {\n",
    "            '129S1/SvImJ' : [0.121,0.211,0.11,0.15],\n",
    "            'A/J' : [0.31,0.289,0.33,0.37]\n",
    "                }\n",
    "  ```\n",
    "  - you give the dictionary a key, and it returns the value paired with that key\n",
    "  - the algorithm used to look up keys in a dictionary is fast, much faster than going in alphabetical order on average\n",
    "  \n",
    "  \n",
    "Let's write a function that sorts all the rows from our csv file into a dictionary where each `key` is a strain and the `value` for that `key` is a list of values from a user-specified column of the csv file that correspond to that strain"
   ]
  },
  {
   "cell_type": "code",
   "execution_count": null,
   "metadata": {
    "collapsed": true
   },
   "outputs": [],
   "source": [
    "def make_mouse_dict(parsed_file,key_index,value_index):\n",
    "    \"\"\"\n",
    "    takes csv file of individual animal data\n",
    "    and sorts values of a column into a dictionary\n",
    "    where the keys are strains\n",
    "    \n",
    "    arguments\n",
    "    ---------\n",
    "    key_index : index of column in each row that is the name\n",
    "                of the mouse strain\n",
    "    value_index : index of column in each row that is the \n",
    "                  value to associate with each strain\n",
    "                  \n",
    "    returns\n",
    "    -------\n",
    "    mouse_dict: dictionary where keys are strains of mice and\n",
    "                values are lists, all entries in column of\n",
    "                interest that correspond to a given strain\n",
    "    \"\"\"\n",
    "    \n",
    "    mouse_dict = {} # make empty dictionary\n",
    "    for row in parsed_file:\n",
    "        key = row[key_index] \n",
    "        val = float(row[value_index]) # convert from string to float!\n",
    "        if key in mouse_dict.keys():\n",
    "            mouse_dict[key].append(val)\n",
    "        else:\n",
    "            mouse_dict[key] = [val]\n",
    "    return mouse_dict"
   ]
  },
  {
   "cell_type": "markdown",
   "metadata": {},
   "source": [
    "Note this function doesn't use anything all that new to us, except for the dictionary.\n",
    "\n",
    "Let's call it with the `value_index = 12`, the column that contains the value of the ASR at 100 decibels."
   ]
  },
  {
   "cell_type": "code",
   "execution_count": null,
   "metadata": {
    "collapsed": true
   },
   "outputs": [],
   "source": [
    "mouse_dict = make_mouse_dict(parsed,0,12)"
   ]
  },
  {
   "cell_type": "markdown",
   "metadata": {},
   "source": [
    "We can call the `keys` method on our `dictionary` to verify that it contains the names of all the mouse strains."
   ]
  },
  {
   "cell_type": "code",
   "execution_count": null,
   "metadata": {
    "collapsed": false
   },
   "outputs": [],
   "source": [
    "mouse_dict.keys()"
   ]
  },
  {
   "cell_type": "markdown",
   "metadata": {},
   "source": [
    "Looks like mouse strain names to me.\n",
    "\n",
    "What about if we give the dictionary a key?"
   ]
  },
  {
   "cell_type": "code",
   "execution_count": null,
   "metadata": {
    "collapsed": false
   },
   "outputs": [],
   "source": [
    "print(mouse_dict['MA/MyJ'])"
   ]
  },
  {
   "cell_type": "markdown",
   "metadata": {},
   "source": [
    "Looks like ABR values to me.\n",
    "Cool.\n",
    "\n",
    "But we want to find out ** what strains have the highest ASR on average **.\n",
    "\n",
    "Let's make another dictionary that will contain the *mean* values for each strain.\n",
    "\n",
    "We'll write another lil' function to do that."
   ]
  },
  {
   "cell_type": "code",
   "execution_count": null,
   "metadata": {
    "collapsed": true
   },
   "outputs": [],
   "source": [
    "def compute_mouse_dict_mean(mouse_dict):\n",
    "    \"\"\"\n",
    "    takes mouse_dict returned by make_mouse_dict\n",
    "    and computes mean for each strain.\n",
    "    returns mean_mouse_dict.\n",
    "    \"\"\"\n",
    "    mean_mouse_dict = {}\n",
    "    \n",
    "    for key,val in mouse_dict.items():\n",
    "        mean = sum(val) / len(val)\n",
    "        mean_mouse_dict[key] = mean\n",
    "    return mean_mouse_dict"
   ]
  },
  {
   "cell_type": "markdown",
   "metadata": {},
   "source": [
    "So now we can get a dictionary where each `key` is a strain and each `value` is the mean for that strain:"
   ]
  },
  {
   "cell_type": "code",
   "execution_count": null,
   "metadata": {
    "collapsed": false
   },
   "outputs": [],
   "source": [
    "mean_mouse_dict = compute_mouse_dict_mean(mouse_dict)"
   ]
  },
  {
   "cell_type": "code",
   "execution_count": null,
   "metadata": {
    "collapsed": false
   },
   "outputs": [],
   "source": [
    "key = 'C58/J'\n",
    "print('mean for strain {} is {}'.format(key,mean_mouse_dict[key]))"
   ]
  },
  {
   "cell_type": "markdown",
   "metadata": {},
   "source": [
    "Lastly we need a function to figure out which strain has the **highest** average ASR."
   ]
  },
  {
   "cell_type": "code",
   "execution_count": 1,
   "metadata": {
    "collapsed": true
   },
   "outputs": [],
   "source": [
    "def max_ASR(mean_mouse_dict):\n",
    "    max_ABR = 0\n",
    "    for key,val in mean_mouse_dict.items():\n",
    "        if val > max_ABR:\n",
    "            max_ABR = val\n",
    "            max_strain = key\n",
    "    return max_strain,max_ABR"
   ]
  },
  {
   "cell_type": "code",
   "execution_count": null,
   "metadata": {
    "collapsed": false
   },
   "outputs": [],
   "source": [
    "max_strain,max_ASR = max_ASR(mean_mouse_dict)\n",
    "print(\"strain {0} had the maximum ASR, {1}\".format(max_strain,max_ABR))"
   ]
  },
  {
   "cell_type": "markdown",
   "metadata": {},
   "source": [
    "## Exercises\n",
    "\n",
    "1) write a function that will take `mouse_dict` and `mean_mouse_dict` then return `stdev_mouse_dict`, a dictionary where the `key`s are strain names and the `value`s are the standard deviation\n",
    "\n",
    "Recall that standard deviation is the square root of the squared differences from the mean, i.e.,\n",
    "```Python\n",
    "from math import sqrt # square root function\n",
    "# below, ** means 'power of'\n",
    "diffs = [(val - mean)**2 for val in mouse_dict[key]] \n",
    "var = sum(diffs) / len(diffs)\n",
    "st_dev = sqrt(var)\n",
    "```"
   ]
  },
  {
   "cell_type": "code",
   "execution_count": null,
   "metadata": {
    "collapsed": true
   },
   "outputs": [],
   "source": []
  }
 ],
 "metadata": {
  "anaconda-cloud": {},
  "kernelspec": {
   "display_name": "Python [Root]",
   "language": "python",
   "name": "Python [Root]"
  },
  "language_info": {
   "codemirror_mode": {
    "name": "ipython",
    "version": 3
   },
   "file_extension": ".py",
   "mimetype": "text/x-python",
   "name": "python",
   "nbconvert_exporter": "python",
   "pygments_lexer": "ipython3",
   "version": "3.5.2"
  }
 },
 "nbformat": 4,
 "nbformat_minor": 0
}
