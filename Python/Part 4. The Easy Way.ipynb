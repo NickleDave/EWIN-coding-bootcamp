{
 "cells": [
  {
   "cell_type": "markdown",
   "metadata": {},
   "source": [
    "## Lalama IV: It Gets Easier\n",
    "\n",
    "Alright.\n",
    "\n",
    "I showed you all that stuff I just showed because you probably will have to use it one day if you do any kind of coding.\n",
    "\n",
    "But for most analyses we do, somebody already wrote code that does that analysis.\n",
    "\n",
    "We can just use the great code that they wrote and that thousands of other people have already tested and improved.\n",
    "\n",
    "Now we're standing on the shoulder of giants! Or something like that."
   ]
  },
  {
   "cell_type": "markdown",
   "metadata": {},
   "source": [
    "## numpy: like Matlab in Python\n",
    "\n",
    "**numpy** is a library that provides matrix-like structures that many scientists use.\n",
    "\n",
    "It extends **slice notation** so that we can refer to rows and columns of a matrix.\n",
    "\n",
    "It also implements many functions that Matlab users will be familiar with.\n",
    "\n",
    "```Python\n",
    "import numpy as np\n",
    "zero_arr = np.zeros((10,10)) # creates a 10 by 10 array / matrix of zeros\n",
    "print(zero_arr[5,5])\n",
    ">>> 0\n",
    "```\n",
    "\n",
    "We can rewrite our mean and standard deviation dictionary functions using numpy functions.\n",
    "\n",
    "** These functions are much faster, especially when dealing with large datasets, because numpy is a Python wrapper around very efficient scientific computing libraries written in speedy languages like Fortran and C **"
   ]
  },
  {
   "cell_type": "code",
   "execution_count": null,
   "metadata": {
    "collapsed": true
   },
   "outputs": [],
   "source": [
    "import numpy as np\n",
    "\n",
    "def compute_mouse_dict_mean_and_std(mouse_dict):\n",
    "    \"\"\"\n",
    "    takes mouse_dict returned by make_mouse_dict\n",
    "    and computes mean for each strain.\n",
    "    returns mean_mouse_dict.\n",
    "    \"\"\"\n",
    "    mean_mouse_dict = {}\n",
    "    stdev_mouse_dict = {}\n",
    "    \n",
    "    for key,val in mouse_dict.items():\n",
    "        mean_mouse_dict[key] = np.mean(val)\n",
    "        stddev_mouse_dict[key] = np.std(val)\n",
    "    return mean_mouse_dict,stdev_mouse_dict"
   ]
  },
  {
   "cell_type": "code",
   "execution_count": 3,
   "metadata": {
    "collapsed": false
   },
   "outputs": [],
   "source": []
  },
  {
   "cell_type": "markdown",
   "metadata": {},
   "source": [
    "Let's get our `sort_by_strain` function back in memory"
   ]
  },
  {
   "cell_type": "markdown",
   "metadata": {},
   "source": [
    "## pandas: it gets even easier\n",
    "\n",
    "Let's use the **pandas** library to do the heavy lifting of importing csv files.\n",
    "\n",
    "**pandas** allows us to work with objects called **dataframes** that you may be familiar with if you have ever used the statistical programming language R."
   ]
  },
  {
   "cell_type": "code",
   "execution_count": null,
   "metadata": {
    "collapsed": false
   },
   "outputs": [],
   "source": [
    "import pandas as pd\n",
    "\n",
    "filename = 'Willott1_table-1.csv'\n",
    "df = pd.read_csv(filename,skiprows=6,header=0) # df is short for 'dataframe'"
   ]
  },
  {
   "cell_type": "code",
   "execution_count": null,
   "metadata": {
    "collapsed": false
   },
   "outputs": [],
   "source": [
    "df.head() # head method shows the first few rows"
   ]
  },
  {
   "cell_type": "code",
   "execution_count": null,
   "metadata": {
    "collapsed": false
   },
   "outputs": [],
   "source": [
    "%matplotlib inline\n",
    "df.boxplot(column='ASR_100',by='strain',rot=45,figsize=(12,10))"
   ]
  },
  {
   "cell_type": "code",
   "execution_count": null,
   "metadata": {
    "collapsed": false
   },
   "outputs": [],
   "source": [
    "# borrowed from http://deparkes.co.uk/2016/11/04/sort-pandas-boxplot/\n",
    "\n",
    "# use dict comprehension to create new dataframe from the iterable groupby object\n",
    "# each group name becomes a column in the new dataframe\n",
    "df2 = pd.DataFrame({col:vals['ASR_100'] for col, vals in df.groupby('strain')})\n",
    "# find and sort the median values in this new dataframe\n",
    "meds = df2.median().sort_values()\n",
    "# use the columns in the dataframe, ordered sorted by median value\n",
    "# return axes so changes can be made outside the function\n",
    "ax = df2[meds.index].boxplot(rot=45, return_type=\"axes\")"
   ]
  },
  {
   "cell_type": "code",
   "execution_count": null,
   "metadata": {
    "collapsed": false
   },
   "outputs": [],
   "source": []
  },
  {
   "cell_type": "code",
   "execution_count": null,
   "metadata": {
    "collapsed": true
   },
   "outputs": [],
   "source": []
  }
 ],
 "metadata": {
  "anaconda-cloud": {},
  "kernelspec": {
   "display_name": "Python [Root]",
   "language": "python",
   "name": "Python [Root]"
  },
  "language_info": {
   "codemirror_mode": {
    "name": "ipython",
    "version": 3
   },
   "file_extension": ".py",
   "mimetype": "text/x-python",
   "name": "python",
   "nbconvert_exporter": "python",
   "pygments_lexer": "ipython3",
   "version": "3.5.2"
  }
 },
 "nbformat": 4,
 "nbformat_minor": 0
}
