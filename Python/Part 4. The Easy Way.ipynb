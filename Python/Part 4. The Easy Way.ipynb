{
 "cells": [
  {
   "cell_type": "markdown",
   "metadata": {},
   "source": [
    "## Lalama IV: It Gets Easier\n",
    "\n",
    "Alright.\n",
    "\n",
    "I showed you all that stuff I just showed because you probably will have to use it one day if you do any kind of coding.\n",
    "\n",
    "But for most analyses we do, somebody already wrote code that does that analysis.\n",
    "\n",
    "We can just use the great code that they wrote and that thousands of other people have already tested and improved.\n",
    "\n",
    "Now we're standing on the shoulder of giants! Or something like that."
   ]
  },
  {
   "cell_type": "markdown",
   "metadata": {},
   "source": [
    "## I. numpy: kind of like `MATLAB` in Python\n",
    "\n",
    "**numpy** is a library that provides matrix-like structures that many scientists use.\n",
    "\n",
    "It extends **slice notation** so that we can refer to rows and columns of a matrix.\n",
    "\n",
    "It also implements many functions that `MATLAB` users will be familiar with.\n",
    "\n",
    "```Python\n",
    "import numpy as np\n",
    "zero_arr = np.zeros((10,10)) # creates a 10 by 10 array / matrix of zeros\n",
    "print(zero_arr[5,5])\n",
    ">>> 0\n",
    "```\n",
    "\n",
    "We can rewrite our mean and standard deviation dictionary functions using numpy functions.\n",
    "\n",
    "** These functions are much faster, especially when dealing with large datasets, because numpy is a Python wrapper around very efficient scientific computing libraries written in speedy languages like Fortran and C **"
   ]
  },
  {
   "cell_type": "code",
   "execution_count": 236,
   "metadata": {
    "collapsed": true
   },
   "outputs": [],
   "source": [
    "import numpy as np\n",
    "\n",
    "def compute_mouse_mean_and_std_dev(sorted_by_strain):\n",
    "    \"\"\"\n",
    "    takes sorted_by_strain returned by sort_by_strain\n",
    "    and computes mean and standard deviation for each strain.\n",
    "    returns mean_mouse_dict.\n",
    "    \"\"\"\n",
    "    mouse_means = {}\n",
    "    mouse_std_devs = {}\n",
    "    \n",
    "    for key,val in sorted_by_strain.items():\n",
    "        mouse_means[key] = np.mean(val)\n",
    "        mouse_std_devs[key] = np.std(val)\n",
    "    return mouse_means,mouse_std_devs"
   ]
  },
  {
   "cell_type": "markdown",
   "metadata": {},
   "source": [
    "## II. making a package in Python\n",
    "\n",
    "So I didn't tell you ... but I made a package out of the functions we wrote already.\n",
    "\n",
    "It's called \"pyjax\".\n",
    "\n",
    "Basically it's two modules (AKA) files ...\n",
    "\n",
    "plus a completely empty text file called `__init__.py` ...\n",
    " \n",
    "inside a folder called `pyjax`.\n",
    "\n",
    "That's the basics of how you make a package in Python.\n",
    "\n",
    "Make a folder, and then put an empty `__init__.py` file inside of it with your modules.\n",
    "\n",
    "As long as that folder is on your `$PATH`, then the Python interpreter will find it and recognize it as a package.\n",
    "\n",
    "So you can do the same with your own code."
   ]
  },
  {
   "cell_type": "markdown",
   "metadata": {},
   "source": [
    "## III. Using a package that you've created in Jupyter\n",
    "\n",
    "Again, if the package is on your path, or if it's in the folder you're working from, the Python kernel in a Jupyter notebook should be able to find it.\n",
    "\n",
    "Here's everything we've done so far, now with numpy goodness we just added, in three lines."
   ]
  },
  {
   "cell_type": "code",
   "execution_count": 237,
   "metadata": {
    "collapsed": false
   },
   "outputs": [],
   "source": [
    "import pyjax.csv\n",
    "import pyjax.utils\n",
    "\n",
    "STRAIN_IND = 0\n",
    "VALUE_IND = 12\n",
    "CSV_FILE = 'Willott1_table-1.csv'\n",
    "\n",
    "parsed_file = pyjax.csv.parse(CSV_FILE)\n",
    "sorted_by_strain = pyjax.utils.sort_by_strain(parsed_file,STRAIN_IND,VALUE_IND)\n",
    "strain_means, strain_std_devs = pyjax.utils.compute_strain_mean_and_std(sorted_by_strain)"
   ]
  },
  {
   "cell_type": "markdown",
   "metadata": {},
   "source": [
    "## IV. matplotlib: like `MATLAB` graphs in Python\n",
    "\n",
    "matploblib is a library for plotting.\n",
    "\n",
    "There is a `pyplot` module in matplotlib that uses almost verbatim the syntax from `MATLAB`.\n",
    "\n",
    "Let's use it now to plot our data.\n",
    "\n",
    "First we need to put our values in lists (like you would put them into a vector to plot something in `MATLAB`)."
   ]
  },
  {
   "cell_type": "code",
   "execution_count": 238,
   "metadata": {
    "collapsed": false,
    "scrolled": true
   },
   "outputs": [],
   "source": [
    "# need to get means and std. deviations into lists\n",
    "strain_names_sorted = sorted(strain_means.keys())\n",
    "means_sorted_by_strain = [strain_means[key] for key in strain_names_sorted]\n",
    "std_devs_sorted_by_strain = [strain_std_devs[key] for key in strain_names_sorted]"
   ]
  },
  {
   "cell_type": "markdown",
   "metadata": {},
   "source": [
    "Now we sort the mean ASR values (like you would do with `MATLAB` sort).\n",
    "\n",
    "Numpy has a `sort` function that sorts an array in place.\n",
    "\n",
    "Unlike `MATLAB` it uses a separate `argsort` function to returns the indices you would use to sort the array (`MATLAB` returns the indices automatically from its `sort`, but we don't always need them.)\n",
    "\n",
    "We want the indices for sorting here so we can use them with the array of standard deviations and with the list of strain names."
   ]
  },
  {
   "cell_type": "code",
   "execution_count": 239,
   "metadata": {
    "collapsed": false
   },
   "outputs": [],
   "source": [
    "import numpy as np\n",
    "sort_by_ASR_inds = np.argsort(means_sorted_by_strain)\n",
    "sort_by_ASR_inds = np.concatenate((sort_by_ASR_inds[:5],sort_by_ASR_inds[-5:]))"
   ]
  },
  {
   "cell_type": "markdown",
   "metadata": {},
   "source": [
    "Now we can sort everything by increasing value of mean ASR using those indices.\n",
    "\n",
    "This will make our plot readable.\n",
    "\n",
    "And also useful."
   ]
  },
  {
   "cell_type": "code",
   "execution_count": 240,
   "metadata": {
    "collapsed": false
   },
   "outputs": [],
   "source": [
    "means_sorted_by_asr = np.asarray(means_sorted_by_strain)[sort_by_ASR_inds]\n",
    "std_devs_sorted_by_asr = np.asarray(std_devs_sorted_by_strain)[sort_by_ASR_inds]\n",
    "strain_names_sorted_by_asr = [strain_names_sorted[ind] for ind in sort_by_ASR_inds]"
   ]
  },
  {
   "cell_type": "markdown",
   "metadata": {},
   "source": [
    "We import matplotlib.\n",
    "\n",
    "Notice the line magic command that lets us show plots 'in-line' (in the notebook) instead of having them open in another window."
   ]
  },
  {
   "cell_type": "code",
   "execution_count": 241,
   "metadata": {
    "collapsed": true
   },
   "outputs": [],
   "source": [
    "%matplotlib inline\n",
    "import matplotlib.pyplot as plt"
   ]
  },
  {
   "cell_type": "markdown",
   "metadata": {},
   "source": [
    "then we plot:"
   ]
  },
  {
   "cell_type": "code",
   "execution_count": 242,
   "metadata": {
    "collapsed": false
   },
   "outputs": [
    {
     "data": {
      "image/png": "[encoded data removed]",
      "text/plain": [
       "<matplotlib.figure.Figure at 0x1ae1e0517f0>"
      ]
     },
     "metadata": {},
     "output_type": "display_data"
    }
   ],
   "source": [
    "dummy_x_values = range(len(means_sorted_by_asr))\n",
    "plt.figure(figsize=(10,5))\n",
    "plt.errorbar(dummy_x_values,means_sorted_by_asr,std_devs_sorted_by_asr,fmt='bo')\n",
    "plt.xticks(dummy_x_values,strain_names_sorted_by_asr,rotation=75)\n",
    "plt.tick_params(axis='both', which='major', labelsize=20)\n",
    "plt.margins(0.1)\n",
    "plt.show()"
   ]
  },
  {
   "cell_type": "markdown",
   "metadata": {},
   "source": [
    "## V. pandas: it gets even easier\n",
    "\n",
    "Let's use the **pandas** library to do the heavy lifting of importing csv files.\n",
    "\n",
    "**pandas** allows us to work with objects called **dataframes** that you may be familiar with if you have ever used the statistical programming language R.\n",
    "\n",
    "`pandas` is built on top of `numpy` and `matplotlib` to make it even more convenient to work with your data."
   ]
  },
  {
   "cell_type": "code",
   "execution_count": 244,
   "metadata": {
    "collapsed": false
   },
   "outputs": [],
   "source": [
    "import pandas as pd\n",
    "df_willott = pd.read_csv('Willott1_table-1.csv',skiprows=6,header=0) # df is short for 'dataframe'"
   ]
  },
  {
   "cell_type": "markdown",
   "metadata": {},
   "source": [
    "pandas has many convenience methods, e.g. the `head` method of the `dataframe` object lets us take a quick look at the first few rows of values."
   ]
  },
  {
   "cell_type": "code",
   "execution_count": 245,
   "metadata": {
    "collapsed": false
   },
   "outputs": [
    {
     "data": {
      "text/html": [
       "<div>\n",
       "<table border=\"1\" class=\"dataframe\">\n",
       "  <thead>\n",
       "    <tr style=\"text-align: right;\">\n",
       "      <th></th>\n",
       "      <th>strain</th>\n",
       "      <th>sex</th>\n",
       "      <th>id</th>\n",
       "      <th>round</th>\n",
       "      <th>bw</th>\n",
       "      <th>PPI_4</th>\n",
       "      <th>PPI_12</th>\n",
       "      <th>PPI_20</th>\n",
       "      <th>PPI_tot</th>\n",
       "      <th>ASR_70</th>\n",
       "      <th>ASR_80</th>\n",
       "      <th>ASR_90</th>\n",
       "      <th>ASR_100</th>\n",
       "      <th>ASR_latency</th>\n",
       "      <th>ASR_habituation</th>\n",
       "    </tr>\n",
       "  </thead>\n",
       "  <tbody>\n",
       "    <tr>\n",
       "      <th>0</th>\n",
       "      <td>129S1/SvImJ</td>\n",
       "      <td>f</td>\n",
       "      <td>F103</td>\n",
       "      <td>all</td>\n",
       "      <td>NaN</td>\n",
       "      <td>0.3745</td>\n",
       "      <td>0.27400</td>\n",
       "      <td>0.24500</td>\n",
       "      <td>0.8925</td>\n",
       "      <td>134.50</td>\n",
       "      <td>254.00</td>\n",
       "      <td>340.5</td>\n",
       "      <td>706.5</td>\n",
       "      <td>31.45</td>\n",
       "      <td>0.446</td>\n",
       "    </tr>\n",
       "    <tr>\n",
       "      <th>1</th>\n",
       "      <td>129S1/SvImJ</td>\n",
       "      <td>f</td>\n",
       "      <td>F104</td>\n",
       "      <td>all</td>\n",
       "      <td>NaN</td>\n",
       "      <td>0.9875</td>\n",
       "      <td>0.96600</td>\n",
       "      <td>0.81400</td>\n",
       "      <td>2.7650</td>\n",
       "      <td>158.50</td>\n",
       "      <td>232.00</td>\n",
       "      <td>251.5</td>\n",
       "      <td>223.5</td>\n",
       "      <td>27.70</td>\n",
       "      <td>0.662</td>\n",
       "    </tr>\n",
       "    <tr>\n",
       "      <th>2</th>\n",
       "      <td>129S1/SvImJ</td>\n",
       "      <td>f</td>\n",
       "      <td>F105</td>\n",
       "      <td>all</td>\n",
       "      <td>NaN</td>\n",
       "      <td>0.2990</td>\n",
       "      <td>0.14685</td>\n",
       "      <td>0.10895</td>\n",
       "      <td>0.5545</td>\n",
       "      <td>70.85</td>\n",
       "      <td>91.15</td>\n",
       "      <td>379.0</td>\n",
       "      <td>721.5</td>\n",
       "      <td>35.20</td>\n",
       "      <td>1.101</td>\n",
       "    </tr>\n",
       "    <tr>\n",
       "      <th>3</th>\n",
       "      <td>129S1/SvImJ</td>\n",
       "      <td>f</td>\n",
       "      <td>F106</td>\n",
       "      <td>all</td>\n",
       "      <td>NaN</td>\n",
       "      <td>0.5720</td>\n",
       "      <td>0.43000</td>\n",
       "      <td>0.37200</td>\n",
       "      <td>1.3755</td>\n",
       "      <td>197.50</td>\n",
       "      <td>188.50</td>\n",
       "      <td>400.5</td>\n",
       "      <td>498.0</td>\n",
       "      <td>28.45</td>\n",
       "      <td>0.526</td>\n",
       "    </tr>\n",
       "    <tr>\n",
       "      <th>4</th>\n",
       "      <td>129S1/SvImJ</td>\n",
       "      <td>f</td>\n",
       "      <td>F107</td>\n",
       "      <td>all</td>\n",
       "      <td>NaN</td>\n",
       "      <td>0.9565</td>\n",
       "      <td>0.61100</td>\n",
       "      <td>0.53450</td>\n",
       "      <td>2.1050</td>\n",
       "      <td>79.85</td>\n",
       "      <td>150.00</td>\n",
       "      <td>240.0</td>\n",
       "      <td>237.5</td>\n",
       "      <td>27.70</td>\n",
       "      <td>0.571</td>\n",
       "    </tr>\n",
       "  </tbody>\n",
       "</table>\n",
       "</div>"
      ],
      "text/plain": [
       "        strain sex    id round   bw   PPI_4   PPI_12   PPI_20  PPI_tot  \\\n",
       "0  129S1/SvImJ   f  F103   all  NaN  0.3745  0.27400  0.24500   0.8925   \n",
       "1  129S1/SvImJ   f  F104   all  NaN  0.9875  0.96600  0.81400   2.7650   \n",
       "2  129S1/SvImJ   f  F105   all  NaN  0.2990  0.14685  0.10895   0.5545   \n",
       "3  129S1/SvImJ   f  F106   all  NaN  0.5720  0.43000  0.37200   1.3755   \n",
       "4  129S1/SvImJ   f  F107   all  NaN  0.9565  0.61100  0.53450   2.1050   \n",
       "\n",
       "   ASR_70  ASR_80  ASR_90  ASR_100  ASR_latency  ASR_habituation  \n",
       "0  134.50  254.00   340.5    706.5        31.45            0.446  \n",
       "1  158.50  232.00   251.5    223.5        27.70            0.662  \n",
       "2   70.85   91.15   379.0    721.5        35.20            1.101  \n",
       "3  197.50  188.50   400.5    498.0        28.45            0.526  \n",
       "4   79.85  150.00   240.0    237.5        27.70            0.571  "
      ]
     },
     "execution_count": 245,
     "metadata": {},
     "output_type": "execute_result"
    }
   ],
   "source": [
    "df_willott.head() # head method shows the first few rows"
   ]
  },
  {
   "cell_type": "markdown",
   "metadata": {},
   "source": [
    "## VI. filtering and plotting with pandas\n",
    "\n",
    "`dataframes` have convenient `R`-like methods for merging or filtering tables, as well as `MATLAB`/Numpy-like slice notation and methods.\n",
    "\n",
    "**Say we (as Lalama) only want the mouse strains from the ASR data for which we also have measurements of serotonin receptor levels in cerebral cortex. We need to:**\n",
    "  - load a csv file that includes measurements of serotonin receptor levels\n",
    "  - get the names of the mouse strains in that file\n",
    "  - filter the Willot csv file to keep only info on strains that are in the serotonin receptor level file\n",
    "  - then sort the ASRs in the filtered Willot file in ascending order"
   ]
  },
  {
   "cell_type": "code",
   "execution_count": 246,
   "metadata": {
    "collapsed": true
   },
   "outputs": [],
   "source": [
    "df_wiltshire = pd.read_csv('Wiltshire3_means.csv',skiprows=5,header=0)\n",
    "wiltshire_strains = df_wiltshire['strain'].unique()\n",
    "inds_of_strains_in_both = df_willott['strain'].isin(wiltshire_strains)\n",
    "df_willott = df_willott[inds_of_strains_in_both]\n",
    "grouped = df_willott.groupby(['strain'])\n",
    "df_asr100 = pd.DataFrame({col:vals['ASR_100'] for col,vals in grouped})\n",
    "medians = df_asr100.median().sort_values()\n",
    "df_asr100 = df_asr100[medians.index]"
   ]
  },
  {
   "cell_type": "markdown",
   "metadata": {},
   "source": [
    "`dataframes` objects also have plotting built into them.\n",
    "\n",
    "Here's a box-and-whiskers plot of the ASRs at 100 decibels."
   ]
  },
  {
   "cell_type": "code",
   "execution_count": 247,
   "metadata": {
    "collapsed": false
   },
   "outputs": [
    {
     "data": {
      "text/plain": [
       "<matplotlib.axes._subplots.AxesSubplot at 0x1ae1e0d6080>"
      ]
     },
     "execution_count": 247,
     "metadata": {},
     "output_type": "execute_result"
    },
    {
     "data": {
      "image/png": "[encoded data removed]",
      "text/plain": [
       "<matplotlib.figure.Figure at 0x1ae1e0d9e10>"
      ]
     },
     "metadata": {},
     "output_type": "display_data"
    }
   ],
   "source": [
    "# use the columns in the dataframe, ordered sorted by median value\n",
    "# return axes so changes can be made outside the function\n",
    "plt.figure(figsize=(10,5))\n",
    "df_asr100.boxplot(rot=45, figsize=(10,5),return_type='axes')"
   ]
  },
  {
   "cell_type": "markdown",
   "metadata": {},
   "source": [
    "## VII. 'Factors' with pandas\n",
    "\n",
    "Lastly Lalama will use the ranking of ASRs by strain that we just got with pandas, and then use that ranking as a 'category' (like a 'factor' in R).\n",
    "\n",
    "Now we can sort our serotonin receptor expression levels by strain in the same order as our ASRs."
   ]
  },
  {
   "cell_type": "code",
   "execution_count": 248,
   "metadata": {
    "collapsed": false
   },
   "outputs": [
    {
     "name": "stderr",
     "output_type": "stream",
     "text": [
      "C:\\Users\\Seymour Snyder\\Anaconda3\\lib\\site-packages\\ipykernel\\__main__.py:3: SettingWithCopyWarning: \n",
      "A value is trying to be set on a copy of a slice from a DataFrame.\n",
      "Try using .loc[row_indexer,col_indexer] = value instead\n",
      "\n",
      "See the caveats in the documentation: http://pandas.pydata.org/pandas-docs/stable/indexing.html#indexing-view-versus-copy\n",
      "  app.launch_new_instance()\n",
      "C:\\Users\\Seymour Snyder\\Anaconda3\\lib\\site-packages\\ipykernel\\__main__.py:5: SettingWithCopyWarning: \n",
      "A value is trying to be set on a copy of a slice from a DataFrame\n",
      "\n",
      "See the caveats in the documentation: http://pandas.pydata.org/pandas-docs/stable/indexing.html#indexing-view-versus-copy\n"
     ]
    }
   ],
   "source": [
    "strains_sorted_by_ASR100 = pd.Categorical(meds.index,ordered=True)\n",
    "df_wilt_sert = df_wiltshire[df_wiltshire['varname'] == 'SLC6A4_cont']\n",
    "df_wilt_sert['strain'] = df_wilt_sert['strain'].astype(\"category\", categories=medians.index, ordered=True)\n",
    "df_wilt_sert_nonan = df_wilt_sert[~df_wilt_sert['strain'].isnull()]\n",
    "df_wilt_sert_nonan.sort_values(by='strain',inplace=True)"
   ]
  },
  {
   "cell_type": "markdown",
   "metadata": {},
   "source": [
    "We plot serotonin receptor levels for strains in the same order as our ASR."
   ]
  },
  {
   "cell_type": "code",
   "execution_count": 235,
   "metadata": {
    "collapsed": false
   },
   "outputs": [
    {
     "data": {
      "text/plain": [
       "<matplotlib.figure.Figure at 0x1ae2c58da20>"
      ]
     },
     "metadata": {},
     "output_type": "display_data"
    },
    {
     "data": {
      "image/png": "[encoded data removed]",
      "text/plain": [
       "<matplotlib.figure.Figure at 0x1ae2c629550>"
      ]
     },
     "metadata": {},
     "output_type": "display_data"
    }
   ],
   "source": [
    "plt.figure()\n",
    "ax = df_wilt_sert_nonan.plot(x='strain',y='mean',yerr='sd',fmt='o',figsize=(10,5),rot=70)\n",
    "num_xticks = len(df_wilt_sert_nonan['strain'])\n",
    "plt.xticks(range(num_xticks),\n",
    "          df_wilt_sert_nonan['strain'].values)\n",
    "plt.xlim([-1,num_xticks])\n",
    "plt.show()"
   ]
  },
  {
   "cell_type": "markdown",
   "metadata": {},
   "source": [
    "## VII. Conclusion\n",
    "\n",
    "Hopefully I have given you some idea of:\n",
    "  * how you can use numpy for numerical computing in Python (similar to `MATLAB`)\n",
    "  * how you can use pandas to work with tabular and series data in Python (similar to `R`)"
   ]
  },
  {
   "cell_type": "markdown",
   "metadata": {},
   "source": [
    "## more reading / listening\n",
    "\n",
    "* A numpy and `MATLAB` comparison: https://docs.scipy.org/doc/numpy-dev/user/numpy-for-matlab-users.html\n",
    "* The scipy package has many libraries built on top of numpy (e.g. one for signal processing) and includes modules that let you work with your data from MATLAB\n",
    "  - https://www.scipy.org/getting-started.html\n",
    "  - https://docs.scipy.org/doc/scipy/reference/generated/scipy.io.loadmat.html\n",
    "* 10 minutes to pandas: http://pandas.pydata.org/pandas-docs/stable/10min.html\n",
    "* Good interview with the primary developer of Numpy: https://talkpython.fm/episodes/show/34/continuum-scientific-python-and-the-business-of-open-source\n",
    "* Good interview with a core pandas developer: https://www.podcastinit.com/episode-98-pandas-with-jeff-reback/"
   ]
  }
 ],
 "metadata": {
  "anaconda-cloud": {},
  "kernelspec": {
   "display_name": "Python [Root]",
   "language": "python",
   "name": "Python [Root]"
  },
  "language_info": {
   "codemirror_mode": {
    "name": "ipython",
    "version": 3
   },
   "file_extension": ".py",
   "mimetype": "text/x-python",
   "name": "python",
   "nbconvert_exporter": "python",
   "pygments_lexer": "ipython3",
   "version": "3.5.2"
  }
 },
 "nbformat": 4,
 "nbformat_minor": 0
}
