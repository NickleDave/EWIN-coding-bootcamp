{
 "cells": [
  {
   "cell_type": "markdown",
   "metadata": {},
   "source": [
    "## Lalama IV: It Gets Easier\n",
    "\n",
    "Alright.\n",
    "\n",
    "I showed you all that stuff I just showed because you probably will have to use it one day if you do any kind of coding.\n",
    "\n",
    "But for most analyses we do, somebody already wrote code that does that analysis.\n",
    "\n",
    "We can just use the great code that they wrote and that thousands of other people have already tested and improved.\n",
    "\n",
    "Now we're standing on the shoulder of giants! Or something like that."
   ]
  },
  {
   "cell_type": "markdown",
   "metadata": {},
   "source": [
    "## numpy: like Matlab in Python\n",
    "\n",
    "**numpy** is a library that provides matrix-like structures that many scientists use.\n",
    "\n",
    "It extends **slice notation** so that we can refer to rows and columns of a matrix.\n",
    "\n",
    "It also implements many functions that Matlab users will be familiar with.\n",
    "\n",
    "```Python\n",
    "import numpy as np\n",
    "zero_arr = np.zeros((10,10)) # creates a 10 by 10 array / matrix of zeros\n",
    "print(zero_arr[5,5])\n",
    ">>> 0\n",
    "```\n",
    "\n",
    "We can rewrite our mean and standard deviation dictionary functions using numpy functions.\n",
    "\n",
    "** These functions are much faster, especially when dealing with large datasets, because numpy is a Python wrapper around very efficient scientific computing libraries written in speedy languages like Fortran and C **"
   ]
  },
  {
   "cell_type": "code",
   "execution_count": 24,
   "metadata": {
    "collapsed": true
   },
   "outputs": [],
   "source": [
    "import numpy as np\n",
    "\n",
    "def compute_mouse_dict_mean_and_std(mouse_dict):\n",
    "    \"\"\"\n",
    "    takes mouse_dict returned by make_mouse_dict\n",
    "    and computes mean for each strain.\n",
    "    returns mean_mouse_dict.\n",
    "    \"\"\"\n",
    "    mean_mouse_dict = {}\n",
    "    stdev_mouse_dict = {}\n",
    "    \n",
    "    for key,val in mouse_dict.items():\n",
    "        mean_mouse_dict[key] = np.mean(val)\n",
    "        stddev_mouse_dict[key] = np.std(val)\n",
    "    return mean_mouse_dict,stdev_mouse_dict"
   ]
  },
  {
   "cell_type": "markdown",
   "metadata": {},
   "source": [
    "So I didn't tell you ... but I made a package out of the functions we wrote already.\n",
    "\n",
    "It's called \"pyjax\".\n",
    "\n",
    "Basically it's two modules (AKA) files ...\n",
    "\n",
    "plus a completely empty text file called `__init__.py` ...\n",
    " \n",
    "inside a folder called `pyjax`.\n",
    "\n",
    "That's the basics of how you make a package in Python.\n",
    "\n",
    "Make a folder, and then put an empty `__init__.py` file inside of it with your modules.\n",
    "\n",
    "As long as that folder is on your `$PATH`, then the Python interpreter will find it and recognize it as a package.\n",
    "\n",
    "So you can do the same with your own code."
   ]
  },
  {
   "cell_type": "markdown",
   "metadata": {},
   "source": [
    "## Using a package that you've created in Jupyter\n",
    "\n",
    "Again, if the package is on your path, or if it's in the folder you're working from, the Python kernel in a Jupyter notebook should be able to find it.\n",
    "\n",
    "Here's everything we've done so far, now with numpy goodness we just added, in three lines."
   ]
  },
  {
   "cell_type": "code",
   "execution_count": 23,
   "metadata": {
    "collapsed": false
   },
   "outputs": [],
   "source": [
    "import pyjax.csv\n",
    "import pyjax.utils\n",
    "\n",
    "STRAIN_IND = 0\n",
    "VALUE_IND = 12\n",
    "CSV_FILE = 'Willott1_table-1.csv'\n",
    "\n",
    "parsed_file = pyjax.csv.parse(CSV_FILE)\n",
    "sorted_by_strain = pyjax.utils.sort_by_strain(parsed_file,STRAIN_IND,VALUE_IND)\n",
    "strain_means, strain_std_devs = pyjax.utils.compute_strain_mean_and_std(sorted_by_strain)"
   ]
  },
  {
   "cell_type": "markdown",
   "metadata": {},
   "source": [
    "## matplotlib: like `MATLAB` graphs in Python\n",
    "\n",
    "matploblib is a library for plotting.\n",
    "\n",
    "There is a `pyplot` module in matplotlib that uses almost verbatim the syntax from `MATLAB`.\n",
    "\n",
    "Let's use it now to plot our data.\n",
    "\n",
    "First we need to put our values in lists (like you would put them into a vector to plot something in MATLAB)."
   ]
  },
  {
   "cell_type": "code",
   "execution_count": 54,
   "metadata": {
    "collapsed": false,
    "scrolled": true
   },
   "outputs": [],
   "source": [
    "# need to get means and std. deviations into lists\n",
    "strain_names_sorted = sorted(strain_means.keys())\n",
    "means_sorted_by_strain = [strain_means[key] for key in strain_names_sorted]\n",
    "std_devs_sorted_by_strain = [strain_std_devs[key] for key in strain_names_sorted]"
   ]
  },
  {
   "cell_type": "markdown",
   "metadata": {},
   "source": [
    "Now we sort the mean ASR values (like you would do with MATLAB sort).\n",
    "\n",
    "Numpy has a `sort` function that sorts an array in place.\n",
    "\n",
    "Unlike `MATLAB` it uses a separate `argsort` function to returns the indices you would use to sort the array (`MATLAB` returns the indices automatically from its `sort`, but we don't always need them.)\n",
    "\n",
    "We want the indices for sorting here so we can use them with the array of standard deviations and with the list of strain names."
   ]
  },
  {
   "cell_type": "code",
   "execution_count": 59,
   "metadata": {
    "collapsed": false
   },
   "outputs": [],
   "source": [
    "import numpy as np\n",
    "sort_by_ASR_inds = np.argsort(means_sorted_by_strain)"
   ]
  },
  {
   "cell_type": "markdown",
   "metadata": {},
   "source": [
    "Now we can sort everything by increasing value of mean ASR using those indices.\n",
    "\n",
    "This will make our plot readable.\n",
    "\n",
    "And also useful."
   ]
  },
  {
   "cell_type": "code",
   "execution_count": 60,
   "metadata": {
    "collapsed": false
   },
   "outputs": [],
   "source": [
    "means_sorted_by_asr = np.asarray(means_sorted_by_strain)[sort_by_ASR_inds]\n",
    "std_devs_sorted_by_asr = np.asarray(std_devs_sorted_by_strain)[sort_by_ASR_inds]\n",
    "strain_names_sorted_by_asr = [strain_names_sorted[ind] for ind in sort_by_ASR_inds]"
   ]
  },
  {
   "cell_type": "markdown",
   "metadata": {},
   "source": [
    "We import matplotlib.\n",
    "\n",
    "Notice the line magic command that lets us show plots 'in-line' (in the notebook) instead of having them open in another window."
   ]
  },
  {
   "cell_type": "code",
   "execution_count": 61,
   "metadata": {
    "collapsed": true
   },
   "outputs": [],
   "source": [
    "%matplotlib inline\n",
    "import matplotlib.pyplot as plt"
   ]
  },
  {
   "cell_type": "markdown",
   "metadata": {},
   "source": [
    "then we plot:"
   ]
  },
  {
   "cell_type": "code",
   "execution_count": 71,
   "metadata": {
    "collapsed": false
   },
   "outputs": [
    {
     "data": {
      "image/png": "[encoded data removed]",
      "text/plain": [
       "<matplotlib.figure.Figure at 0x22f015f1668>"
      ]
     },
     "metadata": {},
     "output_type": "display_data"
    }
   ],
   "source": [
    "dummy_x_values = range(len(means_sorted_by_asr))\n",
    "plt.figure()\n",
    "plt.errorbar(dummy_x_values,means_sorted_by_asr,std_devs_sorted_by_asr,fmt='b.')\n",
    "plt.xticks(dummy_x_values,strain_names_sorted_by_asr)\n",
    "plt.show()"
   ]
  },
  {
   "cell_type": "markdown",
   "metadata": {},
   "source": [
    "## pandas: it gets even easier\n",
    "\n",
    "Let's use the **pandas** library to do the heavy lifting of importing csv files.\n",
    "\n",
    "**pandas** allows us to work with objects called **dataframes** that you may be familiar with if you have ever used the statistical programming language R.\n",
    "\n",
    "`pandas` is built on top of `numpy` and `matplotlib` to make it even more convenient to work with your data."
   ]
  },
  {
   "cell_type": "code",
   "execution_count": null,
   "metadata": {
    "collapsed": false
   },
   "outputs": [],
   "source": [
    "import pandas as pd\n",
    "\n",
    "filename = 'Willott1_table-1.csv'\n",
    "df = pd.read_csv(filename,skiprows=6,header=0) # df is short for 'dataframe'"
   ]
  },
  {
   "cell_type": "code",
   "execution_count": null,
   "metadata": {
    "collapsed": false
   },
   "outputs": [],
   "source": [
    "df.head() # head method shows the first few rows"
   ]
  },
  {
   "cell_type": "code",
   "execution_count": null,
   "metadata": {
    "collapsed": false
   },
   "outputs": [],
   "source": [
    "%matplotlib inline\n",
    "df.boxplot(column='ASR_100',by='strain',rot=45,figsize=(12,10))"
   ]
  },
  {
   "cell_type": "code",
   "execution_count": null,
   "metadata": {
    "collapsed": false
   },
   "outputs": [],
   "source": [
    "# borrowed from http://deparkes.co.uk/2016/11/04/sort-pandas-boxplot/\n",
    "\n",
    "# use dict comprehension to create new dataframe from the iterable groupby object\n",
    "# each group name becomes a column in the new dataframe\n",
    "df2 = pd.DataFrame({col:vals['ASR_100'] for col, vals in df.groupby('strain')})\n",
    "# find and sort the median values in this new dataframe\n",
    "meds = df2.median().sort_values()\n",
    "# use the columns in the dataframe, ordered sorted by median value\n",
    "# return axes so changes can be made outside the function\n",
    "ax = df2[meds.index].boxplot(rot=45, return_type=\"axes\")"
   ]
  },
  {
   "cell_type": "code",
   "execution_count": null,
   "metadata": {
    "collapsed": false
   },
   "outputs": [],
   "source": []
  },
  {
   "cell_type": "code",
   "execution_count": null,
   "metadata": {
    "collapsed": true
   },
   "outputs": [],
   "source": []
  }
 ],
 "metadata": {
  "anaconda-cloud": {},
  "kernelspec": {
   "display_name": "Python [Root]",
   "language": "python",
   "name": "Python [Root]"
  },
  "language_info": {
   "codemirror_mode": {
    "name": "ipython",
    "version": 3
   },
   "file_extension": ".py",
   "mimetype": "text/x-python",
   "name": "python",
   "nbconvert_exporter": "python",
   "pygments_lexer": "ipython3",
   "version": "3.5.2"
  }
 },
 "nbformat": 4,
 "nbformat_minor": 0
}
