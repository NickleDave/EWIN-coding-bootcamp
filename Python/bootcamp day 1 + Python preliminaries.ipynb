{
 "cells": [
  {
   "cell_type": "markdown",
   "metadata": {},
   "source": [
    "# Bootcamp day 1\n",
    "- who are we\n",
    "- what are we trying to teach you\n",
    "- what we **can't** teach you in this workshop\n",
    "  - and why we should pay someone to come teach you that\n",
    "    - science reasons\n",
    "    - not-science reasons\n",
    "    - https://software-carpentry.org/\n",
    "    - https://talkpython.fm/episodes/show/93/spreading-python-through-the-sciences-with-software-carpentry"
   ]
  },
  {
   "cell_type": "markdown",
   "metadata": {},
   "source": [
    "# Python\n",
    "\n",
    " - full-fledged general purpose programming language\n",
    " - 2nd most popular language [(depending on who you ask)](http://pypl.github.io/PYPL.html)\n",
    " - \"Not the best at any one thing, but at least second best in everything\", \"a glue language\"\n",
    " \n",
    "  - two things Python is very good at:\n",
    "    1. the web\n",
    "      - used for Dropbox, YouTube, Instagram, Pinterest, many other sites\n",
    "    2. science\n",
    "      - many popular libaries: Numpy, Scipy, scikit-learn, Jupyter, Pandas\n",
    "          - you will see these in use tonight\n",
    "      - many libraries for specific fields\n",
    " - ** and it's all free **\n",
    " - don't take my word for it; look at some actual data on why you should learn Python: https://dbader.org/blog/why-learn-python"
   ]
  },
  {
   "cell_type": "markdown",
   "metadata": {},
   "source": [
    "# A brief digression: Jupyter notebooks\n",
    "## or, why you should come to the third day of this bootcamp too\n",
    "* what are they?\n",
    " - documents you read in a browser\n",
    " - let you mix code and text\n",
    " - program in multiple languages\n",
    "* why would you use them?\n",
    " - present your results to other people\n",
    "   - https://github.com/jupyter/jupyter/wiki/A-gallery-of-interesting-Jupyter-and-IPython-Notebooks#reproducible-academic-publications\n",
    "   - http://www.sciencedirect.com/science/article/pii/S1053811914003103\n",
    "   - http://nbviewer.jupyter.org/github/jansoe/FUImaging/blob/master/examples/IOSsegmentation/regNMF.ipynb\n",
    "   - ** we will walk through uploading notebooks to Github on Thursday **\n",
    "     - Github loves Jupyter notebooks so much that the website automatically converts the files from raw JSON into a readable document like the one you're looking at now\n",
    " - do exploratory analysis, so you don't have to write a bunch of little scripts and run them from the command line\n",
    " - for interactive tutorials, like this one\n",
    "   - how to use Jupyter notebooks:\n",
    "     - https://nbviewer.jupyter.org/github/ipython/ipython/blob/master/examples/IPython%20Kernel/Index.ipynb\n",
    "   - introduction to machine learning by a person that does lots of open-source neuro. stuff:\n",
    "     - http://ipython-books.github.io/featured-04/"
   ]
  },
  {
   "cell_type": "markdown",
   "metadata": {},
   "source": [
    "## How to Jupyter:\n",
    "* Two modes, \"edit\" and \"command\"\n",
    "  - edit: when you edit the text in a cell\n",
    "  - command: when you do things with cells, like add cells, or remove, or execute the code they contain\n",
    "* Hit `Esc` to go into 'command' mode\n",
    "  - then you can use up and down arrows to move from cell to cell\n",
    "  - while in command mode:\n",
    "    - hitting `b` adds a cell below the current cell\n",
    "    - hitting `a` adds a cell above\n",
    "    - hitting `x` cuts/deletes a cell\n",
    "* Hit `Enter` when you have a certain cell highlighted to enter 'edit' mode\n",
    "* At any time\n",
    "    - `Ctrl + Enter` executes code in current cell\n",
    "    - `Shift + Enter` executes the current cell and advances you to the next"
   ]
  },
  {
   "cell_type": "markdown",
   "metadata": {},
   "source": [
    "# Outline:\n",
    "  - Preliminary Python\n",
    "  - A Case Study\n",
    "    - list, loops, iterators\n",
    "    - functions and conditionals\n",
    "    - dictionaries, calculator stuff\n",
    "    - the easy way"
   ]
  },
  {
   "cell_type": "markdown",
   "metadata": {},
   "source": [
    "# I. Python preliminaries\n",
    "\n",
    "## Displaying text\n",
    "* To display text, we use the ```print``` function.\n",
    "\n",
    "\n",
    "* **function**: reusable piece of code\n",
    "  - Python comes with a lot of built-in functions\n",
    "    - 'batteries included'\n",
    "  - you can also write your own functions\n",
    "\n",
    "\n",
    "* calling a function\n",
    "  - pass **arguments** in parentheses\n",
    "    - `print(\"this is an argument\")`\n",
    "  \n",
    "To execute the code in the cell, click on it so that it is surrounded by a green box, and then hit ```shift``` and ```enter``` at the same time."
   ]
  },
  {
   "cell_type": "code",
   "execution_count": null,
   "metadata": {
    "collapsed": false
   },
   "outputs": [],
   "source": [
    "print(\"p < 0.05\")"
   ]
  },
  {
   "cell_type": "markdown",
   "metadata": {},
   "source": [
    "Does an argument always have to be in quotes? Let's experiment and see"
   ]
  },
  {
   "cell_type": "code",
   "execution_count": null,
   "metadata": {
    "collapsed": false
   },
   "outputs": [],
   "source": [
    "print(significance)"
   ]
  },
  {
   "cell_type": "markdown",
   "metadata": {},
   "source": [
    "## II. strings\n",
    "Okay, so that gave us an error.\n",
    "What is a ```NameError```? I'll explain that in a second.\n",
    "\n",
    "* when you put something in quotes, you're telling Python:\n",
    "  - \"Hey, this is text. Don't try to interpret it as part of a program.\"\n",
    "\n",
    "* **string**: computer jargon word for text \n",
    "  - (no one remembers why: http://stackoverflow.com/questions/880195/the-history-behind-the-definition-of-a-string"
   ]
  },
  {
   "cell_type": "code",
   "execution_count": null,
   "metadata": {
    "collapsed": false
   },
   "outputs": [],
   "source": [
    "print(\"Hey, I'm a string\")\n",
    "print('Hey I\\'m also a string but I\\'m enclosed by single quotes') # Notice backslash to \"escape\" apostrophe \n",
    "\n",
    "\n",
    "\"\"\"\n",
    "Hey I'm a multiple line string.\n",
    "That's why I'm enclosed with three quotes.\n",
    "I'm often used for something called a docstring.\n",
    "You get the docstring when you call the 'help' function.\n",
    "\"\"\""
   ]
  },
  {
   "cell_type": "markdown",
   "metadata": {},
   "source": [
    "## III. getting help\n",
    "\n",
    "* in theory:\n",
    "    - ```help(name_of_function)```\n",
    "* in practice:\n",
    "    - https://google.com\n",
    "    - https://stackoverflow.com"
   ]
  },
  {
   "cell_type": "code",
   "execution_count": null,
   "metadata": {
    "collapsed": false
   },
   "outputs": [],
   "source": [
    "# calling the help function, passing it the print function as an argument\n",
    "help(print)"
   ]
  },
  {
   "cell_type": "markdown",
   "metadata": {},
   "source": [
    "## IV. Variables: like algebra, but not really\n",
    "\n",
    "* to store a value in the computer's memory so you can use it later.\n",
    "  - assign them to what are called **variables**.\n",
    "  - like in math, a _variable_ can take on whatever value we want it to\n",
    "  - To stick some value inside a variable, we use the **assignment operator**.\n",
    "    - fancy computer science jargon for the equals sign.\n",
    "  - variable names must start with a letter or underscore\n",
    "  - variable names cannot contain spaces"
   ]
  },
  {
   "cell_type": "code",
   "execution_count": null,
   "metadata": {
    "collapsed": true
   },
   "outputs": [],
   "source": [
    "significance = 0.04 # at least, hopefully <-- by the way, this is a comment. your comments should be more useful."
   ]
  },
  {
   "cell_type": "markdown",
   "metadata": {},
   "source": [
    "Note that the equals sign is _not_ acting like it does in a math equation.\n",
    "\n",
    "It's saying: 'take some chunk of memory that I will refer to with the name on the left side of the equals sign, and then put the value on the right side of the equals sign inside that chunk of memory'.\n",
    "\n",
    "Notice that you can `print` a variable just like we did with a string."
   ]
  },
  {
   "cell_type": "code",
   "execution_count": null,
   "metadata": {
    "collapsed": false
   },
   "outputs": [],
   "source": [
    "print(significance)"
   ]
  },
  {
   "cell_type": "markdown",
   "metadata": {},
   "source": [
    "Okay, so now we don't get that ```NameError``` anymore.\n",
    "\n",
    "But ... why?\n",
    "\n",
    "\n",
    "A ```NameError``` is the Python interpreter's way of saying that it thinks you gave it the name of an object, but the interpreter doesn't find that name in its list of objects.\n",
    "\n",
    "So once we *defined* a variable named `significance`, using the assignment operator, the interpreter was able to find that object and `print` its value.\n"
   ]
  },
  {
   "cell_type": "markdown",
   "metadata": {},
   "source": [
    "# V. everything you need to know about object-oriented programming (for now)\n",
    "\n",
    "An **object** is a high falutin' computer term that comes from an even higher falutin' sub-field called **object-oriented programming**.\n",
    "\n",
    "Everything in Python is an object.\n",
    "\n",
    "So if you have some vague idea of what objects are, it will help you use other people's code and write your own.\n",
    "\n",
    "Object in programming are similar to objects in the real world:\n",
    "\n",
    "* you can have **classes** of objects\n",
    " - for example, you could have a class called \"car\"\n",
    " - if you type\n",
    "\n",
    "    car1 = car()\n",
    "\n",
    "then you would have created a variable that contains an **instance** of the \"car\" class.\n",
    "\n",
    "* Objects have **properties**\n",
    " - for example, your car might have a \"speed\" property\n",
    "\n",
    "    \n",
    "    car1.speed = 45\n",
    "\n",
    "    print(car1.speed)\n",
    "    >>> 45\n",
    "\n",
    "* Objects have **methods**\n",
    " - a method is like a *function* that \"belongs\" to a class of objects\n",
    " - for example, your car might have an \"accelerate\" method that increases the speed by some amount.\n",
    "\n",
    "\n",
    "    car1.accelerate(amount=3)\n",
    "\n",
    "    print(car1.speed)\n",
    "\n",
    "    48\n",
    "\n",
    "A `string` is a class in Python.\n",
    "One property of a `string` would be the actual string of characters you assign to it.\n",
    "One method of a `string` is `reverse`.\n",
    "Let's explore that a bit.\n",
    "First we'll assign a string to a variable."
   ]
  },
  {
   "cell_type": "code",
   "execution_count": null,
   "metadata": {
    "collapsed": true
   },
   "outputs": [],
   "source": [
    "book = \"mostly harmless\""
   ]
  },
  {
   "cell_type": "markdown",
   "metadata": {},
   "source": [
    "We can use the ```type``` function to find out what kind of object our variable is."
   ]
  },
  {
   "cell_type": "code",
   "execution_count": null,
   "metadata": {
    "collapsed": false
   },
   "outputs": [],
   "source": [
    "type(book)"
   ]
  },
  {
   "cell_type": "markdown",
   "metadata": {},
   "source": [
    "We call the method of an object by following its name with a period. "
   ]
  },
  {
   "cell_type": "code",
   "execution_count": null,
   "metadata": {
    "collapsed": false
   },
   "outputs": [],
   "source": [
    "book.title() # the title method capitalizes words in a string as if the string were the title, e.g., of a book"
   ]
  },
  {
   "cell_type": "markdown",
   "metadata": {},
   "source": [
    "Notice that this is just like when we called the `print` function, except that the `title` method doesn't take any arguments.\n",
    "\n",
    "You can see the methods and properties of an object by calling the `dir` function on it.\n",
    "\n",
    "The `dir` function prints all of an object's attributes (Python term), including its methods and properties."
   ]
  },
  {
   "cell_type": "code",
   "execution_count": null,
   "metadata": {
    "collapsed": false
   },
   "outputs": [],
   "source": [
    "dir(book)"
   ]
  },
  {
   "cell_type": "markdown",
   "metadata": {},
   "source": [
    "Notice that everything in Python is an object."
   ]
  },
  {
   "cell_type": "code",
   "execution_count": null,
   "metadata": {
    "collapsed": false
   },
   "outputs": [],
   "source": [
    "type(\"Oh I wonder what kind of object I am\")"
   ]
  },
  {
   "cell_type": "code",
   "execution_count": null,
   "metadata": {
    "collapsed": false
   },
   "outputs": [],
   "source": [
    "type(4)"
   ]
  },
  {
   "cell_type": "code",
   "execution_count": null,
   "metadata": {
    "collapsed": false
   },
   "outputs": [],
   "source": [
    "type(str) # meta"
   ]
  },
  {
   "cell_type": "markdown",
   "metadata": {},
   "source": [
    "* end of preliminaries"
   ]
  },
  {
   "cell_type": "markdown",
   "metadata": {},
   "source": [
    "## more reading\n",
    "\n",
    "- Why do programmers like Python? Why does this also make it great language for scientists to use? It's readable.  http://docs.python-guide.org/en/latest/writing/style/\n",
    "- That page points to the sacred religious texts below that all Pythonistas must memorize. Seriously though, it was guidelines like this that make Python a language that's pretty painless for development:\n",
    "    * the Zen of Python https://www.python.org/dev/peps/pep-0020/\n",
    "    * Python Style Guide: https://www.python.org/dev/peps/pep-0008/\n",
    "    "
   ]
  }
 ],
 "metadata": {
  "anaconda-cloud": {},
  "kernelspec": {
   "display_name": "Python [Root]",
   "language": "python",
   "name": "Python [Root]"
  },
  "language_info": {
   "codemirror_mode": {
    "name": "ipython",
    "version": 3
   },
   "file_extension": ".py",
   "mimetype": "text/x-python",
   "name": "python",
   "nbconvert_exporter": "python",
   "pygments_lexer": "ipython3",
   "version": "3.5.2"
  }
 },
 "nbformat": 4,
 "nbformat_minor": 0
}
