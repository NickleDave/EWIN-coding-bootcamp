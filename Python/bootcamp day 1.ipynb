{
 "cells": [
  {
   "cell_type": "markdown",
   "metadata": {},
   "source": [
    "# Bootcamp day 1\n",
    "- who are we\n",
    "- what are we trying to teach you\n",
    "- what we **can't** teach you in this workshop"
   ]
  },
  {
   "cell_type": "markdown",
   "metadata": {},
   "source": [
    "# Python and R\n",
    "* Python\n",
    " - full-fledged general purpose programming language\n",
    " - 2nd most popular language (depending on who you ask)\n",
    " \n",
    "two things Python is very good at:\n",
    "  1. the web\n",
    "   - used for Dropbox, YouTube, Instagram, Pinterest, many other sites\n",
    "  2. science\n",
    "   - many popular libaries: Numpy, Scipy, scikit-learn, Jupyter\n",
    "   - many libraries for specific fields\n",
    "* R"
   ]
  },
  {
   "cell_type": "markdown",
   "metadata": {},
   "source": [
    "# A brief digression: Jupyter notebooks\n",
    "* what are they?\n",
    " - documents that you read in a browser\n",
    " - that let you mix code and text\n",
    " - and program in multiple languages\n",
    "* why would you use them?\n",
    " - to present your results to other people\n",
    " - to do exploratory analysis, so you don't have to write a bunch of little scripts and run them from the command line\n",
    " - for interactive tutorials, like this one"
   ]
  },
  {
   "cell_type": "markdown",
   "metadata": {},
   "source": [
    "* Outline:\n",
    "  - Preliminary Python\n",
    "    - ye olde Print function\n",
    "    - Variables, How Do They Work?\n",
    "    - Objects\n",
    "  - A Case Study\n",
    "    - parsing a csv file\n",
    "    - rolling your own (functions)"
   ]
  },
  {
   "cell_type": "markdown",
   "metadata": {},
   "source": [
    "# Python preliminaries\n",
    "\n",
    "## Displaying text\n",
    "To display text, we use the ```print``` function.\n",
    "\n",
    "A _function_ is a reusable piece of code.\n",
    "Python comes with a lot of built-in functions. That's part of its 'batteries included' philosophy. You can also write your own functions.\n",
    "\n",
    "When you call a function, you pass it _arguments_ in parentheses, as shown in the cell below.\n",
    "\n",
    "To execute the code in the cell, click on it so that it is surrounded by a green box, and then hit ```shift``` and ```enter``` at the same time."
   ]
  },
  {
   "cell_type": "code",
   "execution_count": null,
   "metadata": {
    "collapsed": false
   },
   "outputs": [],
   "source": [
    "print(\"Hello, nerds\")"
   ]
  },
  {
   "cell_type": "code",
   "execution_count": null,
   "metadata": {
    "collapsed": false
   },
   "outputs": [],
   "source": [
    "print(significance)"
   ]
  },
  {
   "cell_type": "markdown",
   "metadata": {},
   "source": [
    "Okay, so that gave us an error.\n",
    "What is a ```NameError```? I'll explain that in a second.\n",
    "\n",
    "What you should know is that whenever you put something in quotes, you're telling Python:\n",
    "\"Hey, this is text. Don't try to interpret it as part of a program.\"\n",
    "\n",
    "The computer jargon word for text is a ```string```, but no one remembers why (http://stackoverflow.com/questions/880195/the-history-behind-the-definition-of-a-string)."
   ]
  },
  {
   "cell_type": "code",
   "execution_count": null,
   "metadata": {
    "collapsed": false
   },
   "outputs": [],
   "source": [
    "print(\"Hey, I'm a string\")\n",
    "print('Hey I\\'m also a string but I\\'m enclosed by single quotes') # Notice backslash to \"escape\" apostrophe \n",
    "\n",
    "\n",
    "\"\"\"\n",
    "Hey I'm a multiple line string.\n",
    "That's why I'm enclosed with three quotes.\n",
    "I'm often used for something called doc strings.\n",
    "You'll find out about them later.\n",
    "\"\"\""
   ]
  },
  {
   "cell_type": "markdown",
   "metadata": {},
   "source": [
    "# Variables: like algebra, but not really\n",
    "\n",
    "Sometimes you want to store a value in the computer's memory.\n",
    "To store values somewhere, we assign them to what are called _variables_.\n",
    "Just like in math, a _variable_ can take on whatever value we want it to.\n",
    "But most of the time, a variable in a computer program just has one static value (unlike in math where we use values to solve entire classes of problems).\n",
    "\n",
    "To stick some value inside a variable, we use the _assignment operator_.\n",
    "That's fancy computer science jargon for the equals sign.\n",
    "Like so:"
   ]
  },
  {
   "cell_type": "code",
   "execution_count": null,
   "metadata": {
    "collapsed": true
   },
   "outputs": [],
   "source": [
    "significance = 0.04 # at least, hopefully <-- by the way, this is a comment. your comments should be more useful."
   ]
  },
  {
   "cell_type": "markdown",
   "metadata": {},
   "source": [
    "Note that the equals sign is _not_ acting like it does in a math equation.\n",
    "\n",
    "It's saying: 'take some chunk of memory that I will refer to with the name on the left side of the equals sign, and then put the value on the right side of the equals sign inside that chunk of memory'.\n",
    "\n",
    "Notice that you can `print` a variable just like we did with a string."
   ]
  },
  {
   "cell_type": "code",
   "execution_count": null,
   "metadata": {
    "collapsed": false
   },
   "outputs": [],
   "source": [
    "print(significance)"
   ]
  },
  {
   "cell_type": "markdown",
   "metadata": {},
   "source": [
    "Okay, so now we don't get that ```NameError``` anymore.\n",
    "\n",
    "But ... why?\n",
    "\n",
    "\n",
    "A ```NameError``` is the Python interpreter's way of saying that it thinks you gave it the name of an object, but the interpreter doesn't find that name in its list of objects.\n",
    "\n",
    "So once we **defined** a variable named `significance`, the interpreter was able to find that object and `print` its value.\n"
   ]
  },
  {
   "cell_type": "markdown",
   "metadata": {},
   "source": [
    "# everything you need to know about object-oriented programming (for now)\n",
    "\n",
    "An _object_ is a high falutin' computer term that comes from an even higher falutin' sub-field called _object- oriented programming_.\n",
    "\n",
    "Everything in Python is an object.\n",
    "\n",
    "So if you have some vague idea of what objects are, it will help you use other people's code and write your own.\n",
    "\n",
    "Here's all you have to know about objects for now:\n",
    "\n",
    "* you can have _classes_ of objects\n",
    " - for example, you could have a class called \"car\"\n",
    " - if you type\n",
    "\n",
    "`car1 = car()`\n",
    "\n",
    "then you would have created a variable that contains an _instance_ of the \"car\" class.\n",
    "\n",
    "* Objects have _properties_\n",
    " - for example, your car might have a \"speed\" property\n",
    "\n",
    "`print(car1.speed)`\n",
    "\n",
    "`45`\n",
    "\n",
    "* Objects have _methods_\n",
    " - for example, your car might have an \"accelerate\" method that increases the speed by some amount.\n",
    "\n",
    "\n",
    "`car.accelerate(amount=3)`\n",
    "\n",
    "`print(car1.speed)`\n",
    "\n",
    "`48`\n",
    "\n",
    "A `string` is a class in Python\n",
    "One property of a `string` would be the actual string of characters you assign to it.\n",
    "One method of a `string` is `reverse`.\n",
    "Let's explore that a bit.\n",
    "First we'll make a string."
   ]
  },
  {
   "cell_type": "code",
   "execution_count": null,
   "metadata": {
    "collapsed": true
   },
   "outputs": [],
   "source": [
    "book = \"mostly harmless\""
   ]
  },
  {
   "cell_type": "markdown",
   "metadata": {},
   "source": [
    "We can use the ```type``` command to find out what kind of object our variable is."
   ]
  },
  {
   "cell_type": "code",
   "execution_count": null,
   "metadata": {
    "collapsed": false
   },
   "outputs": [],
   "source": [
    "type(book)"
   ]
  },
  {
   "cell_type": "markdown",
   "metadata": {},
   "source": [
    "We call the method of an object by following its name with a period. "
   ]
  },
  {
   "cell_type": "code",
   "execution_count": null,
   "metadata": {
    "collapsed": false
   },
   "outputs": [],
   "source": [
    "book.title() # the title method capitalizes words in a string as if the string were the title, e.g., of a book"
   ]
  },
  {
   "cell_type": "markdown",
   "metadata": {},
   "source": [
    "You can see the methods and properties of an object by calling the `dir` function on it."
   ]
  },
  {
   "cell_type": "code",
   "execution_count": null,
   "metadata": {
    "collapsed": false
   },
   "outputs": [],
   "source": [
    "dir(book)"
   ]
  },
  {
   "cell_type": "markdown",
   "metadata": {},
   "source": [
    "Notice that everything in Python is an object."
   ]
  },
  {
   "cell_type": "code",
   "execution_count": null,
   "metadata": {
    "collapsed": false
   },
   "outputs": [],
   "source": [
    "type(\"Oh I wonder what kind of object I am\")"
   ]
  },
  {
   "cell_type": "code",
   "execution_count": null,
   "metadata": {
    "collapsed": false
   },
   "outputs": [],
   "source": [
    "type(4)"
   ]
  },
  {
   "cell_type": "code",
   "execution_count": null,
   "metadata": {
    "collapsed": false
   },
   "outputs": [],
   "source": [
    "type(str) # meta"
   ]
  },
  {
   "cell_type": "code",
   "execution_count": null,
   "metadata": {
    "collapsed": false
   },
   "outputs": [],
   "source": [
    "type(type) # uber-meta"
   ]
  },
  {
   "cell_type": "markdown",
   "metadata": {
    "collapsed": true
   },
   "source": [
    "Okay, that's enough preliminary stuff. Let's do some actual coding.\n",
    "\n",
    "# Literary fiction interlude:\n",
    "\n",
    "Your name is Lalama Evans, half-Hawaiian, former server at Ruby Tuesdays, and currently a psychology graduate student at the Metropolitan University of Fruitville, Florida.\n",
    "\n",
    "Your advisor, who shall remain nameless, looks exactly like the advisor in Ph.D. comics.\n",
    "\n",
    "He wants your project to involve the neurotransmitter serotonin, mainly because he finds it really interesting that this amine is also found in plants, and he rambles on about it constantly. Especially at departmental mixers. Especially if he has had too much wine.\n",
    "\n",
    "You on the other hand would like your project to be about something useful that will help you get a job after grad school.\n",
    "\n",
    "So you compromise: you'll study something useful that happens to involve serotonin.\n",
    "\n",
    "You are also a bit of a hacker, because you went out with this guy for a while that worked in I.T. He had to go, because he did things like eat breakfast burritos in the shower so he could be more \"efficient\". But you put the script-writing skills that he helped you learn to work as you try to figure out what your project will be.\n",
    "\n",
    "You figure that you are probably going to study serotonin in some strains of mice, so you go to the Jackson labs website, where they have a ton of data about different strains.\n",
    "\n",
    "A lot of the data is in files that have the _comma-separated value_ format, or csv files for short. You start by downloading a csv file that has information about serotonin receptor levels in the brains of different mouse strains."
   ]
  },
  {
   "cell_type": "markdown",
   "metadata": {
    "collapsed": true
   },
   "source": [
    "#  Parsing a csv file, part 1"
   ]
  },
  {
   "cell_type": "code",
   "execution_count": null,
   "metadata": {
    "collapsed": true
   },
   "outputs": [],
   "source": [
    "import urllib.request\n",
    "import csv\n",
    "\n",
    "url_for_file = \"http://phenome.jax.org/tmp/Wiltshire3_means.csv\"\n",
    "with urllib.request.urlopen(url_for_file) as response:\n",
    "   csv_file = response.read().decode('utf-8')\n",
    "\n",
    "reader = csv.reader(csv_file, delimiter=',')\n",
    "parsed_file = list(reader)"
   ]
  },
  {
   "cell_type": "markdown",
   "metadata": {},
   "source": [
    "### So what did we just do?\n",
    "\n",
    "first we `import`ed two modules (sets of functions).\n",
    "\n",
    "You can `import` wherever you want in a script, but it is considered good form to put your list of `import` statements at the top.\n",
    "\n",
    "There are three common ways to use the import command.\n",
    "\n",
    "1. wholesale:\n",
    "    - e.g., `import urllib`\n",
    "    - this will load every \"sub-module\"\n",
    "2. selective:\n",
    "    - e.g., `from urllib import request,magic_parser`\n",
    "    - this lets you load only the sub-modules you want to use. Convenient if you only need those and you don't want to type the whole name of the module, followed by its sub-module every time.\n",
    "3. abbreviated\n",
    "    - e.g., `import numpy as np`\n",
    "    - So now you can type `np.mean()` instead of `numpy.mean()`\n",
    "\n",
    "The `urllib` library lets us get stuff off the web.\n",
    "\n",
    "We used it to load the file from pheone.jax.org into the variable `csv_file`."
   ]
  },
  {
   "cell_type": "code",
   "execution_count": null,
   "metadata": {
    "collapsed": false
   },
   "outputs": [],
   "source": [
    "csv_file"
   ]
  },
  {
   "cell_type": "markdown",
   "metadata": {},
   "source": [
    "The `csv` module is for parsing csv files (obvs).\n",
    "In theory, it should have split each line of the file up wherever it found a comma.\n",
    "Let's see if it did that."
   ]
  },
  {
   "cell_type": "code",
   "execution_count": null,
   "metadata": {
    "collapsed": false
   },
   "outputs": [],
   "source": [
    "parsed_file"
   ]
  },
  {
   "cell_type": "markdown",
   "metadata": {},
   "source": [
    "Hmm, looks like it didn't.\n",
    "Instead it split up the string at each letter, except for the quoted bits.\n",
    "Maybe there's something we're not understanding about `urllib`.\n",
    "\n",
    "Let's turn to our old friend Google, who takes us to a stackoverflow post.\n",
    "(All programmers should know stackoverflow.)\n",
    "http://stackoverflow.com/questions/21351882/reading-data-from-a-csv-file-online-in-python-3\n",
    "\n",
    "Oh,I get it, `csv_file` is one big long string, and `csv.reader` splits up sequences, so it's splitting up the string since a string is a type of sequence.\n",
    "\n",
    "What we need to do is split up our big long string.\n",
    "\n",
    "The different lines in the file are actually separated by a newline character, '\\n'.\n",
    "\n",
    "But we have to tell Python to split the string up whenever it sees that character."
   ]
  },
  {
   "cell_type": "code",
   "execution_count": 2,
   "metadata": {
    "collapsed": false
   },
   "outputs": [
    {
     "ename": "NameError",
     "evalue": "name 'urllib' is not defined",
     "output_type": "error",
     "traceback": [
      "\u001b[1;31m---------------------------------------------------------------------------\u001b[0m",
      "\u001b[1;31mNameError\u001b[0m                                 Traceback (most recent call last)",
      "\u001b[1;32m<ipython-input-2-fdabfcf54049>\u001b[0m in \u001b[0;36m<module>\u001b[1;34m()\u001b[0m\n\u001b[0;32m      1\u001b[0m \u001b[0murl_for_file\u001b[0m \u001b[1;33m=\u001b[0m \u001b[1;34m\"http://phenome.jax.org/tmp/Wiltshire3_means.csv\"\u001b[0m\u001b[1;33m\u001b[0m\u001b[0m\n\u001b[1;32m----> 2\u001b[1;33m \u001b[1;32mwith\u001b[0m \u001b[0murllib\u001b[0m\u001b[1;33m.\u001b[0m\u001b[0mrequest\u001b[0m\u001b[1;33m.\u001b[0m\u001b[0murlopen\u001b[0m\u001b[1;33m(\u001b[0m\u001b[0murl_for_file\u001b[0m\u001b[1;33m)\u001b[0m \u001b[1;32mas\u001b[0m \u001b[0mresponse\u001b[0m\u001b[1;33m:\u001b[0m\u001b[1;33m\u001b[0m\u001b[0m\n\u001b[0m\u001b[0;32m      3\u001b[0m    \u001b[0mcsv_file\u001b[0m \u001b[1;33m=\u001b[0m \u001b[0mresponse\u001b[0m\u001b[1;33m.\u001b[0m\u001b[0mread\u001b[0m\u001b[1;33m(\u001b[0m\u001b[1;33m)\u001b[0m\u001b[1;33m.\u001b[0m\u001b[0mdecode\u001b[0m\u001b[1;33m(\u001b[0m\u001b[1;34m'utf-8'\u001b[0m\u001b[1;33m)\u001b[0m\u001b[1;33m.\u001b[0m\u001b[0msplitlines\u001b[0m\u001b[1;33m(\u001b[0m\u001b[1;33m)\u001b[0m\u001b[1;33m\u001b[0m\u001b[0m\n\u001b[0;32m      4\u001b[0m \u001b[0mreader\u001b[0m \u001b[1;33m=\u001b[0m \u001b[0mcsv\u001b[0m\u001b[1;33m.\u001b[0m\u001b[0mreader\u001b[0m\u001b[1;33m(\u001b[0m\u001b[0mcsv_file\u001b[0m\u001b[1;33m,\u001b[0m \u001b[0mdelimiter\u001b[0m\u001b[1;33m=\u001b[0m\u001b[1;34m','\u001b[0m\u001b[1;33m)\u001b[0m\u001b[1;33m\u001b[0m\u001b[0m\n\u001b[0;32m      5\u001b[0m \u001b[0mparsed_file\u001b[0m \u001b[1;33m=\u001b[0m \u001b[0mlist\u001b[0m\u001b[1;33m(\u001b[0m\u001b[0mreader\u001b[0m\u001b[1;33m)\u001b[0m\u001b[1;33m\u001b[0m\u001b[0m\n",
      "\u001b[1;31mNameError\u001b[0m: name 'urllib' is not defined"
     ]
    }
   ],
   "source": [
    "url_for_file = \"http://phenome.jax.org/tmp/Wiltshire3_means.csv\"\n",
    "with urllib.request.urlopen(url_for_file) as response:\n",
    "   csv_file = response.read().decode('utf-8').splitlines()\n",
    "reader = csv.reader(csv_file, delimiter=',')\n",
    "parsed_file = list(reader)"
   ]
  },
  {
   "cell_type": "markdown",
   "metadata": {},
   "source": [
    "How's our `parsed_file` look now?"
   ]
  },
  {
   "cell_type": "code",
   "execution_count": null,
   "metadata": {
    "collapsed": false
   },
   "outputs": [],
   "source": [
    "parsed_file"
   ]
  },
  {
   "cell_type": "code",
   "execution_count": null,
   "metadata": {
    "collapsed": true
   },
   "outputs": [],
   "source": [
    "def parse_jackson_csv(csv_string):\n",
    "    \"\"\"\n",
    "    Parses csv files from Jackson labs website.\n",
    "    Deals with some of the idiosyncracies that csv.sniffer doesn't recognize.\n",
    "    \"\"\"\n",
    "    SEPARATOR_BEFORE_HEADER = \",,,,,,,,,,\\n,,,,,,,,,,,\\n\"\n",
    "    index = csv_string.rfind(SEPARATOR_BEFORE_HEADER)\n",
    "    new_start_index = index+len(SEPARATOR_BEFORE_HEADER)+1\n",
    "    csv_string = csv_string[new_start_index:]\n",
    "    return csv_string"
   ]
  },
  {
   "cell_type": "code",
   "execution_count": null,
   "metadata": {
    "collapsed": true
   },
   "outputs": [],
   "source": [
    "csv_string = parse_jackson_csv(csv_file)"
   ]
  },
  {
   "cell_type": "code",
   "execution_count": null,
   "metadata": {
    "collapsed": false
   },
   "outputs": [],
   "source": [
    "dialect = csv.Sniffer().sniff(csv_string)\n",
    "reader = csv.reader(csv_string, dialect)\n",
    "thing = list(reader)"
   ]
  },
  {
   "cell_type": "code",
   "execution_count": null,
   "metadata": {
    "collapsed": false
   },
   "outputs": [],
   "source": [
    "thing"
   ]
  },
  {
   "cell_type": "code",
   "execution_count": null,
   "metadata": {
    "collapsed": true
   },
   "outputs": [],
   "source": [
    "url_for_file = \"http://phenome.jax.org/tmp/Willott1_table.csv\"\n",
    "with urllib.request.urlopen(url_for_file) as response:\n",
    "   csv_file = response.read().decode('utf-8')\n",
    "reader = csv.reader(csv_file, delimiter=',', quotechar='\"')"
   ]
  }
 ],
 "metadata": {
  "anaconda-cloud": {},
  "kernelspec": {
   "display_name": "Python [Root]",
   "language": "python",
   "name": "Python [Root]"
  },
  "language_info": {
   "codemirror_mode": {
    "name": "ipython",
    "version": 3
   },
   "file_extension": ".py",
   "mimetype": "text/x-python",
   "name": "python",
   "nbconvert_exporter": "python",
   "pygments_lexer": "ipython3",
   "version": "3.5.2"
  }
 },
 "nbformat": 4,
 "nbformat_minor": 0
}
