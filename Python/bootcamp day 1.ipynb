{
 "cells": [
  {
   "cell_type": "markdown",
   "metadata": {},
   "source": [
    "# Bootcamp day 1\n",
    "- who are we\n",
    "- what are we trying to teach you\n",
    "- what we **can't** teach you in this workshop\n",
    "  - and why we should pay someone to come teach you that"
   ]
  },
  {
   "cell_type": "markdown",
   "metadata": {},
   "source": [
    "# Python and R\n",
    "**Python**\n",
    " - full-fledged general purpose programming language\n",
    " - 2nd most popular language (depending on who you ask)\n",
    " - \"Not the best at any one thing, but at least second best in everything\", \"a glue language\" -- somebody probably\n",
    " \n",
    "  - two things Python is very good at:\n",
    "    1. the web\n",
    "      - used for Dropbox, YouTube, Instagram, Pinterest, many other sites\n",
    "    2. science\n",
    "      - many popular libaries: Numpy, Scipy, scikit-learn, Jupyter\n",
    "      - many libraries for specific fields\n",
    "\n",
    "**R**\n"
   ]
  },
  {
   "cell_type": "markdown",
   "metadata": {},
   "source": [
    "# A brief digression: Jupyter notebooks\n",
    "* what are they?\n",
    " - documents that you read in a browser\n",
    " - that let you mix code and text\n",
    " - and program in multiple languages\n",
    "* why would you use them?\n",
    " - to present your results to other people\n",
    " - to do exploratory analysis, so you don't have to write a bunch of little scripts and run them from the command line\n",
    " - for interactive tutorials, like this one"
   ]
  },
  {
   "cell_type": "markdown",
   "metadata": {},
   "source": [
    "# Outline:\n",
    "  - Preliminary Python\n",
    "    - ye olde Print function\n",
    "    - Variables, How Do They Work?\n",
    "    - Objects\n",
    "  - A Case Study\n",
    "    - parsing a csv file\n",
    "    - rolling your own (functions)"
   ]
  },
  {
   "cell_type": "markdown",
   "metadata": {},
   "source": [
    "# Python preliminaries\n",
    "\n",
    "## Displaying text\n",
    "To display text, we use the ```print``` function.\n",
    "\n",
    "A _function_ is a reusable piece of code.\n",
    "Python comes with a lot of built-in functions. That's part of its 'batteries included' philosophy. You can also write your own functions.\n",
    "\n",
    "When you call a function, you pass it _arguments_ in parentheses, as shown in the cell below.\n",
    "\n",
    "To execute the code in the cell, click on it so that it is surrounded by a green box, and then hit ```shift``` and ```enter``` at the same time."
   ]
  },
  {
   "cell_type": "code",
   "execution_count": 1,
   "metadata": {
    "collapsed": false
   },
   "outputs": [
    {
     "name": "stdout",
     "output_type": "stream",
     "text": [
      "p < 0.05\n"
     ]
    }
   ],
   "source": [
    "print(\"p < 0.05\")"
   ]
  },
  {
   "cell_type": "markdown",
   "metadata": {},
   "source": [
    "Does an argument always have to be in quotes? Let's experiment and see"
   ]
  },
  {
   "cell_type": "code",
   "execution_count": 2,
   "metadata": {
    "collapsed": false
   },
   "outputs": [
    {
     "ename": "NameError",
     "evalue": "name 'significance' is not defined",
     "output_type": "error",
     "traceback": [
      "\u001b[1;31m---------------------------------------------------------------------------\u001b[0m",
      "\u001b[1;31mNameError\u001b[0m                                 Traceback (most recent call last)",
      "\u001b[1;32m<ipython-input-2-591ff3bbfc68>\u001b[0m in \u001b[0;36m<module>\u001b[1;34m()\u001b[0m\n\u001b[1;32m----> 1\u001b[1;33m \u001b[0mprint\u001b[0m\u001b[1;33m(\u001b[0m\u001b[0msignificance\u001b[0m\u001b[1;33m)\u001b[0m\u001b[1;33m\u001b[0m\u001b[0m\n\u001b[0m",
      "\u001b[1;31mNameError\u001b[0m: name 'significance' is not defined"
     ]
    }
   ],
   "source": [
    "print(significance)"
   ]
  },
  {
   "cell_type": "markdown",
   "metadata": {},
   "source": [
    "Okay, so that gave us an error.\n",
    "What is a ```NameError```? I'll explain that in a second.\n",
    "\n",
    "What you should know is that whenever you put something in quotes, you're telling Python:\n",
    "\"Hey, this is text. Don't try to interpret it as part of a program.\"\n",
    "\n",
    "The computer jargon word for text is a ```string```, but no one remembers why (http://stackoverflow.com/questions/880195/the-history-behind-the-definition-of-a-string)."
   ]
  },
  {
   "cell_type": "code",
   "execution_count": 3,
   "metadata": {
    "collapsed": false
   },
   "outputs": [
    {
     "name": "stdout",
     "output_type": "stream",
     "text": [
      "Hey, I'm a string\n",
      "Hey I'm also a string but I'm enclosed by single quotes\n"
     ]
    },
    {
     "data": {
      "text/plain": [
       "\"\\nHey I'm a multiple line string.\\nThat's why I'm enclosed with three quotes.\\nI'm often used for something called doc strings.\\nYou'll find out about them later.\\n\""
      ]
     },
     "execution_count": 3,
     "metadata": {},
     "output_type": "execute_result"
    }
   ],
   "source": [
    "print(\"Hey, I'm a string\")\n",
    "print('Hey I\\'m also a string but I\\'m enclosed by single quotes') # Notice backslash to \"escape\" apostrophe \n",
    "\n",
    "\n",
    "\"\"\"\n",
    "Hey I'm a multiple line string.\n",
    "That's why I'm enclosed with three quotes.\n",
    "I'm often used for something called doc strings.\n",
    "You'll find out about them later.\n",
    "\"\"\""
   ]
  },
  {
   "cell_type": "markdown",
   "metadata": {},
   "source": [
    "# Variables: like algebra, but not really\n",
    "\n",
    "Many times you want to store a value in the computer's memory so you can use it later.\n",
    "To store values somewhere, we assign them to what are called _variables_.\n",
    "Just like in math, a _variable_ can take on whatever value we want it to.\n",
    "But most of the time, a variable in a computer program just has one static value (unlike in math where we use values to solve entire classes of problems).\n",
    "\n",
    "To stick some value inside a variable, we use the _assignment operator_.\n",
    "That's fancy computer science jargon for the equals sign.\n",
    "Like so:"
   ]
  },
  {
   "cell_type": "code",
   "execution_count": 4,
   "metadata": {
    "collapsed": true
   },
   "outputs": [],
   "source": [
    "significance = 0.04 # at least, hopefully <-- by the way, this is a comment. your comments should be more useful."
   ]
  },
  {
   "cell_type": "markdown",
   "metadata": {},
   "source": [
    "Note that the equals sign is _not_ acting like it does in a math equation.\n",
    "\n",
    "It's saying: 'take some chunk of memory that I will refer to with the name on the left side of the equals sign, and then put the value on the right side of the equals sign inside that chunk of memory'.\n",
    "\n",
    "Notice that you can `print` a variable just like we did with a string."
   ]
  },
  {
   "cell_type": "code",
   "execution_count": 5,
   "metadata": {
    "collapsed": false
   },
   "outputs": [
    {
     "name": "stdout",
     "output_type": "stream",
     "text": [
      "0.04\n"
     ]
    }
   ],
   "source": [
    "print(significance)"
   ]
  },
  {
   "cell_type": "markdown",
   "metadata": {},
   "source": [
    "Okay, so now we don't get that ```NameError``` anymore.\n",
    "\n",
    "But ... why?\n",
    "\n",
    "\n",
    "A ```NameError``` is the Python interpreter's way of saying that it thinks you gave it the name of an object, but the interpreter doesn't find that name in its list of objects.\n",
    "\n",
    "So once we **defined** a variable named `significance`, using the assignment operator, the interpreter was able to find that object and `print` its value.\n"
   ]
  },
  {
   "cell_type": "markdown",
   "metadata": {},
   "source": [
    "# everything you need to know about object-oriented programming (for now)\n",
    "\n",
    "An _object_ is a high falutin' computer term that comes from an even higher falutin' sub-field called _object-oriented programming_.\n",
    "\n",
    "Everything in Python is an object.\n",
    "\n",
    "So if you have some vague idea of what objects are, it will help you use other people's code and write your own.\n",
    "\n",
    "Here's all you have to know about objects for now:\n",
    "\n",
    "* you can have _classes_ of objects\n",
    " - for example, you could have a class called \"car\"\n",
    " - if you type\n",
    "\n",
    "`car1 = car()`\n",
    "\n",
    "then you would have created a variable that contains an _instance_ of the \"car\" class.\n",
    "\n",
    "* Objects have _properties_\n",
    " - for example, your car might have a \"speed\" property\n",
    "\n",
    "`print(car1.speed)`\n",
    "\n",
    "`45`\n",
    "\n",
    "* Objects have _methods_\n",
    " - a method is like a *function* that \"belongs\" to a class of objects\n",
    " - for example, your car might have an \"accelerate\" method that increases the speed by some amount.\n",
    "\n",
    "\n",
    "`car.accelerate(amount=3)`\n",
    "\n",
    "`print(car1.speed)`\n",
    "\n",
    "`48`\n",
    "\n",
    "A `string` is a class in Python.\n",
    "One property of a `string` would be the actual string of characters you assign to it.\n",
    "One method of a `string` is `reverse`.\n",
    "Let's explore that a bit.\n",
    "First we'll assign a string to a variable."
   ]
  },
  {
   "cell_type": "code",
   "execution_count": 6,
   "metadata": {
    "collapsed": true
   },
   "outputs": [],
   "source": [
    "book = \"mostly harmless\""
   ]
  },
  {
   "cell_type": "markdown",
   "metadata": {},
   "source": [
    "We can use the ```type``` function to find out what kind of object our variable is."
   ]
  },
  {
   "cell_type": "code",
   "execution_count": 7,
   "metadata": {
    "collapsed": false
   },
   "outputs": [
    {
     "data": {
      "text/plain": [
       "str"
      ]
     },
     "execution_count": 7,
     "metadata": {},
     "output_type": "execute_result"
    }
   ],
   "source": [
    "type(book)"
   ]
  },
  {
   "cell_type": "markdown",
   "metadata": {},
   "source": [
    "We call the method of an object by following its name with a period. "
   ]
  },
  {
   "cell_type": "code",
   "execution_count": null,
   "metadata": {
    "collapsed": false
   },
   "outputs": [],
   "source": [
    "book.title() # the title method capitalizes words in a string as if the string were the title, e.g., of a book"
   ]
  },
  {
   "cell_type": "markdown",
   "metadata": {},
   "source": [
    "Notice that this is just like when we called the `print` function, except that the `title` method doesn't take any arguments.\n",
    "\n",
    "You can see the methods and properties of an object by calling the `dir` function on it."
   ]
  },
  {
   "cell_type": "code",
   "execution_count": 8,
   "metadata": {
    "collapsed": false
   },
   "outputs": [
    {
     "data": {
      "text/plain": [
       "['__add__',\n",
       " '__class__',\n",
       " '__contains__',\n",
       " '__delattr__',\n",
       " '__dir__',\n",
       " '__doc__',\n",
       " '__eq__',\n",
       " '__format__',\n",
       " '__ge__',\n",
       " '__getattribute__',\n",
       " '__getitem__',\n",
       " '__getnewargs__',\n",
       " '__gt__',\n",
       " '__hash__',\n",
       " '__init__',\n",
       " '__iter__',\n",
       " '__le__',\n",
       " '__len__',\n",
       " '__lt__',\n",
       " '__mod__',\n",
       " '__mul__',\n",
       " '__ne__',\n",
       " '__new__',\n",
       " '__reduce__',\n",
       " '__reduce_ex__',\n",
       " '__repr__',\n",
       " '__rmod__',\n",
       " '__rmul__',\n",
       " '__setattr__',\n",
       " '__sizeof__',\n",
       " '__str__',\n",
       " '__subclasshook__',\n",
       " 'capitalize',\n",
       " 'casefold',\n",
       " 'center',\n",
       " 'count',\n",
       " 'encode',\n",
       " 'endswith',\n",
       " 'expandtabs',\n",
       " 'find',\n",
       " 'format',\n",
       " 'format_map',\n",
       " 'index',\n",
       " 'isalnum',\n",
       " 'isalpha',\n",
       " 'isdecimal',\n",
       " 'isdigit',\n",
       " 'isidentifier',\n",
       " 'islower',\n",
       " 'isnumeric',\n",
       " 'isprintable',\n",
       " 'isspace',\n",
       " 'istitle',\n",
       " 'isupper',\n",
       " 'join',\n",
       " 'ljust',\n",
       " 'lower',\n",
       " 'lstrip',\n",
       " 'maketrans',\n",
       " 'partition',\n",
       " 'replace',\n",
       " 'rfind',\n",
       " 'rindex',\n",
       " 'rjust',\n",
       " 'rpartition',\n",
       " 'rsplit',\n",
       " 'rstrip',\n",
       " 'split',\n",
       " 'splitlines',\n",
       " 'startswith',\n",
       " 'strip',\n",
       " 'swapcase',\n",
       " 'title',\n",
       " 'translate',\n",
       " 'upper',\n",
       " 'zfill']"
      ]
     },
     "execution_count": 8,
     "metadata": {},
     "output_type": "execute_result"
    }
   ],
   "source": [
    "dir(book)"
   ]
  },
  {
   "cell_type": "markdown",
   "metadata": {},
   "source": [
    "Notice that everything in Python is an object."
   ]
  },
  {
   "cell_type": "code",
   "execution_count": 9,
   "metadata": {
    "collapsed": false
   },
   "outputs": [
    {
     "data": {
      "text/plain": [
       "str"
      ]
     },
     "execution_count": 9,
     "metadata": {},
     "output_type": "execute_result"
    }
   ],
   "source": [
    "type(\"Oh I wonder what kind of object I am\")"
   ]
  },
  {
   "cell_type": "code",
   "execution_count": 10,
   "metadata": {
    "collapsed": false
   },
   "outputs": [
    {
     "data": {
      "text/plain": [
       "int"
      ]
     },
     "execution_count": 10,
     "metadata": {},
     "output_type": "execute_result"
    }
   ],
   "source": [
    "type(4)"
   ]
  },
  {
   "cell_type": "code",
   "execution_count": 11,
   "metadata": {
    "collapsed": false
   },
   "outputs": [
    {
     "data": {
      "text/plain": [
       "type"
      ]
     },
     "execution_count": 11,
     "metadata": {},
     "output_type": "execute_result"
    }
   ],
   "source": [
    "type(str) # meta"
   ]
  },
  {
   "cell_type": "code",
   "execution_count": 12,
   "metadata": {
    "collapsed": false
   },
   "outputs": [
    {
     "data": {
      "text/plain": [
       "type"
      ]
     },
     "execution_count": 12,
     "metadata": {},
     "output_type": "execute_result"
    }
   ],
   "source": [
    "type(type) # uber-meta"
   ]
  },
  {
   "cell_type": "markdown",
   "metadata": {
    "collapsed": true
   },
   "source": [
    "Okay, that's enough preliminary stuff. Let's do some actual coding.\n",
    "\n",
    "# Literary fiction interlude:\n",
    "\n",
    "Your name is Lalama Evans, half-Hawaiian, former server at Ruby Tuesdays, and currently a psychology graduate student at the Metropolitan University of Fruitville, Florida.\n",
    "\n",
    "Your advisor, who shall remain nameless, looks exactly like the advisor in Ph.D. comics.\n",
    "\n",
    "He wants your project to involve the neurotransmitter serotonin, mainly because he finds it really interesting that this amine is also found in plants, and he rambles on about it constantly. Especially at departmental mixers. Especially if he has had too much wine.\n",
    "\n",
    "You on the other hand would like your project to be about something useful that will help you get a job after grad school.\n",
    "\n",
    "So you compromise: you'll study something useful that happens to involve serotonin.\n",
    "\n",
    "You are also a bit of a hacker, because you had a good teacher for computing class in middle school. She was also the mayor of your small town but that's a story for another day.\n",
    "\n",
    "You figure that you are probably going to study serotonin in some strains of mice, so you go to the Jackson labs website, where they have a ton of data about different strains.\n",
    "\n",
    "A lot of the data is in files that have the _comma-separated value_ format, called csv files for short. You start by downloading a csv file that has information about serotonin receptor levels in the brains of different mouse strains."
   ]
  },
  {
   "cell_type": "markdown",
   "metadata": {
    "collapsed": true
   },
   "source": [
    "#  Parsing a csv file, part 1"
   ]
  },
  {
   "cell_type": "code",
   "execution_count": 14,
   "metadata": {
    "collapsed": true
   },
   "outputs": [],
   "source": [
    "import urllib.request\n",
    "import csv\n",
    "\n",
    "url_for_file = \"http://phenome.jax.org/tmp/Wiltshire3_means.csv\"\n",
    "with urllib.request.urlopen(url_for_file) as response:\n",
    "   csv_file = response.read().decode('utf-8')\n",
    "\n",
    "reader = csv.reader(csv_file, delimiter=',')\n",
    "parsed_file = list(reader)"
   ]
  },
  {
   "cell_type": "markdown",
   "metadata": {},
   "source": [
    "### So what did we just do?\n",
    "\n",
    "first we `import`ed two modules (sets of functions).\n",
    "\n",
    "You can `import` wherever you want in a script, but it is considered good form to put your list of `import` statements at the top.\n",
    "\n",
    "There are three common ways to use the import command.\n",
    "\n",
    "1. wholesale:\n",
    "    - e.g., `import urllib`\n",
    "    - this will load every \"sub-module\"\n",
    "2. selective:\n",
    "    - e.g., `from urllib import request,magic_parser`\n",
    "    - this lets you load only the sub-modules you want to use. Convenient if you only need those and you don't want to type the whole name of the module, followed by its sub-module every time.\n",
    "3. abbreviated\n",
    "    - e.g., `import numpy as np`\n",
    "    - So now you can type `np.mean()` instead of `numpy.mean()`\n",
    "\n",
    "The `urllib` library lets us get stuff off the web. You don't have to know anything else about this for now.\n",
    "\n",
    "We used it to load the file from pheone.jax.org into the variable `csv_file`.\n",
    "Let's see what's in that variable."
   ]
  },
  {
   "cell_type": "code",
   "execution_count": 15,
   "metadata": {
    "collapsed": false
   },
   "outputs": [
    {
     "data": {
      "text/plain": [
       "'\"// Phenotype data set from Mouse Phenome Database (phenome.jax.org)\",,,,,,,,\\n\"// Data set: Wiltshire3    Title: Drug study: Neurobiochemical analytes in response to chronic fluoxetine treatment in males of 30 inbred mouse strains    Year: 2011\",,,,,,,,\\n\"// List of strain means and summary statistics\",,,,,,,,,,,\\n\"// For more info on these data visit phenome.jax.org and type Wiltshire3 into search box\",,,,,,,,,,\\n,,,,,,,,,,,\\nmeasnum,varname,strain,sex,mean,sd,sem,nmice,cv,zscore,,,\\n38101,ACTH_cont,\"129S1/SvImJ\",m,1.80,0.0660,0.0381,3,0.0366,-1.40\\n38101,ACTH_cont,\"A/J\",m,1.86,0.0710,0.0410,3,0.0382,-1.17\\n38101,ACTH_cont,\"AKR/J\",m,1.95,0.110,0.0635,3,0.0563,-0.82\\n38101,ACTH_cont,\"BALB/cJ\",m,2.05,0.112,0.0647,3,0.0547,-0.43\\n38101,ACTH_cont,\"BTBR T<+> Itpr3<tf>/J\",m,2.25,0.0490,0.0283,3,0.0218,0.34\\n38101,ACTH_cont,\"BUB/BnJ\",m,2.28,0.0720,0.0416,3,0.0316,0.46\\n38101,ACTH_cont,\"C3H/HeJ\",m,2.26,0.0600,0.0346,3,0.0266,0.38\\n38101,ACTH_cont,\"C57BL/6J\",m,2.49,0.0360,0.0208,3,0.0145,1.28\\n38101,ACTH_cont,\"C57BLKS/J\",m,2.10,0.0450,0.0260,3,0.0214,-0.24\\n38101,ACTH_cont,\"C57BR/cdJ\",m,2.17,0.0670,0.0387,3,0.0309,0.03\\n38101,ACTH_cont,\"C58/J\",m,2.05,0.0490,0.0283,3,0.0239,-0.43\\n38101,ACTH_cont,\"CBA/J\",m,2.41,0.0680,0.0393,3,0.0282,0.97\\n38101,ACTH_cont,\"CE/J\",m,2.07,0.0350,0.0202,3,0.0169,-0.35\\n38101,ACTH_cont,\"DBA/2J\",m,1.73,0.0400,0.0231,3,0.0231,-1.68\\n38101,ACTH_cont,\"FVB/NJ\",m,2.21,0.0980,0.0566,3,0.0443,0.19\\n38101,ACTH_cont,\"I/LnJ\",m,2.01,0.0720,0.0416,3,0.0358,-0.59\\n38101,ACTH_cont,\"LG/J\",m,2.22,0.0430,0.0248,3,0.0194,0.23\\n38101,ACTH_cont,\"LP/J\",m,2.45,0.0940,0.0543,3,0.0383,1.12\\n38101,ACTH_cont,\"MA/MyJ\",m,1.76,0.0600,0.0346,3,0.0341,-1.56\\n38101,ACTH_cont,\"MRL/MpJ\",m,2.12,0.0570,0.0329,3,0.0269,-0.16\\n38101,ACTH_cont,\"NOD/ShiLtJ\",m,2.29,0.0500,0.0289,3,0.0218,0.50\\n38101,ACTH_cont,\"NOR/LtJ\",m,1.70,0.0550,0.0318,3,0.0323,-1.79\\n38101,ACTH_cont,\"NZB/BlNJ\",m,2.49,0.0640,0.0370,3,0.0257,1.28\\n38101,ACTH_cont,\"NZW/LacJ\",m,2.87,0.109,0.0629,3,0.0380,2.75\\n38101,ACTH_cont,\"P/J\",m,2.21,0.0620,0.0358,3,0.0280,0.19\\n38101,ACTH_cont,\"PL/J\",m,2.09,0.0560,0.0323,3,0.0267,-0.28\\n38101,ACTH_cont,\"RIIIS/J\",m,2.47,0.0810,0.0468,3,0.0327,1.20\\n38101,ACTH_cont,\"SJL/J\",m,2.12,0.0580,0.0335,3,0.0273,-0.16\\n38101,ACTH_cont,\"SM/J\",m,2.10,0.0450,0.0260,3,0.0214,-0.24\\n38101,ACTH_cont,\"SWR/J\",m,2.26,0.0710,0.0410,3,0.0314,0.38\\n38102,ACTH_fluox,\"129S1/SvImJ\",m,1.61,0.105,0.0606,3,0.0650,-2.15\\n38102,ACTH_fluox,\"A/J\",m,2.04,0.0740,0.0427,3,0.0363,-0.48\\n38102,ACTH_fluox,\"AKR/J\",m,2.05,0.103,0.0595,3,0.0502,-0.44\\n38102,ACTH_fluox,\"BALB/cJ\",m,2.18,0.0710,0.0410,3,0.0325,0.06\\n38102,ACTH_fluox,\"BTBR T<+> Itpr3<tf>/J\",m,2.12,0.0450,0.0260,3,0.0212,-0.17\\n38102,ACTH_fluox,\"BUB/BnJ\",m,2.21,0.0950,0.0548,3,0.0430,0.17\\n38102,ACTH_fluox,\"C3H/HeJ\",m,2.40,0.0490,0.0283,3,0.0204,0.91\\n38102,ACTH_fluox,\"C57BL/6J\",m,2.17,0.0750,0.0433,3,0.0345,0.02\\n38102,ACTH_fluox,\"C57BLKS/J\",m,2.22,0.0680,0.0393,3,0.0306,0.21\\n38102,ACTH_fluox,\"C57BR/cdJ\",m,2.47,0.0940,0.0543,3,0.0380,1.18\\n38102,ACTH_fluox,\"C58/J\",m,2.18,0.0700,0.0404,3,0.0321,0.06\\n38102,ACTH_fluox,\"CBA/J\",m,2.41,0.0860,0.0497,3,0.0357,0.95\\n38102,ACTH_fluox,\"CE/J\",m,2.08,0.142,0.0820,3,0.0681,-0.33\\n38102,ACTH_fluox,\"DBA/2J\",m,2.08,0.0780,0.0450,3,0.0376,-0.33\\n38102,ACTH_fluox,\"FVB/NJ\",m,2.34,0.0910,0.0525,3,0.0388,0.68\\n38102,ACTH_fluox,\"I/LnJ\",m,2.03,0.116,0.0670,3,0.0570,-0.52\\n38102,ACTH_fluox,\"LG/J\",m,2.50,0.0810,0.0468,3,0.0324,1.30\\n38102,ACTH_fluox,\"LP/J\",m,1.39,0.0700,0.0404,3,0.0504,-3.00\\n38102,ACTH_fluox,\"MA/MyJ\",m,2.22,0.0560,0.0323,3,0.0252,0.21\\n38102,ACTH_fluox,\"MRL/MpJ\",m,2.25,0.0670,0.0387,3,0.0298,0.33\\n38102,ACTH_fluox,\"NOD/ShiLtJ\",m,2.35,0.0800,0.0462,3,0.0340,0.72\\n38102,ACTH_fluox,\"NOR/LtJ\",m,1.97,0.0690,0.0398,3,0.0350,-0.75\\n38102,ACTH_fluox,\"NZB/BlNJ\",m,2.23,0.118,0.0681,3,0.0529,0.25\\n38102,ACTH_fluox,\"NZW/LacJ\",m,1.67,0.0760,0.0439,3,0.0455,-1.91\\n38102,ACTH_fluox,\"P/J\",m,2.37,0.0650,0.0375,3,0.0274,0.79\\n38102,ACTH_fluox,\"PL/J\",m,2.33,0.0850,0.0491,3,0.0365,0.64\\n38102,ACTH_fluox,\"RIIIS/J\",m,2.30,0.0730,0.0421,3,0.0317,0.52\\n38102,ACTH_fluox,\"SJL/J\",m,2.08,0.0660,0.0381,3,0.0317,-0.33\\n38102,ACTH_fluox,\"SM/J\",m,2.11,0.0630,0.0364,3,0.0299,-0.21\\n38102,ACTH_fluox,\"SWR/J\",m,2.59,0.0830,0.0479,3,0.0320,1.64\\n38103,ACTH_index,\"129S1/SvImJ\",m,-4.73,0,0,3,0,-0.63\\n38103,ACTH_index,\"A/J\",m,3.95,0,0,3,0,0.52\\n38103,ACTH_index,\"AKR/J\",m,2.12,0,0,3,0,0.28\\n38103,ACTH_index,\"BALB/cJ\",m,2.72,0,0,3,0,0.36\\n38103,ACTH_index,\"BTBR T<+> Itpr3<tf>/J\",m,-2.53,0,0,3,0,-0.34\\n38103,ACTH_index,\"BUB/BnJ\",m,-1.42,0,0,3,0,-0.19\\n38103,ACTH_index,\"C3H/HeJ\",m,2.61,0,0,3,0,0.34\\n38103,ACTH_index,\"C57BL/6J\",m,-5.88,0,0,3,0,-0.78\\n38103,ACTH_index,\"C57BLKS/J\",m,2.50,0,0,3,0,0.33\\n38103,ACTH_index,\"C57BR/cdJ\",m,5.76,0,0,3,0,0.76\\n38103,ACTH_index,\"C58/J\",m,2.66,0,0,3,0,0.35\\n38103,ACTH_index,\"CBA/J\",m,-0.0520,0,0,3,0,-0.01\\n38103,ACTH_index,\"CE/J\",m,0.278,0,0,3,0,0.03\\n38103,ACTH_index,\"DBA/2J\",m,7.85,0,0,3,0,1.04\\n38103,ACTH_index,\"FVB/NJ\",m,2.45,0,0,3,0,0.32\\n38103,ACTH_index,\"I/LnJ\",m,0.452,0,0,3,0,0.06\\n38103,ACTH_index,\"LG/J\",m,5.25,0,0,3,0,0.69\\n38103,ACTH_index,\"LP/J\",m,-24.7,0,0,3,0,-3.27\\n38103,ACTH_index,\"MA/MyJ\",m,10.1,0,0,3,0,1.33\\n38103,ACTH_index,\"MRL/MpJ\",m,2.65,0,0,3,0,0.35\\n38103,ACTH_index,\"NOD/ShiLtJ\",m,1.06,0,0,3,0,0.14\\n38103,ACTH_index,\"NOR/LtJ\",m,6.42,0,0,3,0,0.85\\n38103,ACTH_index,\"NZB/BlNJ\",m,-4.77,0,0,3,0,-0.64\\n38103,ACTH_index,\"NZW/LacJ\",m,-23.5,0,0,3,0,-3.12\\n38103,ACTH_index,\"P/J\",m,2.89,0,0,3,0,0.38\\n38103,ACTH_index,\"PL/J\",m,4.62,0,0,3,0,0.61\\n38103,ACTH_index,\"RIIIS/J\",m,-3.16,0,0,3,0,-0.42\\n38103,ACTH_index,\"SJL/J\",m,-0.807,0,0,3,0,-0.11\\n38103,ACTH_index,\"SM/J\",m,0.0660,0,0,3,0,0.01\\n38103,ACTH_index,\"SWR/J\",m,5.90,0,0,3,0,0.78\\n38104,APOD_cont,\"129S1/SvImJ\",m,0.596,0.0130,0.00751,3,0.0218,0.44\\n38104,APOD_cont,\"A/J\",m,0.520,0.0140,0.00808,3,0.0269,-1.09\\n38104,APOD_cont,\"AKR/J\",m,0.564,0.0150,0.00866,3,0.0266,-0.20\\n38104,APOD_cont,\"BALB/cJ\",m,0.538,0.0330,0.0191,3,0.0613,-0.73\\n38104,APOD_cont,\"BTBR T<+> Itpr3<tf>/J\",m,0.517,0.0100,0.00577,3,0.0193,-1.15\\n38104,APOD_cont,\"BUB/BnJ\",m,0.588,0.0140,0.00808,3,0.0238,0.28\\n38104,APOD_cont,\"C3H/HeJ\",m,0.603,0.0200,0.0115,3,0.0332,0.58\\n38104,APOD_cont,\"C57BL/6J\",m,0.562,0.0480,0.0277,3,0.0854,-0.24\\n38104,APOD_cont,\"C57BLKS/J\",m,0.539,0.0160,0.00924,3,0.0297,-0.71\\n38104,APOD_cont,\"C57BR/cdJ\",m,0.566,0.0230,0.0133,3,0.0406,-0.16\\n38104,APOD_cont,\"C58/J\",m,0.515,0.0100,0.00577,3,0.0194,-1.19\\n38104,APOD_cont,\"CBA/J\",m,0.596,0.0150,0.00866,3,0.0252,0.44\\n38104,APOD_cont,\"CE/J\",m,0.561,0.0130,0.00751,3,0.0232,-0.26\\n38104,APOD_cont,\"DBA/2J\",m,0.502,0.0140,0.00808,3,0.0279,-1.45\\n38104,APOD_cont,\"FVB/NJ\",m,0.632,0.0230,0.0133,3,0.0364,1.16\\n38104,APOD_cont,\"I/LnJ\",m,0.534,0.0300,0.0173,3,0.0562,-0.81\\n38104,APOD_cont,\"LG/J\",m,0.572,0.0160,0.00924,3,0.0280,-0.04\\n38104,APOD_cont,\"LP/J\",m,0.600,0.00900,0.00520,3,0.0150,0.52\\n38104,APOD_cont,\"MA/MyJ\",m,0.498,0.0210,0.0121,3,0.0422,-1.53\\n38104,APOD_cont,\"MRL/MpJ\",m,0.561,0.0130,0.00751,3,0.0232,-0.26\\n38104,APOD_cont,\"NOD/ShiLtJ\",m,0.606,0.0240,0.0139,3,0.0396,0.64\\n38104,APOD_cont,\"NOR/LtJ\",m,0.475,0.0170,0.00981,3,0.0358,-1.99\\n38104,APOD_cont,\"NZB/BlNJ\",m,0.580,0.0220,0.0127,3,0.0379,0.12\\n38104,APOD_cont,\"NZW/LacJ\",m,0.698,0.0190,0.0110,3,0.0272,2.48\\n38104,APOD_cont,\"P/J\",m,0.572,0.0150,0.00866,3,0.0262,-0.04\\n38104,APOD_cont,\"PL/J\",m,0.620,0.0240,0.0139,3,0.0387,0.92\\n38104,APOD_cont,\"RIIIS/J\",m,0.653,0.00900,0.00520,3,0.0138,1.58\\n38104,APOD_cont,\"SJL/J\",m,0.619,0.0150,0.00866,3,0.0242,0.90\\n38104,APOD_cont,\"SM/J\",m,0.623,0.0130,0.00751,3,0.0209,0.98\\n38104,APOD_cont,\"SWR/J\",m,0.616,0.0320,0.0185,3,0.0519,0.84\\n38105,APOD_fluox,\"129S1/SvImJ\",m,0.558,0.00900,0.00520,3,0.0161,-0.70\\n38105,APOD_fluox,\"A/J\",m,0.591,0.0370,0.0214,3,0.0626,-0.26\\n38105,APOD_fluox,\"AKR/J\",m,0.521,0.0350,0.0202,3,0.0672,-1.19\\n38105,APOD_fluox,\"BALB/cJ\",m,0.573,0.0230,0.0133,3,0.0401,-0.50\\n38105,APOD_fluox,\"BTBR T<+> Itpr3<tf>/J\",m,0.570,0.00900,0.00520,3,0.0158,-0.54\\n38105,APOD_fluox,\"BUB/BnJ\",m,0.580,0.0170,0.00981,3,0.0293,-0.41\\n38105,APOD_fluox,\"C3H/HeJ\",m,0.610,0.0270,0.0156,3,0.0443,-0.01\\n38105,APOD_fluox,\"C57BL/6J\",m,0.619,0.0140,0.00808,3,0.0226,0.11\\n38105,APOD_fluox,\"C57BLKS/J\",m,0.540,0.0210,0.0121,3,0.0389,-0.94\\n38105,APOD_fluox,\"C57BR/cdJ\",m,0.606,0.0260,0.0150,3,0.0429,-0.06\\n38105,APOD_fluox,\"C58/J\",m,0.529,0.0150,0.00866,3,0.0284,-1.08\\n38105,APOD_fluox,\"CBA/J\",m,0.662,0.0170,0.00981,3,0.0257,0.68\\n38105,APOD_fluox,\"CE/J\",m,0.633,0.0120,0.00693,3,0.0190,0.30\\n38105,APOD_fluox,\"DBA/2J\",m,0.558,0.0290,0.0167,3,0.0520,-0.70\\n38105,APOD_fluox,\"FVB/NJ\",m,0.706,0.0290,0.0167,3,0.0411,1.27\\n38105,APOD_fluox,\"I/LnJ\",m,0.572,0.0110,0.00635,3,0.0192,-0.51\\n38105,APOD_fluox,\"LG/J\",m,0.652,0.0200,0.0115,3,0.0307,0.55\\n38105,APOD_fluox,\"LP/J\",m,0.393,0.0130,0.00751,3,0.0331,-2.89\\n38105,APOD_fluox,\"MA/MyJ\",m,0.640,0.0130,0.00751,3,0.0203,0.39\\n38105,APOD_fluox,\"MRL/MpJ\",m,0.665,0.0260,0.0150,3,0.0391,0.72\\n38105,APOD_fluox,\"NOD/ShiLtJ\",m,0.714,0.0250,0.0144,3,0.0350,1.37\\n38105,APOD_fluox,\"NOR/LtJ\",m,0.617,0.0170,0.00981,3,0.0276,0.08\\n38105,APOD_fluox,\"NZB/BlNJ\",m,0.650,0.0240,0.0139,3,0.0369,0.52\\n38105,APOD_fluox,\"NZW/LacJ\",m,0.466,0.0350,0.0202,3,0.0751,-1.92\\n38105,APOD_fluox,\"P/J\",m,0.661,0.00900,0.00520,3,0.0136,0.67\\n38105,APOD_fluox,\"PL/J\",m,0.700,0.0260,0.0150,3,0.0371,1.19\\n38105,APOD_fluox,\"RIIIS/J\",m,0.643,0.0240,0.0139,3,0.0373,0.43\\n38105,APOD_fluox,\"SJL/J\",m,0.678,0.0200,0.0115,3,0.0295,0.89\\n38105,APOD_fluox,\"SM/J\",m,0.722,0.0350,0.0202,3,0.0485,1.48\\n38105,APOD_fluox,\"SWR/J\",m,0.690,0.0280,0.0162,3,0.0406,1.05\\n38106,APOD_index,\"129S1/SvImJ\",m,-2.87,0,0,3,0,-0.82\\n38106,APOD_index,\"A/J\",m,5.58,0,0,3,0,0.48\\n38106,APOD_index,\"AKR/J\",m,-3.48,0,0,3,0,-0.92\\n38106,APOD_index,\"BALB/cJ\",m,2.72,0,0,3,0,0.04\\n38106,APOD_index,\"BTBR T<+> Itpr3<tf>/J\",m,4.22,0,0,3,0,0.27\\n38106,APOD_index,\"BUB/BnJ\",m,-0.599,0,0,3,0,-0.47\\n38106,APOD_index,\"C3H/HeJ\",m,0.460,0,0,3,0,-0.31\\n38106,APOD_index,\"C57BL/6J\",m,4.13,0,0,3,0,0.26\\n38106,APOD_index,\"C57BLKS/J\",m,0.0370,0,0,3,0,-0.37\\n38106,APOD_index,\"C57BR/cdJ\",m,3.00,0,0,3,0,0.08\\n38106,APOD_index,\"C58/J\",m,1.21,0,0,3,0,-0.19\\n38106,APOD_index,\"CBA/J\",m,4.54,0,0,3,0,0.32\\n38106,APOD_index,\"CE/J\",m,5.21,0,0,3,0,0.42\\n38106,APOD_index,\"DBA/2J\",m,4.53,0,0,3,0,0.32\\n38106,APOD_index,\"FVB/NJ\",m,4.80,0,0,3,0,0.36\\n38106,APOD_index,\"I/LnJ\",m,2.93,0,0,3,0,0.07\\n38106,APOD_index,\"LG/J\",m,5.64,0,0,3,0,0.49\\n38106,APOD_index,\"LP/J\",m,-18.4,0,0,3,0,-3.21\\n38106,APOD_index,\"MA/MyJ\",m,10.9,0,0,3,0,1.30\\n38106,APOD_index,\"MRL/MpJ\",m,7.36,0,0,3,0,0.75\\n38106,APOD_index,\"NOD/ShiLtJ\",m,7.11,0,0,3,0,0.72\\n38106,APOD_index,\"NOR/LtJ\",m,11.3,0,0,3,0,1.36\\n38106,APOD_index,\"NZB/BlNJ\",m,4.92,0,0,3,0,0.38\\n38106,APOD_index,\"NZW/LacJ\",m,-17.5,0,0,3,0,-3.07\\n38106,APOD_index,\"P/J\",m,6.26,0,0,3,0,0.58\\n38106,APOD_index,\"PL/J\",m,5.28,0,0,3,0,0.43\\n38106,APOD_index,\"RIIIS/J\",m,-0.683,0,0,3,0,-0.48\\n38106,APOD_index,\"SJL/J\",m,3.96,0,0,3,0,0.23\\n38106,APOD_index,\"SM/J\",m,6.42,0,0,3,0,0.61\\n38106,APOD_index,\"SWR/J\",m,4.91,0,0,3,0,0.38\\n38107,BAG1_cont,\"129S1/SvImJ\",m,0.153,0.00600,0.00346,3,0.0392,-1.33\\n38107,BAG1_cont,\"A/J\",m,0.168,0.00800,0.00462,3,0.0476,-0.48\\n38107,BAG1_cont,\"AKR/J\",m,0.168,0.00700,0.00404,3,0.0417,-0.48\\n38107,BAG1_cont,\"BALB/cJ\",m,0.173,0.00600,0.00346,3,0.0347,-0.19\\n38107,BAG1_cont,\"BTBR T<+> Itpr3<tf>/J\",m,0.191,0.00600,0.00346,3,0.0314,0.83\\n38107,BAG1_cont,\"BUB/BnJ\",m,0.188,0.00600,0.00346,3,0.0319,0.66\\n38107,BAG1_cont,\"C3H/HeJ\",m,0.166,0.0100,0.00577,3,0.0602,-0.59\\n38107,BAG1_cont,\"C57BL/6J\",m,0.145,0.00900,0.00520,3,0.0621,-1.78\\n38107,BAG1_cont,\"C57BLKS/J\",m,0.180,0.0100,0.00577,3,0.0556,0.20\\n38107,BAG1_cont,\"C57BR/cdJ\",m,0.162,0.00900,0.00520,3,0.0556,-0.82\\n38107,BAG1_cont,\"C58/J\",m,0.179,0.0130,0.00751,3,0.0726,0.15\\n38107,BAG1_cont,\"CBA/J\",m,0.196,0.00700,0.00404,3,0.0357,1.11\\n38107,BAG1_cont,\"CE/J\",m,0.152,0.00600,0.00346,3,0.0395,-1.39\\n38107,BAG1_cont,\"DBA/2J\",m,0.147,0.00500,0.00289,3,0.0340,-1.67\\n38107,BAG1_cont,\"FVB/NJ\",m,0.180,0.0110,0.00635,3,0.0611,0.20\\n38107,BAG1_cont,\"I/LnJ\",m,0.161,0.00400,0.00231,3,0.0248,-0.88\\n38107,BAG1_cont,\"LG/J\",m,0.175,0.00900,0.00520,3,0.0514,-0.08\\n38107,BAG1_cont,\"LP/J\",m,0.186,0.00700,0.00404,3,0.0376,0.54\\n38107,BAG1_cont,\"MA/MyJ\",m,0.166,0.00700,0.00404,3,0.0422,-0.59\\n38107,BAG1_cont,\"MRL/MpJ\",m,0.169,0.0100,0.00577,3,0.0592,-0.42\\n38107,BAG1_cont,\"NOD/ShiLtJ\",m,0.194,0.00900,0.00520,3,0.0464,1.00\\n38107,BAG1_cont,\"NOR/LtJ\",m,0.172,0.00400,0.00231,3,0.0233,-0.25\\n38107,BAG1_cont,\"NZB/BlNJ\",m,0.213,0.00700,0.00404,3,0.0329,2.08\\n38107,BAG1_cont,\"NZW/LacJ\",m,0.223,0.00800,0.00462,3,0.0359,2.64\\n38107,BAG1_cont,\"P/J\",m,0.182,0.00700,0.00404,3,0.0385,0.32\\n38107,BAG1_cont,\"PL/J\",m,0.170,0.00900,0.00520,3,0.0529,-0.37\\n38107,BAG1_cont,\"RIIIS/J\",m,0.190,0.00900,0.00520,3,0.0474,0.77\\n38107,BAG1_cont,\"SJL/J\",m,0.174,0.00900,0.00520,3,0.0517,-0.14\\n38107,BAG1_cont,\"SM/J\",m,0.181,0.00900,0.00520,3,0.0497,0.26\\n38107,BAG1_cont,\"SWR/J\",m,0.189,0.00900,0.00520,3,0.0476,0.71\\n38108,BAG1_fluox,\"129S1/SvImJ\",m,0.124,0.00700,0.00404,3,0.0565,-2.09\\n38108,BAG1_fluox,\"A/J\",m,0.159,0.00600,0.00346,3,0.0377,-0.69\\n38108,BAG1_fluox,\"AKR/J\",m,0.146,0.00600,0.00346,3,0.0411,-1.21\\n38108,BAG1_fluox,\"BALB/cJ\",m,0.152,0.00800,0.00462,3,0.0526,-0.97\\n38108,BAG1_fluox,\"BTBR T<+> Itpr3<tf>/J\",m,0.182,0.00900,0.00520,3,0.0495,0.24\\n38108,BAG1_fluox,\"BUB/BnJ\",m,0.188,0.0100,0.00577,3,0.0532,0.48\\n38108,BAG1_fluox,\"C3H/HeJ\",m,0.163,0.00700,0.00404,3,0.0429,-0.53\\n38108,BAG1_fluox,\"C57BL/6J\",m,0.165,0.00800,0.00462,3,0.0485,-0.45\\n38108,BAG1_fluox,\"C57BLKS/J\",m,0.163,0.00700,0.00404,3,0.0429,-0.53\\n38108,BAG1_fluox,\"C57BR/cdJ\",m,0.193,0.00700,0.00404,3,0.0363,0.68\\n38108,BAG1_fluox,\"C58/J\",m,0.169,0.0100,0.00577,3,0.0592,-0.29\\n38108,BAG1_fluox,\"CBA/J\",m,0.182,0.00700,0.00404,3,0.0385,0.24\\n38108,BAG1_fluox,\"CE/J\",m,0.161,0.00600,0.00346,3,0.0373,-0.61\\n38108,BAG1_fluox,\"DBA/2J\",m,0.174,0.00800,0.00462,3,0.0460,-0.09\\n38108,BAG1_fluox,\"FVB/NJ\",m,0.170,0.0120,0.00693,3,0.0706,-0.25\\n38108,BAG1_fluox,\"I/LnJ\",m,0.155,0.00500,0.00289,3,0.0323,-0.85\\n38108,BAG1_fluox,\"LG/J\",m,0.199,0.00700,0.00404,3,0.0352,0.92\\n38108,BAG1_fluox,\"LP/J\",m,0.128,0.00400,0.00231,3,0.0312,-1.93\\n38108,BAG1_fluox,\"MA/MyJ\",m,0.177,0.00800,0.00462,3,0.0452,0.03\\n38108,BAG1_fluox,\"MRL/MpJ\",m,0.201,0.00700,0.00404,3,0.0348,1.00\\n38108,BAG1_fluox,\"NOD/ShiLtJ\",m,0.188,0.0100,0.00577,3,0.0532,0.48\\n38108,BAG1_fluox,\"NOR/LtJ\",m,0.169,0.00600,0.00346,3,0.0355,-0.29\\n38108,BAG1_fluox,\"NZB/BlNJ\",m,0.188,0.00900,0.00520,3,0.0479,0.48\\n38108,BAG1_fluox,\"NZW/LacJ\",m,0.143,0.00600,0.00346,3,0.0420,-1.33\\n38108,BAG1_fluox,\"P/J\",m,0.187,0.0100,0.00577,3,0.0535,0.44\\n38108,BAG1_fluox,\"PL/J\",m,0.211,0.0100,0.00577,3,0.0474,1.40\\n38108,BAG1_fluox,\"RIIIS/J\",m,0.211,0.0130,0.00751,3,0.0616,1.40\\n38108,BAG1_fluox,\"SJL/J\",m,0.195,0.0110,0.00635,3,0.0564,0.76\\n38108,BAG1_fluox,\"SM/J\",m,0.217,0.00900,0.00520,3,0.0415,1.64\\n38108,BAG1_fluox,\"SWR/J\",m,0.224,0.0100,0.00577,3,0.0446,1.92\\n38109,BAG1_index,\"129S1/SvImJ\",m,-9.21,0,0,3,0,-1.30\\n38109,BAG1_index,\"A/J\",m,-2.43,0,0,3,0,-0.31\\n38109,BAG1_index,\"AKR/J\",m,-6.11,0,0,3,0,-0.85\\n38109,BAG1_index,\"BALB/cJ\",m,-5.64,0,0,3,0,-0.78\\n38109,BAG1_index,\"BTBR T<+> Itpr3<tf>/J\",m,-1.94,0,0,3,0,-0.24\\n38109,BAG1_index,\"BUB/BnJ\",m,0.0280,0,0,3,0,0.05\\n38109,BAG1_index,\"C3H/HeJ\",m,-0.935,0,0,3,0,-0.09\\n38109,BAG1_index,\"C57BL/6J\",m,5.56,0,0,3,0,0.86\\n38109,BAG1_index,\"C57BLKS/J\",m,-4.32,0,0,3,0,-0.59\\n38109,BAG1_index,\"C57BR/cdJ\",m,7.60,0,0,3,0,1.16\\n38109,BAG1_index,\"C58/J\",m,-2.52,0,0,3,0,-0.32\\n38109,BAG1_index,\"CBA/J\",m,-3.21,0,0,3,0,-0.42\\n38109,BAG1_index,\"CE/J\",m,2.36,0,0,3,0,0.39\\n38109,BAG1_index,\"DBA/2J\",m,7.32,0,0,3,0,1.11\\n38109,BAG1_index,\"FVB/NJ\",m,-2.47,0,0,3,0,-0.32\\n38109,BAG1_index,\"I/LnJ\",m,-1.65,0,0,3,0,-0.20\\n38109,BAG1_index,\"LG/J\",m,5.56,0,0,3,0,0.86\\n38109,BAG1_index,\"LP/J\",m,-16.2,0,0,3,0,-2.32\\n38109,BAG1_index,\"MA/MyJ\",m,2.86,0,0,3,0,0.46\\n38109,BAG1_index,\"MRL/MpJ\",m,7.42,0,0,3,0,1.13\\n38109,BAG1_index,\"NOD/ShiLtJ\",m,-1.32,0,0,3,0,-0.15\\n38109,BAG1_index,\"NOR/LtJ\",m,-0.825,0,0,3,0,-0.08\\n38109,BAG1_index,\"NZB/BlNJ\",m,-5.44,0,0,3,0,-0.75\\n38109,BAG1_index,\"NZW/LacJ\",m,-19.1,0,0,3,0,-2.75\\n38109,BAG1_index,\"P/J\",m,1.25,0,0,3,0,0.23\\n38109,BAG1_index,\"PL/J\",m,9.35,0,0,3,0,1.41\\n38109,BAG1_index,\"RIIIS/J\",m,4.54,0,0,3,0,0.71\\n38109,BAG1_index,\"SJL/J\",m,4.96,0,0,3,0,0.77\\n38109,BAG1_index,\"SM/J\",m,7.83,0,0,3,0,1.19\\n38109,BAG1_index,\"SWR/J\",m,7.45,0,0,3,0,1.13\\n38110,BDNF_cont,\"129S1/SvImJ\",m,2.08,0.0240,0.0139,3,0.0115,0.85\\n38110,BDNF_cont,\"A/J\",m,1.75,0.0400,0.0231,3,0.0229,-0.88\\n38110,BDNF_cont,\"AKR/J\",m,2.09,0.0450,0.0260,3,0.0215,0.90\\n38110,BDNF_cont,\"BALB/cJ\",m,1.80,0.0860,0.0497,3,0.0477,-0.61\\n38110,BDNF_cont,\"BTBR T<+> Itpr3<tf>/J\",m,1.94,0.0400,0.0231,3,0.0206,0.12\\n38110,BDNF_cont,\"BUB/BnJ\",m,2.15,0.0580,0.0335,3,0.0270,1.22\\n38110,BDNF_cont,\"C3H/HeJ\",m,2.02,0.0290,0.0167,3,0.0144,0.54\\n38110,BDNF_cont,\"C57BL/6J\",m,1.74,0.0610,0.0352,3,0.0350,-0.93\\n38110,BDNF_cont,\"C57BLKS/J\",m,2.08,0.0410,0.0237,3,0.0197,0.85\\n38110,BDNF_cont,\"C57BR/cdJ\",m,2.02,0.0780,0.0450,3,0.0385,0.54\\n38110,BDNF_cont,\"C58/J\",m,1.92,0.0410,0.0237,3,0.0213,0.01\\n38110,BDNF_cont,\"CBA/J\",m,2.09,0.0280,0.0162,3,0.0134,0.90\\n38110,BDNF_cont,\"CE/J\",m,1.54,0.0460,0.0266,3,0.0299,-1.98\\n38110,BDNF_cont,\"DBA/2J\",m,1.55,0.0690,0.0398,3,0.0446,-1.92\\n38110,BDNF_cont,\"FVB/NJ\",m,2.07,0.0570,0.0329,3,0.0275,0.80\\n38110,BDNF_cont,\"I/LnJ\",m,1.63,0.0520,0.0300,3,0.0320,-1.50\\n38110,BDNF_cont,\"LG/J\",m,1.96,0.0300,0.0173,3,0.0153,0.22\\n38110,BDNF_cont,\"LP/J\",m,2.11,0.0290,0.0167,3,0.0137,1.01\\n38110,BDNF_cont,\"MA/MyJ\",m,1.77,0.0470,0.0271,3,0.0266,-0.77\\n38110,BDNF_cont,\"MRL/MpJ\",m,1.63,0.0320,0.0185,3,0.0197,-1.50\\n38110,BDNF_cont,\"NOD/ShiLtJ\",m,1.89,0.0570,0.0329,3,0.0301,-0.14\\n38110,BDNF_cont,\"NOR/LtJ\",m,1.69,0.0840,0.0485,3,0.0498,-1.19\\n38110,BDNF_cont,\"NZB/BlNJ\",m,1.79,0.0420,0.0242,3,0.0234,-0.67\\n38110,BDNF_cont,\"NZW/LacJ\",m,2.13,0.0610,0.0352,3,0.0286,1.11\\n38110,BDNF_cont,\"P/J\",m,2.13,0.0460,0.0266,3,0.0216,1.11\\n38110,BDNF_cont,\"PL/J\",m,1.82,0.0270,0.0156,3,0.0148,-0.51\\n38110,BDNF_cont,\"RIIIS/J\",m,2.20,0.0510,0.0294,3,0.0232,1.48\\n38110,BDNF_cont,\"SJL/J\",m,2.06,0.0440,0.0254,3,0.0213,0.75\\n38110,BDNF_cont,\"SM/J\",m,1.94,0.0550,0.0318,3,0.0284,0.12\\n38110,BDNF_cont,\"SWR/J\",m,1.93,0.0410,0.0237,3,0.0212,0.07\\n38111,BDNF_fluox,\"129S1/SvImJ\",m,1.74,0.0580,0.0335,3,0.0333,-0.43\\n38111,BDNF_fluox,\"A/J\",m,1.65,0.0440,0.0254,3,0.0266,-0.82\\n38111,BDNF_fluox,\"AKR/J\",m,1.73,0.0490,0.0283,3,0.0283,-0.47\\n38111,BDNF_fluox,\"BALB/cJ\",m,1.71,0.0810,0.0468,3,0.0475,-0.56\\n38111,BDNF_fluox,\"BTBR T<+> Itpr3<tf>/J\",m,2.05,0.0840,0.0485,3,0.0410,0.93\\n38111,BDNF_fluox,\"BUB/BnJ\",m,1.86,0.0490,0.0283,3,0.0264,0.10\\n38111,BDNF_fluox,\"C3H/HeJ\",m,1.62,0.0600,0.0346,3,0.0371,-0.95\\n38111,BDNF_fluox,\"C57BL/6J\",m,2.13,0.0610,0.0352,3,0.0286,1.28\\n38111,BDNF_fluox,\"C57BLKS/J\",m,2.13,0.0630,0.0364,3,0.0295,1.28\\n38111,BDNF_fluox,\"C57BR/cdJ\",m,2.07,0.0400,0.0231,3,0.0193,1.02\\n38111,BDNF_fluox,\"C58/J\",m,1.80,0.0420,0.0242,3,0.0234,-0.16\\n38111,BDNF_fluox,\"CBA/J\",m,2.01,0.0580,0.0335,3,0.0288,0.76\\n38111,BDNF_fluox,\"CE/J\",m,1.71,0.106,0.0612,3,0.0619,-0.56\\n38111,BDNF_fluox,\"DBA/2J\",m,1.69,0.0580,0.0335,3,0.0344,-0.64\\n38111,BDNF_fluox,\"FVB/NJ\",m,1.91,0.0530,0.0306,3,0.0278,0.32\\n38111,BDNF_fluox,\"I/LnJ\",m,2.07,0.0670,0.0387,3,0.0323,1.02\\n38111,BDNF_fluox,\"LG/J\",m,2.14,0.0470,0.0271,3,0.0219,1.32\\n38111,BDNF_fluox,\"LP/J\",m,1.22,0.0560,0.0323,3,0.0460,-2.70\\n38111,BDNF_fluox,\"MA/MyJ\",m,1.74,0.0220,0.0127,3,0.0126,-0.43\\n38111,BDNF_fluox,\"MRL/MpJ\",m,1.76,0.0490,0.0283,3,0.0278,-0.34\\n38111,BDNF_fluox,\"NOD/ShiLtJ\",m,2.00,0.0410,0.0237,3,0.0205,0.71\\n38111,BDNF_fluox,\"NOR/LtJ\",m,1.53,0.0420,0.0242,3,0.0275,-1.34\\n38111,BDNF_fluox,\"NZB/BlNJ\",m,1.83,0.0400,0.0231,3,0.0219,-0.03\\n38111,BDNF_fluox,\"NZW/LacJ\",m,1.37,0.0810,0.0468,3,0.0590,-2.04\\n38111,BDNF_fluox,\"P/J\",m,1.70,0.0220,0.0127,3,0.0129,-0.60\\n38111,BDNF_fluox,\"PL/J\",m,1.90,0.0510,0.0294,3,0.0268,0.27\\n38111,BDNF_fluox,\"RIIIS/J\",m,2.04,0.0520,0.0300,3,0.0255,0.89\\n38111,BDNF_fluox,\"SJL/J\",m,1.89,0.0430,0.0248,3,0.0228,0.23\\n38111,BDNF_fluox,\"SM/J\",m,2.02,0.0340,0.0196,3,0.0168,0.80\\n38111,BDNF_fluox,\"SWR/J\",m,2.10,0.0690,0.0398,3,0.0328,1.15\\n38112,BDNF_index,\"129S1/SvImJ\",m,-7.75,0,0,3,0,-0.79\\n38112,BDNF_index,\"A/J\",m,-2.38,0,0,3,0,-0.05\\n38112,BDNF_index,\"AKR/J\",m,-8.24,0,0,3,0,-0.86\\n38112,BDNF_index,\"BALB/cJ\",m,-2.44,0,0,3,0,-0.06\\n38112,BDNF_index,\"BTBR T<+> Itpr3<tf>/J\",m,2.39,0,0,3,0,0.60\\n38112,BDNF_index,\"BUB/BnJ\",m,-6.34,0,0,3,0,-0.60\\n38112,BDNF_index,\"C3H/HeJ\",m,-9.62,0,0,3,0,-1.05\\n38112,BDNF_index,\"C57BL/6J\",m,8.81,0,0,3,0,1.48\\n38112,BDNF_index,\"C57BLKS/J\",m,1.22,0,0,3,0,0.44\\n38112,BDNF_index,\"C57BR/cdJ\",m,1.04,0,0,3,0,0.42\\n38112,BDNF_index,\"C58/J\",m,-2.98,0,0,3,0,-0.13\\n38112,BDNF_index,\"CBA/J\",m,-1.67,0,0,3,0,0.04\\n38112,BDNF_index,\"CE/J\",m,4.61,0,0,3,0,0.91\\n38112,BDNF_index,\"DBA/2J\",m,3.76,0,0,3,0,0.79\\n38112,BDNF_index,\"FVB/NJ\",m,-3.69,0,0,3,0,-0.23\\n38112,BDNF_index,\"I/LnJ\",m,10.5,0,0,3,0,1.71\\n38112,BDNF_index,\"LG/J\",m,3.90,0,0,3,0,0.81\\n38112,BDNF_index,\"LP/J\",m,-23.9,0,0,3,0,-3.00\\n38112,BDNF_index,\"MA/MyJ\",m,-0.673,0,0,3,0,0.18\\n38112,BDNF_index,\"MRL/MpJ\",m,3.45,0,0,3,0,0.75\\n38112,BDNF_index,\"NOD/ShiLtJ\",m,2.38,0,0,3,0,0.60\\n38112,BDNF_index,\"NOR/LtJ\",m,-4.27,0,0,3,0,-0.31\\n38112,BDNF_index,\"NZB/BlNJ\",m,0.758,0,0,3,0,0.38\\n38112,BDNF_index,\"NZW/LacJ\",m,-19.1,0,0,3,0,-2.35\\n38112,BDNF_index,\"P/J\",m,-9.88,0,0,3,0,-1.08\\n38112,BDNF_index,\"PL/J\",m,1.88,0,0,3,0,0.53\\n38112,BDNF_index,\"RIIIS/J\",m,-3.27,0,0,3,0,-0.17\\n38112,BDNF_index,\"SJL/J\",m,-3.90,0,0,3,0,-0.26\\n38112,BDNF_index,\"SM/J\",m,1.76,0,0,3,0,0.52\\n38112,BDNF_index,\"SWR/J\",m,3.74,0,0,3,0,0.79\\n38113,CREB1_cont,\"129S1/SvImJ\",m,0.687,0.0300,0.0173,3,0.0437,-1.62\\n38113,CREB1_cont,\"A/J\",m,0.727,0.0310,0.0179,3,0.0426,-1.06\\n38113,CREB1_cont,\"AKR/J\",m,0.748,0.0670,0.0387,3,0.0896,-0.77\\n38113,CREB1_cont,\"BALB/cJ\",m,0.751,0.0390,0.0225,3,0.0519,-0.73\\n38113,CREB1_cont,\"BTBR T<+> Itpr3<tf>/J\",m,0.816,0.0350,0.0202,3,0.0429,0.18\\n38113,CREB1_cont,\"BUB/BnJ\",m,0.826,0.0230,0.0133,3,0.0278,0.32\\n38113,CREB1_cont,\"C3H/HeJ\",m,0.823,0.0340,0.0196,3,0.0413,0.28\\n38113,CREB1_cont,\"C57BL/6J\",m,0.757,0.0620,0.0358,3,0.0819,-0.64\\n38113,CREB1_cont,\"C57BLKS/J\",m,0.781,0.0280,0.0162,3,0.0359,-0.31\\n38113,CREB1_cont,\"C57BR/cdJ\",m,0.810,0.0220,0.0127,3,0.0272,0.09\\n38113,CREB1_cont,\"C58/J\",m,0.758,0.0210,0.0121,3,0.0277,-0.63\\n38113,CREB1_cont,\"CBA/J\",m,0.881,0.0350,0.0202,3,0.0397,1.08\\n38113,CREB1_cont,\"CE/J\",m,0.775,0.0440,0.0254,3,0.0568,-0.39\\n38113,CREB1_cont,\"DBA/2J\",m,0.706,0.0310,0.0179,3,0.0439,-1.36\\n38113,CREB1_cont,\"FVB/NJ\",m,0.819,0.0380,0.0219,3,0.0464,0.22\\n38113,CREB1_cont,\"I/LnJ\",m,0.788,0.0200,0.0115,3,0.0254,-0.21\\n38113,CREB1_cont,\"LG/J\",m,0.846,0.0260,0.0150,3,0.0307,0.60\\n38113,CREB1_cont,\"LP/J\",m,0.839,0.0280,0.0162,3,0.0334,0.50\\n38113,CREB1_cont,\"MA/MyJ\",m,0.695,0.0200,0.0115,3,0.0288,-1.51\\n38113,CREB1_cont,\"MRL/MpJ\",m,0.819,0.0210,0.0121,3,0.0256,0.22\\n38113,CREB1_cont,\"NOD/ShiLtJ\",m,0.833,0.0380,0.0219,3,0.0456,0.42\\n38113,CREB1_cont,\"NOR/LtJ\",m,0.647,0.0260,0.0150,3,0.0402,-2.18\\n38113,CREB1_cont,\"NZB/BlNJ\",m,0.893,0.0290,0.0167,3,0.0325,1.25\\n38113,CREB1_cont,\"NZW/LacJ\",m,0.949,0.0400,0.0231,3,0.0421,2.03\\n38113,CREB1_cont,\"P/J\",m,0.815,0.0220,0.0127,3,0.0270,0.16\\n38113,CREB1_cont,\"PL/J\",m,0.884,0.0260,0.0150,3,0.0294,1.13\\n38113,CREB1_cont,\"RIIIS/J\",m,0.957,0.0450,0.0260,3,0.0470,2.14\\n38113,CREB1_cont,\"SJL/J\",m,0.811,0.0320,0.0185,3,0.0395,0.11\\n38113,CREB1_cont,\"SM/J\",m,0.837,0.0320,0.0185,3,0.0382,0.47\\n38113,CREB1_cont,\"SWR/J\",m,0.819,0.0190,0.0110,3,0.0232,0.22\\n38114,CREB1_fluox,\"129S1/SvImJ\",m,0.623,0.0170,0.00981,3,0.0273,-1.42\\n38114,CREB1_fluox,\"A/J\",m,0.722,0.0140,0.00808,3,0.0194,-0.25\\n38114,CREB1_fluox,\"AKR/J\",m,0.701,0.0160,0.00924,3,0.0228,-0.50\\n38114,CREB1_fluox,\"BALB/cJ\",m,0.712,0.0340,0.0196,3,0.0478,-0.37\\n38114,CREB1_fluox,\"BTBR T<+> Itpr3<tf>/J\",m,0.751,0.0330,0.0191,3,0.0439,0.10\\n38114,CREB1_fluox,\"BUB/BnJ\",m,0.774,0.0290,0.0167,3,0.0375,0.37\\n38114,CREB1_fluox,\"C3H/HeJ\",m,0.758,0.0210,0.0121,3,0.0277,0.18\\n38114,CREB1_fluox,\"C57BL/6J\",m,0.773,0.0330,0.0191,3,0.0427,0.36\\n38114,CREB1_fluox,\"C57BLKS/J\",m,0.686,0.0190,0.0110,3,0.0277,-0.67\\n38114,CREB1_fluox,\"C57BR/cdJ\",m,0.784,0.0340,0.0196,3,0.0434,0.49\\n38114,CREB1_fluox,\"C58/J\",m,0.800,0.0350,0.0202,3,0.0438,0.68\\n38114,CREB1_fluox,\"CBA/J\",m,0.820,0.0290,0.0167,3,0.0354,0.91\\n38114,CREB1_fluox,\"CE/J\",m,0.773,0.0220,0.0127,3,0.0285,0.36\\n38114,CREB1_fluox,\"DBA/2J\",m,0.762,0.0240,0.0139,3,0.0315,0.23\\n38114,CREB1_fluox,\"FVB/NJ\",m,0.825,0.0380,0.0219,3,0.0461,0.97\\n38114,CREB1_fluox,\"I/LnJ\",m,0.702,0.0250,0.0144,3,0.0356,-0.48\\n38114,CREB1_fluox,\"LG/J\",m,0.851,0.0490,0.0283,3,0.0576,1.28\\n38114,CREB1_fluox,\"LP/J\",m,0.474,0.0270,0.0156,3,0.0570,-3.18\\n38114,CREB1_fluox,\"MA/MyJ\",m,0.826,0.0410,0.0237,3,0.0496,0.98\\n38114,CREB1_fluox,\"MRL/MpJ\",m,0.851,0.0270,0.0156,3,0.0317,1.28\\n38114,CREB1_fluox,\"NOD/ShiLtJ\",m,0.775,0.0180,0.0104,3,0.0232,0.38\\n38114,CREB1_fluox,\"NOR/LtJ\",m,0.725,0.0190,0.0110,3,0.0262,-0.21\\n38114,CREB1_fluox,\"NZB/BlNJ\",m,0.796,0.0310,0.0179,3,0.0389,0.63\\n38114,CREB1_fluox,\"NZW/LacJ\",m,0.529,0.0320,0.0185,3,0.0605,-2.53\\n38114,CREB1_fluox,\"P/J\",m,0.791,0.0330,0.0191,3,0.0417,0.57\\n38114,CREB1_fluox,\"PL/J\",m,0.725,0.0250,0.0144,3,0.0345,-0.21\\n38114,CREB1_fluox,\"RIIIS/J\",m,0.696,0.0270,0.0156,3,0.0388,-0.55\\n38114,CREB1_fluox,\"SJL/J\",m,0.702,0.0270,0.0156,3,0.0385,-0.48\\n38114,CREB1_fluox,\"SM/J\",m,0.783,0.0290,0.0167,3,0.0370,0.48\\n38114,CREB1_fluox,\"SWR/J\",m,0.795,0.0200,0.0115,3,0.0252,0.62\\n38115,CREB1_index,\"129S1/SvImJ\",m,-4.28,0,0,3,0,-0.10\\n38115,CREB1_index,\"A/J\",m,-0.333,0,0,3,0,0.45\\n38115,CREB1_index,\"AKR/J\",m,-2.81,0,0,3,0,0.10\\n38115,CREB1_index,\"BALB/cJ\",m,-2.28,0,0,3,0,0.18\\n38115,CREB1_index,\"BTBR T<+> Itpr3<tf>/J\",m,-3.58,0,0,3,0,-0.01\\n38115,CREB1_index,\"BUB/BnJ\",m,-2.79,0,0,3,0,0.11\\n38115,CREB1_index,\"C3H/HeJ\",m,-3.59,0,0,3,0,-0.01\\n38115,CREB1_index,\"C57BL/6J\",m,0.904,0,0,3,0,0.62\\n38115,CREB1_index,\"C57BLKS/J\",m,-5.60,0,0,3,0,-0.29\\n38115,CREB1_index,\"C57BR/cdJ\",m,-1.40,0,0,3,0,0.30\\n38115,CREB1_index,\"C58/J\",m,2.33,0,0,3,0,0.82\\n38115,CREB1_index,\"CBA/J\",m,-3.13,0,0,3,0,0.06\\n38115,CREB1_index,\"CE/J\",m,-0.0880,0,0,3,0,0.49\\n38115,CREB1_index,\"DBA/2J\",m,3.34,0,0,3,0,0.97\\n38115,CREB1_index,\"FVB/NJ\",m,0.281,0,0,3,0,0.54\\n38115,CREB1_index,\"I/LnJ\",m,-5.02,0,0,3,0,-0.21\\n38115,CREB1_index,\"LG/J\",m,0.241,0,0,3,0,0.53\\n38115,CREB1_index,\"LP/J\",m,-24.8,0,0,3,0,-2.99\\n38115,CREB1_index,\"MA/MyJ\",m,7.52,0,0,3,0,1.55\\n38115,CREB1_index,\"MRL/MpJ\",m,1.65,0,0,3,0,0.73\\n38115,CREB1_index,\"NOD/ShiLtJ\",m,-3.14,0,0,3,0,0.06\\n38115,CREB1_index,\"NOR/LtJ\",m,4.92,0,0,3,0,1.19\\n38115,CREB1_index,\"NZB/BlNJ\",m,-4.99,0,0,3,0,-0.20\\n38115,CREB1_index,\"NZW/LacJ\",m,-25.4,0,0,3,0,-3.07\\n38115,CREB1_index,\"P/J\",m,-1.31,0,0,3,0,0.31\\n38115,CREB1_index,\"PL/J\",m,-8.59,0,0,3,0,-0.71\\n38115,CREB1_index,\"RIIIS/J\",m,-13.8,0,0,3,0,-1.44\\n38115,CREB1_index,\"SJL/J\",m,-6.29,0,0,3,0,-0.39\\n38115,CREB1_index,\"SM/J\",m,-2.90,0,0,3,0,0.09\\n38115,CREB1_index,\"SWR/J\",m,-1.29,0,0,3,0,0.32\\n38116,FOS_cont,\"129S1/SvImJ\",m,0.245,0.00900,0.00520,3,0.0367,-1.47\\n38116,FOS_cont,\"A/J\",m,0.254,0.00700,0.00404,3,0.0276,-1.23\\n38116,FOS_cont,\"AKR/J\",m,0.274,0.00800,0.00462,3,0.0292,-0.69\\n38116,FOS_cont,\"BALB/cJ\",m,0.290,0.00700,0.00404,3,0.0241,-0.25\\n38116,FOS_cont,\"BTBR T<+> Itpr3<tf>/J\",m,0.305,0.0130,0.00751,3,0.0426,0.15\\n38116,FOS_cont,\"BUB/BnJ\",m,0.303,0.00800,0.00462,3,0.0264,0.10\\n38116,FOS_cont,\"C3H/HeJ\",m,0.292,0.00900,0.00520,3,0.0308,-0.20\\n38116,FOS_cont,\"C57BL/6J\",m,0.288,0.0180,0.0104,3,0.0625,-0.31\\n38116,FOS_cont,\"C57BLKS/J\",m,0.263,0.0110,0.00635,3,0.0418,-0.98\\n38116,FOS_cont,\"C57BR/cdJ\",m,0.268,0.00900,0.00520,3,0.0336,-0.85\\n38116,FOS_cont,\"C58/J\",m,0.285,0.00900,0.00520,3,0.0316,-0.39\\n38116,FOS_cont,\"CBA/J\",m,0.315,0.0130,0.00751,3,0.0413,0.42\\n38116,FOS_cont,\"CE/J\",m,0.277,0.00800,0.00462,3,0.0289,-0.61\\n38116,FOS_cont,\"DBA/2J\",m,0.268,0.00400,0.00231,3,0.0149,-0.85\\n38116,FOS_cont,\"FVB/NJ\",m,0.304,0.0130,0.00751,3,0.0428,0.12\\n38116,FOS_cont,\"I/LnJ\",m,0.284,0.00600,0.00346,3,0.0211,-0.42\\n38116,FOS_cont,\"LG/J\",m,0.326,0.0110,0.00635,3,0.0337,0.72\\n38116,FOS_cont,\"LP/J\",m,0.344,0.0120,0.00693,3,0.0349,1.21\\n38116,FOS_cont,\"MA/MyJ\",m,0.241,0.0110,0.00635,3,0.0456,-1.58\\n38116,FOS_cont,\"MRL/MpJ\",m,0.305,0.00900,0.00520,3,0.0295,0.15\\n38116,FOS_cont,\"NOD/ShiLtJ\",m,0.295,0.0100,0.00577,3,0.0339,-0.12\\n38116,FOS_cont,\"NOR/LtJ\",m,0.247,0.00700,0.00404,3,0.0283,-1.42\\n38116,FOS_cont,\"NZB/BlNJ\",m,0.358,0.0150,0.00866,3,0.0419,1.58\\n38116,FOS_cont,\"NZW/LacJ\",m,0.395,0.00900,0.00520,3,0.0228,2.59\\n38116,FOS_cont,\"P/J\",m,0.340,0.0140,0.00808,3,0.0412,1.10\\n38116,FOS_cont,\"PL/J\",m,0.334,0.0120,0.00693,3,0.0359,0.94\\n38116,FOS_cont,\"RIIIS/J\",m,0.368,0.0170,0.00981,3,0.0462,1.85\\n38116,FOS_cont,\"SJL/J\",m,0.305,0.0110,0.00635,3,0.0361,0.15\\n38116,FOS_cont,\"SM/J\",m,0.310,0.0100,0.00577,3,0.0323,0.29\\n38116,FOS_cont,\"SWR/J\",m,0.299,0.0100,0.00577,3,0.0334,-0.01\\n38117,FOS_fluox,\"129S1/SvImJ\",m,0.284,0.00800,0.00462,3,0.0282,-1.09\\n38117,FOS_fluox,\"A/J\",m,0.299,0.00600,0.00346,3,0.0201,-0.62\\n38117,FOS_fluox,\"AKR/J\",m,0.295,0.0110,0.00635,3,0.0373,-0.74\\n38117,FOS_fluox,\"BALB/cJ\",m,0.348,0.00800,0.00462,3,0.0230,0.93\\n38117,FOS_fluox,\"BTBR T<+> Itpr3<tf>/J\",m,0.332,0.0130,0.00751,3,0.0392,0.43\\n38117,FOS_fluox,\"BUB/BnJ\",m,0.312,0.0200,0.0115,3,0.0641,-0.21\\n38117,FOS_fluox,\"C3H/HeJ\",m,0.324,0.00700,0.00404,3,0.0216,0.17\\n38117,FOS_fluox,\"C57BL/6J\",m,0.308,0.00700,0.00404,3,0.0227,-0.33\\n38117,FOS_fluox,\"C57BLKS/J\",m,0.279,0.0160,0.00924,3,0.0573,-1.25\\n38117,FOS_fluox,\"C57BR/cdJ\",m,0.323,0.0170,0.00981,3,0.0526,0.14\\n38117,FOS_fluox,\"C58/J\",m,0.323,0.0150,0.00866,3,0.0464,0.14\\n38117,FOS_fluox,\"CBA/J\",m,0.312,0.00600,0.00346,3,0.0192,-0.21\\n38117,FOS_fluox,\"CE/J\",m,0.299,0.0120,0.00693,3,0.0401,-0.62\\n38117,FOS_fluox,\"DBA/2J\",m,0.325,0.0130,0.00751,3,0.0400,0.20\\n38117,FOS_fluox,\"FVB/NJ\",m,0.402,0.0180,0.0104,3,0.0448,2.64\\n38117,FOS_fluox,\"I/LnJ\",m,0.287,0.00600,0.00346,3,0.0209,-1.00\\n38117,FOS_fluox,\"LG/J\",m,0.353,0.0160,0.00924,3,0.0453,1.09\\n38117,FOS_fluox,\"LP/J\",m,0.231,0.00600,0.00346,3,0.0260,-2.77\\n38117,FOS_fluox,\"MA/MyJ\",m,0.324,0.0130,0.00751,3,0.0401,0.17\\n38117,FOS_fluox,\"MRL/MpJ\",m,0.335,0.0100,0.00577,3,0.0299,0.52\\n38117,FOS_fluox,\"NOD/ShiLtJ\",m,0.334,0.0160,0.00924,3,0.0479,0.49\\n38117,FOS_fluox,\"NOR/LtJ\",m,0.317,0.00500,0.00289,3,0.0158,-0.05\\n38117,FOS_fluox,\"NZB/BlNJ\",m,0.351,0.0140,0.00808,3,0.0399,1.03\\n38117,FOS_fluox,\"NZW/LacJ\",m,0.289,0.00600,0.00346,3,0.0208,-0.93\\n38117,FOS_fluox,\"P/J\",m,0.316,0.0110,0.00635,3,0.0348,-0.08\\n38117,FOS_fluox,\"PL/J\",m,0.340,0.0170,0.00981,3,0.0500,0.68\\n38117,FOS_fluox,\"RIIIS/J\",m,0.362,0.0140,0.00808,3,0.0387,1.37\\n38117,FOS_fluox,\"SJL/J\",m,0.290,0.00800,0.00462,3,0.0276,-0.90\\n38117,FOS_fluox,\"SM/J\",m,0.311,0.0120,0.00693,3,0.0386,-0.24\\n38117,FOS_fluox,\"SWR/J\",m,0.351,0.0170,0.00981,3,0.0484,1.03\\n38118,FOS_index,\"129S1/SvImJ\",m,6.51,0,0,3,0,0.58\\n38118,FOS_index,\"A/J\",m,7.01,0,0,3,0,0.66\\n38118,FOS_index,\"AKR/J\",m,3.20,0,0,3,0,0.06\\n38118,FOS_index,\"BALB/cJ\",m,7.95,0,0,3,0,0.80\\n38118,FOS_index,\"BTBR T<+> Itpr3<tf>/J\",m,3.62,0,0,3,0,0.13\\n38118,FOS_index,\"BUB/BnJ\",m,1.24,0,0,3,0,-0.24\\n38118,FOS_index,\"C3H/HeJ\",m,4.48,0,0,3,0,0.26\\n38118,FOS_index,\"C57BL/6J\",m,2.94,0,0,3,0,0.02\\n38118,FOS_index,\"C57BLKS/J\",m,2.63,0,0,3,0,-0.02\\n38118,FOS_index,\"C57BR/cdJ\",m,8.06,0,0,3,0,0.82\\n38118,FOS_index,\"C58/J\",m,5.51,0,0,3,0,0.42\\n38118,FOS_index,\"CBA/J\",m,-0.334,0,0,3,0,-0.49\\n38118,FOS_index,\"CE/J\",m,3.21,0,0,3,0,0.07\\n38118,FOS_index,\"DBA/2J\",m,8.41,0,0,3,0,0.87\\n38118,FOS_index,\"FVB/NJ\",m,12.1,0,0,3,0,1.45\\n38118,FOS_index,\"I/LnJ\",m,0.434,0,0,3,0,-0.37\\n38118,FOS_index,\"LG/J\",m,3.42,0,0,3,0,0.10\\n38118,FOS_index,\"LP/J\",m,-17.3,0,0,3,0,-3.13\\n38118,FOS_index,\"MA/MyJ\",m,12.9,0,0,3,0,1.57\\n38118,FOS_index,\"MRL/MpJ\",m,4.16,0,0,3,0,0.21\\n38118,FOS_index,\"NOD/ShiLtJ\",m,5.34,0,0,3,0,0.40\\n38118,FOS_index,\"NOR/LtJ\",m,10.9,0,0,3,0,1.26\\n38118,FOS_index,\"NZB/BlNJ\",m,-0.905,0,0,3,0,-0.57\\n38118,FOS_index,\"NZW/LacJ\",m,-13.6,0,0,3,0,-2.55\\n38118,FOS_index,\"P/J\",m,-3.24,0,0,3,0,-0.94\\n38118,FOS_index,\"PL/J\",m,0.701,0,0,3,0,-0.33\\n38118,FOS_index,\"RIIIS/J\",m,-0.671,0,0,3,0,-0.54\\n38118,FOS_index,\"SJL/J\",m,-2.20,0,0,3,0,-0.78\\n38118,FOS_index,\"SM/J\",m,0.211,0,0,3,0,-0.40\\n38118,FOS_index,\"SWR/J\",m,7.03,0,0,3,0,0.66\\n38119,FUT9_cont,\"129S1/SvImJ\",m,0.653,0.0190,0.0110,3,0.0291,-0.88\\n38119,FUT9_cont,\"A/J\",m,0.586,0.0160,0.00924,3,0.0273,-1.79\\n38119,FUT9_cont,\"AKR/J\",m,0.675,0.0110,0.00635,3,0.0163,-0.59\\n38119,FUT9_cont,\"BALB/cJ\",m,0.688,0.0190,0.0110,3,0.0276,-0.41\\n38119,FUT9_cont,\"BTBR T<+> Itpr3<tf>/J\",m,0.739,0.0170,0.00981,3,0.0230,0.28\\n38119,FUT9_cont,\"BUB/BnJ\",m,0.762,0.0300,0.0173,3,0.0394,0.59\\n38119,FUT9_cont,\"C3H/HeJ\",m,0.769,0.0300,0.0173,3,0.0390,0.68\\n38119,FUT9_cont,\"C57BL/6J\",m,0.629,0.0300,0.0173,3,0.0477,-1.21\\n38119,FUT9_cont,\"C57BLKS/J\",m,0.656,0.0200,0.0115,3,0.0305,-0.84\\n38119,FUT9_cont,\"C57BR/cdJ\",m,0.658,0.0160,0.00924,3,0.0243,-0.81\\n38119,FUT9_cont,\"C58/J\",m,0.730,0.0200,0.0115,3,0.0274,0.16\\n38119,FUT9_cont,\"CBA/J\",m,0.784,0.0260,0.0150,3,0.0332,0.89\\n38119,FUT9_cont,\"CE/J\",m,0.697,0.0140,0.00808,3,0.0201,-0.29\\n38119,FUT9_cont,\"DBA/2J\",m,0.569,0.0120,0.00693,3,0.0211,-2.02\\n38119,FUT9_cont,\"FVB/NJ\",m,0.711,0.0280,0.0162,3,0.0394,-0.10\\n38119,FUT9_cont,\"I/LnJ\",m,0.749,0.0290,0.0167,3,0.0387,0.41\\n38119,FUT9_cont,\"LG/J\",m,0.770,0.0220,0.0127,3,0.0286,0.70\\n38119,FUT9_cont,\"LP/J\",m,0.861,0.0180,0.0104,3,0.0209,1.92\\n38119,FUT9_cont,\"MA/MyJ\",m,0.724,0.0160,0.00924,3,0.0221,0.08\\n38119,FUT9_cont,\"MRL/MpJ\",m,0.695,0.0150,0.00866,3,0.0216,-0.32\\n38119,FUT9_cont,\"NOD/ShiLtJ\",m,0.832,0.0250,0.0144,3,0.0300,1.53\\n38119,FUT9_cont,\"NOR/LtJ\",m,0.648,0.0190,0.0110,3,0.0293,-0.95\\n38119,FUT9_cont,\"NZB/BlNJ\",m,0.843,0.0220,0.0127,3,0.0261,1.68\\n38119,FUT9_cont,\"NZW/LacJ\",m,0.874,0.0210,0.0121,3,0.0240,2.10\\n38119,FUT9_cont,\"P/J\",m,0.756,0.0150,0.00866,3,0.0198,0.51\\n38119,FUT9_cont,\"PL/J\",m,0.705,0.0120,0.00693,3,0.0170,-0.18\\n38119,FUT9_cont,\"RIIIS/J\",m,0.705,0.0140,0.00808,3,0.0199,-0.18\\n38119,FUT9_cont,\"SJL/J\",m,0.724,0.0150,0.00866,3,0.0207,0.08\\n38119,FUT9_cont,\"SM/J\",m,0.672,0.0130,0.00751,3,0.0193,-0.63\\n38119,FUT9_cont,\"SWR/J\",m,0.688,0.0140,0.00808,3,0.0203,-0.41\\n38120,FUT9_fluox,\"129S1/SvImJ\",m,0.503,0.0170,0.00981,3,0.0338,-1.48\\n38120,FUT9_fluox,\"A/J\",m,0.595,0.0180,0.0104,3,0.0303,-0.34\\n38120,FUT9_fluox,\"AKR/J\",m,0.516,0.0190,0.0110,3,0.0368,-1.32\\n38120,FUT9_fluox,\"BALB/cJ\",m,0.606,0.0170,0.00981,3,0.0281,-0.20\\n38120,FUT9_fluox,\"BTBR T<+> Itpr3<tf>/J\",m,0.601,0.0200,0.0115,3,0.0333,-0.26\\n38120,FUT9_fluox,\"BUB/BnJ\",m,0.708,0.0190,0.0110,3,0.0268,1.06\\n38120,FUT9_fluox,\"C3H/HeJ\",m,0.549,0.0130,0.00751,3,0.0237,-0.91\\n38120,FUT9_fluox,\"C57BL/6J\",m,0.607,0.0120,0.00693,3,0.0198,-0.19\\n38120,FUT9_fluox,\"C57BLKS/J\",m,0.662,0.0120,0.00693,3,0.0181,0.49\\n38120,FUT9_fluox,\"C57BR/cdJ\",m,0.604,0.0230,0.0133,3,0.0381,-0.23\\n38120,FUT9_fluox,\"C58/J\",m,0.688,0.0210,0.0121,3,0.0305,0.81\\n38120,FUT9_fluox,\"CBA/J\",m,0.570,0.0180,0.0104,3,0.0316,-0.65\\n38120,FUT9_fluox,\"CE/J\",m,0.576,0.0170,0.00981,3,0.0295,-0.57\\n38120,FUT9_fluox,\"DBA/2J\",m,0.535,0.0140,0.00808,3,0.0262,-1.08\\n38120,FUT9_fluox,\"FVB/NJ\",m,0.716,0.0360,0.0208,3,0.0503,1.16\\n38120,FUT9_fluox,\"I/LnJ\",m,0.611,0.0200,0.0115,3,0.0327,-0.14\\n38120,FUT9_fluox,\"LG/J\",m,0.647,0.0180,0.0104,3,0.0278,0.31\\n38120,FUT9_fluox,\"LP/J\",m,0.445,0.00700,0.00404,3,0.0157,-2.19\\n38120,FUT9_fluox,\"MA/MyJ\",m,0.668,0.0150,0.00866,3,0.0225,0.57\\n38120,FUT9_fluox,\"MRL/MpJ\",m,0.563,0.0150,0.00866,3,0.0266,-0.73\\n38120,FUT9_fluox,\"NOD/ShiLtJ\",m,0.703,0.0120,0.00693,3,0.0171,1.00\\n38120,FUT9_fluox,\"NOR/LtJ\",m,0.659,0.0200,0.0115,3,0.0303,0.46\\n38120,FUT9_fluox,\"NZB/BlNJ\",m,0.590,0.0130,0.00751,3,0.0220,-0.40\\n38120,FUT9_fluox,\"NZW/LacJ\",m,0.528,0.00900,0.00520,3,0.0170,-1.17\\n38120,FUT9_fluox,\"P/J\",m,0.802,0.0230,0.0133,3,0.0287,2.23\\n38120,FUT9_fluox,\"PL/J\",m,0.580,0.0170,0.00981,3,0.0293,-0.52\\n38120,FUT9_fluox,\"RIIIS/J\",m,0.696,0.0150,0.00866,3,0.0216,0.91\\n38120,FUT9_fluox,\"SJL/J\",m,0.701,0.0200,0.0115,3,0.0285,0.98\\n38120,FUT9_fluox,\"SM/J\",m,0.689,0.0130,0.00751,3,0.0189,0.83\\n38120,FUT9_fluox,\"SWR/J\",m,0.749,0.0150,0.00866,3,0.0200,1.57\\n38121,FUT9_index,\"129S1/SvImJ\",m,-11.4,0,0,3,0,-0.68\\n38121,FUT9_index,\"A/J\",m,0.637,0,0,3,0,0.95\\n38121,FUT9_index,\"AKR/J\",m,-11.7,0,0,3,0,-0.72\\n38121,FUT9_index,\"BALB/cJ\",m,-5.50,0,0,3,0,0.12\\n38121,FUT9_index,\"BTBR T<+> Itpr3<tf>/J\",m,-8.95,0,0,3,0,-0.35\\n38121,FUT9_index,\"BUB/BnJ\",m,-3.21,0,0,3,0,0.43\\n38121,FUT9_index,\"C3H/HeJ\",m,-14.6,0,0,3,0,-1.11\\n38121,FUT9_index,\"C57BL/6J\",m,-1.57,0,0,3,0,0.65\\n38121,FUT9_index,\"C57BLKS/J\",m,0.385,0,0,3,0,0.91\\n38121,FUT9_index,\"C57BR/cdJ\",m,-3.74,0,0,3,0,0.36\\n38121,FUT9_index,\"C58/J\",m,-2.57,0,0,3,0,0.51\\n38121,FUT9_index,\"CBA/J\",m,-13.9,0,0,3,0,-1.01\\n38121,FUT9_index,\"CE/J\",m,-8.26,0,0,3,0,-0.25\\n38121,FUT9_index,\"DBA/2J\",m,-2.66,0,0,3,0,0.50\\n38121,FUT9_index,\"FVB/NJ\",m,0.327,0,0,3,0,0.90\\n38121,FUT9_index,\"I/LnJ\",m,-8.82,0,0,3,0,-0.33\\n38121,FUT9_index,\"LG/J\",m,-7.57,0,0,3,0,-0.16\\n38121,FUT9_index,\"LP/J\",m,-28.7,0,0,3,0,-3.01\\n38121,FUT9_index,\"MA/MyJ\",m,-3.53,0,0,3,0,0.38\\n38121,FUT9_index,\"MRL/MpJ\",m,-9.15,0,0,3,0,-0.37\\n38121,FUT9_index,\"NOD/ShiLtJ\",m,-7.32,0,0,3,0,-0.13\\n38121,FUT9_index,\"NOR/LtJ\",m,0.743,0,0,3,0,0.96\\n38121,FUT9_index,\"NZB/BlNJ\",m,-15.5,0,0,3,0,-1.23\\n38121,FUT9_index,\"NZW/LacJ\",m,-21.9,0,0,3,0,-2.09\\n38121,FUT9_index,\"P/J\",m,2.56,0,0,3,0,1.21\\n38121,FUT9_index,\"PL/J\",m,-8.47,0,0,3,0,-0.28\\n38121,FUT9_index,\"RIIIS/J\",m,-0.540,0,0,3,0,0.79\\n38121,FUT9_index,\"SJL/J\",m,-1.42,0,0,3,0,0.67\\n38121,FUT9_index,\"SM/J\",m,1.10,0,0,3,0,1.01\\n38121,FUT9_index,\"SWR/J\",m,3.73,0,0,3,0,1.36\\n38122,GAD1_cont,\"129S1/SvImJ\",m,1.29,0.0930,0.0537,3,0.0718,-1.43\\n38122,GAD1_cont,\"A/J\",m,1.38,0.0480,0.0277,3,0.0347,-1.06\\n38122,GAD1_cont,\"AKR/J\",m,1.37,0.0670,0.0387,3,0.0488,-1.10\\n38122,GAD1_cont,\"BALB/cJ\",m,1.56,0.0900,0.0520,3,0.0577,-0.32\\n38122,GAD1_cont,\"BTBR T<+> Itpr3<tf>/J\",m,2.09,0.0640,0.0370,3,0.0307,1.86\\n38122,GAD1_cont,\"BUB/BnJ\",m,1.97,0.0580,0.0335,3,0.0294,1.36\\n38122,GAD1_cont,\"C3H/HeJ\",m,1.85,0.101,0.0583,3,0.0545,0.87\\n38122,GAD1_cont,\"C57BL/6J\",m,1.27,0.113,0.0652,3,0.0893,-1.51\\n38122,GAD1_cont,\"C57BLKS/J\",m,1.66,0.0350,0.0202,3,0.0211,0.09\\n38122,GAD1_cont,\"C57BR/cdJ\",m,1.73,0.0240,0.0139,3,0.0138,0.38\\n38122,GAD1_cont,\"C58/J\",m,1.72,0.0540,0.0312,3,0.0314,0.34\\n38122,GAD1_cont,\"CBA/J\",m,2.08,0.0770,0.0445,3,0.0371,1.82\\n38122,GAD1_cont,\"CE/J\",m,1.23,0.0310,0.0179,3,0.0252,-1.68\\n38122,GAD1_cont,\"DBA/2J\",m,1.66,0.0540,0.0312,3,0.0326,0.09\\n38122,GAD1_cont,\"FVB/NJ\",m,1.72,0.139,0.0803,3,0.0810,0.34\\n38122,GAD1_cont,\"I/LnJ\",m,1.56,0.0330,0.0191,3,0.0211,-0.32\\n38122,GAD1_cont,\"LG/J\",m,1.60,0.0550,0.0318,3,0.0344,-0.16\\n38122,GAD1_cont,\"LP/J\",m,1.88,0.0700,0.0404,3,0.0373,0.99\\n38122,GAD1_cont,\"MA/MyJ\",m,1.67,0.0550,0.0318,3,0.0329,0.13\\n38122,GAD1_cont,\"MRL/MpJ\",m,1.85,0.0670,0.0387,3,0.0362,0.87\\n38122,GAD1_cont,\"NOD/ShiLtJ\",m,1.84,0.0770,0.0445,3,0.0419,0.83\\n38122,GAD1_cont,\"NOR/LtJ\",m,1.50,0.0410,0.0237,3,0.0273,-0.57\\n38122,GAD1_cont,\"NZB/BlNJ\",m,1.18,0.0320,0.0185,3,0.0272,-1.88\\n38122,GAD1_cont,\"NZW/LacJ\",m,1.40,0.0500,0.0289,3,0.0357,-0.98\\n38122,GAD1_cont,\"P/J\",m,1.50,0.0820,0.0473,3,0.0545,-0.57\\n38122,GAD1_cont,\"PL/J\",m,1.81,0.0800,0.0462,3,0.0443,0.71\\n38122,GAD1_cont,\"RIIIS/J\",m,1.82,0.0790,0.0456,3,0.0433,0.75\\n38122,GAD1_cont,\"SJL/J\",m,1.73,0.0530,0.0306,3,0.0306,0.38\\n38122,GAD1_cont,\"SM/J\",m,1.47,0.0920,0.0531,3,0.0626,-0.69\\n38122,GAD1_cont,\"SWR/J\",m,1.76,0.0540,0.0312,3,0.0307,0.50\\n38123,GAD1_fluox,\"129S1/SvImJ\",m,1.13,0.0560,0.0323,3,0.0495,-1.26\\n38123,GAD1_fluox,\"A/J\",m,1.40,0.0560,0.0323,3,0.0401,-0.39\\n38123,GAD1_fluox,\"AKR/J\",m,1.21,0.0770,0.0445,3,0.0636,-1.00\\n38123,GAD1_fluox,\"BALB/cJ\",m,1.57,0.0590,0.0341,3,0.0377,0.16\\n38123,GAD1_fluox,\"BTBR T<+> Itpr3<tf>/J\",m,1.41,0.0610,0.0352,3,0.0434,-0.36\\n38123,GAD1_fluox,\"BUB/BnJ\",m,1.87,0.102,0.0589,3,0.0544,1.12\\n38123,GAD1_fluox,\"C3H/HeJ\",m,1.21,0.0350,0.0202,3,0.0289,-1.00\\n38123,GAD1_fluox,\"C57BL/6J\",m,1.70,0.0480,0.0277,3,0.0282,0.57\\n38123,GAD1_fluox,\"C57BLKS/J\",m,1.87,0.0820,0.0473,3,0.0439,1.12\\n38123,GAD1_fluox,\"C57BR/cdJ\",m,1.72,0.0700,0.0404,3,0.0406,0.64\\n38123,GAD1_fluox,\"C58/J\",m,2.07,0.0900,0.0520,3,0.0436,1.76\\n38123,GAD1_fluox,\"CBA/J\",m,2.06,0.0600,0.0346,3,0.0292,1.73\\n38123,GAD1_fluox,\"CE/J\",m,1.58,0.0620,0.0358,3,0.0393,0.19\\n38123,GAD1_fluox,\"DBA/2J\",m,1.41,0.0700,0.0404,3,0.0497,-0.36\\n38123,GAD1_fluox,\"FVB/NJ\",m,1.57,0.0870,0.0502,3,0.0552,0.16\\n38123,GAD1_fluox,\"I/LnJ\",m,1.26,0.0620,0.0358,3,0.0491,-0.84\\n38123,GAD1_fluox,\"LG/J\",m,1.50,0.0760,0.0439,3,0.0505,-0.07\\n38123,GAD1_fluox,\"LP/J\",m,0.719,0.0520,0.0300,3,0.0723,-2.58\\n38123,GAD1_fluox,\"MA/MyJ\",m,1.81,0.0690,0.0398,3,0.0381,0.93\\n38123,GAD1_fluox,\"MRL/MpJ\",m,1.31,0.0470,0.0271,3,0.0360,-0.68\\n38123,GAD1_fluox,\"NOD/ShiLtJ\",m,1.41,0.0590,0.0341,3,0.0418,-0.36\\n38123,GAD1_fluox,\"NOR/LtJ\",m,1.50,0.0610,0.0352,3,0.0406,-0.07\\n38123,GAD1_fluox,\"NZB/BlNJ\",m,1.23,0.0460,0.0266,3,0.0374,-0.94\\n38123,GAD1_fluox,\"NZW/LacJ\",m,1.11,0.0430,0.0248,3,0.0386,-1.32\\n38123,GAD1_fluox,\"P/J\",m,1.64,0.0700,0.0404,3,0.0426,0.38\\n38123,GAD1_fluox,\"PL/J\",m,1.28,0.0530,0.0306,3,0.0414,-0.78\\n38123,GAD1_fluox,\"RIIIS/J\",m,1.72,0.0530,0.0306,3,0.0308,0.64\\n38123,GAD1_fluox,\"SJL/J\",m,1.64,0.0700,0.0404,3,0.0426,0.38\\n38123,GAD1_fluox,\"SM/J\",m,1.99,0.126,0.0727,3,0.0633,1.51\\n38123,GAD1_fluox,\"SWR/J\",m,1.75,0.0590,0.0341,3,0.0336,0.73\\n38124,GAD1_index,\"129S1/SvImJ\",m,-5.84,0,0,3,0,-0.20\\n38124,GAD1_index,\"A/J\",m,0.379,0,0,3,0,0.37\\n38124,GAD1_index,\"AKR/J\",m,-5.50,0,0,3,0,-0.16\\n38124,GAD1_index,\"BALB/cJ\",m,0.161,0,0,3,0,0.35\\n38124,GAD1_index,\"BTBR T<+> Itpr3<tf>/J\",m,-17.1,0,0,3,0,-1.23\\n38124,GAD1_index,\"BUB/BnJ\",m,-2.17,0,0,3,0,0.14\\n38124,GAD1_index,\"C3H/HeJ\",m,-18.4,0,0,3,0,-1.35\\n38124,GAD1_index,\"C57BL/6J\",m,12.8,0,0,3,0,1.51\\n38124,GAD1_index,\"C57BLKS/J\",m,5.18,0,0,3,0,0.81\\n38124,GAD1_index,\"C57BR/cdJ\",m,-0.242,0,0,3,0,0.32\\n38124,GAD1_index,\"C58/J\",m,7.99,0,0,3,0,1.07\\n38124,GAD1_index,\"CBA/J\",m,-0.390,0,0,3,0,0.30\\n38124,GAD1_index,\"CE/J\",m,10.8,0,0,3,0,1.33\\n38124,GAD1_index,\"DBA/2J\",m,-7.01,0,0,3,0,-0.30\\n38124,GAD1_index,\"FVB/NJ\",m,-3.71,0,0,3,0,0.00\\n38124,GAD1_index,\"I/LnJ\",m,-9.27,0,0,3,0,-0.51\\n38124,GAD1_index,\"LG/J\",m,-2.67,0,0,3,0,0.09\\n38124,GAD1_index,\"LP/J\",m,-41.7,0,0,3,0,-3.48\\n38124,GAD1_index,\"MA/MyJ\",m,3.39,0,0,3,0,0.65\\n38124,GAD1_index,\"MRL/MpJ\",m,-15.2,0,0,3,0,-1.05\\n38124,GAD1_index,\"NOD/ShiLtJ\",m,-11.5,0,0,3,0,-0.71\\n38124,GAD1_index,\"NOR/LtJ\",m,-0.0270,0,0,3,0,0.34\\n38124,GAD1_index,\"NZB/BlNJ\",m,1.83,0,0,3,0,0.51\\n38124,GAD1_index,\"NZW/LacJ\",m,-9.96,0,0,3,0,-0.57\\n38124,GAD1_index,\"P/J\",m,3.77,0,0,3,0,0.68\\n38124,GAD1_index,\"PL/J\",m,-14.9,0,0,3,0,-1.03\\n38124,GAD1_index,\"RIIIS/J\",m,-2.52,0,0,3,0,0.11\\n38124,GAD1_index,\"SJL/J\",m,-2.31,0,0,3,0,0.13\\n38124,GAD1_index,\"SM/J\",m,13.2,0,0,3,0,1.55\\n38124,GAD1_index,\"SWR/J\",m,-0.0720,0,0,3,0,0.33\\n38125,GAL_cont,\"129S1/SvImJ\",m,1.41,0.0310,0.0179,3,0.0221,-0.23\\n38125,GAL_cont,\"A/J\",m,1.40,0.0230,0.0133,3,0.0165,-0.26\\n38125,GAL_cont,\"AKR/J\",m,1.51,0.0260,0.0150,3,0.0172,0.08\\n38125,GAL_cont,\"BALB/cJ\",m,1.37,0.0360,0.0208,3,0.0262,-0.35\\n38125,GAL_cont,\"BTBR T<+> Itpr3<tf>/J\",m,1.54,0.0450,0.0260,3,0.0291,0.17\\n38125,GAL_cont,\"BUB/BnJ\",m,1.52,0.0380,0.0219,3,0.0249,0.11\\n38125,GAL_cont,\"C3H/HeJ\",m,1.49,0.0560,0.0323,3,0.0377,0.02\\n38125,GAL_cont,\"C57BL/6J\",m,1.14,0.0810,0.0468,3,0.0709,-1.05\\n38125,GAL_cont,\"C57BLKS/J\",m,1.40,0.0210,0.0121,3,0.0151,-0.26\\n38125,GAL_cont,\"C57BR/cdJ\",m,1.29,0.0250,0.0144,3,0.0193,-0.59\\n38125,GAL_cont,\"C58/J\",m,1.51,0.0270,0.0156,3,0.0179,0.08\\n38125,GAL_cont,\"CBA/J\",m,1.58,0.0430,0.0248,3,0.0272,0.29\\n38125,GAL_cont,\"CE/J\",m,1.51,0.0350,0.0202,3,0.0231,0.08\\n38125,GAL_cont,\"DBA/2J\",m,1.30,0.0440,0.0254,3,0.0338,-0.56\\n38125,GAL_cont,\"FVB/NJ\",m,1.43,0.0480,0.0277,3,0.0336,-0.17\\n38125,GAL_cont,\"I/LnJ\",m,1.52,0.0370,0.0214,3,0.0243,0.11\\n38125,GAL_cont,\"LG/J\",m,1.37,0.0240,0.0139,3,0.0175,-0.35\\n38125,GAL_cont,\"LP/J\",m,1.30,0.0270,0.0156,3,0.0208,-0.56\\n38125,GAL_cont,\"MA/MyJ\",m,1.50,0.0270,0.0156,3,0.0180,0.05\\n38125,GAL_cont,\"MRL/MpJ\",m,2.77,0.119,0.0687,3,0.0429,3.93\\n38125,GAL_cont,\"NOD/ShiLtJ\",m,2.35,0.0880,0.0508,3,0.0375,2.64\\n38125,GAL_cont,\"NOR/LtJ\",m,1.15,0.0210,0.0121,3,0.0183,-1.02\\n38125,GAL_cont,\"NZB/BlNJ\",m,1.13,0.0270,0.0156,3,0.0239,-1.08\\n38125,GAL_cont,\"NZW/LacJ\",m,1.76,0.0730,0.0421,3,0.0414,0.84\\n38125,GAL_cont,\"P/J\",m,1.27,0.0560,0.0323,3,0.0440,-0.66\\n38125,GAL_cont,\"PL/J\",m,1.32,0.0160,0.00924,3,0.0121,-0.50\\n38125,GAL_cont,\"RIIIS/J\",m,1.41,0.0540,0.0312,3,0.0384,-0.23\\n38125,GAL_cont,\"SJL/J\",m,1.34,0.0370,0.0214,3,0.0276,-0.44\\n38125,GAL_cont,\"SM/J\",m,1.48,0.0510,0.0294,3,0.0346,-0.01\\n38125,GAL_cont,\"SWR/J\",m,1.47,0.0210,0.0121,3,0.0143,-0.04\\n38126,GAL_fluox,\"129S1/SvImJ\",m,0.981,0.0190,0.0110,3,0.0194,-0.46\\n38126,GAL_fluox,\"A/J\",m,1.19,0.0200,0.0115,3,0.0169,0.90\\n38126,GAL_fluox,\"AKR/J\",m,0.992,0.0340,0.0196,3,0.0343,-0.38\\n38126,GAL_fluox,\"BALB/cJ\",m,1.06,0.0350,0.0202,3,0.0331,0.06\\n38126,GAL_fluox,\"BTBR T<+> Itpr3<tf>/J\",m,1.05,0.0150,0.00866,3,0.0143,-0.01\\n38126,GAL_fluox,\"BUB/BnJ\",m,1.06,0.0310,0.0179,3,0.0292,0.06\\n38126,GAL_fluox,\"C3H/HeJ\",m,1.04,0.0300,0.0173,3,0.0288,-0.07\\n38126,GAL_fluox,\"C57BL/6J\",m,1.42,0.0250,0.0144,3,0.0176,2.39\\n38126,GAL_fluox,\"C57BLKS/J\",m,1.48,0.0410,0.0237,3,0.0277,2.78\\n38126,GAL_fluox,\"C57BR/cdJ\",m,1.01,0.0210,0.0121,3,0.0208,-0.27\\n38126,GAL_fluox,\"C58/J\",m,1.13,0.0280,0.0162,3,0.0248,0.51\\n38126,GAL_fluox,\"CBA/J\",m,1.21,0.0150,0.00866,3,0.0124,1.03\\n38126,GAL_fluox,\"CE/J\",m,1.06,0.0320,0.0185,3,0.0302,0.06\\n38126,GAL_fluox,\"DBA/2J\",m,0.964,0.0200,0.0115,3,0.0207,-0.57\\n38126,GAL_fluox,\"FVB/NJ\",m,1.20,0.0280,0.0162,3,0.0234,0.97\\n38126,GAL_fluox,\"I/LnJ\",m,0.779,0.0100,0.00577,3,0.0128,-1.77\\n38126,GAL_fluox,\"LG/J\",m,1.00,0.0500,0.0289,3,0.0498,-0.33\\n38126,GAL_fluox,\"LP/J\",m,0.780,0.0260,0.0150,3,0.0333,-1.76\\n38126,GAL_fluox,\"MA/MyJ\",m,0.888,0.0140,0.00808,3,0.0158,-1.06\\n38126,GAL_fluox,\"MRL/MpJ\",m,1.03,0.0270,0.0156,3,0.0263,-0.14\\n38126,GAL_fluox,\"NOD/ShiLtJ\",m,1.05,0.0320,0.0185,3,0.0304,-0.01\\n38126,GAL_fluox,\"NOR/LtJ\",m,0.952,0.0170,0.00981,3,0.0179,-0.64\\n38126,GAL_fluox,\"NZB/BlNJ\",m,0.956,0.0170,0.00981,3,0.0178,-0.62\\n38126,GAL_fluox,\"NZW/LacJ\",m,0.927,0.0330,0.0191,3,0.0356,-0.81\\n38126,GAL_fluox,\"P/J\",m,0.875,0.0150,0.00866,3,0.0171,-1.14\\n38126,GAL_fluox,\"PL/J\",m,0.984,0.0180,0.0104,3,0.0183,-0.44\\n38126,GAL_fluox,\"RIIIS/J\",m,1.08,0.0190,0.0110,3,0.0177,0.19\\n38126,GAL_fluox,\"SJL/J\",m,1.05,0.0190,0.0110,3,0.0181,-0.01\\n38126,GAL_fluox,\"SM/J\",m,1.19,0.0250,0.0144,3,0.0210,0.90\\n38126,GAL_fluox,\"SWR/J\",m,1.15,0.0190,0.0110,3,0.0166,0.64\\n38127,GAL_index,\"129S1/SvImJ\",m,-15.6,0,0,3,0,-0.09\\n38127,GAL_index,\"A/J\",m,-7.06,0,0,3,0,0.75\\n38127,GAL_index,\"AKR/J\",m,-18.2,0,0,3,0,-0.35\\n38127,GAL_index,\"BALB/cJ\",m,-11.3,0,0,3,0,0.33\\n38127,GAL_index,\"BTBR T<+> Itpr3<tf>/J\",m,-16.7,0,0,3,0,-0.20\\n38127,GAL_index,\"BUB/BnJ\",m,-15.7,0,0,3,0,-0.10\\n38127,GAL_index,\"C3H/HeJ\",m,-15.5,0,0,3,0,-0.08\\n38127,GAL_index,\"C57BL/6J\",m,9.54,0,0,3,0,2.40\\n38127,GAL_index,\"C57BLKS/J\",m,2.59,0,0,3,0,1.71\\n38127,GAL_index,\"C57BR/cdJ\",m,-10.9,0,0,3,0,0.37\\n38127,GAL_index,\"C58/J\",m,-12.7,0,0,3,0,0.19\\n38127,GAL_index,\"CBA/J\",m,-11.7,0,0,3,0,0.29\\n38127,GAL_index,\"CE/J\",m,-15.5,0,0,3,0,-0.08\\n38127,GAL_index,\"DBA/2J\",m,-13.1,0,0,3,0,0.16\\n38127,GAL_index,\"FVB/NJ\",m,-7.79,0,0,3,0,0.68\\n38127,GAL_index,\"I/LnJ\",m,-29.2,0,0,3,0,-1.44\\n38127,GAL_index,\"LG/J\",m,-13.5,0,0,3,0,0.12\\n38127,GAL_index,\"LP/J\",m,-22.1,0,0,3,0,-0.74\\n38127,GAL_index,\"MA/MyJ\",m,-22.7,0,0,3,0,-0.80\\n38127,GAL_index,\"MRL/MpJ\",m,-43.2,0,0,3,0,-2.83\\n38127,GAL_index,\"NOD/ShiLtJ\",m,-34.8,0,0,3,0,-2.00\\n38127,GAL_index,\"NOR/LtJ\",m,-8.04,0,0,3,0,0.66\\n38127,GAL_index,\"NZB/BlNJ\",m,-7.18,0,0,3,0,0.74\\n38127,GAL_index,\"NZW/LacJ\",m,-28.0,0,0,3,0,-1.32\\n38127,GAL_index,\"P/J\",m,-16.3,0,0,3,0,-0.16\\n38127,GAL_index,\"PL/J\",m,-12.8,0,0,3,0,0.18\\n38127,GAL_index,\"RIIIS/J\",m,-11.6,0,0,3,0,0.30\\n38127,GAL_index,\"SJL/J\",m,-10.7,0,0,3,0,0.39\\n38127,GAL_index,\"SM/J\",m,-9.32,0,0,3,0,0.53\\n38127,GAL_index,\"SWR/J\",m,-10.9,0,0,3,0,0.37\\n38128,GFAP_cont,\"129S1/SvImJ\",m,2.25,0.0290,0.0167,3,0.0129,-0.40\\n38128,GFAP_cont,\"A/J\",m,2.10,0.0770,0.0445,3,0.0366,-0.59\\n38128,GFAP_cont,\"AKR/J\",m,3.05,0.0480,0.0277,3,0.0157,0.66\\n38128,GFAP_cont,\"BALB/cJ\",m,3.81,0.128,0.0739,3,0.0336,1.67\\n38128,GFAP_cont,\"BTBR T<+> Itpr3<tf>/J\",m,1.92,0.0330,0.0191,3,0.0172,-0.83\\n38128,GFAP_cont,\"BUB/BnJ\",m,2.69,0.133,0.0768,3,0.0494,0.19\\n38128,GFAP_cont,\"C3H/HeJ\",m,2.13,0.0400,0.0231,3,0.0188,-0.55\\n38128,GFAP_cont,\"C57BL/6J\",m,1.82,0.193,0.111,3,0.106,-0.96\\n38128,GFAP_cont,\"C57BLKS/J\",m,1.97,0.0590,0.0341,3,0.0299,-0.77\\n38128,GFAP_cont,\"C57BR/cdJ\",m,2.31,0.121,0.0699,3,0.0524,-0.32\\n38128,GFAP_cont,\"C58/J\",m,2.11,0.0790,0.0456,3,0.0374,-0.58\\n38128,GFAP_cont,\"CBA/J\",m,2.63,0.0770,0.0445,3,0.0293,0.11\\n38128,GFAP_cont,\"CE/J\",m,1.96,0.0330,0.0191,3,0.0168,-0.78\\n38128,GFAP_cont,\"DBA/2J\",m,1.74,0.0760,0.0439,3,0.0437,-1.07\\n38128,GFAP_cont,\"FVB/NJ\",m,2.67,0.102,0.0589,3,0.0382,0.16\\n38128,GFAP_cont,\"I/LnJ\",m,1.70,0.0570,0.0329,3,0.0335,-1.12\\n38128,GFAP_cont,\"LG/J\",m,2.53,0.113,0.0652,3,0.0446,-0.03\\n38128,GFAP_cont,\"LP/J\",m,2.15,0.0570,0.0329,3,0.0265,-0.53\\n38128,GFAP_cont,\"MA/MyJ\",m,2.47,0.108,0.0624,3,0.0437,-0.10\\n38128,GFAP_cont,\"MRL/MpJ\",m,2.60,0.0340,0.0196,3,0.0131,0.07\\n38128,GFAP_cont,\"NOD/ShiLtJ\",m,2.87,0.0410,0.0237,3,0.0143,0.42\\n38128,GFAP_cont,\"NOR/LtJ\",m,2.20,0.147,0.0849,3,0.0668,-0.46\\n38128,GFAP_cont,\"NZB/BlNJ\",m,3.08,0.168,0.0970,3,0.0545,0.70\\n38128,GFAP_cont,\"NZW/LacJ\",m,3.48,0.0910,0.0525,3,0.0262,1.23\\n38128,GFAP_cont,\"P/J\",m,2.56,0.0400,0.0231,3,0.0156,0.01\\n38128,GFAP_cont,\"PL/J\",m,2.09,0.0490,0.0283,3,0.0234,-0.61\\n38128,GFAP_cont,\"RIIIS/J\",m,5.47,0.144,0.0831,3,0.0263,3.86\\n38128,GFAP_cont,\"SJL/J\",m,3.16,0.0420,0.0242,3,0.0133,0.81\\n38128,GFAP_cont,\"SM/J\",m,2.08,0.0240,0.0139,3,0.0116,-0.62\\n38128,GFAP_cont,\"SWR/J\",m,2.87,0.180,0.104,3,0.0627,0.42\\n38129,GFAP_fluox,\"129S1/SvImJ\",m,1.51,0.0250,0.0144,3,0.0166,-0.91\\n38129,GFAP_fluox,\"A/J\",m,2.41,0.0580,0.0335,3,0.0241,-0.36\\n38129,GFAP_fluox,\"AKR/J\",m,1.51,0.0620,0.0358,3,0.0410,-0.91\\n38129,GFAP_fluox,\"BALB/cJ\",m,3.32,0.299,0.173,3,0.0901,0.21\\n38129,GFAP_fluox,\"BTBR T<+> Itpr3<tf>/J\",m,2.18,0.140,0.0808,3,0.0642,-0.50\\n38129,GFAP_fluox,\"BUB/BnJ\",m,2.23,0.141,0.0814,3,0.0633,-0.47\\n38129,GFAP_fluox,\"C3H/HeJ\",m,2.22,0.101,0.0583,3,0.0456,-0.48\\n38129,GFAP_fluox,\"C57BL/6J\",m,2.06,0.0280,0.0162,3,0.0136,-0.57\\n38129,GFAP_fluox,\"C57BLKS/J\",m,1.97,0.0470,0.0271,3,0.0239,-0.63\\n38129,GFAP_fluox,\"C57BR/cdJ\",m,2.22,0.0670,0.0387,3,0.0302,-0.48\\n38129,GFAP_fluox,\"C58/J\",m,7.94,0.151,0.0872,3,0.0190,3.07\\n38129,GFAP_fluox,\"CBA/J\",m,5.02,0.105,0.0606,3,0.0209,1.26\\n38129,GFAP_fluox,\"CE/J\",m,1.77,0.0640,0.0370,3,0.0362,-0.75\\n38129,GFAP_fluox,\"DBA/2J\",m,6.81,0.179,0.103,3,0.0263,2.37\\n38129,GFAP_fluox,\"FVB/NJ\",m,3.07,0.159,0.0918,3,0.0517,0.05\\n38129,GFAP_fluox,\"I/LnJ\",m,1.72,0.113,0.0652,3,0.0656,-0.78\\n38129,GFAP_fluox,\"LG/J\",m,2.86,0.138,0.0797,3,0.0482,-0.08\\n38129,GFAP_fluox,\"LP/J\",m,1.21,0.0660,0.0381,3,0.0546,-1.10\\n38129,GFAP_fluox,\"MA/MyJ\",m,3.73,0.133,0.0768,3,0.0356,0.46\\n38129,GFAP_fluox,\"MRL/MpJ\",m,3.06,0.202,0.117,3,0.0661,0.04\\n38129,GFAP_fluox,\"NOD/ShiLtJ\",m,2.93,0.198,0.114,3,0.0675,-0.04\\n38129,GFAP_fluox,\"NOR/LtJ\",m,2.22,0.116,0.0670,3,0.0523,-0.48\\n38129,GFAP_fluox,\"NZB/BlNJ\",m,2.56,0.127,0.0733,3,0.0496,-0.26\\n38129,GFAP_fluox,\"NZW/LacJ\",m,1.34,0.104,0.0600,3,0.0776,-1.02\\n38129,GFAP_fluox,\"P/J\",m,6.50,0.171,0.0987,3,0.0263,2.17\\n38129,GFAP_fluox,\"PL/J\",m,2.42,0.0860,0.0497,3,0.0355,-0.35\\n38129,GFAP_fluox,\"RIIIS/J\",m,3.13,0.181,0.105,3,0.0578,0.09\\n38129,GFAP_fluox,\"SJL/J\",m,3.04,0.200,0.115,3,0.0659,0.03\\n38129,GFAP_fluox,\"SM/J\",m,3.17,0.0920,0.0531,3,0.0291,0.11\\n38129,GFAP_fluox,\"SWR/J\",m,3.50,0.360,0.208,3,0.103,0.32\\n38130,GFAP_index,\"129S1/SvImJ\",m,-17.3,0,0,3,0,-0.94\\n38130,GFAP_index,\"A/J\",m,5.83,0,0,3,0,0.10\\n38130,GFAP_index,\"AKR/J\",m,-30.5,0,0,3,0,-1.54\\n38130,GFAP_index,\"BALB/cJ\",m,-6.03,0,0,3,0,-0.43\\n38130,GFAP_index,\"BTBR T<+> Itpr3<tf>/J\",m,5.46,0,0,3,0,0.09\\n38130,GFAP_index,\"BUB/BnJ\",m,-8.22,0,0,3,0,-0.53\\n38130,GFAP_index,\"C3H/HeJ\",m,1.80,0,0,3,0,-0.08\\n38130,GFAP_index,\"C57BL/6J\",m,5.27,0,0,3,0,0.08\\n38130,GFAP_index,\"C57BLKS/J\",m,-0.146,0,0,3,0,-0.17\\n38130,GFAP_index,\"C57BR/cdJ\",m,-1.63,0,0,3,0,-0.23\\n38130,GFAP_index,\"C58/J\",m,57.5,0,0,3,0,2.44\\n38130,GFAP_index,\"CBA/J\",m,28.0,0,0,3,0,1.11\\n38130,GFAP_index,\"CE/J\",m,-4.43,0,0,3,0,-0.36\\n38130,GFAP_index,\"DBA/2J\",m,59.2,0,0,3,0,2.52\\n38130,GFAP_index,\"FVB/NJ\",m,6.09,0,0,3,0,0.11\\n38130,GFAP_index,\"I/LnJ\",m,0.553,0,0,3,0,-0.14\\n38130,GFAP_index,\"LG/J\",m,5.31,0,0,3,0,0.08\\n38130,GFAP_index,\"LP/J\",m,-25.0,0,0,3,0,-1.29\\n38130,GFAP_index,\"MA/MyJ\",m,17.9,0,0,3,0,0.65\\n38130,GFAP_index,\"MRL/MpJ\",m,7.09,0,0,3,0,0.16\\n38130,GFAP_index,\"NOD/ShiLtJ\",m,1.02,0,0,3,0,-0.11\\n38130,GFAP_index,\"NOR/LtJ\",m,0.363,0,0,3,0,-0.14\\n38130,GFAP_index,\"NZB/BlNJ\",m,-8.03,0,0,3,0,-0.52\\n38130,GFAP_index,\"NZW/LacJ\",m,-41.4,0,0,3,0,-2.03\\n38130,GFAP_index,\"P/J\",m,40.4,0,0,3,0,1.67\\n38130,GFAP_index,\"PL/J\",m,6.37,0,0,3,0,0.13\\n38130,GFAP_index,\"RIIIS/J\",m,-24.2,0,0,3,0,-1.25\\n38130,GFAP_index,\"SJL/J\",m,-1.76,0,0,3,0,-0.24\\n38130,GFAP_index,\"SM/J\",m,18.3,0,0,3,0,0.67\\n38130,GFAP_index,\"SWR/J\",m,8.64,0,0,3,0,0.23\\n38131,GHRL_cont,\"129S1/SvImJ\",m,0.347,0.0100,0.00577,3,0.0288,-1.39\\n38131,GHRL_cont,\"A/J\",m,0.375,0.0110,0.00635,3,0.0293,-0.87\\n38131,GHRL_cont,\"AKR/J\",m,0.385,0.0150,0.00866,3,0.0390,-0.69\\n38131,GHRL_cont,\"BALB/cJ\",m,0.370,0.0220,0.0127,3,0.0595,-0.96\\n38131,GHRL_cont,\"BTBR T<+> Itpr3<tf>/J\",m,0.421,0.0240,0.0139,3,0.0570,-0.02\\n38131,GHRL_cont,\"BUB/BnJ\",m,0.439,0.0130,0.00751,3,0.0296,0.31\\n38131,GHRL_cont,\"C3H/HeJ\",m,0.406,0.0170,0.00981,3,0.0419,-0.30\\n38131,GHRL_cont,\"C57BL/6J\",m,0.307,0.0380,0.0219,3,0.124,-2.13\\n38131,GHRL_cont,\"C57BLKS/J\",m,0.354,0.0150,0.00866,3,0.0424,-1.26\\n38131,GHRL_cont,\"C57BR/cdJ\",m,0.354,0.0140,0.00808,3,0.0395,-1.26\\n38131,GHRL_cont,\"C58/J\",m,0.395,0.0120,0.00693,3,0.0304,-0.50\\n38131,GHRL_cont,\"CBA/J\",m,0.448,0.0140,0.00808,3,0.0312,0.48\\n38131,GHRL_cont,\"CE/J\",m,0.384,0.0190,0.0110,3,0.0495,-0.70\\n38131,GHRL_cont,\"DBA/2J\",m,0.373,0.0190,0.0110,3,0.0509,-0.91\\n38131,GHRL_cont,\"FVB/NJ\",m,0.443,0.0270,0.0156,3,0.0609,0.39\\n38131,GHRL_cont,\"I/LnJ\",m,0.413,0.0250,0.0144,3,0.0605,-0.17\\n38131,GHRL_cont,\"LG/J\",m,0.463,0.0170,0.00981,3,0.0367,0.76\\n38131,GHRL_cont,\"LP/J\",m,0.490,0.0260,0.0150,3,0.0531,1.26\\n38131,GHRL_cont,\"MA/MyJ\",m,0.386,0.0140,0.00808,3,0.0363,-0.67\\n38131,GHRL_cont,\"MRL/MpJ\",m,0.458,0.0140,0.00808,3,0.0306,0.67\\n38131,GHRL_cont,\"NOD/ShiLtJ\",m,0.474,0.0130,0.00751,3,0.0274,0.96\\n38131,GHRL_cont,\"NOR/LtJ\",m,0.400,0.0100,0.00577,3,0.0250,-0.41\\n38131,GHRL_cont,\"NZB/BlNJ\",m,0.498,0.0130,0.00751,3,0.0261,1.41\\n38131,GHRL_cont,\"NZW/LacJ\",m,0.527,0.0150,0.00866,3,0.0285,1.95\\n38131,GHRL_cont,\"P/J\",m,0.492,0.0210,0.0121,3,0.0427,1.30\\n38131,GHRL_cont,\"PL/J\",m,0.487,0.0150,0.00866,3,0.0308,1.20\\n38131,GHRL_cont,\"RIIIS/J\",m,0.451,0.00900,0.00520,3,0.0200,0.54\\n38131,GHRL_cont,\"SJL/J\",m,0.472,0.0130,0.00751,3,0.0275,0.93\\n38131,GHRL_cont,\"SM/J\",m,0.459,0.0150,0.00866,3,0.0327,0.69\\n38131,GHRL_cont,\"SWR/J\",m,0.389,0.0120,0.00693,3,0.0308,-0.61\\n38132,GHRL_fluox,\"129S1/SvImJ\",m,0.238,0.0190,0.0110,3,0.0798,-1.50\\n38132,GHRL_fluox,\"A/J\",m,0.422,0.0340,0.0196,3,0.0806,1.72\\n38132,GHRL_fluox,\"AKR/J\",m,0.392,0.0280,0.0162,3,0.0714,1.19\\n38132,GHRL_fluox,\"BALB/cJ\",m,0.347,0.0260,0.0150,3,0.0749,0.41\\n38132,GHRL_fluox,\"BTBR T<+> Itpr3<tf>/J\",m,0.315,0.0230,0.0133,3,0.0730,-0.16\\n38132,GHRL_fluox,\"BUB/BnJ\",m,0.338,0.0130,0.00751,3,0.0385,0.25\\n38132,GHRL_fluox,\"C3H/HeJ\",m,0.297,0.0200,0.0115,3,0.0673,-0.47\\n38132,GHRL_fluox,\"C57BL/6J\",m,0.377,0.0120,0.00693,3,0.0318,0.93\\n38132,GHRL_fluox,\"C57BLKS/J\",m,0.230,0.0190,0.0110,3,0.0826,-1.64\\n38132,GHRL_fluox,\"C57BR/cdJ\",m,0.319,0.0150,0.00866,3,0.0470,-0.09\\n38132,GHRL_fluox,\"C58/J\",m,0.351,0.0210,0.0121,3,0.0598,0.48\\n38132,GHRL_fluox,\"CBA/J\",m,0.342,0.0170,0.00981,3,0.0497,0.32\\n38132,GHRL_fluox,\"CE/J\",m,0.299,0.0170,0.00981,3,0.0569,-0.44\\n38132,GHRL_fluox,\"DBA/2J\",m,0.332,0.0130,0.00751,3,0.0392,0.14\\n38132,GHRL_fluox,\"FVB/NJ\",m,0.348,0.0230,0.0133,3,0.0661,0.42\\n38132,GHRL_fluox,\"I/LnJ\",m,0.300,0.0180,0.0104,3,0.0600,-0.42\\n38132,GHRL_fluox,\"LG/J\",m,0.384,0.0140,0.00808,3,0.0365,1.05\\n38132,GHRL_fluox,\"LP/J\",m,0.149,0.0110,0.00635,3,0.0738,-3.06\\n38132,GHRL_fluox,\"MA/MyJ\",m,0.347,0.0130,0.00751,3,0.0375,0.41\\n38132,GHRL_fluox,\"MRL/MpJ\",m,0.321,0.0100,0.00577,3,0.0312,-0.05\\n38132,GHRL_fluox,\"NOD/ShiLtJ\",m,0.327,0.0130,0.00751,3,0.0398,0.05\\n38132,GHRL_fluox,\"NOR/LtJ\",m,0.311,0.0100,0.00577,3,0.0322,-0.23\\n38132,GHRL_fluox,\"NZB/BlNJ\",m,0.312,0.0100,0.00577,3,0.0321,-0.21\\n38132,GHRL_fluox,\"NZW/LacJ\",m,0.210,0.00900,0.00520,3,0.0429,-2.00\\n38132,GHRL_fluox,\"P/J\",m,0.384,0.0150,0.00866,3,0.0391,1.05\\n38132,GHRL_fluox,\"PL/J\",m,0.330,0.0130,0.00751,3,0.0394,0.11\\n38132,GHRL_fluox,\"RIIIS/J\",m,0.336,0.0100,0.00577,3,0.0298,0.21\\n38132,GHRL_fluox,\"SJL/J\",m,0.313,0.0140,0.00808,3,0.0447,-0.19\\n38132,GHRL_fluox,\"SM/J\",m,0.367,0.0140,0.00808,3,0.0381,0.76\\n38132,GHRL_fluox,\"SWR/J\",m,0.378,0.0140,0.00808,3,0.0370,0.95\\n38133,GHRL_index,\"129S1/SvImJ\",m,-16.4,0,0,3,0,-0.38\\n38133,GHRL_index,\"A/J\",m,5.12,0,0,3,0,1.47\\n38133,GHRL_index,\"AKR/J\",m,0.768,0,0,3,0,1.10\\n38133,GHRL_index,\"BALB/cJ\",m,-2.84,0,0,3,0,0.78\\n38133,GHRL_index,\"BTBR T<+> Itpr3<tf>/J\",m,-12.6,0,0,3,0,-0.06\\n38133,GHRL_index,\"BUB/BnJ\",m,-11.3,0,0,3,0,0.06\\n38133,GHRL_index,\"C3H/HeJ\",m,-13.6,0,0,3,0,-0.14\\n38133,GHRL_index,\"C57BL/6J\",m,8.93,0,0,3,0,1.80\\n38133,GHRL_index,\"C57BLKS/J\",m,-18.8,0,0,3,0,-0.59\\n38133,GHRL_index,\"C57BR/cdJ\",m,-4.53,0,0,3,0,0.64\\n38133,GHRL_index,\"C58/J\",m,-5.07,0,0,3,0,0.59\\n38133,GHRL_index,\"CBA/J\",m,-11.8,0,0,3,0,0.01\\n38133,GHRL_index,\"CE/J\",m,-10.8,0,0,3,0,0.10\\n38133,GHRL_index,\"DBA/2J\",m,-4.99,0,0,3,0,0.60\\n38133,GHRL_index,\"FVB/NJ\",m,-10.5,0,0,3,0,0.13\\n38133,GHRL_index,\"I/LnJ\",m,-13.8,0,0,3,0,-0.16\\n38133,GHRL_index,\"LG/J\",m,-8.18,0,0,3,0,0.33\\n38133,GHRL_index,\"LP/J\",m,-51.6,0,0,3,0,-3.41\\n38133,GHRL_index,\"MA/MyJ\",m,-4.57,0,0,3,0,0.64\\n38133,GHRL_index,\"MRL/MpJ\",m,-15.5,0,0,3,0,-0.31\\n38133,GHRL_index,\"NOD/ShiLtJ\",m,-16.1,0,0,3,0,-0.36\\n38133,GHRL_index,\"NOR/LtJ\",m,-11.0,0,0,3,0,0.08\\n38133,GHRL_index,\"NZB/BlNJ\",m,-20.4,0,0,3,0,-0.73\\n38133,GHRL_index,\"NZW/LacJ\",m,-40.1,0,0,3,0,-2.42\\n38133,GHRL_index,\"P/J\",m,-10.7,0,0,3,0,0.11\\n38133,GHRL_index,\"PL/J\",m,-16.8,0,0,3,0,-0.42\\n38133,GHRL_index,\"RIIIS/J\",m,-12.8,0,0,3,0,-0.07\\n38133,GHRL_index,\"SJL/J\",m,-17.7,0,0,3,0,-0.49\\n38133,GHRL_index,\"SM/J\",m,-9.79,0,0,3,0,0.19\\n38133,GHRL_index,\"SWR/J\",m,-1.25,0,0,3,0,0.92\\n38134,GIRK3_cont,\"129S1/SvImJ\",m,0.361,0.00600,0.00346,3,0.0166,0.15\\n38134,GIRK3_cont,\"A/J\",m,0.355,0.00700,0.00404,3,0.0197,-0.07\\n38134,GIRK3_cont,\"AKR/J\",m,0.348,0.00900,0.00520,3,0.0259,-0.32\\n38134,GIRK3_cont,\"BALB/cJ\",m,0.370,0.0110,0.00635,3,0.0297,0.48\\n38134,GIRK3_cont,\"BTBR T<+> Itpr3<tf>/J\",m,0.370,0.00600,0.00346,3,0.0162,0.48\\n38134,GIRK3_cont,\"BUB/BnJ\",m,0.342,0.00900,0.00520,3,0.0263,-0.54\\n38134,GIRK3_cont,\"C3H/HeJ\",m,0.379,0.0140,0.00808,3,0.0369,0.82\\n38134,GIRK3_cont,\"C57BL/6J\",m,0.346,0.0180,0.0104,3,0.0520,-0.40\\n38134,GIRK3_cont,\"C57BLKS/J\",m,0.304,0.00800,0.00462,3,0.0263,-1.94\\n38134,GIRK3_cont,\"C57BR/cdJ\",m,0.329,0.00700,0.00404,3,0.0213,-1.02\\n38134,GIRK3_cont,\"C58/J\",m,0.366,0.0110,0.00635,3,0.0301,0.34\\n38134,GIRK3_cont,\"CBA/J\",m,0.368,0.0110,0.00635,3,0.0299,0.41\\n38134,GIRK3_cont,\"CE/J\",m,0.340,0.00800,0.00462,3,0.0235,-0.62\\n38134,GIRK3_cont,\"DBA/2J\",m,0.281,0.00600,0.00346,3,0.0214,-2.78\\n38134,GIRK3_cont,\"FVB/NJ\",m,0.339,0.0210,0.0121,3,0.0619,-0.65\\n38134,GIRK3_cont,\"I/LnJ\",m,0.347,0.00800,0.00462,3,0.0231,-0.36\\n38134,GIRK3_cont,\"LG/J\",m,0.360,0.0110,0.00635,3,0.0306,0.12\\n38134,GIRK3_cont,\"LP/J\",m,0.383,0.0140,0.00808,3,0.0366,0.96\\n38134,GIRK3_cont,\"MA/MyJ\",m,0.358,0.00600,0.00346,3,0.0168,0.04\\n38134,GIRK3_cont,\"MRL/MpJ\",m,0.358,0.0100,0.00577,3,0.0279,0.04\\n38134,GIRK3_cont,\"NOD/ShiLtJ\",m,0.353,0.00700,0.00404,3,0.0198,-0.14\\n38134,GIRK3_cont,\"NOR/LtJ\",m,0.315,0.00700,0.00404,3,0.0222,-1.54\\n38134,GIRK3_cont,\"NZB/BlNJ\",m,0.396,0.00800,0.00462,3,0.0202,1.44\\n38134,GIRK3_cont,\"NZW/LacJ\",m,0.411,0.0160,0.00924,3,0.0389,1.99\\n38134,GIRK3_cont,\"P/J\",m,0.402,0.0150,0.00866,3,0.0373,1.66\\n38134,GIRK3_cont,\"PL/J\",m,0.358,0.00600,0.00346,3,0.0168,0.04\\n38134,GIRK3_cont,\"RIIIS/J\",m,0.366,0.00900,0.00520,3,0.0246,0.34\\n38134,GIRK3_cont,\"SJL/J\",m,0.359,0.0130,0.00751,3,0.0362,0.08\\n38134,GIRK3_cont,\"SM/J\",m,0.387,0.0110,0.00635,3,0.0284,1.11\\n38134,GIRK3_cont,\"SWR/J\",m,0.353,0.0130,0.00751,3,0.0368,-0.14\\n38135,GIRK3_fluox,\"129S1/SvImJ\",m,0.327,0.00700,0.00404,3,0.0214,-0.48\\n38135,GIRK3_fluox,\"A/J\",m,0.347,0.00800,0.00462,3,0.0231,0.22\\n38135,GIRK3_fluox,\"AKR/J\",m,0.331,0.0110,0.00635,3,0.0332,-0.34\\n38135,GIRK3_fluox,\"BALB/cJ\",m,0.326,0.0100,0.00577,3,0.0307,-0.52\\n38135,GIRK3_fluox,\"BTBR T<+> Itpr3<tf>/J\",m,0.362,0.00600,0.00346,3,0.0166,0.75\\n38135,GIRK3_fluox,\"BUB/BnJ\",m,0.356,0.0150,0.00866,3,0.0421,0.54\\n38135,GIRK3_fluox,\"C3H/HeJ\",m,0.367,0.00700,0.00404,3,0.0191,0.93\\n38135,GIRK3_fluox,\"C57BL/6J\",m,0.335,0.0120,0.00693,3,0.0358,-0.20\\n38135,GIRK3_fluox,\"C57BLKS/J\",m,0.328,0.0130,0.00751,3,0.0396,-0.45\\n38135,GIRK3_fluox,\"C57BR/cdJ\",m,0.343,0.0120,0.00693,3,0.0350,0.08\\n38135,GIRK3_fluox,\"C58/J\",m,0.373,0.00800,0.00462,3,0.0214,1.14\\n38135,GIRK3_fluox,\"CBA/J\",m,0.375,0.0110,0.00635,3,0.0293,1.21\\n38135,GIRK3_fluox,\"CE/J\",m,0.324,0.00600,0.00346,3,0.0185,-0.59\\n38135,GIRK3_fluox,\"DBA/2J\",m,0.314,0.0110,0.00635,3,0.0350,-0.94\\n38135,GIRK3_fluox,\"FVB/NJ\",m,0.352,0.0180,0.0104,3,0.0511,0.40\\n38135,GIRK3_fluox,\"I/LnJ\",m,0.350,0.0140,0.00808,3,0.0400,0.33\\n38135,GIRK3_fluox,\"LG/J\",m,0.385,0.0130,0.00751,3,0.0338,1.56\\n38135,GIRK3_fluox,\"LP/J\",m,0.262,0.0110,0.00635,3,0.0420,-2.77\\n38135,GIRK3_fluox,\"MA/MyJ\",m,0.323,0.0150,0.00866,3,0.0464,-0.62\\n38135,GIRK3_fluox,\"MRL/MpJ\",m,0.325,0.0120,0.00693,3,0.0369,-0.55\\n38135,GIRK3_fluox,\"NOD/ShiLtJ\",m,0.359,0.00800,0.00462,3,0.0223,0.64\\n38135,GIRK3_fluox,\"NOR/LtJ\",m,0.323,0.00900,0.00520,3,0.0279,-0.62\\n38135,GIRK3_fluox,\"NZB/BlNJ\",m,0.330,0.0100,0.00577,3,0.0303,-0.38\\n38135,GIRK3_fluox,\"NZW/LacJ\",m,0.270,0.00900,0.00520,3,0.0333,-2.49\\n38135,GIRK3_fluox,\"P/J\",m,0.347,0.0130,0.00751,3,0.0375,0.22\\n38135,GIRK3_fluox,\"PL/J\",m,0.363,0.0140,0.00808,3,0.0386,0.79\\n38135,GIRK3_fluox,\"RIIIS/J\",m,0.378,0.0150,0.00866,3,0.0397,1.31\\n38135,GIRK3_fluox,\"SJL/J\",m,0.334,0.0110,0.00635,3,0.0329,-0.23\\n38135,GIRK3_fluox,\"SM/J\",m,0.333,0.0150,0.00866,3,0.0450,-0.27\\n38135,GIRK3_fluox,\"SWR/J\",m,0.378,0.0100,0.00577,3,0.0265,1.31\\n38136,GIRK3_index,\"129S1/SvImJ\",m,-4.28,0,0,3,0,-0.42\\n38136,GIRK3_index,\"A/J\",m,-1.07,0,0,3,0,0.18\\n38136,GIRK3_index,\"AKR/J\",m,-2.09,0,0,3,0,-0.01\\n38136,GIRK3_index,\"BALB/cJ\",m,-5.41,0,0,3,0,-0.64\\n38136,GIRK3_index,\"BTBR T<+> Itpr3<tf>/J\",m,-0.967,0,0,3,0,0.20\\n38136,GIRK3_index,\"BUB/BnJ\",m,1.64,0,0,3,0,0.70\\n38136,GIRK3_index,\"C3H/HeJ\",m,-1.41,0,0,3,0,0.12\\n38136,GIRK3_index,\"C57BL/6J\",m,-1.40,0,0,3,0,0.12\\n38136,GIRK3_index,\"C57BLKS/J\",m,3.25,0,0,3,0,1.01\\n38136,GIRK3_index,\"C57BR/cdJ\",m,1.75,0,0,3,0,0.72\\n38136,GIRK3_index,\"C58/J\",m,0.772,0,0,3,0,0.53\\n38136,GIRK3_index,\"CBA/J\",m,0.754,0,0,3,0,0.53\\n38136,GIRK3_index,\"CE/J\",m,-2.11,0,0,3,0,-0.01\\n38136,GIRK3_index,\"DBA/2J\",m,4.92,0,0,3,0,1.32\\n38136,GIRK3_index,\"FVB/NJ\",m,1.65,0,0,3,0,0.70\\n38136,GIRK3_index,\"I/LnJ\",m,0.401,0,0,3,0,0.46\\n38136,GIRK3_index,\"LG/J\",m,2.90,0,0,3,0,0.94\\n38136,GIRK3_index,\"LP/J\",m,-16.6,0,0,3,0,-2.77\\n38136,GIRK3_index,\"MA/MyJ\",m,-4.44,0,0,3,0,-0.46\\n38136,GIRK3_index,\"MRL/MpJ\",m,-4.21,0,0,3,0,-0.41\\n38136,GIRK3_index,\"NOD/ShiLtJ\",m,0.667,0,0,3,0,0.51\\n38136,GIRK3_index,\"NOR/LtJ\",m,1.10,0,0,3,0,0.60\\n38136,GIRK3_index,\"NZB/BlNJ\",m,-7.95,0,0,3,0,-1.12\\n38136,GIRK3_index,\"NZW/LacJ\",m,-18.2,0,0,3,0,-3.07\\n38136,GIRK3_index,\"P/J\",m,-6.37,0,0,3,0,-0.82\\n38136,GIRK3_index,\"PL/J\",m,0.581,0,0,3,0,0.50\\n38136,GIRK3_index,\"RIIIS/J\",m,1.43,0,0,3,0,0.66\\n38136,GIRK3_index,\"SJL/J\",m,-3.14,0,0,3,0,-0.21\\n38136,GIRK3_index,\"SM/J\",m,-6.49,0,0,3,0,-0.84\\n38136,GIRK3_index,\"SWR/J\",m,3.02,0,0,3,0,0.96\\n38137,GLO1_cont,\"129S1/SvImJ\",m,3.49,0.176,0.102,3,0.0505,-0.99\\n38137,GLO1_cont,\"A/J\",m,6.21,0.163,0.0941,3,0.0262,1.91\\n38137,GLO1_cont,\"AKR/J\",m,5.93,0.195,0.113,3,0.0329,1.62\\n38137,GLO1_cont,\"BALB/cJ\",m,4.04,0.307,0.177,3,0.0760,-0.40\\n38137,GLO1_cont,\"BTBR T<+> Itpr3<tf>/J\",m,4.17,0.132,0.0762,3,0.0316,-0.26\\n38137,GLO1_cont,\"BUB/BnJ\",m,4.34,0.188,0.109,3,0.0433,-0.08\\n38137,GLO1_cont,\"C3H/HeJ\",m,4.38,0.254,0.147,3,0.0580,-0.04\\n38137,GLO1_cont,\"C57BL/6J\",m,2.96,0.396,0.229,3,0.134,-1.55\\n38137,GLO1_cont,\"C57BLKS/J\",m,5.02,0.185,0.107,3,0.0368,0.64\\n38137,GLO1_cont,\"C57BR/cdJ\",m,3.10,0.0970,0.0560,3,0.0313,-1.41\\n38137,GLO1_cont,\"C58/J\",m,3.78,0.143,0.0826,3,0.0379,-0.68\\n38137,GLO1_cont,\"CBA/J\",m,5.70,0.147,0.0849,3,0.0258,1.37\\n38137,GLO1_cont,\"CE/J\",m,4.84,0.120,0.0693,3,0.0248,0.45\\n38137,GLO1_cont,\"DBA/2J\",m,4.04,0.206,0.119,3,0.0510,-0.40\\n38137,GLO1_cont,\"FVB/NJ\",m,4.61,0.210,0.121,3,0.0456,0.21\\n38137,GLO1_cont,\"I/LnJ\",m,4.11,0.155,0.0895,3,0.0377,-0.33\\n38137,GLO1_cont,\"LG/J\",m,4.27,0.184,0.106,3,0.0431,-0.16\\n38137,GLO1_cont,\"LP/J\",m,6.51,0.168,0.0970,3,0.0258,2.24\\n38137,GLO1_cont,\"MA/MyJ\",m,2.88,0.109,0.0629,3,0.0379,-1.64\\n38137,GLO1_cont,\"MRL/MpJ\",m,4.91,0.184,0.106,3,0.0375,0.53\\n38137,GLO1_cont,\"NOD/ShiLtJ\",m,4.34,0.207,0.120,3,0.0477,-0.08\\n38137,GLO1_cont,\"NOR/LtJ\",m,2.66,0.155,0.0895,3,0.0582,-1.87\\n38137,GLO1_cont,\"NZB/BlNJ\",m,4.98,0.175,0.101,3,0.0352,0.60\\n38137,GLO1_cont,\"NZW/LacJ\",m,5.37,0.159,0.0918,3,0.0296,1.02\\n38137,GLO1_cont,\"P/J\",m,4.01,0.211,0.122,3,0.0527,-0.43\\n38137,GLO1_cont,\"PL/J\",m,4.35,0.104,0.0600,3,0.0239,-0.07\\n38137,GLO1_cont,\"RIIIS/J\",m,4.98,0.184,0.106,3,0.0370,0.60\\n38137,GLO1_cont,\"SJL/J\",m,3.86,0.189,0.109,3,0.0490,-0.59\\n38137,GLO1_cont,\"SM/J\",m,4.39,0.197,0.114,3,0.0448,-0.03\\n38137,GLO1_cont,\"SWR/J\",m,4.26,0.122,0.0704,3,0.0287,-0.17\\n38138,GLO1_fluox,\"129S1/SvImJ\",m,1.77,0.263,0.152,3,0.149,-2.41\\n38138,GLO1_fluox,\"A/J\",m,3.61,0.462,0.267,3,0.128,-0.08\\n38138,GLO1_fluox,\"AKR/J\",m,3.83,0.283,0.163,3,0.0739,0.20\\n38138,GLO1_fluox,\"BALB/cJ\",m,2.99,0.270,0.156,3,0.0904,-0.86\\n38138,GLO1_fluox,\"BTBR T<+> Itpr3<tf>/J\",m,3.22,0.122,0.0704,3,0.0379,-0.57\\n38138,GLO1_fluox,\"BUB/BnJ\",m,3.67,0.124,0.0716,3,0.0338,0.00\\n38138,GLO1_fluox,\"C3H/HeJ\",m,3.71,0.163,0.0941,3,0.0440,0.05\\n38138,GLO1_fluox,\"C57BL/6J\",m,2.21,0.153,0.0883,3,0.0693,-1.86\\n38138,GLO1_fluox,\"C57BLKS/J\",m,3.57,0.142,0.0820,3,0.0398,-0.13\\n38138,GLO1_fluox,\"C57BR/cdJ\",m,3.35,0.154,0.0889,3,0.0460,-0.41\\n38138,GLO1_fluox,\"C58/J\",m,3.27,0.0620,0.0358,3,0.0189,-0.51\\n38138,GLO1_fluox,\"CBA/J\",m,4.64,0.177,0.102,3,0.0381,1.23\\n38138,GLO1_fluox,\"CE/J\",m,4.53,0.287,0.166,3,0.0634,1.09\\n38138,GLO1_fluox,\"DBA/2J\",m,4.17,0.150,0.0866,3,0.0360,0.64\\n38138,GLO1_fluox,\"FVB/NJ\",m,3.57,0.269,0.155,3,0.0754,-0.13\\n38138,GLO1_fluox,\"I/LnJ\",m,3.60,0.305,0.176,3,0.0847,-0.09\\n38138,GLO1_fluox,\"LG/J\",m,4.11,0.136,0.0785,3,0.0331,0.56\\n38138,GLO1_fluox,\"LP/J\",m,2.09,0.208,0.120,3,0.0993,-2.01\\n38138,GLO1_fluox,\"MA/MyJ\",m,3.73,0.100,0.0577,3,0.0268,0.08\\n38138,GLO1_fluox,\"MRL/MpJ\",m,5.30,0.138,0.0797,3,0.0260,2.07\\n38138,GLO1_fluox,\"NOD/ShiLtJ\",m,4.22,0.161,0.0930,3,0.0382,0.70\\n38138,GLO1_fluox,\"NOR/LtJ\",m,3.43,0.143,0.0826,3,0.0417,-0.30\\n38138,GLO1_fluox,\"NZB/BlNJ\",m,4.09,0.0990,0.0572,3,0.0242,0.53\\n38138,GLO1_fluox,\"NZW/LacJ\",m,2.75,0.221,0.128,3,0.0802,-1.17\\n38138,GLO1_fluox,\"P/J\",m,4.66,0.116,0.0670,3,0.0249,1.26\\n38138,GLO1_fluox,\"PL/J\",m,4.17,0.104,0.0600,3,0.0249,0.64\\n38138,GLO1_fluox,\"RIIIS/J\",m,4.07,0.182,0.105,3,0.0447,0.51\\n38138,GLO1_fluox,\"SJL/J\",m,3.41,0.140,0.0808,3,0.0410,-0.33\\n38138,GLO1_fluox,\"SM/J\",m,3.63,0.143,0.0826,3,0.0394,-0.05\\n38138,GLO1_fluox,\"SWR/J\",m,4.72,0.268,0.155,3,0.0568,1.34\\n38139,GLO1_index,\"129S1/SvImJ\",m,-29.5,0,0,3,0,-1.67\\n38139,GLO1_index,\"A/J\",m,-23.6,0,0,3,0,-1.21\\n38139,GLO1_index,\"AKR/J\",m,-19.0,0,0,3,0,-0.85\\n38139,GLO1_index,\"BALB/cJ\",m,-13.1,0,0,3,0,-0.39\\n38139,GLO1_index,\"BTBR T<+> Itpr3<tf>/J\",m,-11.2,0,0,3,0,-0.24\\n38139,GLO1_index,\"BUB/BnJ\",m,-7.38,0,0,3,0,0.06\\n38139,GLO1_index,\"C3H/HeJ\",m,-7.23,0,0,3,0,0.08\\n38139,GLO1_index,\"C57BL/6J\",m,-12.6,0,0,3,0,-0.35\\n38139,GLO1_index,\"C57BLKS/J\",m,-14.8,0,0,3,0,-0.52\\n38139,GLO1_index,\"C57BR/cdJ\",m,3.30,0,0,3,0,0.90\\n38139,GLO1_index,\"C58/J\",m,-6.22,0,0,3,0,0.15\\n38139,GLO1_index,\"CBA/J\",m,-8.90,0,0,3,0,-0.06\\n38139,GLO1_index,\"CE/J\",m,-2.89,0,0,3,0,0.42\\n38139,GLO1_index,\"DBA/2J\",m,1.33,0,0,3,0,0.75\\n38139,GLO1_index,\"FVB/NJ\",m,-11.1,0,0,3,0,-0.23\\n38139,GLO1_index,\"I/LnJ\",m,-5.75,0,0,3,0,0.19\\n38139,GLO1_index,\"LG/J\",m,-1.66,0,0,3,0,0.51\\n38139,GLO1_index,\"LP/J\",m,-49.3,0,0,3,0,-3.23\\n38139,GLO1_index,\"MA/MyJ\",m,11.3,0,0,3,0,1.53\\n38139,GLO1_index,\"MRL/MpJ\",m,3.38,0,0,3,0,0.91\\n38139,GLO1_index,\"NOD/ShiLtJ\",m,-1.19,0,0,3,0,0.55\\n38139,GLO1_index,\"NOR/LtJ\",m,11.0,0,0,3,0,1.51\\n38139,GLO1_index,\"NZB/BlNJ\",m,-8.54,0,0,3,0,-0.03\\n38139,GLO1_index,\"NZW/LacJ\",m,-29.0,0,0,3,0,-1.63\\n38139,GLO1_index,\"P/J\",m,6.58,0,0,3,0,1.16\\n38139,GLO1_index,\"PL/J\",m,-1.85,0,0,3,0,0.50\\n38139,GLO1_index,\"RIIIS/J\",m,-8.71,0,0,3,0,-0.04\\n38139,GLO1_index,\"SJL/J\",m,-5.31,0,0,3,0,0.23\\n38139,GLO1_index,\"SM/J\",m,-8.26,0,0,3,0,-0.01\\n38139,GLO1_index,\"SWR/J\",m,4.45,0,0,3,0,0.99\\n38140,GNB1_cont,\"129S1/SvImJ\",m,7.79,0.775,0.447,3,0.0995,-0.34\\n38140,GNB1_cont,\"A/J\",m,7.04,1.02,0.587,3,0.145,-0.73\\n38140,GNB1_cont,\"AKR/J\",m,8.02,0.936,0.540,3,0.117,-0.22\\n38140,GNB1_cont,\"BALB/cJ\",m,5.48,0.550,0.318,3,0.100,-1.54\\n38140,GNB1_cont,\"BTBR T<+> Itpr3<tf>/J\",m,9.31,0.299,0.173,3,0.0321,0.45\\n38140,GNB1_cont,\"BUB/BnJ\",m,9.14,0.664,0.383,3,0.0727,0.36\\n38140,GNB1_cont,\"C3H/HeJ\",m,7.24,0.380,0.219,3,0.0525,-0.63\\n38140,GNB1_cont,\"C57BL/6J\",m,7.98,0.190,0.110,3,0.0238,-0.24\\n38140,GNB1_cont,\"C57BLKS/J\",m,6.58,0.655,0.378,3,0.0996,-0.97\\n38140,GNB1_cont,\"C57BR/cdJ\",m,6.34,0.500,0.289,3,0.0788,-1.10\\n38140,GNB1_cont,\"C58/J\",m,5.68,0.435,0.251,3,0.0766,-1.44\\n38140,GNB1_cont,\"CBA/J\",m,10.5,0.484,0.279,3,0.0459,1.07\\n38140,GNB1_cont,\"CE/J\",m,8.51,0.584,0.337,3,0.0686,0.03\\n38140,GNB1_cont,\"DBA/2J\",m,7.52,0.705,0.407,3,0.0938,-0.48\\n38140,GNB1_cont,\"FVB/NJ\",m,6.89,0.626,0.361,3,0.0908,-0.81\\n38140,GNB1_cont,\"I/LnJ\",m,10.2,1.26,0.729,3,0.123,0.91\\n38140,GNB1_cont,\"LG/J\",m,7.45,0.255,0.147,3,0.0342,-0.52\\n38140,GNB1_cont,\"LP/J\",m,10.8,0.607,0.350,3,0.0561,1.22\\n38140,GNB1_cont,\"MA/MyJ\",m,6.59,0.729,0.421,3,0.111,-0.97\\n38140,GNB1_cont,\"MRL/MpJ\",m,9.11,0.687,0.397,3,0.0754,0.34\\n38140,GNB1_cont,\"NOD/ShiLtJ\",m,9.85,0.882,0.509,3,0.0895,0.73\\n38140,GNB1_cont,\"NOR/LtJ\",m,6.69,0.750,0.433,3,0.112,-0.92\\n38140,GNB1_cont,\"NZB/BlNJ\",m,14.2,1.11,0.639,3,0.0778,2.99\\n38140,GNB1_cont,\"NZW/LacJ\",m,11.7,0.658,0.380,3,0.0561,1.69\\n38140,GNB1_cont,\"P/J\",m,9.02,0.259,0.150,3,0.0287,0.30\\n38140,GNB1_cont,\"PL/J\",m,10.3,0.556,0.321,3,0.0540,0.96\\n38140,GNB1_cont,\"RIIIS/J\",m,8.49,0.411,0.237,3,0.0484,0.02\\n38140,GNB1_cont,\"SJL/J\",m,7.01,0.361,0.208,3,0.0515,-0.75\\n38140,GNB1_cont,\"SM/J\",m,8.31,0.338,0.195,3,0.0407,-0.07\\n38140,GNB1_cont,\"SWR/J\",m,9.77,0.715,0.413,3,0.0732,0.69\\n38141,GNB1_fluox,\"129S1/SvImJ\",m,8.43,0.654,0.378,3,0.0776,-0.08\\n38141,GNB1_fluox,\"A/J\",m,8.57,1.04,0.599,3,0.121,0.02\\n38141,GNB1_fluox,\"AKR/J\",m,8.39,0.611,0.353,3,0.0728,-0.11\\n38141,GNB1_fluox,\"BALB/cJ\",m,7.90,0.874,0.505,3,0.111,-0.44\\n38141,GNB1_fluox,\"BTBR T<+> Itpr3<tf>/J\",m,5.99,0.414,0.239,3,0.0691,-1.72\\n38141,GNB1_fluox,\"BUB/BnJ\",m,11.5,0.935,0.540,3,0.0810,1.99\\n38141,GNB1_fluox,\"C3H/HeJ\",m,9.70,0.855,0.494,3,0.0881,0.78\\n38141,GNB1_fluox,\"C57BL/6J\",m,8.93,0.455,0.263,3,0.0509,0.26\\n38141,GNB1_fluox,\"C57BLKS/J\",m,6.76,0.779,0.450,3,0.115,-1.20\\n38141,GNB1_fluox,\"C57BR/cdJ\",m,6.03,0.216,0.125,3,0.0358,-1.70\\n38141,GNB1_fluox,\"C58/J\",m,7.71,0.408,0.236,3,0.0529,-0.56\\n38141,GNB1_fluox,\"CBA/J\",m,8.31,0.203,0.117,3,0.0244,-0.16\\n38141,GNB1_fluox,\"CE/J\",m,7.64,0.617,0.356,3,0.0807,-0.61\\n38141,GNB1_fluox,\"DBA/2J\",m,7.09,0.453,0.262,3,0.0639,-0.98\\n38141,GNB1_fluox,\"FVB/NJ\",m,8.60,1.06,0.610,3,0.123,0.04\\n38141,GNB1_fluox,\"I/LnJ\",m,8.07,1.05,0.608,3,0.130,-0.32\\n38141,GNB1_fluox,\"LG/J\",m,8.15,0.191,0.110,3,0.0234,-0.27\\n38141,GNB1_fluox,\"LP/J\",m,7.10,0.399,0.230,3,0.0562,-0.98\\n38141,GNB1_fluox,\"MA/MyJ\",m,8.47,0.199,0.115,3,0.0235,-0.05\\n38141,GNB1_fluox,\"MRL/MpJ\",m,7.20,0.446,0.257,3,0.0619,-0.91\\n38141,GNB1_fluox,\"NOD/ShiLtJ\",m,8.91,0.621,0.359,3,0.0697,0.25\\n38141,GNB1_fluox,\"NOR/LtJ\",m,10.4,0.605,0.349,3,0.0582,1.25\\n38141,GNB1_fluox,\"NZB/BlNJ\",m,7.96,0.333,0.192,3,0.0419,-0.40\\n38141,GNB1_fluox,\"NZW/LacJ\",m,8.25,0.188,0.109,3,0.0228,-0.20\\n38141,GNB1_fluox,\"P/J\",m,11.1,0.372,0.215,3,0.0335,1.72\\n38141,GNB1_fluox,\"PL/J\",m,9.01,0.277,0.160,3,0.0308,0.31\\n38141,GNB1_fluox,\"RIIIS/J\",m,10.4,0.662,0.382,3,0.0636,1.25\\n38141,GNB1_fluox,\"SJL/J\",m,9.86,0.658,0.380,3,0.0667,0.89\\n38141,GNB1_fluox,\"SM/J\",m,7.84,0.387,0.223,3,0.0494,-0.48\\n38141,GNB1_fluox,\"SWR/J\",m,12.1,0.342,0.197,3,0.0283,2.40\\n38142,GNB1_index,\"129S1/SvImJ\",m,3.44,0,0,3,0,0.22\\n38142,GNB1_index,\"A/J\",m,8.57,0,0,3,0,0.67\\n38142,GNB1_index,\"AKR/J\",m,1.99,0,0,3,0,0.10\\n38142,GNB1_index,\"BALB/cJ\",m,15.9,0,0,3,0,1.31\\n38142,GNB1_index,\"BTBR T<+> Itpr3<tf>/J\",m,-19.1,0,0,3,0,-1.74\\n38142,GNB1_index,\"BUB/BnJ\",m,10.2,0,0,3,0,0.81\\n38142,GNB1_index,\"C3H/HeJ\",m,12.7,0,0,3,0,1.03\\n38142,GNB1_index,\"C57BL/6J\",m,4.90,0,0,3,0,0.35\\n38142,GNB1_index,\"C57BLKS/J\",m,1.22,0,0,3,0,0.03\\n38142,GNB1_index,\"C57BR/cdJ\",m,-2.20,0,0,3,0,-0.27\\n38142,GNB1_index,\"C58/J\",m,13.3,0,0,3,0,1.08\\n38142,GNB1_index,\"CBA/J\",m,-10.3,0,0,3,0,-0.97\\n38142,GNB1_index,\"CE/J\",m,-4.66,0,0,3,0,-0.48\\n38142,GNB1_index,\"DBA/2J\",m,-2.53,0,0,3,0,-0.30\\n38142,GNB1_index,\"FVB/NJ\",m,9.62,0,0,3,0,0.76\\n38142,GNB1_index,\"I/LnJ\",m,-10.3,0,0,3,0,-0.97\\n38142,GNB1_index,\"LG/J\",m,3.87,0,0,3,0,0.26\\n38142,GNB1_index,\"LP/J\",m,-18.3,0,0,3,0,-1.67\\n38142,GNB1_index,\"MA/MyJ\",m,10.9,0,0,3,0,0.87\\n38142,GNB1_index,\"MRL/MpJ\",m,-10.2,0,0,3,0,-0.97\\n38142,GNB1_index,\"NOD/ShiLtJ\",m,-4.36,0,0,3,0,-0.46\\n38142,GNB1_index,\"NOR/LtJ\",m,19.2,0,0,3,0,1.59\\n38142,GNB1_index,\"NZB/BlNJ\",m,-25.3,0,0,3,0,-2.28\\n38142,GNB1_index,\"NZW/LacJ\",m,-15.3,0,0,3,0,-1.41\\n38142,GNB1_index,\"P/J\",m,9.02,0,0,3,0,0.71\\n38142,GNB1_index,\"PL/J\",m,-5.80,0,0,3,0,-0.58\\n38142,GNB1_index,\"RIIIS/J\",m,8.84,0,0,3,0,0.69\\n38142,GNB1_index,\"SJL/J\",m,14.8,0,0,3,0,1.21\\n38142,GNB1_index,\"SM/J\",m,-2.50,0,0,3,0,-0.30\\n38142,GNB1_index,\"SWR/J\",m,9.27,0,0,3,0,0.73\\n38143,GRIN1_cont,\"129S1/SvImJ\",m,1.04,0.0610,0.0352,3,0.0589,0.43\\n38143,GRIN1_cont,\"A/J\",m,0.958,0.0420,0.0242,3,0.0438,-0.20\\n38143,GRIN1_cont,\"AKR/J\",m,1.15,0.0490,0.0283,3,0.0428,1.27\\n38143,GRIN1_cont,\"BALB/cJ\",m,0.884,0.0450,0.0260,3,0.0509,-0.76\\n38143,GRIN1_cont,\"BTBR T<+> Itpr3<tf>/J\",m,1.19,0.0220,0.0127,3,0.0186,1.57\\n38143,GRIN1_cont,\"BUB/BnJ\",m,1.03,0.0430,0.0248,3,0.0417,0.35\\n38143,GRIN1_cont,\"C3H/HeJ\",m,0.929,0.0410,0.0237,3,0.0441,-0.42\\n38143,GRIN1_cont,\"C57BL/6J\",m,0.800,0.0150,0.00866,3,0.0187,-1.41\\n38143,GRIN1_cont,\"C57BLKS/J\",m,0.976,0.0350,0.0202,3,0.0359,-0.06\\n38143,GRIN1_cont,\"C57BR/cdJ\",m,0.931,0.0150,0.00866,3,0.0161,-0.41\\n38143,GRIN1_cont,\"C58/J\",m,0.841,0.0200,0.0115,3,0.0238,-1.09\\n38143,GRIN1_cont,\"CBA/J\",m,1.08,0.0430,0.0248,3,0.0398,0.73\\n38143,GRIN1_cont,\"CE/J\",m,0.721,0.0170,0.00981,3,0.0236,-2.01\\n38143,GRIN1_cont,\"DBA/2J\",m,0.806,0.0300,0.0173,3,0.0372,-1.36\\n38143,GRIN1_cont,\"FVB/NJ\",m,0.906,0.0570,0.0329,3,0.0629,-0.60\\n38143,GRIN1_cont,\"I/LnJ\",m,0.866,0.0340,0.0196,3,0.0393,-0.90\\n38143,GRIN1_cont,\"LG/J\",m,0.851,0.0220,0.0127,3,0.0259,-1.02\\n38143,GRIN1_cont,\"LP/J\",m,1.10,0.0300,0.0173,3,0.0272,0.89\\n38143,GRIN1_cont,\"MA/MyJ\",m,0.864,0.0340,0.0196,3,0.0394,-0.92\\n38143,GRIN1_cont,\"MRL/MpJ\",m,1.13,0.0310,0.0179,3,0.0274,1.11\\n38143,GRIN1_cont,\"NOD/ShiLtJ\",m,1.13,0.0640,0.0370,3,0.0566,1.11\\n38143,GRIN1_cont,\"NOR/LtJ\",m,0.907,0.0320,0.0185,3,0.0353,-0.59\\n38143,GRIN1_cont,\"NZB/BlNJ\",m,0.900,0.0360,0.0208,3,0.0400,-0.64\\n38143,GRIN1_cont,\"NZW/LacJ\",m,1.20,0.0460,0.0266,3,0.0385,1.65\\n38143,GRIN1_cont,\"P/J\",m,0.942,0.0400,0.0231,3,0.0425,-0.32\\n38143,GRIN1_cont,\"PL/J\",m,1.18,0.0480,0.0277,3,0.0407,1.50\\n38143,GRIN1_cont,\"RIIIS/J\",m,1.15,0.0520,0.0300,3,0.0452,1.27\\n38143,GRIN1_cont,\"SJL/J\",m,1.03,0.0390,0.0225,3,0.0380,0.35\\n38143,GRIN1_cont,\"SM/J\",m,1.04,0.0440,0.0254,3,0.0422,0.43\\n38143,GRIN1_cont,\"SWR/J\",m,0.992,0.0380,0.0219,3,0.0383,0.06\\n38144,GRIN1_fluox,\"129S1/SvImJ\",m,0.733,0.0450,0.0260,3,0.0614,-1.01\\n38144,GRIN1_fluox,\"A/J\",m,0.921,0.0470,0.0271,3,0.0510,0.23\\n38144,GRIN1_fluox,\"AKR/J\",m,0.886,0.0360,0.0208,3,0.0406,-0.01\\n38144,GRIN1_fluox,\"BALB/cJ\",m,0.977,0.0280,0.0162,3,0.0287,0.59\\n38144,GRIN1_fluox,\"BTBR T<+> Itpr3<tf>/J\",m,0.892,0.0250,0.0144,3,0.0280,0.03\\n38144,GRIN1_fluox,\"BUB/BnJ\",m,1.04,0.0480,0.0277,3,0.0462,1.01\\n38144,GRIN1_fluox,\"C3H/HeJ\",m,0.595,0.0280,0.0162,3,0.0471,-1.92\\n38144,GRIN1_fluox,\"C57BL/6J\",m,1.08,0.0340,0.0196,3,0.0313,1.27\\n38144,GRIN1_fluox,\"C57BLKS/J\",m,0.988,0.0400,0.0231,3,0.0405,0.67\\n38144,GRIN1_fluox,\"C57BR/cdJ\",m,0.867,0.0320,0.0185,3,0.0369,-0.13\\n38144,GRIN1_fluox,\"C58/J\",m,0.939,0.0400,0.0231,3,0.0426,0.34\\n38144,GRIN1_fluox,\"CBA/J\",m,1.01,0.0400,0.0231,3,0.0394,0.81\\n38144,GRIN1_fluox,\"CE/J\",m,0.799,0.0310,0.0179,3,0.0388,-0.58\\n38144,GRIN1_fluox,\"DBA/2J\",m,0.839,0.0380,0.0219,3,0.0453,-0.31\\n38144,GRIN1_fluox,\"FVB/NJ\",m,0.959,0.0610,0.0352,3,0.0636,0.48\\n38144,GRIN1_fluox,\"I/LnJ\",m,0.724,0.0600,0.0346,3,0.0829,-1.07\\n38144,GRIN1_fluox,\"LG/J\",m,0.978,0.0390,0.0225,3,0.0399,0.60\\n38144,GRIN1_fluox,\"LP/J\",m,0.445,0.0200,0.0115,3,0.0449,-2.91\\n38144,GRIN1_fluox,\"MA/MyJ\",m,0.975,0.0580,0.0335,3,0.0595,0.58\\n38144,GRIN1_fluox,\"MRL/MpJ\",m,0.799,0.0240,0.0139,3,0.0300,-0.58\\n38144,GRIN1_fluox,\"NOD/ShiLtJ\",m,0.901,0.0340,0.0196,3,0.0377,0.09\\n38144,GRIN1_fluox,\"NOR/LtJ\",m,0.932,0.0510,0.0294,3,0.0547,0.30\\n38144,GRIN1_fluox,\"NZB/BlNJ\",m,0.805,0.0300,0.0173,3,0.0373,-0.54\\n38144,GRIN1_fluox,\"NZW/LacJ\",m,0.646,0.0170,0.00981,3,0.0263,-1.59\\n38144,GRIN1_fluox,\"P/J\",m,1.08,0.0280,0.0162,3,0.0260,1.27\\n38144,GRIN1_fluox,\"PL/J\",m,0.810,0.0390,0.0225,3,0.0481,-0.51\\n38144,GRIN1_fluox,\"RIIIS/J\",m,0.906,0.0410,0.0237,3,0.0453,0.13\\n38144,GRIN1_fluox,\"SJL/J\",m,0.970,0.0280,0.0162,3,0.0289,0.55\\n38144,GRIN1_fluox,\"SM/J\",m,1.17,0.0530,0.0306,3,0.0451,1.87\\n38144,GRIN1_fluox,\"SWR/J\",m,0.938,0.0240,0.0139,3,0.0256,0.34\\n38145,GRIN1_index,\"129S1/SvImJ\",m,-15.0,0,0,3,0,-0.91\\n38145,GRIN1_index,\"A/J\",m,-1.72,0,0,3,0,0.28\\n38145,GRIN1_index,\"AKR/J\",m,-11.2,0,0,3,0,-0.57\\n38145,GRIN1_index,\"BALB/cJ\",m,4.37,0,0,3,0,0.82\\n38145,GRIN1_index,\"BTBR T<+> Itpr3<tf>/J\",m,-12.3,0,0,3,0,-0.67\\n38145,GRIN1_index,\"BUB/BnJ\",m,0.259,0,0,3,0,0.46\\n38145,GRIN1_index,\"C3H/HeJ\",m,-19.3,0,0,3,0,-1.29\\n38145,GRIN1_index,\"C57BL/6J\",m,13.2,0,0,3,0,1.61\\n38145,GRIN1_index,\"C57BLKS/J\",m,0.530,0,0,3,0,0.48\\n38145,GRIN1_index,\"C57BR/cdJ\",m,-3.13,0,0,3,0,0.15\\n38145,GRIN1_index,\"C58/J\",m,4.78,0,0,3,0,0.86\\n38145,GRIN1_index,\"CBA/J\",m,-2.75,0,0,3,0,0.19\\n38145,GRIN1_index,\"CE/J\",m,4.42,0,0,3,0,0.83\\n38145,GRIN1_index,\"DBA/2J\",m,1.72,0,0,3,0,0.59\\n38145,GRIN1_index,\"FVB/NJ\",m,2.50,0,0,3,0,0.66\\n38145,GRIN1_index,\"I/LnJ\",m,-7.75,0,0,3,0,-0.26\\n38145,GRIN1_index,\"LG/J\",m,6.06,0,0,3,0,0.98\\n38145,GRIN1_index,\"LP/J\",m,-39.4,0,0,3,0,-3.09\\n38145,GRIN1_index,\"MA/MyJ\",m,5.27,0,0,3,0,0.91\\n38145,GRIN1_index,\"MRL/MpJ\",m,-15.1,0,0,3,0,-0.92\\n38145,GRIN1_index,\"NOD/ShiLtJ\",m,-9.87,0,0,3,0,-0.45\\n38145,GRIN1_index,\"NOR/LtJ\",m,1.15,0,0,3,0,0.54\\n38145,GRIN1_index,\"NZB/BlNJ\",m,-4.85,0,0,3,0,0.00\\n38145,GRIN1_index,\"NZW/LacJ\",m,-26.7,0,0,3,0,-1.96\\n38145,GRIN1_index,\"P/J\",m,5.87,0,0,3,0,0.96\\n38145,GRIN1_index,\"PL/J\",m,-16.3,0,0,3,0,-1.02\\n38145,GRIN1_index,\"RIIIS/J\",m,-10.4,0,0,3,0,-0.50\\n38145,GRIN1_index,\"SJL/J\",m,-2.48,0,0,3,0,0.21\\n38145,GRIN1_index,\"SM/J\",m,5.15,0,0,3,0,0.89\\n38145,GRIN1_index,\"SWR/J\",m,-2.46,0,0,3,0,0.21\\n38146,GSK3B_cont,\"129S1/SvImJ\",m,0.865,0.0520,0.0300,3,0.0601,-0.22\\n38146,GSK3B_cont,\"A/J\",m,0.930,0.0390,0.0225,3,0.0419,0.03\\n38146,GSK3B_cont,\"AKR/J\",m,0.712,0.0370,0.0214,3,0.0520,-0.79\\n38146,GSK3B_cont,\"BALB/cJ\",m,0.735,0.0540,0.0312,3,0.0735,-0.70\\n38146,GSK3B_cont,\"BTBR T<+> Itpr3<tf>/J\",m,0.825,0.0200,0.0115,3,0.0242,-0.37\\n38146,GSK3B_cont,\"BUB/BnJ\",m,0.769,0.0360,0.0208,3,0.0468,-0.57\\n38146,GSK3B_cont,\"C3H/HeJ\",m,1.01,0.0280,0.0162,3,0.0278,0.32\\n38146,GSK3B_cont,\"C57BL/6J\",m,0.719,0.103,0.0595,3,0.143,-0.76\\n38146,GSK3B_cont,\"C57BLKS/J\",m,0.716,0.0130,0.00751,3,0.0182,-0.77\\n38146,GSK3B_cont,\"C57BR/cdJ\",m,1.09,0.0550,0.0318,3,0.0504,0.62\\n38146,GSK3B_cont,\"C58/J\",m,0.917,0.0300,0.0173,3,0.0327,-0.02\\n38146,GSK3B_cont,\"CBA/J\",m,0.892,0.0140,0.00808,3,0.0157,-0.12\\n38146,GSK3B_cont,\"CE/J\",m,0.680,0.0130,0.00751,3,0.0191,-0.91\\n38146,GSK3B_cont,\"DBA/2J\",m,0.676,0.0340,0.0196,3,0.0503,-0.92\\n38146,GSK3B_cont,\"FVB/NJ\",m,0.908,0.0260,0.0150,3,0.0286,-0.06\\n38146,GSK3B_cont,\"I/LnJ\",m,0.526,0.0290,0.0167,3,0.0551,-1.48\\n38146,GSK3B_cont,\"LG/J\",m,1.20,0.0180,0.0104,3,0.0150,1.03\\n38146,GSK3B_cont,\"LP/J\",m,0.775,0.0160,0.00924,3,0.0206,-0.55\\n38146,GSK3B_cont,\"MA/MyJ\",m,0.860,0.0250,0.0144,3,0.0291,-0.24\\n38146,GSK3B_cont,\"MRL/MpJ\",m,0.721,0.0160,0.00924,3,0.0222,-0.75\\n38146,GSK3B_cont,\"NOD/ShiLtJ\",m,1.59,0.0440,0.0254,3,0.0277,2.48\\n38146,GSK3B_cont,\"NOR/LtJ\",m,0.829,0.0590,0.0341,3,0.0712,-0.35\\n38146,GSK3B_cont,\"NZB/BlNJ\",m,1.45,0.0490,0.0283,3,0.0339,1.96\\n38146,GSK3B_cont,\"NZW/LacJ\",m,0.580,0.0150,0.00866,3,0.0259,-1.28\\n38146,GSK3B_cont,\"P/J\",m,1.01,0.0250,0.0144,3,0.0247,0.32\\n38146,GSK3B_cont,\"PL/J\",m,1.11,0.0240,0.0139,3,0.0217,0.69\\n38146,GSK3B_cont,\"RIIIS/J\",m,1.05,0.0190,0.0110,3,0.0180,0.47\\n38146,GSK3B_cont,\"SJL/J\",m,1.13,0.0200,0.0115,3,0.0177,0.77\\n38146,GSK3B_cont,\"SM/J\",m,0.813,0.0180,0.0104,3,0.0221,-0.41\\n38146,GSK3B_cont,\"SWR/J\",m,1.61,0.0540,0.0312,3,0.0335,2.56\\n38147,GSK3B_fluox,\"129S1/SvImJ\",m,0.667,0.0420,0.0242,3,0.0630,-0.51\\n38147,GSK3B_fluox,\"A/J\",m,0.456,0.0180,0.0104,3,0.0395,-1.17\\n38147,GSK3B_fluox,\"AKR/J\",m,0.666,0.0340,0.0196,3,0.0511,-0.52\\n38147,GSK3B_fluox,\"BALB/cJ\",m,0.651,0.0490,0.0283,3,0.0753,-0.56\\n38147,GSK3B_fluox,\"BTBR T<+> Itpr3<tf>/J\",m,1.57,0.0540,0.0312,3,0.0344,2.27\\n38147,GSK3B_fluox,\"BUB/BnJ\",m,1.13,0.0210,0.0121,3,0.0186,0.91\\n38147,GSK3B_fluox,\"C3H/HeJ\",m,0.550,0.0250,0.0144,3,0.0455,-0.88\\n38147,GSK3B_fluox,\"C57BL/6J\",m,0.687,0.0220,0.0127,3,0.0320,-0.45\\n38147,GSK3B_fluox,\"C57BLKS/J\",m,1.15,0.0370,0.0214,3,0.0321,0.97\\n38147,GSK3B_fluox,\"C57BR/cdJ\",m,0.881,0.0300,0.0173,3,0.0341,0.14\\n38147,GSK3B_fluox,\"C58/J\",m,0.819,0.0230,0.0133,3,0.0281,-0.05\\n38147,GSK3B_fluox,\"CBA/J\",m,1.00,0.0270,0.0156,3,0.0269,0.51\\n38147,GSK3B_fluox,\"CE/J\",m,0.513,0.0400,0.0231,3,0.0780,-0.99\\n38147,GSK3B_fluox,\"DBA/2J\",m,0.810,0.0290,0.0167,3,0.0358,-0.07\\n38147,GSK3B_fluox,\"FVB/NJ\",m,0.697,0.0360,0.0208,3,0.0516,-0.42\\n38147,GSK3B_fluox,\"I/LnJ\",m,0.877,0.104,0.0600,3,0.119,0.13\\n38147,GSK3B_fluox,\"LG/J\",m,0.932,0.0480,0.0277,3,0.0515,0.30\\n38147,GSK3B_fluox,\"LP/J\",m,0.264,0.0160,0.00924,3,0.0606,-1.76\\n38147,GSK3B_fluox,\"MA/MyJ\",m,1.03,0.0210,0.0121,3,0.0204,0.60\\n38147,GSK3B_fluox,\"MRL/MpJ\",m,0.467,0.0250,0.0144,3,0.0535,-1.13\\n38147,GSK3B_fluox,\"NOD/ShiLtJ\",m,1.37,0.0410,0.0237,3,0.0300,1.65\\n38147,GSK3B_fluox,\"NOR/LtJ\",m,0.832,0.0370,0.0214,3,0.0445,-0.01\\n38147,GSK3B_fluox,\"NZB/BlNJ\",m,0.958,0.0270,0.0156,3,0.0282,0.38\\n38147,GSK3B_fluox,\"NZW/LacJ\",m,0.685,0.0530,0.0306,3,0.0774,-0.46\\n38147,GSK3B_fluox,\"P/J\",m,1.68,0.0460,0.0266,3,0.0273,2.61\\n38147,GSK3B_fluox,\"PL/J\",m,0.764,0.0280,0.0162,3,0.0366,-0.22\\n38147,GSK3B_fluox,\"RIIIS/J\",m,0.570,0.0160,0.00924,3,0.0281,-0.81\\n38147,GSK3B_fluox,\"SJL/J\",m,0.597,0.0340,0.0196,3,0.0570,-0.73\\n38147,GSK3B_fluox,\"SM/J\",m,0.598,0.0150,0.00866,3,0.0251,-0.73\\n38147,GSK3B_fluox,\"SWR/J\",m,1.15,0.0460,0.0266,3,0.0399,0.97\\n38148,GSK3B_index,\"129S1/SvImJ\",m,-11.3,0,0,3,0,-0.30\\n38148,GSK3B_index,\"A/J\",m,-30.9,0,0,3,0,-1.42\\n38148,GSK3B_index,\"AKR/J\",m,-2.91,0,0,3,0,0.17\\n38148,GSK3B_index,\"BALB/cJ\",m,-5.26,0,0,3,0,0.04\\n38148,GSK3B_index,\"BTBR T<+> Itpr3<tf>/J\",m,27.9,0,0,3,0,1.92\\n38148,GSK3B_index,\"BUB/BnJ\",m,16.7,0,0,3,0,1.29\\n38148,GSK3B_index,\"C3H/HeJ\",m,-26.3,0,0,3,0,-1.16\\n38148,GSK3B_index,\"C57BL/6J\",m,-1.95,0,0,3,0,0.23\\n38148,GSK3B_index,\"C57BLKS/J\",m,20.7,0,0,3,0,1.52\\n38148,GSK3B_index,\"C57BR/cdJ\",m,-9.27,0,0,3,0,-0.19\\n38148,GSK3B_index,\"C58/J\",m,-4.88,0,0,3,0,0.06\\n38148,GSK3B_index,\"CBA/J\",m,5.17,0,0,3,0,0.63\\n38148,GSK3B_index,\"CE/J\",m,-12.2,0,0,3,0,-0.36\\n38148,GSK3B_index,\"DBA/2J\",m,7.82,0,0,3,0,0.78\\n38148,GSK3B_index,\"FVB/NJ\",m,-11.5,0,0,3,0,-0.32\\n38148,GSK3B_index,\"I/LnJ\",m,22.2,0,0,3,0,1.60\\n38148,GSK3B_index,\"LG/J\",m,-11.1,0,0,3,0,-0.29\\n38148,GSK3B_index,\"LP/J\",m,-46.7,0,0,3,0,-2.32\\n38148,GSK3B_index,\"MA/MyJ\",m,7.73,0,0,3,0,0.78\\n38148,GSK3B_index,\"MRL/MpJ\",m,-18.9,0,0,3,0,-0.74\\n38148,GSK3B_index,\"NOD/ShiLtJ\",m,-6.54,0,0,3,0,-0.03\\n38148,GSK3B_index,\"NOR/LtJ\",m,0.146,0,0,3,0,0.35\\n38148,GSK3B_index,\"NZB/BlNJ\",m,-17.9,0,0,3,0,-0.68\\n38148,GSK3B_index,\"NZW/LacJ\",m,7.23,0,0,3,0,0.75\\n38148,GSK3B_index,\"P/J\",m,22.1,0,0,3,0,1.59\\n38148,GSK3B_index,\"PL/J\",m,-16.1,0,0,3,0,-0.58\\n38148,GSK3B_index,\"RIIIS/J\",m,-26.7,0,0,3,0,-1.18\\n38148,GSK3B_index,\"SJL/J\",m,-27.8,0,0,3,0,-1.24\\n38148,GSK3B_index,\"SM/J\",m,-13.3,0,0,3,0,-0.42\\n38148,GSK3B_index,\"SWR/J\",m,-14.5,0,0,3,0,-0.49\\n38149,GSR_cont,\"129S1/SvImJ\",m,0.853,0.0260,0.0150,3,0.0305,0.65\\n38149,GSR_cont,\"A/J\",m,0.718,0.0140,0.00808,3,0.0195,-0.93\\n38149,GSR_cont,\"AKR/J\",m,0.867,0.0230,0.0133,3,0.0265,0.81\\n38149,GSR_cont,\"BALB/cJ\",m,0.762,0.0270,0.0156,3,0.0354,-0.41\\n38149,GSR_cont,\"BTBR T<+> Itpr3<tf>/J\",m,0.832,0.0170,0.00981,3,0.0204,0.40\\n38149,GSR_cont,\"BUB/BnJ\",m,0.867,0.0120,0.00693,3,0.0138,0.81\\n38149,GSR_cont,\"C3H/HeJ\",m,0.867,0.0290,0.0167,3,0.0334,0.81\\n38149,GSR_cont,\"C57BL/6J\",m,0.588,0.0240,0.0139,3,0.0408,-2.45\\n38149,GSR_cont,\"C57BLKS/J\",m,0.646,0.0180,0.0104,3,0.0279,-1.77\\n38149,GSR_cont,\"C57BR/cdJ\",m,0.758,0.0100,0.00577,3,0.0132,-0.46\\n38149,GSR_cont,\"C58/J\",m,0.748,0.0180,0.0104,3,0.0241,-0.58\\n38149,GSR_cont,\"CBA/J\",m,0.914,0.0310,0.0179,3,0.0339,1.36\\n38149,GSR_cont,\"CE/J\",m,0.778,0.0170,0.00981,3,0.0219,-0.23\\n38149,GSR_cont,\"DBA/2J\",m,0.800,0.0150,0.00866,3,0.0187,0.03\\n38149,GSR_cont,\"FVB/NJ\",m,0.741,0.0500,0.0289,3,0.0675,-0.66\\n38149,GSR_cont,\"I/LnJ\",m,0.683,0.0130,0.00751,3,0.0190,-1.34\\n38149,GSR_cont,\"LG/J\",m,0.764,0.0130,0.00751,3,0.0170,-0.39\\n38149,GSR_cont,\"LP/J\",m,0.933,0.0180,0.0104,3,0.0193,1.58\\n38149,GSR_cont,\"MA/MyJ\",m,0.821,0.0250,0.0144,3,0.0305,0.27\\n38149,GSR_cont,\"MRL/MpJ\",m,0.821,0.0270,0.0156,3,0.0329,0.27\\n38149,GSR_cont,\"NOD/ShiLtJ\",m,0.852,0.0210,0.0121,3,0.0246,0.64\\n38149,GSR_cont,\"NOR/LtJ\",m,0.797,0.0330,0.0191,3,0.0414,-0.01\\n38149,GSR_cont,\"NZB/BlNJ\",m,0.650,0.0170,0.00981,3,0.0262,-1.72\\n38149,GSR_cont,\"NZW/LacJ\",m,0.753,0.0120,0.00693,3,0.0159,-0.52\\n38149,GSR_cont,\"P/J\",m,0.932,0.0180,0.0104,3,0.0193,1.57\\n38149,GSR_cont,\"PL/J\",m,0.843,0.0230,0.0133,3,0.0273,0.53\\n38149,GSR_cont,\"RIIIS/J\",m,0.834,0.0340,0.0196,3,0.0408,0.43\\n38149,GSR_cont,\"SJL/J\",m,0.925,0.0240,0.0139,3,0.0259,1.49\\n38149,GSR_cont,\"SM/J\",m,0.793,0.0180,0.0104,3,0.0227,-0.05\\n38149,GSR_cont,\"SWR/J\",m,0.784,0.0170,0.00981,3,0.0217,-0.16\\n38150,GSR_fluox,\"129S1/SvImJ\",m,0.533,0.0380,0.0219,3,0.0713,-1.40\\n38150,GSR_fluox,\"A/J\",m,0.655,0.0240,0.0139,3,0.0366,-0.27\\n38150,GSR_fluox,\"AKR/J\",m,0.623,0.0320,0.0185,3,0.0514,-0.57\\n38150,GSR_fluox,\"BALB/cJ\",m,0.724,0.0240,0.0139,3,0.0331,0.38\\n38150,GSR_fluox,\"BTBR T<+> Itpr3<tf>/J\",m,0.653,0.0200,0.0115,3,0.0306,-0.29\\n38150,GSR_fluox,\"BUB/BnJ\",m,0.782,0.0410,0.0237,3,0.0524,0.92\\n38150,GSR_fluox,\"C3H/HeJ\",m,0.609,0.0200,0.0115,3,0.0328,-0.70\\n38150,GSR_fluox,\"C57BL/6J\",m,0.655,0.0220,0.0127,3,0.0336,-0.27\\n38150,GSR_fluox,\"C57BLKS/J\",m,0.643,0.0270,0.0156,3,0.0420,-0.38\\n38150,GSR_fluox,\"C57BR/cdJ\",m,0.606,0.0190,0.0110,3,0.0314,-0.72\\n38150,GSR_fluox,\"C58/J\",m,0.672,0.0330,0.0191,3,0.0491,-0.11\\n38150,GSR_fluox,\"CBA/J\",m,0.810,0.0360,0.0208,3,0.0444,1.18\\n38150,GSR_fluox,\"CE/J\",m,0.671,0.0190,0.0110,3,0.0283,-0.12\\n38150,GSR_fluox,\"DBA/2J\",m,0.623,0.0140,0.00808,3,0.0225,-0.57\\n38150,GSR_fluox,\"FVB/NJ\",m,0.712,0.0360,0.0208,3,0.0506,0.26\\n38150,GSR_fluox,\"I/LnJ\",m,0.634,0.0240,0.0139,3,0.0379,-0.46\\n38150,GSR_fluox,\"LG/J\",m,0.774,0.0340,0.0196,3,0.0439,0.84\\n38150,GSR_fluox,\"LP/J\",m,0.399,0.0240,0.0139,3,0.0602,-2.65\\n38150,GSR_fluox,\"MA/MyJ\",m,0.759,0.0300,0.0173,3,0.0395,0.70\\n38150,GSR_fluox,\"MRL/MpJ\",m,0.720,0.0180,0.0104,3,0.0250,0.34\\n38150,GSR_fluox,\"NOD/ShiLtJ\",m,0.765,0.0150,0.00866,3,0.0196,0.76\\n38150,GSR_fluox,\"NOR/LtJ\",m,0.759,0.0190,0.0110,3,0.0250,0.70\\n38150,GSR_fluox,\"NZB/BlNJ\",m,0.637,0.0240,0.0139,3,0.0377,-0.43\\n38150,GSR_fluox,\"NZW/LacJ\",m,0.453,0.0230,0.0133,3,0.0508,-2.15\\n38150,GSR_fluox,\"P/J\",m,0.610,0.0210,0.0121,3,0.0344,-0.69\\n38150,GSR_fluox,\"PL/J\",m,0.708,0.0230,0.0133,3,0.0325,0.23\\n38150,GSR_fluox,\"RIIIS/J\",m,0.795,0.0300,0.0173,3,0.0377,1.04\\n38150,GSR_fluox,\"SJL/J\",m,0.841,0.0260,0.0150,3,0.0309,1.47\\n38150,GSR_fluox,\"SM/J\",m,0.842,0.0460,0.0266,3,0.0546,1.48\\n38150,GSR_fluox,\"SWR/J\",m,0.842,0.0430,0.0248,3,0.0511,1.48\\n38151,GSR_index,\"129S1/SvImJ\",m,-20.4,0,0,3,0,-1.53\\n38151,GSR_index,\"A/J\",m,-3.94,0,0,3,0,0.35\\n38151,GSR_index,\"AKR/J\",m,-14.3,0,0,3,0,-0.83\\n38151,GSR_index,\"BALB/cJ\",m,-2.21,0,0,3,0,0.55\\n38151,GSR_index,\"BTBR T<+> Itpr3<tf>/J\",m,-10.5,0,0,3,0,-0.40\\n38151,GSR_index,\"BUB/BnJ\",m,-4.49,0,0,3,0,0.29\\n38151,GSR_index,\"C3H/HeJ\",m,-15.4,0,0,3,0,-0.96\\n38151,GSR_index,\"C57BL/6J\",m,4.72,0,0,3,0,1.34\\n38151,GSR_index,\"C57BLKS/J\",m,-0.221,0,0,3,0,0.77\\n38151,GSR_index,\"C57BR/cdJ\",m,-9.74,0,0,3,0,-0.31\\n38151,GSR_index,\"C58/J\",m,-4.62,0,0,3,0,0.27\\n38151,GSR_index,\"CBA/J\",m,-5.23,0,0,3,0,0.20\\n38151,GSR_index,\"CE/J\",m,-6.40,0,0,3,0,0.07\\n38151,GSR_index,\"DBA/2J\",m,-10.8,0,0,3,0,-0.43\\n38151,GSR_index,\"FVB/NJ\",m,-1.79,0,0,3,0,0.60\\n38151,GSR_index,\"I/LnJ\",m,-3.24,0,0,3,0,0.43\\n38151,GSR_index,\"LG/J\",m,0.545,0,0,3,0,0.86\\n38151,GSR_index,\"LP/J\",m,-36.9,0,0,3,0,-3.41\\n38151,GSR_index,\"MA/MyJ\",m,-3.41,0,0,3,0,0.41\\n38151,GSR_index,\"MRL/MpJ\",m,-5.72,0,0,3,0,0.15\\n38151,GSR_index,\"NOD/ShiLtJ\",m,-4.65,0,0,3,0,0.27\\n38151,GSR_index,\"NOR/LtJ\",m,-2.10,0,0,3,0,0.56\\n38151,GSR_index,\"NZB/BlNJ\",m,-0.889,0,0,3,0,0.70\\n38151,GSR_index,\"NZW/LacJ\",m,-22.1,0,0,3,0,-1.72\\n38151,GSR_index,\"P/J\",m,-18.4,0,0,3,0,-1.30\\n38151,GSR_index,\"PL/J\",m,-7.62,0,0,3,0,-0.07\\n38151,GSR_index,\"RIIIS/J\",m,-2.09,0,0,3,0,0.56\\n38151,GSR_index,\"SJL/J\",m,-4.11,0,0,3,0,0.33\\n38151,GSR_index,\"SM/J\",m,2.62,0,0,3,0,1.10\\n38151,GSR_index,\"SWR/J\",m,3.12,0,0,3,0,1.16\\n38152,HDAC5_cont,\"129S1/SvImJ\",m,2.04,0.0890,0.0514,3,0.0437,-1.17\\n38152,HDAC5_cont,\"A/J\",m,2.52,0.0520,0.0300,3,0.0206,0.08\\n38152,HDAC5_cont,\"AKR/J\",m,2.01,0.0840,0.0485,3,0.0417,-1.25\\n38152,HDAC5_cont,\"BALB/cJ\",m,2.37,0.0670,0.0387,3,0.0283,-0.31\\n38152,HDAC5_cont,\"BTBR T<+> Itpr3<tf>/J\",m,2.55,0.0820,0.0473,3,0.0322,0.15\\n38152,HDAC5_cont,\"BUB/BnJ\",m,2.24,0.0540,0.0312,3,0.0241,-0.65\\n38152,HDAC5_cont,\"C3H/HeJ\",m,2.87,0.178,0.103,3,0.0619,0.98\\n38152,HDAC5_cont,\"C57BL/6J\",m,2.65,0.141,0.0814,3,0.0532,0.41\\n38152,HDAC5_cont,\"C57BLKS/J\",m,2.13,0.0950,0.0548,3,0.0446,-0.94\\n38152,HDAC5_cont,\"C57BR/cdJ\",m,2.36,0.0640,0.0370,3,0.0271,-0.34\\n38152,HDAC5_cont,\"C58/J\",m,2.57,0.103,0.0595,3,0.0401,0.21\\n38152,HDAC5_cont,\"CBA/J\",m,2.77,0.145,0.0837,3,0.0523,0.72\\n38152,HDAC5_cont,\"CE/J\",m,2.21,0.0560,0.0323,3,0.0254,-0.73\\n38152,HDAC5_cont,\"DBA/2J\",m,1.98,0.0510,0.0294,3,0.0257,-1.32\\n38152,HDAC5_cont,\"FVB/NJ\",m,2.64,0.200,0.115,3,0.0758,0.39\\n38152,HDAC5_cont,\"I/LnJ\",m,1.86,0.0320,0.0185,3,0.0172,-1.64\\n38152,HDAC5_cont,\"LG/J\",m,2.76,0.0950,0.0548,3,0.0344,0.70\\n38152,HDAC5_cont,\"LP/J\",m,2.80,0.114,0.0658,3,0.0407,0.80\\n38152,HDAC5_cont,\"MA/MyJ\",m,2.13,0.0750,0.0433,3,0.0352,-0.94\\n38152,HDAC5_cont,\"MRL/MpJ\",m,2.12,0.0740,0.0427,3,0.0349,-0.96\\n38152,HDAC5_cont,\"NOD/ShiLtJ\",m,2.98,0.0600,0.0346,3,0.0202,1.27\\n38152,HDAC5_cont,\"NOR/LtJ\",m,2.02,0.0600,0.0346,3,0.0297,-1.22\\n38152,HDAC5_cont,\"NZB/BlNJ\",m,3.51,0.157,0.0906,3,0.0447,2.64\\n38152,HDAC5_cont,\"NZW/LacJ\",m,2.61,0.115,0.0664,3,0.0441,0.31\\n38152,HDAC5_cont,\"P/J\",m,2.70,0.0960,0.0554,3,0.0356,0.54\\n38152,HDAC5_cont,\"PL/J\",m,2.88,0.0910,0.0525,3,0.0316,1.01\\n38152,HDAC5_cont,\"RIIIS/J\",m,2.62,0.133,0.0768,3,0.0507,0.34\\n38152,HDAC5_cont,\"SJL/J\",m,2.63,0.106,0.0612,3,0.0403,0.36\\n38152,HDAC5_cont,\"SM/J\",m,2.13,0.0650,0.0375,3,0.0305,-0.94\\n38152,HDAC5_cont,\"SWR/J\",m,3.06,0.112,0.0647,3,0.0366,1.48\\n38153,HDAC5_fluox,\"129S1/SvImJ\",m,1.63,0.102,0.0589,3,0.0624,-1.36\\n38153,HDAC5_fluox,\"A/J\",m,1.67,0.0670,0.0387,3,0.0402,-1.29\\n38153,HDAC5_fluox,\"AKR/J\",m,2.12,0.100,0.0577,3,0.0473,-0.43\\n38153,HDAC5_fluox,\"BALB/cJ\",m,2.16,0.0640,0.0370,3,0.0297,-0.35\\n38153,HDAC5_fluox,\"BTBR T<+> Itpr3<tf>/J\",m,3.30,0.157,0.0906,3,0.0475,1.83\\n38153,HDAC5_fluox,\"BUB/BnJ\",m,2.53,0.174,0.100,3,0.0689,0.36\\n38153,HDAC5_fluox,\"C3H/HeJ\",m,2.13,0.0640,0.0370,3,0.0300,-0.41\\n38153,HDAC5_fluox,\"C57BL/6J\",m,1.85,0.0680,0.0393,3,0.0367,-0.94\\n38153,HDAC5_fluox,\"C57BLKS/J\",m,2.52,0.128,0.0739,3,0.0509,0.34\\n38153,HDAC5_fluox,\"C57BR/cdJ\",m,2.45,0.109,0.0629,3,0.0445,0.20\\n38153,HDAC5_fluox,\"C58/J\",m,2.42,0.106,0.0612,3,0.0438,0.15\\n38153,HDAC5_fluox,\"CBA/J\",m,2.67,0.116,0.0670,3,0.0434,0.62\\n38153,HDAC5_fluox,\"CE/J\",m,1.96,0.0810,0.0468,3,0.0413,-0.73\\n38153,HDAC5_fluox,\"DBA/2J\",m,2.17,0.0700,0.0404,3,0.0322,-0.33\\n38153,HDAC5_fluox,\"FVB/NJ\",m,2.59,0.172,0.0993,3,0.0664,0.47\\n38153,HDAC5_fluox,\"I/LnJ\",m,2.32,0.175,0.101,3,0.0754,-0.04\\n38153,HDAC5_fluox,\"LG/J\",m,2.53,0.0950,0.0548,3,0.0375,0.36\\n38153,HDAC5_fluox,\"LP/J\",m,1.31,0.0690,0.0398,3,0.0528,-1.97\\n38153,HDAC5_fluox,\"MA/MyJ\",m,2.47,0.124,0.0716,3,0.0503,0.24\\n38153,HDAC5_fluox,\"MRL/MpJ\",m,1.80,0.0740,0.0427,3,0.0410,-1.04\\n38153,HDAC5_fluox,\"NOD/ShiLtJ\",m,3.05,0.159,0.0918,3,0.0521,1.35\\n38153,HDAC5_fluox,\"NOR/LtJ\",m,2.57,0.0850,0.0491,3,0.0330,0.43\\n38153,HDAC5_fluox,\"NZB/BlNJ\",m,2.65,0.113,0.0652,3,0.0426,0.59\\n38153,HDAC5_fluox,\"NZW/LacJ\",m,2.14,0.104,0.0600,3,0.0486,-0.39\\n38153,HDAC5_fluox,\"P/J\",m,3.94,0.0910,0.0525,3,0.0231,3.05\\n38153,HDAC5_fluox,\"PL/J\",m,2.35,0.101,0.0583,3,0.0430,0.01\\n38153,HDAC5_fluox,\"RIIIS/J\",m,2.04,0.108,0.0624,3,0.0528,-0.58\\n38153,HDAC5_fluox,\"SJL/J\",m,2.23,0.105,0.0606,3,0.0470,-0.22\\n38153,HDAC5_fluox,\"SM/J\",m,1.85,0.0890,0.0514,3,0.0480,-0.94\\n38153,HDAC5_fluox,\"SWR/J\",m,2.87,0.137,0.0791,3,0.0478,1.01\\n38154,HDAC5_index,\"129S1/SvImJ\",m,-9.55,0,0,3,0,-0.63\\n38154,HDAC5_index,\"A/J\",m,-18.0,0,0,3,0,-1.46\\n38154,HDAC5_index,\"AKR/J\",m,2.12,0,0,3,0,0.52\\n38154,HDAC5_index,\"BALB/cJ\",m,-4.06,0,0,3,0,-0.09\\n38154,HDAC5_index,\"BTBR T<+> Itpr3<tf>/J\",m,11.3,0,0,3,0,1.42\\n38154,HDAC5_index,\"BUB/BnJ\",m,5.19,0,0,3,0,0.82\\n38154,HDAC5_index,\"C3H/HeJ\",m,-12.9,0,0,3,0,-0.96\\n38154,HDAC5_index,\"C57BL/6J\",m,-15.5,0,0,3,0,-1.21\\n38154,HDAC5_index,\"C57BLKS/J\",m,7.25,0,0,3,0,1.03\\n38154,HDAC5_index,\"C57BR/cdJ\",m,1.64,0,0,3,0,0.47\\n38154,HDAC5_index,\"C58/J\",m,-2.63,0,0,3,0,0.05\\n38154,HDAC5_index,\"CBA/J\",m,-1.59,0,0,3,0,0.16\\n38154,HDAC5_index,\"CE/J\",m,-5.14,0,0,3,0,-0.19\\n38154,HDAC5_index,\"DBA/2J\",m,3.96,0,0,3,0,0.70\\n38154,HDAC5_index,\"FVB/NJ\",m,-0.781,0,0,3,0,0.24\\n38154,HDAC5_index,\"I/LnJ\",m,9.58,0,0,3,0,1.25\\n38154,HDAC5_index,\"LG/J\",m,-3.71,0,0,3,0,-0.05\\n38154,HDAC5_index,\"LP/J\",m,-33.2,0,0,3,0,-2.96\\n38154,HDAC5_index,\"MA/MyJ\",m,6.37,0,0,3,0,0.94\\n38154,HDAC5_index,\"MRL/MpJ\",m,-7.00,0,0,3,0,-0.38\\n38154,HDAC5_index,\"NOD/ShiLtJ\",m,1.08,0,0,3,0,0.42\\n38154,HDAC5_index,\"NOR/LtJ\",m,10.5,0,0,3,0,1.35\\n38154,HDAC5_index,\"NZB/BlNJ\",m,-12.2,0,0,3,0,-0.89\\n38154,HDAC5_index,\"NZW/LacJ\",m,-8.51,0,0,3,0,-0.53\\n38154,HDAC5_index,\"P/J\",m,16.4,0,0,3,0,1.93\\n38154,HDAC5_index,\"PL/J\",m,-8.86,0,0,3,0,-0.56\\n38154,HDAC5_index,\"RIIIS/J\",m,-10.8,0,0,3,0,-0.75\\n38154,HDAC5_index,\"SJL/J\",m,-7.17,0,0,3,0,-0.39\\n38154,HDAC5_index,\"SM/J\",m,-6.00,0,0,3,0,-0.28\\n38154,HDAC5_index,\"SWR/J\",m,-2.89,0,0,3,0,0.03\\n38155,NGF_cont,\"129S1/SvImJ\",m,1.78,0.0340,0.0196,3,0.0191,1.35\\n38155,NGF_cont,\"A/J\",m,1.66,0.0340,0.0196,3,0.0205,0.04\\n38155,NGF_cont,\"AKR/J\",m,1.83,0.0470,0.0271,3,0.0257,1.89\\n38155,NGF_cont,\"BALB/cJ\",m,1.65,0.0390,0.0225,3,0.0237,-0.07\\n38155,NGF_cont,\"BTBR T<+> Itpr3<tf>/J\",m,1.52,0.0520,0.0300,3,0.0342,-1.48\\n38155,NGF_cont,\"BUB/BnJ\",m,1.69,0.0350,0.0202,3,0.0208,0.37\\n38155,NGF_cont,\"C3H/HeJ\",m,1.72,0.0340,0.0196,3,0.0197,0.70\\n38155,NGF_cont,\"C57BL/6J\",m,1.60,0.0640,0.0370,3,0.0399,-0.61\\n38155,NGF_cont,\"C57BLKS/J\",m,1.75,0.0250,0.0144,3,0.0143,1.02\\n38155,NGF_cont,\"C57BR/cdJ\",m,1.67,0.0260,0.0150,3,0.0156,0.15\\n38155,NGF_cont,\"C58/J\",m,1.65,0.0330,0.0191,3,0.0200,-0.07\\n38155,NGF_cont,\"CBA/J\",m,1.55,0.0180,0.0104,3,0.0116,-1.15\\n38155,NGF_cont,\"CE/J\",m,1.62,0.0240,0.0139,3,0.0148,-0.39\\n38155,NGF_cont,\"DBA/2J\",m,1.44,0.0380,0.0219,3,0.0265,-2.35\\n38155,NGF_cont,\"FVB/NJ\",m,1.75,0.0220,0.0127,3,0.0126,1.02\\n38155,NGF_cont,\"I/LnJ\",m,1.53,0.0190,0.0110,3,0.0124,-1.37\\n38155,NGF_cont,\"LG/J\",m,1.69,0.0360,0.0208,3,0.0213,0.37\\n38155,NGF_cont,\"LP/J\",m,1.83,0.0240,0.0139,3,0.0131,1.89\\n38155,NGF_cont,\"MA/MyJ\",m,1.64,0.0390,0.0225,3,0.0238,-0.17\\n38155,NGF_cont,\"MRL/MpJ\",m,1.57,0.0180,0.0104,3,0.0115,-0.94\\n38155,NGF_cont,\"NOD/ShiLtJ\",m,1.62,0.0190,0.0110,3,0.0117,-0.39\\n38155,NGF_cont,\"NOR/LtJ\",m,1.55,0.0390,0.0225,3,0.0251,-1.15\\n38155,NGF_cont,\"NZB/BlNJ\",m,1.71,0.0240,0.0139,3,0.0140,0.59\\n38155,NGF_cont,\"NZW/LacJ\",m,1.71,0.0320,0.0185,3,0.0187,0.59\\n38155,NGF_cont,\"P/J\",m,1.73,0.0310,0.0179,3,0.0180,0.81\\n38155,NGF_cont,\"PL/J\",m,1.56,0.0190,0.0110,3,0.0122,-1.04\\n38155,NGF_cont,\"RIIIS/J\",m,1.73,0.0420,0.0242,3,0.0243,0.81\\n38155,NGF_cont,\"SJL/J\",m,1.62,0.0150,0.00866,3,0.00924,-0.39\\n38155,NGF_cont,\"SM/J\",m,1.67,0.0260,0.0150,3,0.0156,0.15\\n38155,NGF_cont,\"SWR/J\",m,1.64,0.0270,0.0156,3,0.0165,-0.17\\n38156,NGF_fluox,\"129S1/SvImJ\",m,1.66,0.0360,0.0208,3,0.0217,0.19\\n38156,NGF_fluox,\"A/J\",m,1.94,0.0450,0.0260,3,0.0232,2.02\\n38156,NGF_fluox,\"AKR/J\",m,1.88,0.0550,0.0318,3,0.0293,1.63\\n38156,NGF_fluox,\"BALB/cJ\",m,1.82,0.0300,0.0173,3,0.0165,1.24\\n38156,NGF_fluox,\"BTBR T<+> Itpr3<tf>/J\",m,1.86,0.0240,0.0139,3,0.0129,1.50\\n38156,NGF_fluox,\"BUB/BnJ\",m,1.65,0.0190,0.0110,3,0.0116,0.13\\n38156,NGF_fluox,\"C3H/HeJ\",m,1.54,0.0200,0.0115,3,0.0130,-0.59\\n38156,NGF_fluox,\"C57BL/6J\",m,1.62,0.0250,0.0144,3,0.0154,-0.07\\n38156,NGF_fluox,\"C57BLKS/J\",m,1.83,0.130,0.0751,3,0.0711,1.30\\n38156,NGF_fluox,\"C57BR/cdJ\",m,1.53,0.0170,0.00981,3,0.0111,-0.65\\n38156,NGF_fluox,\"C58/J\",m,1.53,0.0370,0.0214,3,0.0241,-0.65\\n38156,NGF_fluox,\"CBA/J\",m,1.87,0.0240,0.0139,3,0.0128,1.56\\n38156,NGF_fluox,\"CE/J\",m,1.50,0.0350,0.0202,3,0.0233,-0.85\\n38156,NGF_fluox,\"DBA/2J\",m,1.54,0.0330,0.0191,3,0.0214,-0.59\\n38156,NGF_fluox,\"FVB/NJ\",m,1.69,0.125,0.0722,3,0.0741,0.39\\n38156,NGF_fluox,\"I/LnJ\",m,1.48,0.0400,0.0231,3,0.0270,-0.98\\n38156,NGF_fluox,\"LG/J\",m,1.60,0.0160,0.00924,3,0.00997,-0.20\\n38156,NGF_fluox,\"LP/J\",m,1.52,0.0370,0.0214,3,0.0244,-0.72\\n38156,NGF_fluox,\"MA/MyJ\",m,1.39,0.0110,0.00635,3,0.00790,-1.57\\n38156,NGF_fluox,\"MRL/MpJ\",m,1.56,0.0360,0.0208,3,0.0230,-0.46\\n38156,NGF_fluox,\"NOD/ShiLtJ\",m,1.75,0.0350,0.0202,3,0.0200,0.78\\n38156,NGF_fluox,\"NOR/LtJ\",m,1.44,0.0230,0.0133,3,0.0160,-1.24\\n38156,NGF_fluox,\"NZB/BlNJ\",m,1.62,0.0150,0.00866,3,0.00927,-0.07\\n38156,NGF_fluox,\"NZW/LacJ\",m,1.43,0.0390,0.0225,3,0.0273,-1.30\\n38156,NGF_fluox,\"P/J\",m,1.41,0.0190,0.0110,3,0.0135,-1.43\\n38156,NGF_fluox,\"PL/J\",m,1.63,0.0170,0.00981,3,0.0104,0.00\\n38156,NGF_fluox,\"RIIIS/J\",m,1.68,0.0190,0.0110,3,0.0113,0.32\\n38156,NGF_fluox,\"SJL/J\",m,1.56,0.0190,0.0110,3,0.0121,-0.46\\n38156,NGF_fluox,\"SM/J\",m,1.57,0.0260,0.0150,3,0.0166,-0.39\\n38156,NGF_fluox,\"SWR/J\",m,1.81,0.0190,0.0110,3,0.0105,1.17\\n38157,NGF_index,\"129S1/SvImJ\",m,-3.10,0,0,3,0,-0.51\\n38157,NGF_index,\"A/J\",m,6.89,0,0,3,0,1.68\\n38157,NGF_index,\"AKR/J\",m,1.07,0,0,3,0,0.40\\n38157,NGF_index,\"BALB/cJ\",m,4.35,0,0,3,0,1.12\\n38157,NGF_index,\"BTBR T<+> Itpr3<tf>/J\",m,8.78,0,0,3,0,2.09\\n38157,NGF_index,\"BUB/BnJ\",m,-1.08,0,0,3,0,-0.07\\n38157,NGF_index,\"C3H/HeJ\",m,-4.85,0,0,3,0,-0.89\\n38157,NGF_index,\"C57BL/6J\",m,0.457,0,0,3,0,0.27\\n38157,NGF_index,\"C57BLKS/J\",m,1.95,0,0,3,0,0.60\\n38157,NGF_index,\"C57BR/cdJ\",m,-3.71,0,0,3,0,-0.64\\n38157,NGF_index,\"C58/J\",m,-3.15,0,0,3,0,-0.52\\n38157,NGF_index,\"CBA/J\",m,8.32,0,0,3,0,1.99\\n38157,NGF_index,\"CE/J\",m,-3.21,0,0,3,0,-0.53\\n38157,NGF_index,\"DBA/2J\",m,3.16,0,0,3,0,0.86\\n38157,NGF_index,\"FVB/NJ\",m,-1.59,0,0,3,0,-0.18\\n38157,NGF_index,\"I/LnJ\",m,-1.54,0,0,3,0,-0.17\\n38157,NGF_index,\"LG/J\",m,-2.25,0,0,3,0,-0.32\\n38157,NGF_index,\"LP/J\",m,-8.21,0,0,3,0,-1.63\\n38157,NGF_index,\"MA/MyJ\",m,-7.02,0,0,3,0,-1.37\\n38157,NGF_index,\"MRL/MpJ\",m,-0.265,0,0,3,0,0.11\\n38157,NGF_index,\"NOD/ShiLtJ\",m,3.24,0,0,3,0,0.88\\n38157,NGF_index,\"NOR/LtJ\",m,-3.25,0,0,3,0,-0.54\\n38157,NGF_index,\"NZB/BlNJ\",m,-2.43,0,0,3,0,-0.36\\n38157,NGF_index,\"NZW/LacJ\",m,-7.87,0,0,3,0,-1.55\\n38157,NGF_index,\"P/J\",m,-8.78,0,0,3,0,-1.75\\n38157,NGF_index,\"PL/J\",m,1.94,0,0,3,0,0.59\\n38157,NGF_index,\"RIIIS/J\",m,-1.23,0,0,3,0,-0.10\\n38157,NGF_index,\"SJL/J\",m,-1.61,0,0,3,0,-0.18\\n38157,NGF_index,\"SM/J\",m,-2.65,0,0,3,0,-0.41\\n38157,NGF_index,\"SWR/J\",m,4.38,0,0,3,0,1.13\\n38158,NPY_cont,\"129S1/SvImJ\",m,0.911,0.0240,0.0139,3,0.0263,1.29\\n38158,NPY_cont,\"A/J\",m,0.693,0.0160,0.00924,3,0.0231,-1.07\\n38158,NPY_cont,\"AKR/J\",m,0.941,0.0250,0.0144,3,0.0266,1.61\\n38158,NPY_cont,\"BALB/cJ\",m,0.807,0.0300,0.0173,3,0.0372,0.16\\n38158,NPY_cont,\"BTBR T<+> Itpr3<tf>/J\",m,0.866,0.0190,0.0110,3,0.0219,0.80\\n38158,NPY_cont,\"BUB/BnJ\",m,0.906,0.0290,0.0167,3,0.0320,1.23\\n38158,NPY_cont,\"C3H/HeJ\",m,0.846,0.0320,0.0185,3,0.0378,0.58\\n38158,NPY_cont,\"C57BL/6J\",m,0.763,0.0460,0.0266,3,0.0603,-0.31\\n38158,NPY_cont,\"C57BLKS/J\",m,0.758,0.0190,0.0110,3,0.0251,-0.37\\n38158,NPY_cont,\"C57BR/cdJ\",m,0.974,0.0180,0.0104,3,0.0185,1.97\\n38158,NPY_cont,\"C58/J\",m,0.729,0.0190,0.0110,3,0.0261,-0.68\\n38158,NPY_cont,\"CBA/J\",m,0.809,0.0210,0.0121,3,0.0260,0.18\\n38158,NPY_cont,\"CE/J\",m,0.698,0.0150,0.00866,3,0.0215,-1.01\\n38158,NPY_cont,\"DBA/2J\",m,0.665,0.0250,0.0144,3,0.0376,-1.37\\n38158,NPY_cont,\"FVB/NJ\",m,0.772,0.0370,0.0214,3,0.0479,-0.21\\n38158,NPY_cont,\"I/LnJ\",m,0.693,0.0280,0.0162,3,0.0404,-1.07\\n38158,NPY_cont,\"LG/J\",m,0.690,0.0310,0.0179,3,0.0449,-1.10\\n38158,NPY_cont,\"LP/J\",m,0.701,0.0260,0.0150,3,0.0371,-0.98\\n38158,NPY_cont,\"MA/MyJ\",m,0.735,0.0200,0.0115,3,0.0272,-0.61\\n38158,NPY_cont,\"MRL/MpJ\",m,0.912,0.0310,0.0179,3,0.0340,1.30\\n38158,NPY_cont,\"NOD/ShiLtJ\",m,0.981,0.0190,0.0110,3,0.0194,2.04\\n38158,NPY_cont,\"NOR/LtJ\",m,0.687,0.0340,0.0196,3,0.0495,-1.13\\n38158,NPY_cont,\"NZB/BlNJ\",m,0.659,0.0160,0.00924,3,0.0243,-1.43\\n38158,NPY_cont,\"NZW/LacJ\",m,0.800,0.0270,0.0156,3,0.0337,0.09\\n38158,NPY_cont,\"P/J\",m,0.781,0.0160,0.00924,3,0.0205,-0.12\\n38158,NPY_cont,\"PL/J\",m,0.804,0.0150,0.00866,3,0.0187,0.13\\n38158,NPY_cont,\"RIIIS/J\",m,0.839,0.0250,0.0144,3,0.0298,0.51\\n38158,NPY_cont,\"SJL/J\",m,0.795,0.0250,0.0144,3,0.0314,0.03\\n38158,NPY_cont,\"SM/J\",m,0.806,0.0300,0.0173,3,0.0372,0.15\\n38158,NPY_cont,\"SWR/J\",m,0.736,0.0100,0.00577,3,0.0136,-0.60\\n38159,NPY_fluox,\"129S1/SvImJ\",m,0.466,0.0240,0.0139,3,0.0515,-1.51\\n38159,NPY_fluox,\"A/J\",m,0.551,0.0200,0.0115,3,0.0363,-0.61\\n38159,NPY_fluox,\"AKR/J\",m,0.487,0.0320,0.0185,3,0.0657,-1.29\\n38159,NPY_fluox,\"BALB/cJ\",m,0.637,0.0150,0.00866,3,0.0235,0.30\\n38159,NPY_fluox,\"BTBR T<+> Itpr3<tf>/J\",m,0.633,0.0150,0.00866,3,0.0237,0.26\\n38159,NPY_fluox,\"BUB/BnJ\",m,0.650,0.0280,0.0162,3,0.0431,0.44\\n38159,NPY_fluox,\"C3H/HeJ\",m,0.638,0.0260,0.0150,3,0.0408,0.31\\n38159,NPY_fluox,\"C57BL/6J\",m,0.766,0.0110,0.00635,3,0.0144,1.67\\n38159,NPY_fluox,\"C57BLKS/J\",m,0.709,0.0240,0.0139,3,0.0339,1.07\\n38159,NPY_fluox,\"C57BR/cdJ\",m,0.661,0.0250,0.0144,3,0.0378,0.56\\n38159,NPY_fluox,\"C58/J\",m,0.673,0.0160,0.00924,3,0.0238,0.68\\n38159,NPY_fluox,\"CBA/J\",m,0.716,0.0170,0.00981,3,0.0237,1.14\\n38159,NPY_fluox,\"CE/J\",m,0.568,0.0220,0.0127,3,0.0387,-0.43\\n38159,NPY_fluox,\"DBA/2J\",m,0.660,0.0140,0.00808,3,0.0212,0.55\\n38159,NPY_fluox,\"FVB/NJ\",m,0.644,0.0370,0.0214,3,0.0575,0.38\\n38159,NPY_fluox,\"I/LnJ\",m,0.562,0.0340,0.0196,3,0.0605,-0.49\\n38159,NPY_fluox,\"LG/J\",m,0.599,0.0230,0.0133,3,0.0384,-0.10\\n38159,NPY_fluox,\"LP/J\",m,0.322,0.0150,0.00866,3,0.0466,-3.04\\n38159,NPY_fluox,\"MA/MyJ\",m,0.709,0.0170,0.00981,3,0.0240,1.07\\n38159,NPY_fluox,\"MRL/MpJ\",m,0.584,0.0140,0.00808,3,0.0240,-0.26\\n38159,NPY_fluox,\"NOD/ShiLtJ\",m,0.704,0.0170,0.00981,3,0.0241,1.01\\n38159,NPY_fluox,\"NOR/LtJ\",m,0.585,0.0160,0.00924,3,0.0274,-0.25\\n38159,NPY_fluox,\"NZB/BlNJ\",m,0.589,0.0100,0.00577,3,0.0170,-0.21\\n38159,NPY_fluox,\"NZW/LacJ\",m,0.430,0.0150,0.00866,3,0.0349,-1.89\\n38159,NPY_fluox,\"P/J\",m,0.568,0.0160,0.00924,3,0.0282,-0.43\\n38159,NPY_fluox,\"PL/J\",m,0.593,0.0190,0.0110,3,0.0320,-0.16\\n38159,NPY_fluox,\"RIIIS/J\",m,0.636,0.0140,0.00808,3,0.0220,0.29\\n38159,NPY_fluox,\"SJL/J\",m,0.550,0.0170,0.00981,3,0.0309,-0.62\\n38159,NPY_fluox,\"SM/J\",m,0.717,0.0300,0.0173,3,0.0418,1.15\\n38159,NPY_fluox,\"SWR/J\",m,0.648,0.0190,0.0110,3,0.0293,0.42\\n38160,NPY_index,\"129S1/SvImJ\",m,-29.1,0,0,3,0,-1.99\\n38160,NPY_index,\"A/J\",m,-9.92,0,0,3,0,0.21\\n38160,NPY_index,\"AKR/J\",m,-28.6,0,0,3,0,-1.93\\n38160,NPY_index,\"BALB/cJ\",m,-10.3,0,0,3,0,0.17\\n38160,NPY_index,\"BTBR T<+> Itpr3<tf>/J\",m,-13.6,0,0,3,0,-0.21\\n38160,NPY_index,\"BUB/BnJ\",m,-14.4,0,0,3,0,-0.30\\n38160,NPY_index,\"C3H/HeJ\",m,-12.3,0,0,3,0,-0.06\\n38160,NPY_index,\"C57BL/6J\",m,0.181,0,0,3,0,1.37\\n38160,NPY_index,\"C57BLKS/J\",m,-2.93,0,0,3,0,1.01\\n38160,NPY_index,\"C57BR/cdJ\",m,-16.8,0,0,3,0,-0.58\\n38160,NPY_index,\"C58/J\",m,-3.46,0,0,3,0,0.95\\n38160,NPY_index,\"CBA/J\",m,-5.31,0,0,3,0,0.74\\n38160,NPY_index,\"CE/J\",m,-8.95,0,0,3,0,0.32\\n38160,NPY_index,\"DBA/2J\",m,-0.347,0,0,3,0,1.31\\n38160,NPY_index,\"FVB/NJ\",m,-7.91,0,0,3,0,0.44\\n38160,NPY_index,\"I/LnJ\",m,-9.14,0,0,3,0,0.30\\n38160,NPY_index,\"LG/J\",m,-6.18,0,0,3,0,0.64\\n38160,NPY_index,\"LP/J\",m,-33.7,0,0,3,0,-2.51\\n38160,NPY_index,\"MA/MyJ\",m,-1.57,0,0,3,0,1.17\\n38160,NPY_index,\"MRL/MpJ\",m,-19.3,0,0,3,0,-0.86\\n38160,NPY_index,\"NOD/ShiLtJ\",m,-14.5,0,0,3,0,-0.31\\n38160,NPY_index,\"NOR/LtJ\",m,-6.97,0,0,3,0,0.55\\n38160,NPY_index,\"NZB/BlNJ\",m,-4.85,0,0,3,0,0.79\\n38160,NPY_index,\"NZW/LacJ\",m,-27.0,0,0,3,0,-1.75\\n38160,NPY_index,\"P/J\",m,-13.8,0,0,3,0,-0.23\\n38160,NPY_index,\"PL/J\",m,-13.3,0,0,3,0,-0.18\\n38160,NPY_index,\"RIIIS/J\",m,-12.0,0,0,3,0,-0.03\\n38160,NPY_index,\"SJL/J\",m,-16.0,0,0,3,0,-0.49\\n38160,NPY_index,\"SM/J\",m,-5.11,0,0,3,0,0.76\\n38160,NPY_index,\"SWR/J\",m,-5.56,0,0,3,0,0.71\\n38161,P2RX7_cont,\"129S1/SvImJ\",m,2.76,0.0550,0.0318,3,0.0199,-1.76\\n38161,P2RX7_cont,\"A/J\",m,3.55,0.0880,0.0508,3,0.0248,0.25\\n38161,P2RX7_cont,\"AKR/J\",m,3.20,0.0560,0.0323,3,0.0175,-0.64\\n38161,P2RX7_cont,\"BALB/cJ\",m,3.73,0.130,0.0751,3,0.0349,0.70\\n38161,P2RX7_cont,\"BTBR T<+> Itpr3<tf>/J\",m,3.93,0.0940,0.0543,3,0.0239,1.21\\n38161,P2RX7_cont,\"BUB/BnJ\",m,3.49,0.119,0.0687,3,0.0341,0.09\\n38161,P2RX7_cont,\"C3H/HeJ\",m,3.62,0.142,0.0820,3,0.0392,0.42\\n38161,P2RX7_cont,\"C57BL/6J\",m,3.43,0.161,0.0930,3,0.0469,-0.06\\n38161,P2RX7_cont,\"C57BLKS/J\",m,3.21,0.0590,0.0341,3,0.0184,-0.62\\n38161,P2RX7_cont,\"C57BR/cdJ\",m,3.07,0.0460,0.0266,3,0.0150,-0.97\\n38161,P2RX7_cont,\"C58/J\",m,3.62,0.126,0.0727,3,0.0349,0.42\\n38161,P2RX7_cont,\"CBA/J\",m,3.61,0.105,0.0606,3,0.0291,0.40\\n38161,P2RX7_cont,\"CE/J\",m,3.42,0.0480,0.0277,3,0.0140,-0.08\\n38161,P2RX7_cont,\"DBA/2J\",m,3.01,0.0690,0.0398,3,0.0229,-1.13\\n38161,P2RX7_cont,\"FVB/NJ\",m,3.65,0.136,0.0785,3,0.0372,0.50\\n38161,P2RX7_cont,\"I/LnJ\",m,3.06,0.0820,0.0473,3,0.0268,-1.00\\n38161,P2RX7_cont,\"LG/J\",m,3.63,0.0660,0.0381,3,0.0182,0.45\\n38161,P2RX7_cont,\"LP/J\",m,4.12,0.102,0.0589,3,0.0248,1.70\\n38161,P2RX7_cont,\"MA/MyJ\",m,3.28,0.0810,0.0468,3,0.0247,-0.44\\n38161,P2RX7_cont,\"MRL/MpJ\",m,3.19,0.0700,0.0404,3,0.0220,-0.67\\n38161,P2RX7_cont,\"NOD/ShiLtJ\",m,3.18,0.115,0.0664,3,0.0361,-0.69\\n38161,P2RX7_cont,\"NOR/LtJ\",m,3.03,0.0810,0.0468,3,0.0267,-1.08\\n38161,P2RX7_cont,\"NZB/BlNJ\",m,4.25,0.132,0.0762,3,0.0311,2.03\\n38161,P2RX7_cont,\"NZW/LacJ\",m,4.27,0.134,0.0774,3,0.0314,2.08\\n38161,P2RX7_cont,\"P/J\",m,4.04,0.135,0.0779,3,0.0334,1.49\\n38161,P2RX7_cont,\"PL/J\",m,3.27,0.0990,0.0572,3,0.0303,-0.47\\n38161,P2RX7_cont,\"RIIIS/J\",m,3.54,0.123,0.0710,3,0.0348,0.22\\n38161,P2RX7_cont,\"SJL/J\",m,3.45,0.0850,0.0491,3,0.0246,-0.01\\n38161,P2RX7_cont,\"SM/J\",m,3.00,0.0780,0.0450,3,0.0260,-1.15\\n38161,P2RX7_cont,\"SWR/J\",m,2.98,0.0710,0.0410,3,0.0238,-1.20\\n38162,P2RX7_fluox,\"129S1/SvImJ\",m,2.22,0.107,0.0618,3,0.0482,-2.06\\n38162,P2RX7_fluox,\"A/J\",m,2.67,0.0780,0.0450,3,0.0292,-0.95\\n38162,P2RX7_fluox,\"AKR/J\",m,2.81,0.0690,0.0398,3,0.0246,-0.61\\n38162,P2RX7_fluox,\"BALB/cJ\",m,2.99,0.0730,0.0421,3,0.0244,-0.16\\n38162,P2RX7_fluox,\"BTBR T<+> Itpr3<tf>/J\",m,3.42,0.0820,0.0473,3,0.0240,0.90\\n38162,P2RX7_fluox,\"BUB/BnJ\",m,2.79,0.118,0.0681,3,0.0423,-0.66\\n38162,P2RX7_fluox,\"C3H/HeJ\",m,3.38,0.0760,0.0439,3,0.0225,0.80\\n38162,P2RX7_fluox,\"C57BL/6J\",m,2.60,0.0530,0.0306,3,0.0203,-1.12\\n38162,P2RX7_fluox,\"C57BLKS/J\",m,2.84,0.102,0.0589,3,0.0360,-0.53\\n38162,P2RX7_fluox,\"C57BR/cdJ\",m,3.27,0.0990,0.0572,3,0.0302,0.53\\n38162,P2RX7_fluox,\"C58/J\",m,3.10,0.0880,0.0508,3,0.0284,0.11\\n38162,P2RX7_fluox,\"CBA/J\",m,3.07,0.0900,0.0520,3,0.0293,0.04\\n38162,P2RX7_fluox,\"CE/J\",m,2.98,0.0670,0.0387,3,0.0225,-0.19\\n38162,P2RX7_fluox,\"DBA/2J\",m,2.65,0.0500,0.0289,3,0.0189,-1.00\\n38162,P2RX7_fluox,\"FVB/NJ\",m,3.32,0.149,0.0860,3,0.0448,0.66\\n38162,P2RX7_fluox,\"I/LnJ\",m,3.00,0.0810,0.0468,3,0.0270,-0.14\\n38162,P2RX7_fluox,\"LG/J\",m,3.74,0.127,0.0733,3,0.0339,1.69\\n38162,P2RX7_fluox,\"LP/J\",m,2.32,0.0780,0.0450,3,0.0337,-1.82\\n38162,P2RX7_fluox,\"MA/MyJ\",m,2.97,0.0890,0.0514,3,0.0300,-0.21\\n38162,P2RX7_fluox,\"MRL/MpJ\",m,3.15,0.0750,0.0433,3,0.0238,0.23\\n38162,P2RX7_fluox,\"NOD/ShiLtJ\",m,3.31,0.0920,0.0531,3,0.0278,0.63\\n38162,P2RX7_fluox,\"NOR/LtJ\",m,3.05,0.0530,0.0306,3,0.0174,-0.01\\n38162,P2RX7_fluox,\"NZB/BlNJ\",m,3.26,0.121,0.0699,3,0.0372,0.51\\n38162,P2RX7_fluox,\"NZW/LacJ\",m,2.35,0.102,0.0589,3,0.0434,-1.74\\n38162,P2RX7_fluox,\"P/J\",m,3.69,0.103,0.0595,3,0.0279,1.57\\n38162,P2RX7_fluox,\"PL/J\",m,3.53,0.0960,0.0554,3,0.0272,1.17\\n38162,P2RX7_fluox,\"RIIIS/J\",m,3.33,0.128,0.0739,3,0.0385,0.68\\n38162,P2RX7_fluox,\"SJL/J\",m,3.45,0.0980,0.0566,3,0.0284,0.98\\n38162,P2RX7_fluox,\"SM/J\",m,2.72,0.110,0.0635,3,0.0405,-0.83\\n38162,P2RX7_fluox,\"SWR/J\",m,3.67,0.0850,0.0491,3,0.0232,1.52\\n38163,P2RX7_index,\"129S1/SvImJ\",m,-9.47,0,0,3,0,-0.55\\n38163,P2RX7_index,\"A/J\",m,-12.4,0,0,3,0,-0.95\\n38163,P2RX7_index,\"AKR/J\",m,-5.61,0,0,3,0,-0.02\\n38163,P2RX7_index,\"BALB/cJ\",m,-9.57,0,0,3,0,-0.56\\n38163,P2RX7_index,\"BTBR T<+> Itpr3<tf>/J\",m,-6.05,0,0,3,0,-0.08\\n38163,P2RX7_index,\"BUB/BnJ\",m,-9.73,0,0,3,0,-0.58\\n38163,P2RX7_index,\"C3H/HeJ\",m,-2.96,0,0,3,0,0.34\\n38163,P2RX7_index,\"C57BL/6J\",m,-12.0,0,0,3,0,-0.89\\n38163,P2RX7_index,\"C57BLKS/J\",m,-5.32,0,0,3,0,0.02\\n38163,P2RX7_index,\"C57BR/cdJ\",m,2.84,0,0,3,0,1.13\\n38163,P2RX7_index,\"C58/J\",m,-6.65,0,0,3,0,-0.16\\n38163,P2RX7_index,\"CBA/J\",m,-7.01,0,0,3,0,-0.21\\n38163,P2RX7_index,\"CE/J\",m,-6.08,0,0,3,0,-0.09\\n38163,P2RX7_index,\"DBA/2J\",m,-5.56,0,0,3,0,-0.02\\n38163,P2RX7_index,\"FVB/NJ\",m,-4.08,0,0,3,0,0.18\\n38163,P2RX7_index,\"I/LnJ\",m,-0.986,0,0,3,0,0.61\\n38163,P2RX7_index,\"LG/J\",m,1.34,0,0,3,0,0.92\\n38163,P2RX7_index,\"LP/J\",m,-25.0,0,0,3,0,-2.66\\n38163,P2RX7_index,\"MA/MyJ\",m,-4.42,0,0,3,0,0.14\\n38163,P2RX7_index,\"MRL/MpJ\",m,-0.453,0,0,3,0,0.68\\n38163,P2RX7_index,\"NOD/ShiLtJ\",m,1.68,0,0,3,0,0.97\\n38163,P2RX7_index,\"NOR/LtJ\",m,0.227,0,0,3,0,0.77\\n38163,P2RX7_index,\"NZB/BlNJ\",m,-11.5,0,0,3,0,-0.83\\n38163,P2RX7_index,\"NZW/LacJ\",m,-25.9,0,0,3,0,-2.79\\n38163,P2RX7_index,\"P/J\",m,-3.93,0,0,3,0,0.21\\n38163,P2RX7_index,\"PL/J\",m,3.33,0,0,3,0,1.19\\n38163,P2RX7_index,\"RIIIS/J\",m,-2.66,0,0,3,0,0.38\\n38163,P2RX7_index,\"SJL/J\",m,-0.0150,0,0,3,0,0.74\\n38163,P2RX7_index,\"SM/J\",m,-4.24,0,0,3,0,0.16\\n38163,P2RX7_index,\"SWR/J\",m,9.03,0,0,3,0,1.97\\n38164,PAQR8_cont,\"129S1/SvImJ\",m,0.483,0.0400,0.0231,3,0.0828,0.17\\n38164,PAQR8_cont,\"A/J\",m,0.284,0.0200,0.0115,3,0.0704,-2.16\\n38164,PAQR8_cont,\"AKR/J\",m,0.467,0.0250,0.0144,3,0.0535,-0.02\\n38164,PAQR8_cont,\"BALB/cJ\",m,0.359,0.0580,0.0335,3,0.162,-1.28\\n38164,PAQR8_cont,\"BTBR T<+> Itpr3<tf>/J\",m,0.495,0.0140,0.00808,3,0.0283,0.31\\n38164,PAQR8_cont,\"BUB/BnJ\",m,0.498,0.0380,0.0219,3,0.0763,0.35\\n38164,PAQR8_cont,\"C3H/HeJ\",m,0.464,0.0150,0.00866,3,0.0323,-0.05\\n38164,PAQR8_cont,\"C57BL/6J\",m,0.483,0.0350,0.0202,3,0.0725,0.17\\n38164,PAQR8_cont,\"C57BLKS/J\",m,0.453,0.0200,0.0115,3,0.0442,-0.18\\n38164,PAQR8_cont,\"C57BR/cdJ\",m,0.587,0.0270,0.0156,3,0.0460,1.39\\n38164,PAQR8_cont,\"C58/J\",m,0.405,0.0310,0.0179,3,0.0765,-0.75\\n38164,PAQR8_cont,\"CBA/J\",m,0.464,0.0180,0.0104,3,0.0388,-0.05\\n38164,PAQR8_cont,\"CE/J\",m,0.386,0.0200,0.0115,3,0.0518,-0.97\\n38164,PAQR8_cont,\"DBA/2J\",m,0.313,0.0280,0.0162,3,0.0895,-1.82\\n38164,PAQR8_cont,\"FVB/NJ\",m,0.460,0.0180,0.0104,3,0.0391,-0.10\\n38164,PAQR8_cont,\"I/LnJ\",m,0.410,0.0360,0.0208,3,0.0878,-0.69\\n38164,PAQR8_cont,\"LG/J\",m,0.408,0.0220,0.0127,3,0.0539,-0.71\\n38164,PAQR8_cont,\"LP/J\",m,0.469,0.0200,0.0115,3,0.0426,0.01\\n38164,PAQR8_cont,\"MA/MyJ\",m,0.406,0.0200,0.0115,3,0.0493,-0.73\\n38164,PAQR8_cont,\"MRL/MpJ\",m,0.390,0.0220,0.0127,3,0.0564,-0.92\\n38164,PAQR8_cont,\"NOD/ShiLtJ\",m,0.458,0.0250,0.0144,3,0.0546,-0.12\\n38164,PAQR8_cont,\"NOR/LtJ\",m,0.447,0.0220,0.0127,3,0.0492,-0.25\\n38164,PAQR8_cont,\"NZB/BlNJ\",m,0.507,0.0300,0.0173,3,0.0592,0.45\\n38164,PAQR8_cont,\"NZW/LacJ\",m,0.655,0.0360,0.0208,3,0.0550,2.19\\n38164,PAQR8_cont,\"P/J\",m,0.602,0.0250,0.0144,3,0.0415,1.56\\n38164,PAQR8_cont,\"PL/J\",m,0.516,0.0260,0.0150,3,0.0504,0.56\\n38164,PAQR8_cont,\"RIIIS/J\",m,0.614,0.0510,0.0294,3,0.0831,1.70\\n38164,PAQR8_cont,\"SJL/J\",m,0.578,0.0340,0.0196,3,0.0588,1.28\\n38164,PAQR8_cont,\"SM/J\",m,0.546,0.0360,0.0208,3,0.0659,0.91\\n38164,PAQR8_cont,\"SWR/J\",m,0.450,0.0290,0.0167,3,0.0644,-0.22\\n38165,PAQR8_fluox,\"129S1/SvImJ\",m,0.322,0.0320,0.0185,3,0.0994,-1.37\\n38165,PAQR8_fluox,\"A/J\",m,0.468,0.0240,0.0139,3,0.0513,0.44\\n38165,PAQR8_fluox,\"AKR/J\",m,0.392,0.0110,0.00635,3,0.0281,-0.50\\n38165,PAQR8_fluox,\"BALB/cJ\",m,0.473,0.0170,0.00981,3,0.0359,0.50\\n38165,PAQR8_fluox,\"BTBR T<+> Itpr3<tf>/J\",m,0.511,0.0230,0.0133,3,0.0450,0.97\\n38165,PAQR8_fluox,\"BUB/BnJ\",m,0.485,0.0180,0.0104,3,0.0371,0.65\\n38165,PAQR8_fluox,\"C3H/HeJ\",m,0.490,0.0330,0.0191,3,0.0673,0.71\\n38165,PAQR8_fluox,\"C57BL/6J\",m,0.554,0.0430,0.0248,3,0.0776,1.50\\n38165,PAQR8_fluox,\"C57BLKS/J\",m,0.419,0.0240,0.0139,3,0.0573,-0.17\\n38165,PAQR8_fluox,\"C57BR/cdJ\",m,0.580,0.0100,0.00577,3,0.0172,1.82\\n38165,PAQR8_fluox,\"C58/J\",m,0.464,0.0190,0.0110,3,0.0409,0.39\\n38165,PAQR8_fluox,\"CBA/J\",m,0.526,0.0320,0.0185,3,0.0608,1.16\\n38165,PAQR8_fluox,\"CE/J\",m,0.404,0.0350,0.0202,3,0.0866,-0.36\\n38165,PAQR8_fluox,\"DBA/2J\",m,0.428,0.0350,0.0202,3,0.0818,-0.06\\n38165,PAQR8_fluox,\"FVB/NJ\",m,0.471,0.0210,0.0121,3,0.0446,0.47\\n38165,PAQR8_fluox,\"I/LnJ\",m,0.368,0.0280,0.0162,3,0.0761,-0.80\\n38165,PAQR8_fluox,\"LG/J\",m,0.506,0.0200,0.0115,3,0.0395,0.91\\n38165,PAQR8_fluox,\"LP/J\",m,0.227,0.00900,0.00520,3,0.0396,-2.55\\n38165,PAQR8_fluox,\"MA/MyJ\",m,0.401,0.0120,0.00693,3,0.0299,-0.39\\n38165,PAQR8_fluox,\"MRL/MpJ\",m,0.407,0.0490,0.0283,3,0.120,-0.32\\n38165,PAQR8_fluox,\"NOD/ShiLtJ\",m,0.438,0.0220,0.0127,3,0.0502,0.07\\n38165,PAQR8_fluox,\"NOR/LtJ\",m,0.315,0.0280,0.0162,3,0.0889,-1.46\\n38165,PAQR8_fluox,\"NZB/BlNJ\",m,0.377,0.0240,0.0139,3,0.0637,-0.69\\n38165,PAQR8_fluox,\"NZW/LacJ\",m,0.277,0.00800,0.00462,3,0.0289,-1.93\\n38165,PAQR8_fluox,\"P/J\",m,0.377,0.0120,0.00693,3,0.0318,-0.69\\n38165,PAQR8_fluox,\"PL/J\",m,0.415,0.0220,0.0127,3,0.0530,-0.22\\n38165,PAQR8_fluox,\"RIIIS/J\",m,0.461,0.0210,0.0121,3,0.0456,0.35\\n38165,PAQR8_fluox,\"SJL/J\",m,0.410,0.0270,0.0156,3,0.0659,-0.28\\n38165,PAQR8_fluox,\"SM/J\",m,0.527,0.0280,0.0162,3,0.0531,1.17\\n38165,PAQR8_fluox,\"SWR/J\",m,0.489,0.0330,0.0191,3,0.0675,0.70\\n38166,PAQR8_index,\"129S1/SvImJ\",m,-17.6,0,0,3,0,-1.10\\n38166,PAQR8_index,\"A/J\",m,21.7,0,0,3,0,1.98\\n38166,PAQR8_index,\"AKR/J\",m,-7.69,0,0,3,0,-0.32\\n38166,PAQR8_index,\"BALB/cJ\",m,12.0,0,0,3,0,1.22\\n38166,PAQR8_index,\"BTBR T<+> Itpr3<tf>/J\",m,1.35,0,0,3,0,0.39\\n38166,PAQR8_index,\"BUB/BnJ\",m,-1.15,0,0,3,0,0.19\\n38166,PAQR8_index,\"C3H/HeJ\",m,2.37,0,0,3,0,0.47\\n38166,PAQR8_index,\"C57BL/6J\",m,5.91,0,0,3,0,0.74\\n38166,PAQR8_index,\"C57BLKS/J\",m,-3.36,0,0,3,0,0.02\\n38166,PAQR8_index,\"C57BR/cdJ\",m,-0.575,0,0,3,0,0.23\\n38166,PAQR8_index,\"C58/J\",m,5.87,0,0,3,0,0.74\\n38166,PAQR8_index,\"CBA/J\",m,5.44,0,0,3,0,0.71\\n38166,PAQR8_index,\"CE/J\",m,2.02,0,0,3,0,0.44\\n38166,PAQR8_index,\"DBA/2J\",m,13.6,0,0,3,0,1.35\\n38166,PAQR8_index,\"FVB/NJ\",m,1.04,0,0,3,0,0.36\\n38166,PAQR8_index,\"I/LnJ\",m,-4.63,0,0,3,0,-0.08\\n38166,PAQR8_index,\"LG/J\",m,9.36,0,0,3,0,1.01\\n38166,PAQR8_index,\"LP/J\",m,-31.5,0,0,3,0,-2.19\\n38166,PAQR8_index,\"MA/MyJ\",m,-0.556,0,0,3,0,0.24\\n38166,PAQR8_index,\"MRL/MpJ\",m,1.80,0,0,3,0,0.42\\n38166,PAQR8_index,\"NOD/ShiLtJ\",m,-1.95,0,0,3,0,0.13\\n38166,PAQR8_index,\"NOR/LtJ\",m,-15.1,0,0,3,0,-0.91\\n38166,PAQR8_index,\"NZB/BlNJ\",m,-12.9,0,0,3,0,-0.73\\n38166,PAQR8_index,\"NZW/LacJ\",m,-37.4,0,0,3,0,-2.66\\n38166,PAQR8_index,\"P/J\",m,-20.3,0,0,3,0,-1.31\\n38166,PAQR8_index,\"PL/J\",m,-9.46,0,0,3,0,-0.46\\n38166,PAQR8_index,\"RIIIS/J\",m,-12.4,0,0,3,0,-0.69\\n38166,PAQR8_index,\"SJL/J\",m,-14.9,0,0,3,0,-0.89\\n38166,PAQR8_index,\"SM/J\",m,-1.52,0,0,3,0,0.16\\n38166,PAQR8_index,\"SWR/J\",m,3.59,0,0,3,0,0.56\\n38167,PPP1R1B_cont,\"129S1/SvImJ\",m,1.08,0.0340,0.0196,3,0.0315,-0.37\\n38167,PPP1R1B_cont,\"A/J\",m,1.02,0.0340,0.0196,3,0.0332,-0.77\\n38167,PPP1R1B_cont,\"AKR/J\",m,1.17,0.0400,0.0231,3,0.0341,0.24\\n38167,PPP1R1B_cont,\"BALB/cJ\",m,1.17,0.0390,0.0225,3,0.0334,0.24\\n38167,PPP1R1B_cont,\"BTBR T<+> Itpr3<tf>/J\",m,1.38,0.0380,0.0219,3,0.0275,1.66\\n38167,PPP1R1B_cont,\"BUB/BnJ\",m,1.17,0.0390,0.0225,3,0.0334,0.24\\n38167,PPP1R1B_cont,\"C3H/HeJ\",m,1.23,0.0500,0.0289,3,0.0407,0.65\\n38167,PPP1R1B_cont,\"C57BL/6J\",m,1.07,0.0870,0.0502,3,0.0816,-0.43\\n38167,PPP1R1B_cont,\"C57BLKS/J\",m,0.940,0.0520,0.0300,3,0.0553,-1.31\\n38167,PPP1R1B_cont,\"C57BR/cdJ\",m,1.23,0.0290,0.0167,3,0.0237,0.65\\n38167,PPP1R1B_cont,\"C58/J\",m,0.867,0.0410,0.0237,3,0.0473,-1.80\\n38167,PPP1R1B_cont,\"CBA/J\",m,1.27,0.0450,0.0260,3,0.0353,0.92\\n38167,PPP1R1B_cont,\"CE/J\",m,0.950,0.0230,0.0133,3,0.0242,-1.24\\n38167,PPP1R1B_cont,\"DBA/2J\",m,0.907,0.0190,0.0110,3,0.0209,-1.53\\n38167,PPP1R1B_cont,\"FVB/NJ\",m,1.17,0.0890,0.0514,3,0.0760,0.24\\n38167,PPP1R1B_cont,\"I/LnJ\",m,1.02,0.0250,0.0144,3,0.0245,-0.77\\n38167,PPP1R1B_cont,\"LG/J\",m,1.22,0.0360,0.0208,3,0.0294,0.58\\n38167,PPP1R1B_cont,\"LP/J\",m,1.28,0.0680,0.0393,3,0.0530,0.98\\n38167,PPP1R1B_cont,\"MA/MyJ\",m,1.04,0.0320,0.0185,3,0.0308,-0.64\\n38167,PPP1R1B_cont,\"MRL/MpJ\",m,0.824,0.0470,0.0271,3,0.0570,-2.09\\n38167,PPP1R1B_cont,\"NOD/ShiLtJ\",m,1.17,0.0520,0.0300,3,0.0443,0.24\\n38167,PPP1R1B_cont,\"NOR/LtJ\",m,1.05,0.0290,0.0167,3,0.0276,-0.57\\n38167,PPP1R1B_cont,\"NZB/BlNJ\",m,1.27,0.0550,0.0318,3,0.0433,0.92\\n38167,PPP1R1B_cont,\"NZW/LacJ\",m,1.29,0.0750,0.0433,3,0.0582,1.05\\n38167,PPP1R1B_cont,\"P/J\",m,1.05,0.0330,0.0191,3,0.0315,-0.57\\n38167,PPP1R1B_cont,\"PL/J\",m,1.37,0.0570,0.0329,3,0.0417,1.59\\n38167,PPP1R1B_cont,\"RIIIS/J\",m,1.20,0.0760,0.0439,3,0.0635,0.44\\n38167,PPP1R1B_cont,\"SJL/J\",m,1.25,0.0390,0.0225,3,0.0312,0.78\\n38167,PPP1R1B_cont,\"SM/J\",m,1.05,0.0570,0.0329,3,0.0542,-0.57\\n38167,PPP1R1B_cont,\"SWR/J\",m,1.32,0.0610,0.0352,3,0.0463,1.25\\n38168,PPP1R1B_fluox,\"129S1/SvImJ\",m,0.763,0.0300,0.0173,3,0.0393,-1.13\\n38168,PPP1R1B_fluox,\"A/J\",m,0.881,0.0270,0.0156,3,0.0306,-0.46\\n38168,PPP1R1B_fluox,\"AKR/J\",m,0.871,0.0310,0.0179,3,0.0356,-0.52\\n38168,PPP1R1B_fluox,\"BALB/cJ\",m,0.971,0.0170,0.00981,3,0.0175,0.04\\n38168,PPP1R1B_fluox,\"BTBR T<+> Itpr3<tf>/J\",m,1.13,0.0490,0.0283,3,0.0435,0.93\\n38168,PPP1R1B_fluox,\"BUB/BnJ\",m,1.21,0.0860,0.0497,3,0.0711,1.38\\n38168,PPP1R1B_fluox,\"C3H/HeJ\",m,0.758,0.0120,0.00693,3,0.0158,-1.16\\n38168,PPP1R1B_fluox,\"C57BL/6J\",m,0.894,0.0200,0.0115,3,0.0224,-0.39\\n38168,PPP1R1B_fluox,\"C57BLKS/J\",m,0.926,0.0380,0.0219,3,0.0410,-0.21\\n38168,PPP1R1B_fluox,\"C57BR/cdJ\",m,1.07,0.0470,0.0271,3,0.0439,0.60\\n38168,PPP1R1B_fluox,\"C58/J\",m,1.12,0.0370,0.0214,3,0.0331,0.88\\n38168,PPP1R1B_fluox,\"CBA/J\",m,1.25,0.0580,0.0335,3,0.0463,1.61\\n38168,PPP1R1B_fluox,\"CE/J\",m,0.818,0.0290,0.0167,3,0.0355,-0.82\\n38168,PPP1R1B_fluox,\"DBA/2J\",m,1.02,0.0350,0.0202,3,0.0341,0.32\\n38168,PPP1R1B_fluox,\"FVB/NJ\",m,1.21,0.0830,0.0479,3,0.0684,1.38\\n38168,PPP1R1B_fluox,\"I/LnJ\",m,0.912,0.0470,0.0271,3,0.0515,-0.29\\n38168,PPP1R1B_fluox,\"LG/J\",m,0.865,0.0450,0.0260,3,0.0520,-0.55\\n38168,PPP1R1B_fluox,\"LP/J\",m,0.520,0.0240,0.0139,3,0.0462,-2.49\\n38168,PPP1R1B_fluox,\"MA/MyJ\",m,1.17,0.0490,0.0283,3,0.0418,1.16\\n38168,PPP1R1B_fluox,\"MRL/MpJ\",m,0.795,0.0380,0.0219,3,0.0478,-0.95\\n38168,PPP1R1B_fluox,\"NOD/ShiLtJ\",m,1.16,0.0670,0.0387,3,0.0579,1.10\\n38168,PPP1R1B_fluox,\"NOR/LtJ\",m,0.979,0.0280,0.0162,3,0.0286,0.09\\n38168,PPP1R1B_fluox,\"NZB/BlNJ\",m,0.997,0.0500,0.0289,3,0.0502,0.19\\n38168,PPP1R1B_fluox,\"NZW/LacJ\",m,0.796,0.0200,0.0115,3,0.0251,-0.94\\n38168,PPP1R1B_fluox,\"P/J\",m,1.30,0.0480,0.0277,3,0.0369,1.89\\n38168,PPP1R1B_fluox,\"PL/J\",m,0.826,0.0420,0.0242,3,0.0508,-0.77\\n38168,PPP1R1B_fluox,\"RIIIS/J\",m,0.923,0.0540,0.0312,3,0.0585,-0.23\\n38168,PPP1R1B_fluox,\"SJL/J\",m,0.855,0.0330,0.0191,3,0.0386,-0.61\\n38168,PPP1R1B_fluox,\"SM/J\",m,0.840,0.0440,0.0254,3,0.0524,-0.70\\n38168,PPP1R1B_fluox,\"SWR/J\",m,1.08,0.0560,0.0323,3,0.0519,0.65\\n38170,PTH_cont,\"129S1/SvImJ\",m,0.720,0.0650,0.0375,3,0.0903,-0.47\\n38170,PTH_cont,\"A/J\",m,0.615,0.0300,0.0173,3,0.0488,-1.66\\n38170,PTH_cont,\"AKR/J\",m,0.803,0.0390,0.0225,3,0.0486,0.46\\n38170,PTH_cont,\"BALB/cJ\",m,0.649,0.0330,0.0191,3,0.0508,-1.27\\n38170,PTH_cont,\"BTBR T<+> Itpr3<tf>/J\",m,0.732,0.0110,0.00635,3,0.0150,-0.34\\n38170,PTH_cont,\"BUB/BnJ\",m,0.809,0.0130,0.00751,3,0.0161,0.53\\n38170,PTH_cont,\"C3H/HeJ\",m,0.903,0.0300,0.0173,3,0.0332,1.59\\n38170,PTH_cont,\"C57BL/6J\",m,0.790,0.0920,0.0531,3,0.116,0.32\\n38170,PTH_cont,\"C57BLKS/J\",m,0.768,0.0180,0.0104,3,0.0234,0.07\\n38170,PTH_cont,\"C57BR/cdJ\",m,0.839,0.0460,0.0266,3,0.0548,0.87\\n38170,PTH_cont,\"C58/J\",m,0.712,0.0160,0.00924,3,0.0225,-0.56\\n38170,PTH_cont,\"CBA/J\",m,0.833,0.0130,0.00751,3,0.0156,0.80\\n38170,PTH_cont,\"CE/J\",m,0.815,0.0380,0.0219,3,0.0466,0.60\\n38170,PTH_cont,\"DBA/2J\",m,0.581,0.0170,0.00981,3,0.0293,-2.04\\n38170,PTH_cont,\"FVB/NJ\",m,0.782,0.0260,0.0150,3,0.0332,0.23\\n38170,PTH_cont,\"I/LnJ\",m,0.806,0.0450,0.0260,3,0.0558,0.50\\n38170,PTH_cont,\"LG/J\",m,0.659,0.0130,0.00751,3,0.0197,-1.16\\n38170,PTH_cont,\"LP/J\",m,0.833,0.0130,0.00751,3,0.0156,0.80\\n38170,PTH_cont,\"MA/MyJ\",m,0.799,0.0370,0.0214,3,0.0463,0.42\\n38170,PTH_cont,\"MRL/MpJ\",m,0.647,0.0270,0.0156,3,0.0417,-1.29\\n38170,PTH_cont,\"NOD/ShiLtJ\",m,0.680,0.0600,0.0346,3,0.0882,-0.92\\n38170,PTH_cont,\"NOR/LtJ\",m,0.679,0.0440,0.0254,3,0.0648,-0.93\\n38170,PTH_cont,\"NZB/BlNJ\",m,0.789,0.0160,0.00924,3,0.0203,0.30\\n38170,PTH_cont,\"NZW/LacJ\",m,0.957,0.0150,0.00866,3,0.0157,2.20\\n38170,PTH_cont,\"P/J\",m,0.887,0.0180,0.0104,3,0.0203,1.41\\n38170,PTH_cont,\"PL/J\",m,0.681,0.00900,0.00520,3,0.0132,-0.91\\n38170,PTH_cont,\"RIIIS/J\",m,0.790,0.0120,0.00693,3,0.0152,0.32\\n38170,PTH_cont,\"SJL/J\",m,0.772,0.0180,0.0104,3,0.0233,0.11\\n38170,PTH_cont,\"SM/J\",m,0.694,0.0240,0.0139,3,0.0346,-0.77\\n38170,PTH_cont,\"SWR/J\",m,0.835,0.0280,0.0162,3,0.0335,0.82\\n38171,PTH_fluox,\"129S1/SvImJ\",m,0.779,0.0790,0.0456,3,0.101,1.06\\n38171,PTH_fluox,\"A/J\",m,0.610,0.0270,0.0156,3,0.0443,-0.34\\n38171,PTH_fluox,\"AKR/J\",m,0.719,0.0580,0.0335,3,0.0807,0.56\\n38171,PTH_fluox,\"BALB/cJ\",m,0.524,0.0210,0.0121,3,0.0401,-1.05\\n38171,PTH_fluox,\"BTBR T<+> Itpr3<tf>/J\",m,0.578,0.0110,0.00635,3,0.0190,-0.61\\n38171,PTH_fluox,\"BUB/BnJ\",m,0.667,0.0570,0.0329,3,0.0855,0.13\\n38171,PTH_fluox,\"C3H/HeJ\",m,0.790,0.0520,0.0300,3,0.0658,1.15\\n38171,PTH_fluox,\"C57BL/6J\",m,0.861,0.0860,0.0497,3,0.0999,1.74\\n38171,PTH_fluox,\"C57BLKS/J\",m,0.700,0.0450,0.0260,3,0.0643,0.40\\n38171,PTH_fluox,\"C57BR/cdJ\",m,0.900,0.0510,0.0294,3,0.0567,2.06\\n38171,PTH_fluox,\"C58/J\",m,0.549,0.0100,0.00577,3,0.0182,-0.85\\n38171,PTH_fluox,\"CBA/J\",m,0.679,0.0210,0.0121,3,0.0309,0.23\\n38171,PTH_fluox,\"CE/J\",m,0.701,0.0600,0.0346,3,0.0856,0.41\\n38171,PTH_fluox,\"DBA/2J\",m,0.500,0.0140,0.00808,3,0.0280,-1.25\\n38171,PTH_fluox,\"FVB/NJ\",m,0.796,0.0530,0.0306,3,0.0666,1.20\\n38171,PTH_fluox,\"I/LnJ\",m,0.650,0.0480,0.0277,3,0.0738,-0.01\\n38171,PTH_fluox,\"LG/J\",m,0.583,0.0140,0.00808,3,0.0240,-0.57\\n38171,PTH_fluox,\"LP/J\",m,0.430,0.0120,0.00693,3,0.0279,-1.83\\n38171,PTH_fluox,\"MA/MyJ\",m,0.644,0.0100,0.00577,3,0.0155,-0.06\\n38171,PTH_fluox,\"MRL/MpJ\",m,0.497,0.0110,0.00635,3,0.0221,-1.28\\n38171,PTH_fluox,\"NOD/ShiLtJ\",m,0.698,0.0170,0.00981,3,0.0244,0.39\\n38171,PTH_fluox,\"NOR/LtJ\",m,0.641,0.0200,0.0115,3,0.0312,-0.09\\n38171,PTH_fluox,\"NZB/BlNJ\",m,0.514,0.00800,0.00462,3,0.0156,-1.14\\n38171,PTH_fluox,\"NZW/LacJ\",m,0.501,0.00900,0.00520,3,0.0180,-1.24\\n38171,PTH_fluox,\"P/J\",m,0.655,0.0100,0.00577,3,0.0153,0.03\\n38171,PTH_fluox,\"PL/J\",m,0.532,0.0150,0.00866,3,0.0282,-0.99\\n38171,PTH_fluox,\"RIIIS/J\",m,0.676,0.0290,0.0167,3,0.0429,0.20\\n38171,PTH_fluox,\"SJL/J\",m,0.656,0.0230,0.0133,3,0.0351,0.04\\n38171,PTH_fluox,\"SM/J\",m,0.619,0.0160,0.00924,3,0.0258,-0.27\\n38171,PTH_fluox,\"SWR/J\",m,0.890,0.0360,0.0208,3,0.0404,1.98\\n38172,PTH_index,\"129S1/SvImJ\",m,3.39,0,0,3,0,1.35\\n38172,PTH_index,\"A/J\",m,-0.340,0,0,3,0,0.88\\n38172,PTH_index,\"AKR/J\",m,-4.83,0,0,3,0,0.31\\n38172,PTH_index,\"BALB/cJ\",m,-9.34,0,0,3,0,-0.27\\n38172,PTH_index,\"BTBR T<+> Itpr3<tf>/J\",m,-10.2,0,0,3,0,-0.37\\n38172,PTH_index,\"BUB/BnJ\",m,-8.34,0,0,3,0,-0.14\\n38172,PTH_index,\"C3H/HeJ\",m,-5.81,0,0,3,0,0.18\\n38172,PTH_index,\"C57BL/6J\",m,3.75,0,0,3,0,1.39\\n38172,PTH_index,\"C57BLKS/J\",m,-4.04,0,0,3,0,0.41\\n38172,PTH_index,\"C57BR/cdJ\",m,3.04,0,0,3,0,1.30\\n38172,PTH_index,\"C58/J\",m,-11.3,0,0,3,0,-0.51\\n38172,PTH_index,\"CBA/J\",m,-8.84,0,0,3,0,-0.20\\n38172,PTH_index,\"CE/J\",m,-6.50,0,0,3,0,0.09\\n38172,PTH_index,\"DBA/2J\",m,-6.56,0,0,3,0,0.09\\n38172,PTH_index,\"FVB/NJ\",m,0.771,0,0,3,0,1.02\\n38172,PTH_index,\"I/LnJ\",m,-9.34,0,0,3,0,-0.27\\n38172,PTH_index,\"LG/J\",m,-5.31,0,0,3,0,0.25\\n38172,PTH_index,\"LP/J\",m,-28.7,0,0,3,0,-2.72\\n38172,PTH_index,\"MA/MyJ\",m,-9.36,0,0,3,0,-0.27\\n38172,PTH_index,\"MRL/MpJ\",m,-11.5,0,0,3,0,-0.54\\n38172,PTH_index,\"NOD/ShiLtJ\",m,1.13,0,0,3,0,1.06\\n38172,PTH_index,\"NOR/LtJ\",m,-2.46,0,0,3,0,0.61\\n38172,PTH_index,\"NZB/BlNJ\",m,-18.6,0,0,3,0,-1.44\\n38172,PTH_index,\"NZW/LacJ\",m,-28.1,0,0,3,0,-2.64\\n38172,PTH_index,\"P/J\",m,-13.2,0,0,3,0,-0.75\\n38172,PTH_index,\"PL/J\",m,-10.8,0,0,3,0,-0.45\\n38172,PTH_index,\"RIIIS/J\",m,-6.79,0,0,3,0,0.06\\n38172,PTH_index,\"SJL/J\",m,-7.02,0,0,3,0,0.03\\n38172,PTH_index,\"SM/J\",m,-4.93,0,0,3,0,0.29\\n38172,PTH_index,\"SWR/J\",m,2.73,0,0,3,0,1.26\\n38173,S100B_cont,\"129S1/SvImJ\",m,3.58,0.306,0.177,3,0.0855,0.46\\n38173,S100B_cont,\"A/J\",m,2.91,0.138,0.0797,3,0.0475,-0.30\\n38173,S100B_cont,\"AKR/J\",m,4.30,0.216,0.125,3,0.0503,1.29\\n38173,S100B_cont,\"BALB/cJ\",m,3.17,0.389,0.225,3,0.123,-0.01\\n38173,S100B_cont,\"BTBR T<+> Itpr3<tf>/J\",m,3.96,0.156,0.0901,3,0.0394,0.90\\n38173,S100B_cont,\"BUB/BnJ\",m,4.48,0.477,0.275,3,0.106,1.49\\n38173,S100B_cont,\"C3H/HeJ\",m,2.96,0.102,0.0589,3,0.0344,-0.25\\n38173,S100B_cont,\"C57BL/6J\",m,1.18,0.199,0.115,3,0.169,-2.28\\n38173,S100B_cont,\"C57BLKS/J\",m,3.67,0.115,0.0664,3,0.0313,0.57\\n38173,S100B_cont,\"C57BR/cdJ\",m,5.06,0.223,0.129,3,0.0441,2.16\\n38173,S100B_cont,\"C58/J\",m,2.70,0.135,0.0779,3,0.0499,-0.54\\n38173,S100B_cont,\"CBA/J\",m,3.45,0.145,0.0837,3,0.0420,0.31\\n38173,S100B_cont,\"CE/J\",m,2.50,0.182,0.105,3,0.0728,-0.77\\n38173,S100B_cont,\"DBA/2J\",m,2.09,0.305,0.176,3,0.146,-1.24\\n38173,S100B_cont,\"FVB/NJ\",m,3.08,0.163,0.0941,3,0.0530,-0.11\\n38173,S100B_cont,\"I/LnJ\",m,2.47,0.360,0.208,3,0.146,-0.81\\n38173,S100B_cont,\"LG/J\",m,2.54,0.156,0.0901,3,0.0614,-0.73\\n38173,S100B_cont,\"LP/J\",m,2.92,0.111,0.0641,3,0.0380,-0.29\\n38173,S100B_cont,\"MA/MyJ\",m,2.60,0.138,0.0797,3,0.0531,-0.66\\n38173,S100B_cont,\"MRL/MpJ\",m,4.47,0.149,0.0860,3,0.0333,1.48\\n38173,S100B_cont,\"NOD/ShiLtJ\",m,3.75,0.347,0.200,3,0.0927,0.66\\n38173,S100B_cont,\"NOR/LtJ\",m,2.03,0.229,0.132,3,0.113,-1.31\\n38173,S100B_cont,\"NZB/BlNJ\",m,1.96,0.0840,0.0485,3,0.0428,-1.39\\n38173,S100B_cont,\"NZW/LacJ\",m,2.49,0.105,0.0606,3,0.0422,-0.78\\n38173,S100B_cont,\"P/J\",m,2.85,0.0980,0.0566,3,0.0344,-0.37\\n38173,S100B_cont,\"PL/J\",m,3.58,0.191,0.110,3,0.0534,0.46\\n38173,S100B_cont,\"RIIIS/J\",m,4.05,0.233,0.135,3,0.0575,1.00\\n38173,S100B_cont,\"SJL/J\",m,3.91,0.319,0.184,3,0.0815,0.84\\n38173,S100B_cont,\"SM/J\",m,3.73,0.219,0.126,3,0.0588,0.63\\n38173,S100B_cont,\"SWR/J\",m,2.81,0.276,0.159,3,0.0984,-0.42\\n38174,S100B_fluox,\"129S1/SvImJ\",m,1.85,0.153,0.0883,3,0.0827,-1.29\\n38174,S100B_fluox,\"A/J\",m,3.84,0.333,0.192,3,0.0868,0.70\\n38174,S100B_fluox,\"AKR/J\",m,2.41,0.286,0.165,3,0.119,-0.73\\n38174,S100B_fluox,\"BALB/cJ\",m,3.35,0.297,0.171,3,0.0886,0.21\\n38174,S100B_fluox,\"BTBR T<+> Itpr3<tf>/J\",m,3.97,0.232,0.134,3,0.0584,0.83\\n38174,S100B_fluox,\"BUB/BnJ\",m,4.65,0.297,0.171,3,0.0639,1.51\\n38174,S100B_fluox,\"C3H/HeJ\",m,2.28,0.0780,0.0450,3,0.0342,-0.86\\n38174,S100B_fluox,\"C57BL/6J\",m,4.47,0.205,0.118,3,0.0459,1.33\\n38174,S100B_fluox,\"C57BLKS/J\",m,4.08,0.460,0.266,3,0.113,0.94\\n38174,S100B_fluox,\"C57BR/cdJ\",m,3.99,0.210,0.121,3,0.0526,0.85\\n38174,S100B_fluox,\"C58/J\",m,3.69,0.232,0.134,3,0.0629,0.55\\n38174,S100B_fluox,\"CBA/J\",m,4.21,0.408,0.236,3,0.0969,1.07\\n38174,S100B_fluox,\"CE/J\",m,3.23,0.365,0.211,3,0.113,0.09\\n38174,S100B_fluox,\"DBA/2J\",m,3.18,0.351,0.203,3,0.110,0.04\\n38174,S100B_fluox,\"FVB/NJ\",m,3.27,0.112,0.0647,3,0.0343,0.13\\n38174,S100B_fluox,\"I/LnJ\",m,1.66,0.271,0.156,3,0.164,-1.47\\n38174,S100B_fluox,\"LG/J\",m,3.40,0.199,0.115,3,0.0585,0.26\\n38174,S100B_fluox,\"LP/J\",m,1.02,0.0820,0.0473,3,0.0800,-2.11\\n38174,S100B_fluox,\"MA/MyJ\",m,4.12,0.277,0.160,3,0.0673,0.98\\n38174,S100B_fluox,\"MRL/MpJ\",m,2.67,0.243,0.140,3,0.0911,-0.47\\n38174,S100B_fluox,\"NOD/ShiLtJ\",m,2.47,0.0900,0.0520,3,0.0365,-0.67\\n38174,S100B_fluox,\"NOR/LtJ\",m,1.03,0.326,0.188,3,0.317,-2.10\\n38174,S100B_fluox,\"NZB/BlNJ\",m,2.70,0.128,0.0739,3,0.0474,-0.44\\n38174,S100B_fluox,\"NZW/LacJ\",m,1.86,0.215,0.124,3,0.115,-1.28\\n38174,S100B_fluox,\"P/J\",m,3.00,0.156,0.0901,3,0.0521,-0.14\\n38174,S100B_fluox,\"PL/J\",m,3.07,0.129,0.0745,3,0.0420,-0.07\\n38174,S100B_fluox,\"RIIIS/J\",m,3.92,0.284,0.164,3,0.0724,0.78\\n38174,S100B_fluox,\"SJL/J\",m,2.69,0.176,0.102,3,0.0655,-0.45\\n38174,S100B_fluox,\"SM/J\",m,4.66,0.214,0.124,3,0.0460,1.52\\n38174,S100B_fluox,\"SWR/J\",m,3.44,0.0860,0.0497,3,0.0250,0.30\\n38175,S100B_index,\"129S1/SvImJ\",m,-28.7,0,0,3,0,-1.37\\n38175,S100B_index,\"A/J\",m,12.1,0,0,3,0,0.69\\n38175,S100B_index,\"AKR/J\",m,-25.1,0,0,3,0,-1.19\\n38175,S100B_index,\"BALB/cJ\",m,2.46,0,0,3,0,0.20\\n38175,S100B_index,\"BTBR T<+> Itpr3<tf>/J\",m,0.145,0,0,3,0,0.08\\n38175,S100B_index,\"BUB/BnJ\",m,1.57,0,0,3,0,0.16\\n38175,S100B_index,\"C3H/HeJ\",m,-11.3,0,0,3,0,-0.50\\n38175,S100B_index,\"C57BL/6J\",m,58.0,0,0,3,0,3.01\\n38175,S100B_index,\"C57BLKS/J\",m,4.56,0,0,3,0,0.31\\n38175,S100B_index,\"C57BR/cdJ\",m,-10.3,0,0,3,0,-0.44\\n38175,S100B_index,\"C58/J\",m,13.5,0,0,3,0,0.76\\n38175,S100B_index,\"CBA/J\",m,8.65,0,0,3,0,0.51\\n38175,S100B_index,\"CE/J\",m,11.1,0,0,3,0,0.64\\n38175,S100B_index,\"DBA/2J\",m,18.3,0,0,3,0,1.00\\n38175,S100B_index,\"FVB/NJ\",m,2.65,0,0,3,0,0.21\\n38175,S100B_index,\"I/LnJ\",m,-17.4,0,0,3,0,-0.80\\n38175,S100B_index,\"LG/J\",m,12.7,0,0,3,0,0.72\\n38175,S100B_index,\"LP/J\",m,-45.5,0,0,3,0,-2.22\\n38175,S100B_index,\"MA/MyJ\",m,20.0,0,0,3,0,1.09\\n38175,S100B_index,\"MRL/MpJ\",m,-22.4,0,0,3,0,-1.06\\n38175,S100B_index,\"NOD/ShiLtJ\",m,-18.1,0,0,3,0,-0.84\\n38175,S100B_index,\"NOR/LtJ\",m,-29.5,0,0,3,0,-1.41\\n38175,S100B_index,\"NZB/BlNJ\",m,13.8,0,0,3,0,0.77\\n38175,S100B_index,\"NZW/LacJ\",m,-12.6,0,0,3,0,-0.56\\n38175,S100B_index,\"P/J\",m,2.18,0,0,3,0,0.19\\n38175,S100B_index,\"PL/J\",m,-6.66,0,0,3,0,-0.26\\n38175,S100B_index,\"RIIIS/J\",m,-1.45,0,0,3,0,0.00\\n38175,S100B_index,\"SJL/J\",m,-16.3,0,0,3,0,-0.75\\n38175,S100B_index,\"SM/J\",m,9.69,0,0,3,0,0.57\\n38175,S100B_index,\"SWR/J\",m,8.83,0,0,3,0,0.52\\n38176,SCG5_cont,\"129S1/SvImJ\",m,0.500,0.00800,0.00462,3,0.0160,0.50\\n38176,SCG5_cont,\"A/J\",m,0.398,0.0100,0.00577,3,0.0251,-1.40\\n38176,SCG5_cont,\"AKR/J\",m,0.574,0.0160,0.00924,3,0.0279,1.87\\n38176,SCG5_cont,\"BALB/cJ\",m,0.470,0.0120,0.00693,3,0.0255,-0.06\\n38176,SCG5_cont,\"BTBR T<+> Itpr3<tf>/J\",m,0.489,0.0140,0.00808,3,0.0286,0.29\\n38176,SCG5_cont,\"BUB/BnJ\",m,0.494,0.0120,0.00693,3,0.0243,0.38\\n38176,SCG5_cont,\"C3H/HeJ\",m,0.491,0.0100,0.00577,3,0.0204,0.33\\n38176,SCG5_cont,\"C57BL/6J\",m,0.464,0.0180,0.0104,3,0.0388,-0.18\\n38176,SCG5_cont,\"C57BLKS/J\",m,0.428,0.00700,0.00404,3,0.0164,-0.85\\n38176,SCG5_cont,\"C57BR/cdJ\",m,0.574,0.00800,0.00462,3,0.0139,1.87\\n38176,SCG5_cont,\"C58/J\",m,0.424,0.00700,0.00404,3,0.0165,-0.92\\n38176,SCG5_cont,\"CBA/J\",m,0.479,0.0100,0.00577,3,0.0209,0.10\\n38176,SCG5_cont,\"CE/J\",m,0.568,0.00800,0.00462,3,0.0141,1.76\\n38176,SCG5_cont,\"DBA/2J\",m,0.456,0.00600,0.00346,3,0.0132,-0.32\\n38176,SCG5_cont,\"FVB/NJ\",m,0.440,0.0220,0.0127,3,0.0500,-0.62\\n38176,SCG5_cont,\"I/LnJ\",m,0.451,0.0100,0.00577,3,0.0222,-0.42\\n38176,SCG5_cont,\"LG/J\",m,0.475,0.00800,0.00462,3,0.0168,0.03\\n38176,SCG5_cont,\"LP/J\",m,0.444,0.00600,0.00346,3,0.0135,-0.55\\n38176,SCG5_cont,\"MA/MyJ\",m,0.469,0.0110,0.00635,3,0.0235,-0.08\\n38176,SCG5_cont,\"MRL/MpJ\",m,0.574,0.0140,0.00808,3,0.0244,1.87\\n38176,SCG5_cont,\"NOD/ShiLtJ\",m,0.500,0.0110,0.00635,3,0.0220,0.50\\n38176,SCG5_cont,\"NOR/LtJ\",m,0.420,0.00500,0.00289,3,0.0119,-0.99\\n38176,SCG5_cont,\"NZB/BlNJ\",m,0.450,0.00600,0.00346,3,0.0133,-0.44\\n38176,SCG5_cont,\"NZW/LacJ\",m,0.400,0.0130,0.00751,3,0.0325,-1.37\\n38176,SCG5_cont,\"P/J\",m,0.462,0.0150,0.00866,3,0.0325,-0.21\\n38176,SCG5_cont,\"PL/J\",m,0.505,0.0170,0.00981,3,0.0337,0.59\\n38176,SCG5_cont,\"RIIIS/J\",m,0.393,0.00800,0.00462,3,0.0204,-1.50\\n38176,SCG5_cont,\"SJL/J\",m,0.524,0.00700,0.00404,3,0.0134,0.94\\n38176,SCG5_cont,\"SM/J\",m,0.506,0.0100,0.00577,3,0.0198,0.61\\n38176,SCG5_cont,\"SWR/J\",m,0.380,0.00600,0.00346,3,0.0158,-1.74\\n38177,SCG5_fluox,\"129S1/SvImJ\",m,0.354,0.0100,0.00577,3,0.0282,-0.71\\n38177,SCG5_fluox,\"A/J\",m,0.396,0.0110,0.00635,3,0.0278,0.06\\n38177,SCG5_fluox,\"AKR/J\",m,0.296,0.0110,0.00635,3,0.0372,-1.77\\n38177,SCG5_fluox,\"BALB/cJ\",m,0.415,0.00600,0.00346,3,0.0145,0.41\\n38177,SCG5_fluox,\"BTBR T<+> Itpr3<tf>/J\",m,0.435,0.0110,0.00635,3,0.0253,0.77\\n38177,SCG5_fluox,\"BUB/BnJ\",m,0.382,0.0130,0.00751,3,0.0340,-0.20\\n38177,SCG5_fluox,\"C3H/HeJ\",m,0.382,0.00500,0.00289,3,0.0131,-0.20\\n38177,SCG5_fluox,\"C57BL/6J\",m,0.509,0.00900,0.00520,3,0.0177,2.13\\n38177,SCG5_fluox,\"C57BLKS/J\",m,0.381,0.0120,0.00693,3,0.0315,-0.21\\n38177,SCG5_fluox,\"C57BR/cdJ\",m,0.472,0.0120,0.00693,3,0.0254,1.45\\n38177,SCG5_fluox,\"C58/J\",m,0.460,0.0100,0.00577,3,0.0217,1.23\\n38177,SCG5_fluox,\"CBA/J\",m,0.442,0.00800,0.00462,3,0.0181,0.90\\n38177,SCG5_fluox,\"CE/J\",m,0.375,0.0120,0.00693,3,0.0320,-0.32\\n38177,SCG5_fluox,\"DBA/2J\",m,0.429,0.0110,0.00635,3,0.0256,0.66\\n38177,SCG5_fluox,\"FVB/NJ\",m,0.380,0.0120,0.00693,3,0.0316,-0.23\\n38177,SCG5_fluox,\"I/LnJ\",m,0.360,0.0100,0.00577,3,0.0278,-0.60\\n38177,SCG5_fluox,\"LG/J\",m,0.414,0.00600,0.00346,3,0.0145,0.39\\n38177,SCG5_fluox,\"LP/J\",m,0.258,0.0110,0.00635,3,0.0426,-2.47\\n38177,SCG5_fluox,\"MA/MyJ\",m,0.439,0.00900,0.00520,3,0.0205,0.85\\n38177,SCG5_fluox,\"MRL/MpJ\",m,0.409,0.0120,0.00693,3,0.0293,0.30\\n38177,SCG5_fluox,\"NOD/ShiLtJ\",m,0.354,0.0130,0.00751,3,0.0367,-0.71\\n38177,SCG5_fluox,\"NOR/LtJ\",m,0.401,0.00800,0.00462,3,0.0200,0.15\\n38177,SCG5_fluox,\"NZB/BlNJ\",m,0.437,0.00700,0.00404,3,0.0160,0.81\\n38177,SCG5_fluox,\"NZW/LacJ\",m,0.297,0.0110,0.00635,3,0.0370,-1.75\\n38177,SCG5_fluox,\"P/J\",m,0.432,0.00600,0.00346,3,0.0139,0.72\\n38177,SCG5_fluox,\"PL/J\",m,0.399,0.0110,0.00635,3,0.0276,0.12\\n38177,SCG5_fluox,\"RIIIS/J\",m,0.337,0.00500,0.00289,3,0.0148,-1.02\\n38177,SCG5_fluox,\"SJL/J\",m,0.372,0.0120,0.00693,3,0.0323,-0.38\\n38177,SCG5_fluox,\"SM/J\",m,0.428,0.0100,0.00577,3,0.0234,0.65\\n38177,SCG5_fluox,\"SWR/J\",m,0.336,0.0120,0.00693,3,0.0357,-1.04\\n38178,SCG5_index,\"129S1/SvImJ\",m,-15.0,0,0,3,0,-0.91\\n38178,SCG5_index,\"A/J\",m,-0.220,0,0,3,0,1.10\\n38178,SCG5_index,\"AKR/J\",m,-28.7,0,0,3,0,-2.77\\n38178,SCG5_index,\"BALB/cJ\",m,-5.40,0,0,3,0,0.39\\n38178,SCG5_index,\"BTBR T<+> Itpr3<tf>/J\",m,-5.13,0,0,3,0,0.43\\n38178,SCG5_index,\"BUB/BnJ\",m,-11.2,0,0,3,0,-0.39\\n38178,SCG5_index,\"C3H/HeJ\",m,-10.9,0,0,3,0,-0.35\\n38178,SCG5_index,\"C57BL/6J\",m,3.98,0,0,3,0,1.67\\n38178,SCG5_index,\"C57BLKS/J\",m,-5.04,0,0,3,0,0.44\\n38178,SCG5_index,\"C57BR/cdJ\",m,-8.49,0,0,3,0,-0.03\\n38178,SCG5_index,\"C58/J\",m,3.57,0,0,3,0,1.61\\n38178,SCG5_index,\"CBA/J\",m,-3.49,0,0,3,0,0.65\\n38178,SCG5_index,\"CE/J\",m,-18.0,0,0,3,0,-1.32\\n38178,SCG5_index,\"DBA/2J\",m,-2.73,0,0,3,0,0.76\\n38178,SCG5_index,\"FVB/NJ\",m,-6.41,0,0,3,0,0.26\\n38178,SCG5_index,\"I/LnJ\",m,-9.89,0,0,3,0,-0.22\\n38178,SCG5_index,\"LG/J\",m,-5.97,0,0,3,0,0.32\\n38178,SCG5_index,\"LP/J\",m,-23.6,0,0,3,0,-2.08\\n38178,SCG5_index,\"MA/MyJ\",m,-2.95,0,0,3,0,0.73\\n38178,SCG5_index,\"MRL/MpJ\",m,-14.7,0,0,3,0,-0.87\\n38178,SCG5_index,\"NOD/ShiLtJ\",m,-15.1,0,0,3,0,-0.92\\n38178,SCG5_index,\"NOR/LtJ\",m,-2.06,0,0,3,0,0.85\\n38178,SCG5_index,\"NZB/BlNJ\",m,-1.27,0,0,3,0,0.95\\n38178,SCG5_index,\"NZW/LacJ\",m,-12.9,0,0,3,0,-0.63\\n38178,SCG5_index,\"P/J\",m,-2.88,0,0,3,0,0.74\\n38178,SCG5_index,\"PL/J\",m,-10.2,0,0,3,0,-0.26\\n38178,SCG5_index,\"RIIIS/J\",m,-6.59,0,0,3,0,0.23\\n38178,SCG5_index,\"SJL/J\",m,-14.9,0,0,3,0,-0.90\\n38178,SCG5_index,\"SM/J\",m,-7.32,0,0,3,0,0.13\\n38178,SCG5_index,\"SWR/J\",m,-5.37,0,0,3,0,0.40\\n38179,SLC6A2_cont,\"129S1/SvImJ\",m,0.485,0.0160,0.00924,3,0.0330,0.69\\n38179,SLC6A2_cont,\"A/J\",m,0.398,0.0120,0.00693,3,0.0302,-1.24\\n38179,SLC6A2_cont,\"AKR/J\",m,0.459,0.0110,0.00635,3,0.0240,0.11\\n38179,SLC6A2_cont,\"BALB/cJ\",m,0.439,0.0150,0.00866,3,0.0342,-0.33\\n38179,SLC6A2_cont,\"BTBR T<+> Itpr3<tf>/J\",m,0.499,0.0100,0.00577,3,0.0200,1.00\\n38179,SLC6A2_cont,\"BUB/BnJ\",m,0.469,0.0100,0.00577,3,0.0213,0.33\\n38179,SLC6A2_cont,\"C3H/HeJ\",m,0.408,0.0200,0.0115,3,0.0490,-1.02\\n38179,SLC6A2_cont,\"C57BL/6J\",m,0.418,0.0300,0.0173,3,0.0718,-0.80\\n38179,SLC6A2_cont,\"C57BLKS/J\",m,0.440,0.0140,0.00808,3,0.0318,-0.31\\n38179,SLC6A2_cont,\"C57BR/cdJ\",m,0.463,0.0180,0.0104,3,0.0389,0.20\\n38179,SLC6A2_cont,\"C58/J\",m,0.434,0.0160,0.00924,3,0.0369,-0.45\\n38179,SLC6A2_cont,\"CBA/J\",m,0.449,0.0100,0.00577,3,0.0223,-0.11\\n38179,SLC6A2_cont,\"CE/J\",m,0.387,0.0110,0.00635,3,0.0284,-1.49\\n38179,SLC6A2_cont,\"DBA/2J\",m,0.403,0.0130,0.00751,3,0.0323,-1.13\\n38179,SLC6A2_cont,\"FVB/NJ\",m,0.420,0.0320,0.0185,3,0.0762,-0.76\\n38179,SLC6A2_cont,\"I/LnJ\",m,0.385,0.00700,0.00404,3,0.0182,-1.53\\n38179,SLC6A2_cont,\"LG/J\",m,0.443,0.0180,0.0104,3,0.0406,-0.25\\n38179,SLC6A2_cont,\"LP/J\",m,0.452,0.0230,0.0133,3,0.0509,-0.05\\n38179,SLC6A2_cont,\"MA/MyJ\",m,0.403,0.0180,0.0104,3,0.0447,-1.13\\n38179,SLC6A2_cont,\"MRL/MpJ\",m,0.507,0.0210,0.0121,3,0.0414,1.17\\n38179,SLC6A2_cont,\"NOD/ShiLtJ\",m,0.533,0.0160,0.00924,3,0.0300,1.75\\n38179,SLC6A2_cont,\"NOR/LtJ\",m,0.384,0.0100,0.00577,3,0.0260,-1.55\\n38179,SLC6A2_cont,\"NZB/BlNJ\",m,0.485,0.0220,0.0127,3,0.0454,0.69\\n38179,SLC6A2_cont,\"NZW/LacJ\",m,0.542,0.0290,0.0167,3,0.0535,1.95\\n38179,SLC6A2_cont,\"P/J\",m,0.501,0.0310,0.0179,3,0.0619,1.04\\n38179,SLC6A2_cont,\"PL/J\",m,0.477,0.0240,0.0139,3,0.0503,0.51\\n38179,SLC6A2_cont,\"RIIIS/J\",m,0.534,0.0260,0.0150,3,0.0487,1.77\\n38179,SLC6A2_cont,\"SJL/J\",m,0.475,0.0280,0.0162,3,0.0589,0.46\\n38179,SLC6A2_cont,\"SM/J\",m,0.468,0.0200,0.0115,3,0.0427,0.31\\n38179,SLC6A2_cont,\"SWR/J\",m,0.462,0.0100,0.00577,3,0.0216,0.18\\n38180,SLC6A2_fluox,\"129S1/SvImJ\",m,0.404,0.0130,0.00751,3,0.0322,-1.09\\n38180,SLC6A2_fluox,\"A/J\",m,0.464,0.0140,0.00808,3,0.0302,0.01\\n38180,SLC6A2_fluox,\"AKR/J\",m,0.473,0.0170,0.00981,3,0.0359,0.18\\n38180,SLC6A2_fluox,\"BALB/cJ\",m,0.469,0.00600,0.00346,3,0.0128,0.10\\n38180,SLC6A2_fluox,\"BTBR T<+> Itpr3<tf>/J\",m,0.476,0.0110,0.00635,3,0.0231,0.23\\n38180,SLC6A2_fluox,\"BUB/BnJ\",m,0.516,0.0380,0.0219,3,0.0736,0.97\\n38180,SLC6A2_fluox,\"C3H/HeJ\",m,0.478,0.0150,0.00866,3,0.0314,0.27\\n38180,SLC6A2_fluox,\"C57BL/6J\",m,0.528,0.0160,0.00924,3,0.0303,1.19\\n38180,SLC6A2_fluox,\"C57BLKS/J\",m,0.494,0.0280,0.0162,3,0.0567,0.56\\n38180,SLC6A2_fluox,\"C57BR/cdJ\",m,0.527,0.0160,0.00924,3,0.0304,1.17\\n38180,SLC6A2_fluox,\"C58/J\",m,0.476,0.0170,0.00981,3,0.0357,0.23\\n38180,SLC6A2_fluox,\"CBA/J\",m,0.515,0.0310,0.0179,3,0.0602,0.95\\n38180,SLC6A2_fluox,\"CE/J\",m,0.425,0.0120,0.00693,3,0.0282,-0.70\\n38180,SLC6A2_fluox,\"DBA/2J\",m,0.454,0.00900,0.00520,3,0.0198,-0.17\\n38180,SLC6A2_fluox,\"FVB/NJ\",m,0.501,0.0360,0.0208,3,0.0719,0.69\\n38180,SLC6A2_fluox,\"I/LnJ\",m,0.370,0.0140,0.00808,3,0.0378,-1.72\\n38180,SLC6A2_fluox,\"LG/J\",m,0.467,0.0210,0.0121,3,0.0450,0.07\\n38180,SLC6A2_fluox,\"LP/J\",m,0.289,0.0130,0.00751,3,0.0450,-3.21\\n38180,SLC6A2_fluox,\"MA/MyJ\",m,0.493,0.0140,0.00808,3,0.0284,0.55\\n38180,SLC6A2_fluox,\"MRL/MpJ\",m,0.468,0.0180,0.0104,3,0.0385,0.09\\n38180,SLC6A2_fluox,\"NOD/ShiLtJ\",m,0.497,0.0210,0.0121,3,0.0423,0.62\\n38180,SLC6A2_fluox,\"NOR/LtJ\",m,0.420,0.0170,0.00981,3,0.0405,-0.80\\n38180,SLC6A2_fluox,\"NZB/BlNJ\",m,0.451,0.0200,0.0115,3,0.0443,-0.23\\n38180,SLC6A2_fluox,\"NZW/LacJ\",m,0.350,0.0130,0.00751,3,0.0371,-2.08\\n38180,SLC6A2_fluox,\"P/J\",m,0.435,0.0270,0.0156,3,0.0621,-0.52\\n38180,SLC6A2_fluox,\"PL/J\",m,0.491,0.0180,0.0104,3,0.0367,0.51\\n38180,SLC6A2_fluox,\"RIIIS/J\",m,0.497,0.0230,0.0133,3,0.0463,0.62\\n38180,SLC6A2_fluox,\"SJL/J\",m,0.447,0.0190,0.0110,3,0.0425,-0.30\\n38180,SLC6A2_fluox,\"SM/J\",m,0.521,0.0250,0.0144,3,0.0480,1.06\\n38180,SLC6A2_fluox,\"SWR/J\",m,0.503,0.0230,0.0133,3,0.0457,0.73\\n38181,SLC6A2_index,\"129S1/SvImJ\",m,-7.90,0,0,3,0,-1.22\\n38181,SLC6A2_index,\"A/J\",m,6.66,0,0,3,0,0.84\\n38181,SLC6A2_index,\"AKR/J\",m,1.26,0,0,3,0,0.07\\n38181,SLC6A2_index,\"BALB/cJ\",m,2.85,0,0,3,0,0.30\\n38181,SLC6A2_index,\"BTBR T<+> Itpr3<tf>/J\",m,-2.02,0,0,3,0,-0.39\\n38181,SLC6A2_index,\"BUB/BnJ\",m,4.13,0,0,3,0,0.48\\n38181,SLC6A2_index,\"C3H/HeJ\",m,6.85,0,0,3,0,0.86\\n38181,SLC6A2_index,\"C57BL/6J\",m,10.2,0,0,3,0,1.34\\n38181,SLC6A2_index,\"C57BLKS/J\",m,5.00,0,0,3,0,0.60\\n38181,SLC6A2_index,\"C57BR/cdJ\",m,5.60,0,0,3,0,0.69\\n38181,SLC6A2_index,\"C58/J\",m,3.96,0,0,3,0,0.46\\n38181,SLC6A2_index,\"CBA/J\",m,6.02,0,0,3,0,0.75\\n38181,SLC6A2_index,\"CE/J\",m,4.08,0,0,3,0,0.47\\n38181,SLC6A2_index,\"DBA/2J\",m,5.19,0,0,3,0,0.63\\n38181,SLC6A2_index,\"FVB/NJ\",m,7.65,0,0,3,0,0.98\\n38181,SLC6A2_index,\"I/LnJ\",m,-1.74,0,0,3,0,-0.35\\n38181,SLC6A2_index,\"LG/J\",m,2.22,0,0,3,0,0.21\\n38181,SLC6A2_index,\"LP/J\",m,-19.5,0,0,3,0,-2.87\\n38181,SLC6A2_index,\"MA/MyJ\",m,8.77,0,0,3,0,1.14\\n38181,SLC6A2_index,\"MRL/MpJ\",m,-3.43,0,0,3,0,-0.59\\n38181,SLC6A2_index,\"NOD/ShiLtJ\",m,-3.03,0,0,3,0,-0.53\\n38181,SLC6A2_index,\"NOR/LtJ\",m,3.91,0,0,3,0,0.45\\n38181,SLC6A2_index,\"NZB/BlNJ\",m,-3.16,0,0,3,0,-0.55\\n38181,SLC6A2_index,\"NZW/LacJ\",m,-19.0,0,0,3,0,-2.80\\n38181,SLC6A2_index,\"P/J\",m,-6.11,0,0,3,0,-0.97\\n38181,SLC6A2_index,\"PL/J\",m,1.30,0,0,3,0,0.08\\n38181,SLC6A2_index,\"RIIIS/J\",m,-3.16,0,0,3,0,-0.55\\n38181,SLC6A2_index,\"SJL/J\",m,-2.62,0,0,3,0,-0.48\\n38181,SLC6A2_index,\"SM/J\",m,4.63,0,0,3,0,0.55\\n38181,SLC6A2_index,\"SWR/J\",m,3.70,0,0,3,0,0.42\\n38182,SLC6A4_cont,\"129S1/SvImJ\",m,1.08,0.0190,0.0110,3,0.0175,0.12\\n38182,SLC6A4_cont,\"A/J\",m,0.845,0.0190,0.0110,3,0.0225,-2.02\\n38182,SLC6A4_cont,\"AKR/J\",m,1.08,0.0320,0.0185,3,0.0296,0.12\\n38182,SLC6A4_cont,\"BALB/cJ\",m,1.07,0.0610,0.0352,3,0.0567,0.03\\n38182,SLC6A4_cont,\"BTBR T<+> Itpr3<tf>/J\",m,1.10,0.0240,0.0139,3,0.0219,0.30\\n38182,SLC6A4_cont,\"BUB/BnJ\",m,1.12,0.0310,0.0179,3,0.0276,0.48\\n38182,SLC6A4_cont,\"C3H/HeJ\",m,1.14,0.0330,0.0191,3,0.0291,0.66\\n38182,SLC6A4_cont,\"C57BL/6J\",m,0.953,0.0840,0.0485,3,0.0881,-1.04\\n38182,SLC6A4_cont,\"C57BLKS/J\",m,0.963,0.0310,0.0179,3,0.0322,-0.95\\n38182,SLC6A4_cont,\"C57BR/cdJ\",m,1.17,0.0310,0.0179,3,0.0265,0.93\\n38182,SLC6A4_cont,\"C58/J\",m,0.967,0.0240,0.0139,3,0.0248,-0.91\\n38182,SLC6A4_cont,\"CBA/J\",m,1.08,0.0230,0.0133,3,0.0213,0.12\\n38182,SLC6A4_cont,\"CE/J\",m,0.953,0.0230,0.0133,3,0.0241,-1.04\\n38182,SLC6A4_cont,\"DBA/2J\",m,0.919,0.0570,0.0329,3,0.0620,-1.35\\n38182,SLC6A4_cont,\"FVB/NJ\",m,0.966,0.0350,0.0202,3,0.0362,-0.92\\n38182,SLC6A4_cont,\"I/LnJ\",m,1.01,0.0460,0.0266,3,0.0453,-0.52\\n38182,SLC6A4_cont,\"LG/J\",m,1.09,0.0190,0.0110,3,0.0174,0.21\\n38182,SLC6A4_cont,\"LP/J\",m,1.17,0.0150,0.00866,3,0.0128,0.93\\n38182,SLC6A4_cont,\"MA/MyJ\",m,1.00,0.0240,0.0139,3,0.0239,-0.61\\n38182,SLC6A4_cont,\"MRL/MpJ\",m,1.14,0.0330,0.0191,3,0.0289,0.66\\n38182,SLC6A4_cont,\"NOD/ShiLtJ\",m,1.34,0.0390,0.0225,3,0.0291,2.48\\n38182,SLC6A4_cont,\"NOR/LtJ\",m,0.920,0.0420,0.0242,3,0.0457,-1.34\\n38182,SLC6A4_cont,\"NZB/BlNJ\",m,1.06,0.0260,0.0150,3,0.0246,-0.07\\n38182,SLC6A4_cont,\"NZW/LacJ\",m,1.32,0.0410,0.0237,3,0.0310,2.30\\n38182,SLC6A4_cont,\"P/J\",m,1.01,0.0270,0.0156,3,0.0266,-0.52\\n38182,SLC6A4_cont,\"PL/J\",m,1.08,0.0250,0.0144,3,0.0232,0.12\\n38182,SLC6A4_cont,\"RIIIS/J\",m,1.16,0.0260,0.0150,3,0.0224,0.84\\n38182,SLC6A4_cont,\"SJL/J\",m,1.14,0.0260,0.0150,3,0.0228,0.66\\n38182,SLC6A4_cont,\"SM/J\",m,1.07,0.0400,0.0231,3,0.0372,0.03\\n38182,SLC6A4_cont,\"SWR/J\",m,1.10,0.0400,0.0231,3,0.0365,0.30\\n38183,SLC6A4_fluox,\"129S1/SvImJ\",m,0.812,0.0510,0.0294,3,0.0628,-0.49\\n38183,SLC6A4_fluox,\"A/J\",m,0.836,0.0340,0.0196,3,0.0407,-0.30\\n38183,SLC6A4_fluox,\"AKR/J\",m,0.574,0.0210,0.0121,3,0.0366,-2.33\\n38183,SLC6A4_fluox,\"BALB/cJ\",m,0.926,0.0270,0.0156,3,0.0292,0.39\\n38183,SLC6A4_fluox,\"BTBR T<+> Itpr3<tf>/J\",m,1.06,0.0240,0.0139,3,0.0226,1.43\\n38183,SLC6A4_fluox,\"BUB/BnJ\",m,0.928,0.0290,0.0167,3,0.0312,0.41\\n38183,SLC6A4_fluox,\"C3H/HeJ\",m,0.842,0.0320,0.0185,3,0.0380,-0.25\\n38183,SLC6A4_fluox,\"C57BL/6J\",m,1.01,0.0240,0.0139,3,0.0237,1.04\\n38183,SLC6A4_fluox,\"C57BLKS/J\",m,0.934,0.0230,0.0133,3,0.0246,0.46\\n38183,SLC6A4_fluox,\"C57BR/cdJ\",m,1.03,0.0200,0.0115,3,0.0195,1.20\\n38183,SLC6A4_fluox,\"C58/J\",m,0.972,0.0190,0.0110,3,0.0195,0.75\\n38183,SLC6A4_fluox,\"CBA/J\",m,0.965,0.0270,0.0156,3,0.0280,0.70\\n38183,SLC6A4_fluox,\"CE/J\",m,0.852,0.0370,0.0214,3,0.0434,-0.18\\n38183,SLC6A4_fluox,\"DBA/2J\",m,0.866,0.0170,0.00981,3,0.0196,-0.07\\n38183,SLC6A4_fluox,\"FVB/NJ\",m,0.896,0.0200,0.0115,3,0.0223,0.16\\n38183,SLC6A4_fluox,\"I/LnJ\",m,0.972,0.0270,0.0156,3,0.0278,0.75\\n38183,SLC6A4_fluox,\"LG/J\",m,0.867,0.0290,0.0167,3,0.0334,-0.06\\n38183,SLC6A4_fluox,\"LP/J\",m,0.493,0.0220,0.0127,3,0.0446,-2.95\\n38183,SLC6A4_fluox,\"MA/MyJ\",m,1.05,0.0150,0.00866,3,0.0142,1.35\\n38183,SLC6A4_fluox,\"MRL/MpJ\",m,0.774,0.0180,0.0104,3,0.0233,-0.78\\n38183,SLC6A4_fluox,\"NOD/ShiLtJ\",m,0.875,0.0170,0.00981,3,0.0194,0.00\\n38183,SLC6A4_fluox,\"NOR/LtJ\",m,0.880,0.0240,0.0139,3,0.0273,0.04\\n38183,SLC6A4_fluox,\"NZB/BlNJ\",m,0.845,0.0240,0.0139,3,0.0284,-0.23\\n38183,SLC6A4_fluox,\"NZW/LacJ\",m,0.622,0.0270,0.0156,3,0.0434,-1.96\\n38183,SLC6A4_fluox,\"P/J\",m,0.905,0.0130,0.00751,3,0.0144,0.23\\n38183,SLC6A4_fluox,\"PL/J\",m,0.839,0.0150,0.00866,3,0.0179,-0.28\\n38183,SLC6A4_fluox,\"RIIIS/J\",m,0.952,0.0190,0.0110,3,0.0200,0.60\\n38183,SLC6A4_fluox,\"SJL/J\",m,0.803,0.0240,0.0139,3,0.0299,-0.56\\n38183,SLC6A4_fluox,\"SM/J\",m,0.968,0.0200,0.0115,3,0.0207,0.72\\n38183,SLC6A4_fluox,\"SWR/J\",m,0.900,0.0330,0.0191,3,0.0367,0.19\\n38184,SLC6A4_index,\"129S1/SvImJ\",m,-12.5,0,0,3,0,-0.36\\n38184,SLC6A4_index,\"A/J\",m,-0.471,0,0,3,0,0.88\\n38184,SLC6A4_index,\"AKR/J\",m,-27.5,0,0,3,0,-1.90\\n38184,SLC6A4_index,\"BALB/cJ\",m,-6.45,0,0,3,0,0.26\\n38184,SLC6A4_index,\"BTBR T<+> Itpr3<tf>/J\",m,-1.45,0,0,3,0,0.77\\n38184,SLC6A4_index,\"BUB/BnJ\",m,-8.32,0,0,3,0,0.07\\n38184,SLC6A4_index,\"C3H/HeJ\",m,-13.0,0,0,3,0,-0.41\\n38184,SLC6A4_index,\"C57BL/6J\",m,2.55,0,0,3,0,1.19\\n38184,SLC6A4_index,\"C57BLKS/J\",m,-1.33,0,0,3,0,0.79\\n38184,SLC6A4_index,\"C57BR/cdJ\",m,-5.57,0,0,3,0,0.35\\n38184,SLC6A4_index,\"C58/J\",m,0.214,0,0,3,0,0.95\\n38184,SLC6A4_index,\"CBA/J\",m,-4.98,0,0,3,0,0.41\\n38184,SLC6A4_index,\"CE/J\",m,-4.90,0,0,3,0,0.42\\n38184,SLC6A4_index,\"DBA/2J\",m,-2.58,0,0,3,0,0.66\\n38184,SLC6A4_index,\"FVB/NJ\",m,-3.24,0,0,3,0,0.59\\n38184,SLC6A4_index,\"I/LnJ\",m,-1.89,0,0,3,0,0.73\\n38184,SLC6A4_index,\"LG/J\",m,-9.95,0,0,3,0,-0.10\\n38184,SLC6A4_index,\"LP/J\",m,-37.6,0,0,3,0,-2.94\\n38184,SLC6A4_index,\"MA/MyJ\",m,2.11,0,0,3,0,1.14\\n38184,SLC6A4_index,\"MRL/MpJ\",m,-16.9,0,0,3,0,-0.81\\n38184,SLC6A4_index,\"NOD/ShiLtJ\",m,-18.5,0,0,3,0,-0.98\\n38184,SLC6A4_index,\"NOR/LtJ\",m,-1.92,0,0,3,0,0.73\\n38184,SLC6A4_index,\"NZB/BlNJ\",m,-9.82,0,0,3,0,-0.09\\n38184,SLC6A4_index,\"NZW/LacJ\",m,-32.7,0,0,3,0,-2.44\\n38184,SLC6A4_index,\"P/J\",m,-4.95,0,0,3,0,0.41\\n38184,SLC6A4_index,\"PL/J\",m,-10.9,0,0,3,0,-0.20\\n38184,SLC6A4_index,\"RIIIS/J\",m,-8.57,0,0,3,0,0.04\\n38184,SLC6A4_index,\"SJL/J\",m,-15.2,0,0,3,0,-0.64\\n38184,SLC6A4_index,\"SM/J\",m,-4.51,0,0,3,0,0.46\\n38184,SLC6A4_index,\"SWR/J\",m,-8.63,0,0,3,0,0.04\\n38185,SST_cont,\"129S1/SvImJ\",m,1.33,0.128,0.0739,3,0.0964,3.53\\n38185,SST_cont,\"A/J\",m,0.847,0.0620,0.0358,3,0.0732,1.29\\n38185,SST_cont,\"AKR/J\",m,1.10,0.0870,0.0502,3,0.0792,2.47\\n38185,SST_cont,\"BALB/cJ\",m,0.656,0.0680,0.0393,3,0.104,0.41\\n38185,SST_cont,\"BTBR T<+> Itpr3<tf>/J\",m,0.609,0.0130,0.00751,3,0.0213,0.19\\n38185,SST_cont,\"BUB/BnJ\",m,0.551,0.0450,0.0260,3,0.0817,-0.08\\n38185,SST_cont,\"C3H/HeJ\",m,0.728,0.0390,0.0225,3,0.0536,0.74\\n38185,SST_cont,\"C57BL/6J\",m,0.637,0.121,0.0699,3,0.190,0.32\\n38185,SST_cont,\"C57BLKS/J\",m,0.581,0.0360,0.0208,3,0.0620,0.06\\n38185,SST_cont,\"C57BR/cdJ\",m,0.758,0.0740,0.0427,3,0.0976,0.88\\n38185,SST_cont,\"C58/J\",m,0.555,0.0250,0.0144,3,0.0450,-0.06\\n38185,SST_cont,\"CBA/J\",m,0.535,0.00900,0.00520,3,0.0168,-0.15\\n38185,SST_cont,\"CE/J\",m,0.612,0.0470,0.0271,3,0.0768,0.20\\n38185,SST_cont,\"DBA/2J\",m,0.389,0.0390,0.0225,3,0.100,-0.83\\n38185,SST_cont,\"FVB/NJ\",m,0.472,0.0190,0.0110,3,0.0403,-0.44\\n38185,SST_cont,\"I/LnJ\",m,0.540,0.0530,0.0306,3,0.0981,-0.13\\n38185,SST_cont,\"LG/J\",m,0.461,0.0280,0.0162,3,0.0607,-0.50\\n38185,SST_cont,\"LP/J\",m,0.486,0.0230,0.0133,3,0.0473,-0.38\\n38185,SST_cont,\"MA/MyJ\",m,0.529,0.0470,0.0271,3,0.0888,-0.18\\n38185,SST_cont,\"MRL/MpJ\",m,0.458,0.0240,0.0139,3,0.0524,-0.51\\n38185,SST_cont,\"NOD/ShiLtJ\",m,0.404,0.0330,0.0191,3,0.0817,-0.76\\n38185,SST_cont,\"NOR/LtJ\",m,0.378,0.0310,0.0179,3,0.0820,-0.88\\n38185,SST_cont,\"NZB/BlNJ\",m,0.456,0.0170,0.00981,3,0.0373,-0.52\\n38185,SST_cont,\"NZW/LacJ\",m,0.460,0.0200,0.0115,3,0.0435,-0.50\\n38185,SST_cont,\"P/J\",m,0.539,0.0150,0.00866,3,0.0278,-0.13\\n38185,SST_cont,\"PL/J\",m,0.386,0.0220,0.0127,3,0.0570,-0.84\\n38185,SST_cont,\"RIIIS/J\",m,0.388,0.0100,0.00577,3,0.0258,-0.83\\n38185,SST_cont,\"SJL/J\",m,0.486,0.0240,0.0139,3,0.0494,-0.38\\n38185,SST_cont,\"SM/J\",m,0.369,0.0140,0.00808,3,0.0379,-0.92\\n38185,SST_cont,\"SWR/J\",m,0.336,0.00900,0.00520,3,0.0268,-1.08\\n38186,SST_fluox,\"129S1/SvImJ\",m,1.01,0.118,0.0681,3,0.116,2.59\\n38186,SST_fluox,\"A/J\",m,1.02,0.0960,0.0554,3,0.0939,2.65\\n38186,SST_fluox,\"AKR/J\",m,0.714,0.0680,0.0393,3,0.0952,1.01\\n38186,SST_fluox,\"BALB/cJ\",m,0.585,0.0680,0.0393,3,0.116,0.32\\n38186,SST_fluox,\"BTBR T<+> Itpr3<tf>/J\",m,0.568,0.0320,0.0185,3,0.0563,0.23\\n38186,SST_fluox,\"BUB/BnJ\",m,0.572,0.0140,0.00808,3,0.0245,0.25\\n38186,SST_fluox,\"C3H/HeJ\",m,0.579,0.0580,0.0335,3,0.100,0.29\\n38186,SST_fluox,\"C57BL/6J\",m,0.911,0.0580,0.0335,3,0.0637,2.06\\n38186,SST_fluox,\"C57BLKS/J\",m,0.632,0.00900,0.00520,3,0.0142,0.57\\n38186,SST_fluox,\"C57BR/cdJ\",m,0.670,0.0330,0.0191,3,0.0493,0.78\\n38186,SST_fluox,\"C58/J\",m,0.541,0.0330,0.0191,3,0.0610,0.08\\n38186,SST_fluox,\"CBA/J\",m,0.531,0.0190,0.0110,3,0.0358,0.03\\n38186,SST_fluox,\"CE/J\",m,0.462,0.0500,0.0289,3,0.108,-0.34\\n38186,SST_fluox,\"DBA/2J\",m,0.423,0.0260,0.0150,3,0.0615,-0.55\\n38186,SST_fluox,\"FVB/NJ\",m,0.461,0.0140,0.00808,3,0.0304,-0.34\\n38186,SST_fluox,\"I/LnJ\",m,0.305,0.0500,0.0289,3,0.164,-1.18\\n38186,SST_fluox,\"LG/J\",m,0.520,0.00800,0.00462,3,0.0154,-0.03\\n38186,SST_fluox,\"LP/J\",m,0.278,0.0120,0.00693,3,0.0432,-1.32\\n38186,SST_fluox,\"MA/MyJ\",m,0.517,0.0270,0.0156,3,0.0522,-0.04\\n38186,SST_fluox,\"MRL/MpJ\",m,0.436,0.0410,0.0237,3,0.0940,-0.48\\n38186,SST_fluox,\"NOD/ShiLtJ\",m,0.412,0.00700,0.00404,3,0.0170,-0.61\\n38186,SST_fluox,\"NOR/LtJ\",m,0.428,0.0320,0.0185,3,0.0748,-0.52\\n38186,SST_fluox,\"NZB/BlNJ\",m,0.435,0.00900,0.00520,3,0.0207,-0.48\\n38186,SST_fluox,\"NZW/LacJ\",m,0.294,0.0180,0.0104,3,0.0612,-1.24\\n38186,SST_fluox,\"P/J\",m,0.400,0.0100,0.00577,3,0.0250,-0.67\\n38186,SST_fluox,\"PL/J\",m,0.421,0.0100,0.00577,3,0.0238,-0.56\\n38186,SST_fluox,\"RIIIS/J\",m,0.401,0.00900,0.00520,3,0.0224,-0.66\\n38186,SST_fluox,\"SJL/J\",m,0.371,0.0160,0.00924,3,0.0431,-0.82\\n38186,SST_fluox,\"SM/J\",m,0.405,0.0160,0.00924,3,0.0395,-0.64\\n38186,SST_fluox,\"SWR/J\",m,0.452,0.0140,0.00808,3,0.0310,-0.39\\n38187,SST_index,\"129S1/SvImJ\",m,-11.7,0,0,3,0,-0.83\\n38187,SST_index,\"A/J\",m,8.13,0,0,3,0,1.14\\n38187,SST_index,\"AKR/J\",m,-18.7,0,0,3,0,-1.52\\n38187,SST_index,\"BALB/cJ\",m,-5.04,0,0,3,0,-0.17\\n38187,SST_index,\"BTBR T<+> Itpr3<tf>/J\",m,-2.97,0,0,3,0,0.04\\n38187,SST_index,\"BUB/BnJ\",m,1.65,0,0,3,0,0.50\\n38187,SST_index,\"C3H/HeJ\",m,-9.90,0,0,3,0,-0.65\\n38187,SST_index,\"C57BL/6J\",m,15.5,0,0,3,0,1.87\\n38187,SST_index,\"C57BLKS/J\",m,3.68,0,0,3,0,0.70\\n38187,SST_index,\"C57BR/cdJ\",m,-5.33,0,0,3,0,-0.20\\n38187,SST_index,\"C58/J\",m,-1.10,0,0,3,0,0.22\\n38187,SST_index,\"CBA/J\",m,-0.359,0,0,3,0,0.30\\n38187,SST_index,\"CE/J\",m,-12.2,0,0,3,0,-0.88\\n38187,SST_index,\"DBA/2J\",m,3.73,0,0,3,0,0.70\\n38187,SST_index,\"FVB/NJ\",m,-1.00,0,0,3,0,0.23\\n38187,SST_index,\"I/LnJ\",m,-24.9,0,0,3,0,-2.14\\n38187,SST_index,\"LG/J\",m,5.24,0,0,3,0,0.85\\n38187,SST_index,\"LP/J\",m,-24.1,0,0,3,0,-2.06\\n38187,SST_index,\"MA/MyJ\",m,-1.02,0,0,3,0,0.23\\n38187,SST_index,\"MRL/MpJ\",m,-2.11,0,0,3,0,0.12\\n38187,SST_index,\"NOD/ShiLtJ\",m,0.821,0,0,3,0,0.41\\n38187,SST_index,\"NOR/LtJ\",m,5.36,0,0,3,0,0.86\\n38187,SST_index,\"NZB/BlNJ\",m,-2.00,0,0,3,0,0.13\\n38187,SST_index,\"NZW/LacJ\",m,-19.5,0,0,3,0,-1.60\\n38187,SST_index,\"P/J\",m,-13.0,0,0,3,0,-0.96\\n38187,SST_index,\"PL/J\",m,3.71,0,0,3,0,0.70\\n38187,SST_index,\"RIIIS/J\",m,1.35,0,0,3,0,0.47\\n38187,SST_index,\"SJL/J\",m,-11.8,0,0,3,0,-0.84\\n38187,SST_index,\"SM/J\",m,4.09,0,0,3,0,0.74\\n38187,SST_index,\"SWR/J\",m,12.9,0,0,3,0,1.61\\n38188,TNF_cont,\"129S1/SvImJ\",m,0.811,0.0210,0.0121,3,0.0259,0.03\\n38188,TNF_cont,\"A/J\",m,0.763,0.0170,0.00981,3,0.0223,-0.49\\n38188,TNF_cont,\"AKR/J\",m,0.821,0.0210,0.0121,3,0.0256,0.14\\n38188,TNF_cont,\"BALB/cJ\",m,0.729,0.0330,0.0191,3,0.0453,-0.86\\n38188,TNF_cont,\"BTBR T<+> Itpr3<tf>/J\",m,0.815,0.0150,0.00866,3,0.0184,0.08\\n38188,TNF_cont,\"BUB/BnJ\",m,0.835,0.0300,0.0173,3,0.0359,0.29\\n38188,TNF_cont,\"C3H/HeJ\",m,0.749,0.0310,0.0179,3,0.0414,-0.64\\n38188,TNF_cont,\"C57BL/6J\",m,0.710,0.0570,0.0329,3,0.0803,-1.06\\n38188,TNF_cont,\"C57BLKS/J\",m,0.730,0.0160,0.00924,3,0.0219,-0.85\\n38188,TNF_cont,\"C57BR/cdJ\",m,0.723,0.0180,0.0104,3,0.0249,-0.92\\n38188,TNF_cont,\"C58/J\",m,0.758,0.0230,0.0133,3,0.0303,-0.54\\n38188,TNF_cont,\"CBA/J\",m,0.829,0.0380,0.0219,3,0.0458,0.23\\n38188,TNF_cont,\"CE/J\",m,0.766,0.0190,0.0110,3,0.0248,-0.46\\n38188,TNF_cont,\"DBA/2J\",m,0.681,0.0350,0.0202,3,0.0514,-1.38\\n38188,TNF_cont,\"FVB/NJ\",m,0.718,0.0330,0.0191,3,0.0460,-0.98\\n38188,TNF_cont,\"I/LnJ\",m,0.754,0.0350,0.0202,3,0.0464,-0.59\\n38188,TNF_cont,\"LG/J\",m,0.790,0.0210,0.0121,3,0.0266,-0.20\\n38188,TNF_cont,\"LP/J\",m,0.828,0.0210,0.0121,3,0.0254,0.22\\n38188,TNF_cont,\"MA/MyJ\",m,0.750,0.0260,0.0150,3,0.0347,-0.63\\n38188,TNF_cont,\"MRL/MpJ\",m,0.975,0.0140,0.00808,3,0.0144,1.81\\n38188,TNF_cont,\"NOD/ShiLtJ\",m,1.08,0.0290,0.0167,3,0.0267,2.95\\n38188,TNF_cont,\"NOR/LtJ\",m,0.716,0.0150,0.00866,3,0.0209,-1.00\\n38188,TNF_cont,\"NZB/BlNJ\",m,0.902,0.0210,0.0121,3,0.0233,1.02\\n38188,TNF_cont,\"NZW/LacJ\",m,1.01,0.0290,0.0167,3,0.0287,2.19\\n38188,TNF_cont,\"P/J\",m,0.876,0.0230,0.0133,3,0.0263,0.74\\n38188,TNF_cont,\"PL/J\",m,0.822,0.0160,0.00924,3,0.0195,0.15\\n38188,TNF_cont,\"RIIIS/J\",m,0.877,0.0350,0.0202,3,0.0399,0.75\\n38188,TNF_cont,\"SJL/J\",m,0.864,0.0190,0.0110,3,0.0220,0.61\\n38188,TNF_cont,\"SM/J\",m,0.803,0.0280,0.0162,3,0.0349,-0.05\\n38188,TNF_cont,\"SWR/J\",m,0.756,0.0220,0.0127,3,0.0291,-0.56\\n38189,TNF_fluox,\"129S1/SvImJ\",m,0.393,0.0160,0.00924,3,0.0407,-2.46\\n38189,TNF_fluox,\"A/J\",m,0.531,0.0110,0.00635,3,0.0207,-0.57\\n38189,TNF_fluox,\"AKR/J\",m,0.477,0.0150,0.00866,3,0.0314,-1.31\\n38189,TNF_fluox,\"BALB/cJ\",m,0.546,0.0180,0.0104,3,0.0330,-0.37\\n38189,TNF_fluox,\"BTBR T<+> Itpr3<tf>/J\",m,0.633,0.0120,0.00693,3,0.0190,0.83\\n38189,TNF_fluox,\"BUB/BnJ\",m,0.586,0.0150,0.00866,3,0.0256,0.18\\n38189,TNF_fluox,\"C3H/HeJ\",m,0.609,0.0180,0.0104,3,0.0296,0.50\\n38189,TNF_fluox,\"C57BL/6J\",m,0.555,0.0210,0.0121,3,0.0378,-0.24\\n38189,TNF_fluox,\"C57BLKS/J\",m,0.592,0.0100,0.00577,3,0.0169,0.26\\n38189,TNF_fluox,\"C57BR/cdJ\",m,0.608,0.0270,0.0156,3,0.0444,0.48\\n38189,TNF_fluox,\"C58/J\",m,0.654,0.0140,0.00808,3,0.0214,1.11\\n38189,TNF_fluox,\"CBA/J\",m,0.610,0.0170,0.00981,3,0.0279,0.51\\n38189,TNF_fluox,\"CE/J\",m,0.541,0.0190,0.0110,3,0.0351,-0.43\\n38189,TNF_fluox,\"DBA/2J\",m,0.527,0.0200,0.0115,3,0.0380,-0.63\\n38189,TNF_fluox,\"FVB/NJ\",m,0.584,0.0290,0.0167,3,0.0497,0.15\\n38189,TNF_fluox,\"I/LnJ\",m,0.573,0.0240,0.0139,3,0.0419,0.00\\n38189,TNF_fluox,\"LG/J\",m,0.687,0.0270,0.0156,3,0.0393,1.57\\n38189,TNF_fluox,\"LP/J\",m,0.364,0.0170,0.00981,3,0.0467,-2.86\\n38189,TNF_fluox,\"MA/MyJ\",m,0.595,0.0180,0.0104,3,0.0303,0.31\\n38189,TNF_fluox,\"MRL/MpJ\",m,0.578,0.0190,0.0110,3,0.0329,0.07\\n38189,TNF_fluox,\"NOD/ShiLtJ\",m,0.597,0.00900,0.00520,3,0.0151,0.33\\n38189,TNF_fluox,\"NOR/LtJ\",m,0.591,0.0110,0.00635,3,0.0186,0.25\\n38189,TNF_fluox,\"NZB/BlNJ\",m,0.623,0.0160,0.00924,3,0.0257,0.69\\n38189,TNF_fluox,\"NZW/LacJ\",m,0.439,0.0170,0.00981,3,0.0387,-1.83\\n38189,TNF_fluox,\"P/J\",m,0.633,0.0250,0.0144,3,0.0395,0.83\\n38189,TNF_fluox,\"PL/J\",m,0.632,0.0160,0.00924,3,0.0253,0.81\\n38189,TNF_fluox,\"RIIIS/J\",m,0.580,0.0180,0.0104,3,0.0310,0.10\\n38189,TNF_fluox,\"SJL/J\",m,0.584,0.0120,0.00693,3,0.0205,0.15\\n38189,TNF_fluox,\"SM/J\",m,0.623,0.0180,0.0104,3,0.0289,0.69\\n38189,TNF_fluox,\"SWR/J\",m,0.636,0.0150,0.00866,3,0.0236,0.87\\n38190,TNF_index,\"129S1/SvImJ\",m,-31.5,0,0,3,0,-2.00\\n38190,TNF_index,\"A/J\",m,-15.7,0,0,3,0,-0.07\\n38190,TNF_index,\"AKR/J\",m,-23.5,0,0,3,0,-1.03\\n38190,TNF_index,\"BALB/cJ\",m,-12.6,0,0,3,0,0.30\\n38190,TNF_index,\"BTBR T<+> Itpr3<tf>/J\",m,-11.0,0,0,3,0,0.50\\n38190,TNF_index,\"BUB/BnJ\",m,-15.4,0,0,3,0,-0.04\\n38190,TNF_index,\"C3H/HeJ\",m,-9.00,0,0,3,0,0.74\\n38190,TNF_index,\"C57BL/6J\",m,-10.7,0,0,3,0,0.54\\n38190,TNF_index,\"C57BLKS/J\",m,-9.08,0,0,3,0,0.73\\n38190,TNF_index,\"C57BR/cdJ\",m,-7.55,0,0,3,0,0.92\\n38190,TNF_index,\"C58/J\",m,-6.36,0,0,3,0,1.06\\n38190,TNF_index,\"CBA/J\",m,-13.3,0,0,3,0,0.22\\n38190,TNF_index,\"CE/J\",m,-15.2,0,0,3,0,-0.01\\n38190,TNF_index,\"DBA/2J\",m,-11.1,0,0,3,0,0.49\\n38190,TNF_index,\"FVB/NJ\",m,-8.99,0,0,3,0,0.74\\n38190,TNF_index,\"I/LnJ\",m,-11.9,0,0,3,0,0.39\\n38190,TNF_index,\"LG/J\",m,-6.09,0,0,3,0,1.10\\n38190,TNF_index,\"LP/J\",m,-35.7,0,0,3,0,-2.51\\n38190,TNF_index,\"MA/MyJ\",m,-10.1,0,0,3,0,0.61\\n38190,TNF_index,\"MRL/MpJ\",m,-22.7,0,0,3,0,-0.93\\n38190,TNF_index,\"NOD/ShiLtJ\",m,-25.9,0,0,3,0,-1.32\\n38190,TNF_index,\"NOR/LtJ\",m,-8.36,0,0,3,0,0.82\\n38190,TNF_index,\"NZB/BlNJ\",m,-16.0,0,0,3,0,-0.11\\n38190,TNF_index,\"NZW/LacJ\",m,-36.1,0,0,3,0,-2.56\\n38190,TNF_index,\"P/J\",m,-14.1,0,0,3,0,0.12\\n38190,TNF_index,\"PL/J\",m,-11.4,0,0,3,0,0.45\\n38190,TNF_index,\"RIIIS/J\",m,-17.9,0,0,3,0,-0.34\\n38190,TNF_index,\"SJL/J\",m,-17.0,0,0,3,0,-0.23\\n38190,TNF_index,\"SM/J\",m,-11.0,0,0,3,0,0.50\\n38190,TNF_index,\"SWR/J\",m,-7.49,0,0,3,0,0.93\\n38191,VEGFA_cont,\"129S1/SvImJ\",m,0.187,0.0100,0.00577,3,0.0535,-2.02\\n38191,VEGFA_cont,\"A/J\",m,0.250,0.00800,0.00462,3,0.0320,-0.06\\n38191,VEGFA_cont,\"AKR/J\",m,0.217,0.00800,0.00462,3,0.0369,-1.08\\n38191,VEGFA_cont,\"BALB/cJ\",m,0.242,0.0120,0.00693,3,0.0496,-0.31\\n38191,VEGFA_cont,\"BTBR T<+> Itpr3<tf>/J\",m,0.253,0.0110,0.00635,3,0.0435,0.04\\n38191,VEGFA_cont,\"BUB/BnJ\",m,0.221,0.00900,0.00520,3,0.0407,-0.96\\n38191,VEGFA_cont,\"C3H/HeJ\",m,0.246,0.0150,0.00866,3,0.0610,-0.18\\n38191,VEGFA_cont,\"C57BL/6J\",m,0.245,0.0100,0.00577,3,0.0408,-0.21\\n38191,VEGFA_cont,\"C57BLKS/J\",m,0.202,0.00900,0.00520,3,0.0446,-1.55\\n38191,VEGFA_cont,\"C57BR/cdJ\",m,0.202,0.00800,0.00462,3,0.0396,-1.55\\n38191,VEGFA_cont,\"C58/J\",m,0.249,0.00900,0.00520,3,0.0361,-0.09\\n38191,VEGFA_cont,\"CBA/J\",m,0.230,0.00800,0.00462,3,0.0348,-0.68\\n38191,VEGFA_cont,\"CE/J\",m,0.285,0.0160,0.00924,3,0.0561,1.03\\n38191,VEGFA_cont,\"DBA/2J\",m,0.232,0.00600,0.00346,3,0.0259,-0.62\\n38191,VEGFA_cont,\"FVB/NJ\",m,0.231,0.0160,0.00924,3,0.0693,-0.65\\n38191,VEGFA_cont,\"I/LnJ\",m,0.252,0.0100,0.00577,3,0.0397,0.01\\n38191,VEGFA_cont,\"LG/J\",m,0.291,0.0110,0.00635,3,0.0378,1.22\\n38191,VEGFA_cont,\"LP/J\",m,0.261,0.0140,0.00808,3,0.0536,0.29\\n38191,VEGFA_cont,\"MA/MyJ\",m,0.238,0.0110,0.00635,3,0.0462,-0.43\\n38191,VEGFA_cont,\"MRL/MpJ\",m,0.276,0.0110,0.00635,3,0.0399,0.75\\n38191,VEGFA_cont,\"NOD/ShiLtJ\",m,0.245,0.00900,0.00520,3,0.0367,-0.21\\n38191,VEGFA_cont,\"NOR/LtJ\",m,0.236,0.00600,0.00346,3,0.0254,-0.49\\n38191,VEGFA_cont,\"NZB/BlNJ\",m,0.332,0.0130,0.00751,3,0.0392,2.50\\n38191,VEGFA_cont,\"NZW/LacJ\",m,0.302,0.0140,0.00808,3,0.0464,1.56\\n38191,VEGFA_cont,\"P/J\",m,0.292,0.0120,0.00693,3,0.0411,1.25\\n38191,VEGFA_cont,\"PL/J\",m,0.289,0.0120,0.00693,3,0.0415,1.16\\n38191,VEGFA_cont,\"RIIIS/J\",m,0.274,0.0140,0.00808,3,0.0511,0.69\\n38191,VEGFA_cont,\"SJL/J\",m,0.273,0.0140,0.00808,3,0.0513,0.66\\n38191,VEGFA_cont,\"SM/J\",m,0.265,0.0140,0.00808,3,0.0528,0.41\\n38191,VEGFA_cont,\"SWR/J\",m,0.236,0.0100,0.00577,3,0.0424,-0.49\\n38192,VEGFA_fluox,\"129S1/SvImJ\",m,0.173,0.00700,0.00404,3,0.0405,-1.53\\n38192,VEGFA_fluox,\"A/J\",m,0.201,0.00900,0.00520,3,0.0448,-0.57\\n38192,VEGFA_fluox,\"AKR/J\",m,0.183,0.00900,0.00520,3,0.0492,-1.19\\n38192,VEGFA_fluox,\"BALB/cJ\",m,0.220,0.00800,0.00462,3,0.0364,0.08\\n38192,VEGFA_fluox,\"BTBR T<+> Itpr3<tf>/J\",m,0.228,0.00900,0.00520,3,0.0395,0.35\\n38192,VEGFA_fluox,\"BUB/BnJ\",m,0.197,0.0120,0.00693,3,0.0609,-0.71\\n38192,VEGFA_fluox,\"C3H/HeJ\",m,0.232,0.00600,0.00346,3,0.0259,0.49\\n38192,VEGFA_fluox,\"C57BL/6J\",m,0.178,0.00700,0.00404,3,0.0393,-1.36\\n38192,VEGFA_fluox,\"C57BLKS/J\",m,0.168,0.0100,0.00577,3,0.0595,-1.70\\n38192,VEGFA_fluox,\"C57BR/cdJ\",m,0.225,0.0140,0.00808,3,0.0622,0.25\\n38192,VEGFA_fluox,\"C58/J\",m,0.232,0.0100,0.00577,3,0.0431,0.49\\n38192,VEGFA_fluox,\"CBA/J\",m,0.209,0.00800,0.00462,3,0.0383,-0.30\\n38192,VEGFA_fluox,\"CE/J\",m,0.213,0.00600,0.00346,3,0.0282,-0.16\\n38192,VEGFA_fluox,\"DBA/2J\",m,0.212,0.00700,0.00404,3,0.0330,-0.19\\n38192,VEGFA_fluox,\"FVB/NJ\",m,0.209,0.0150,0.00866,3,0.0718,-0.30\\n38192,VEGFA_fluox,\"I/LnJ\",m,0.227,0.00900,0.00520,3,0.0396,0.32\\n38192,VEGFA_fluox,\"LG/J\",m,0.261,0.0140,0.00808,3,0.0536,1.48\\n38192,VEGFA_fluox,\"LP/J\",m,0.152,0.00300,0.00173,3,0.0197,-2.24\\n38192,VEGFA_fluox,\"MA/MyJ\",m,0.254,0.0110,0.00635,3,0.0433,1.24\\n38192,VEGFA_fluox,\"MRL/MpJ\",m,0.234,0.00800,0.00462,3,0.0342,0.56\\n38192,VEGFA_fluox,\"NOD/ShiLtJ\",m,0.225,0.0110,0.00635,3,0.0489,0.25\\n38192,VEGFA_fluox,\"NOR/LtJ\",m,0.240,0.00900,0.00520,3,0.0375,0.76\\n38192,VEGFA_fluox,\"NZB/BlNJ\",m,0.245,0.0150,0.00866,3,0.0612,0.93\\n38192,VEGFA_fluox,\"NZW/LacJ\",m,0.187,0.00600,0.00346,3,0.0321,-1.05\\n38192,VEGFA_fluox,\"P/J\",m,0.279,0.0130,0.00751,3,0.0466,2.09\\n38192,VEGFA_fluox,\"PL/J\",m,0.259,0.0130,0.00751,3,0.0502,1.41\\n38192,VEGFA_fluox,\"RIIIS/J\",m,0.206,0.0120,0.00693,3,0.0583,-0.40\\n38192,VEGFA_fluox,\"SJL/J\",m,0.235,0.0160,0.00924,3,0.0681,0.59\\n38192,VEGFA_fluox,\"SM/J\",m,0.219,0.00900,0.00520,3,0.0411,0.04\\n38192,VEGFA_fluox,\"SWR/J\",m,0.228,0.0100,0.00577,3,0.0439,0.35\\n38193,VEGFA_index,\"129S1/SvImJ\",m,-3.20,0,0,3,0,0.52\\n38193,VEGFA_index,\"A/J\",m,-9.50,0,0,3,0,-0.51\\n38193,VEGFA_index,\"AKR/J\",m,-7.53,0,0,3,0,-0.19\\n38193,VEGFA_index,\"BALB/cJ\",m,-4.20,0,0,3,0,0.36\\n38193,VEGFA_index,\"BTBR T<+> Itpr3<tf>/J\",m,-4.59,0,0,3,0,0.29\\n38193,VEGFA_index,\"BUB/BnJ\",m,-4.98,0,0,3,0,0.23\\n38193,VEGFA_index,\"C3H/HeJ\",m,-2.49,0,0,3,0,0.64\\n38193,VEGFA_index,\"C57BL/6J\",m,-13.8,0,0,3,0,-1.22\\n38193,VEGFA_index,\"C57BLKS/J\",m,-7.96,0,0,3,0,-0.26\\n38193,VEGFA_index,\"C57BR/cdJ\",m,4.67,0,0,3,0,1.81\\n38193,VEGFA_index,\"C58/J\",m,-2.98,0,0,3,0,0.56\\n38193,VEGFA_index,\"CBA/J\",m,-4.12,0,0,3,0,0.37\\n38193,VEGFA_index,\"CE/J\",m,-12.6,0,0,3,0,-1.02\\n38193,VEGFA_index,\"DBA/2J\",m,-3.92,0,0,3,0,0.40\\n38193,VEGFA_index,\"FVB/NJ\",m,-4.34,0,0,3,0,0.33\\n38193,VEGFA_index,\"I/LnJ\",m,-4.50,0,0,3,0,0.31\\n38193,VEGFA_index,\"LG/J\",m,-4.79,0,0,3,0,0.26\\n38193,VEGFA_index,\"LP/J\",m,-23.5,0,0,3,0,-2.80\\n38193,VEGFA_index,\"MA/MyJ\",m,2.92,0,0,3,0,1.52\\n38193,VEGFA_index,\"MRL/MpJ\",m,-7.20,0,0,3,0,-0.14\\n38193,VEGFA_index,\"NOD/ShiLtJ\",m,-3.73,0,0,3,0,0.43\\n38193,VEGFA_index,\"NOR/LtJ\",m,0.656,0,0,3,0,1.15\\n38193,VEGFA_index,\"NZB/BlNJ\",m,-13.2,0,0,3,0,-1.12\\n38193,VEGFA_index,\"NZW/LacJ\",m,-21.0,0,0,3,0,-2.39\\n38193,VEGFA_index,\"P/J\",m,-1.99,0,0,3,0,0.72\\n38193,VEGFA_index,\"PL/J\",m,-4.81,0,0,3,0,0.26\\n38193,VEGFA_index,\"RIIIS/J\",m,-12.4,0,0,3,0,-0.99\\n38193,VEGFA_index,\"SJL/J\",m,-6.54,0,0,3,0,-0.03\\n38193,VEGFA_index,\"SM/J\",m,-8.27,0,0,3,0,-0.31\\n38193,VEGFA_index,\"SWR/J\",m,-1.34,0,0,3,0,0.82\\n'"
      ]
     },
     "execution_count": 15,
     "metadata": {},
     "output_type": "execute_result"
    }
   ],
   "source": [
    "csv_file"
   ]
  },
  {
   "cell_type": "markdown",
   "metadata": {},
   "source": [
    "The `csv` module is for parsing csv files (obvs).\n",
    "\n",
    "When we ran these lines of code...\n",
    "\n",
    "`\n",
    "reader = csv.reader(csv_file, delimiter=',')\n",
    "parsed_file = list(reader)\n",
    "`\n",
    "\n",
    "...it should in theory have split each line of the file up wherever it found a comma.\n",
    "Let's see if it did that."
   ]
  },
  {
   "cell_type": "code",
   "execution_count": 22,
   "metadata": {
    "collapsed": false
   },
   "outputs": [
    {
     "data": {
      "text/plain": [
       "[['m'],\n",
       " ['e'],\n",
       " ['a'],\n",
       " ['s'],\n",
       " ['n'],\n",
       " ['u'],\n",
       " ['m'],\n",
       " ['', ''],\n",
       " ['v'],\n",
       " ['a'],\n",
       " ['r'],\n",
       " ['n'],\n",
       " ['a'],\n",
       " ['m'],\n",
       " ['e'],\n",
       " ['', '']]"
      ]
     },
     "execution_count": 22,
     "metadata": {},
     "output_type": "execute_result"
    }
   ],
   "source": [
    "parsed_file[57:73] # <-- the numbers inside square brackets are indices, we'll explain that in a bit"
   ]
  },
  {
   "cell_type": "markdown",
   "metadata": {},
   "source": [
    "Hmm, looks like it didn't.\n",
    "Instead it split up the string at each letter, except for the quoted bits.\n",
    "Maybe there's something we're not understanding about `urllib`.\n",
    "\n",
    "Let's turn to our old friend Google, who takes us to a stackoverflow post.\n",
    "(All programmers should know stackoverflow.)\n",
    "http://stackoverflow.com/questions/21351882/reading-data-from-a-csv-file-online-in-python-3\n",
    "\n",
    "Oh, I get it now, the `csv_file` is one big long string. Since a string is a type of sequence, and `csv.reader` splits up sequences, it's splitting up the string into characters.\n",
    "\n",
    "What we need to do is split up our big long string so there's some other kind of sequence.\n",
    "\n",
    "The different lines in the file are actually separated by a newline character, '\\n'.\n",
    "\n",
    "But we have to tell Python to split the string up whenever it sees that character.\n",
    "\n",
    "To do that we can call the `splitlines` method on the string, as shown in the cell below."
   ]
  },
  {
   "cell_type": "code",
   "execution_count": 24,
   "metadata": {
    "collapsed": false
   },
   "outputs": [],
   "source": [
    "url_for_file = \"http://phenome.jax.org/tmp/Wiltshire3_means.csv\"\n",
    "with urllib.request.urlopen(url_for_file) as response:\n",
    "   csv_file = response.read().decode('utf-8').splitlines() # <-- calling the splitlines method\n"
   ]
  },
  {
   "cell_type": "markdown",
   "metadata": {},
   "source": [
    "**Notice that we can chain multiple methods calls together using the period.**\n",
    "\n",
    "Here's the line again from the cell above where we did that:\n",
    "\n",
    "`csv_file = response.read().decode('utf-8').splitlines()`\n",
    "\n",
    "What this line of code does is say:\n",
    "1. use the `read` method of the `response` object on itself\n",
    "2. then `decode` whatever you read in using the \"utf-8\" scheme (one of many ways to decode bytes into text)\n",
    "3. then finally take the text and split it up with the `splitlines` method, that by default splits wherever it finds the special character '\\n' that represents the end of a line (like when you type `enter`)\n",
    "\n",
    "So what does `csv_file` look like after we run `splitlines` on it?"
   ]
  },
  {
   "cell_type": "code",
   "execution_count": 33,
   "metadata": {
    "collapsed": false
   },
   "outputs": [
    {
     "data": {
      "text/plain": [
       "['\"// Phenotype data set from Mouse Phenome Database (phenome.jax.org)\",,,,,,,,',\n",
       " '\"// Data set: Wiltshire3    Title: Drug study: Neurobiochemical analytes in response to chronic fluoxetine treatment in males of 30 inbred mouse strains    Year: 2011\",,,,,,,,',\n",
       " '\"// List of strain means and summary statistics\",,,,,,,,,,,',\n",
       " '\"// For more info on these data visit phenome.jax.org and type Wiltshire3 into search box\",,,,,,,,,,']"
      ]
     },
     "execution_count": 33,
     "metadata": {},
     "output_type": "execute_result"
    }
   ],
   "source": [
    "csv_file[:4]"
   ]
  },
  {
   "cell_type": "markdown",
   "metadata": {},
   "source": [
    "Notice that now when we display the variable, it's surrounded by square brackets.\n",
    "That's because `splitlines` returns a *list* of strings.\n",
    "\n",
    "## Lists\n",
    "\n",
    "Lists are one of the main data types in Python.\n",
    "\n",
    "Other languages often call them *arrays*.\n",
    "\n",
    "A list is just a way of grouping things together to make them easier to work with.\n",
    "\n",
    "For example, now that we have a list of strings, we can use the csv.reader on them.\n",
    "\n",
    "Recall that we figured out from a stackoverflow post that the csv.reader will take whatever sequence we give it and split it up.\n",
    "Since a list, like a string, is a sequence, we can get the reader to split it up."
   ]
  },
  {
   "cell_type": "code",
   "execution_count": 41,
   "metadata": {
    "collapsed": true
   },
   "outputs": [],
   "source": [
    "reader = csv.reader(csv_file, delimiter=',')\n",
    "#parsed_file = list(reader)"
   ]
  },
  {
   "cell_type": "markdown",
   "metadata": {},
   "source": [
    "Okay, so now we made a `reader` object (from the `csv` module).\n",
    "Did we parse our file yet?"
   ]
  },
  {
   "cell_type": "code",
   "execution_count": 42,
   "metadata": {
    "collapsed": false
   },
   "outputs": [
    {
     "data": {
      "text/plain": [
       "<_csv.reader at 0x2baed1b4868>"
      ]
     },
     "execution_count": 42,
     "metadata": {},
     "output_type": "execute_result"
    }
   ],
   "source": [
    "reader"
   ]
  },
  {
   "cell_type": "markdown",
   "metadata": {},
   "source": [
    "What the heckin' heck is that?\n",
    "\n",
    "That's the objects location in memory.\n",
    "\n",
    "But it's not what we wanted at all. We want the lines from our csv file, split up at the commas.\n",
    "\n",
    "The `reader` is actually an `iterator` object.\n",
    "In Pythonese, we say that any object is an `iterator` if it implements the `__iter__` method."
   ]
  },
  {
   "cell_type": "code",
   "execution_count": 40,
   "metadata": {
    "collapsed": false
   },
   "outputs": [
    {
     "data": {
      "text/plain": [
       "True"
      ]
     },
     "execution_count": 40,
     "metadata": {},
     "output_type": "execute_result"
    }
   ],
   "source": [
    "'__iter__' in dir(reader)"
   ]
  },
  {
   "cell_type": "markdown",
   "metadata": {},
   "source": [
    "Ok, so what?\n",
    "\n",
    "You probably already know what an iterator is.\n",
    "\n",
    "It's just that you call them \"loops\".\n",
    "\n",
    "Let's iterate over the lines of the file that we put inside the reader object:"
   ]
  },
  {
   "cell_type": "code",
   "execution_count": null,
   "metadata": {
    "collapsed": true
   },
   "outputs": [],
   "source": [
    "parsed_file = [] # an empty list\n",
    "For row in reader:\n",
    "    parsed_file.append(row)"
   ]
  },
  {
   "cell_type": "markdown",
   "metadata": {},
   "source": [
    "## for loops\n",
    "\n",
    "So above, we made an empty list.\n",
    "\n",
    "Then we used a *for loop* to *iterate* over the rows of the file.\n",
    "\n",
    "Here's what happens each time through the loop:\n",
    "   1. the reader object parses one line of the file and puts that inside the variable `row`\n",
    "   2. we called the `append` method of our list object `parsed_file` so that we could add `row` to the end of our list\n",
    "\n",
    "## significant white space\n",
    "\n",
    "How does the Python interpreter know which lines of code belong inside our *for loop*?\n",
    "\n",
    "Many other languages use punctuation such as curly braces to identify blocks of code.\n",
    "Here's a for loop in Java code\n",
    "\n",
    "```Java\n",
    "for (i=0;i++;i<10)\n",
    "    { // <-- curly braces\n",
    "    j = i * 10\n",
    "    k = k + j\n",
    "    }\n",
    "print(k)\n",
    "```\n",
    "\n",
    "In Python, white space is used to organize code.\n",
    "\n",
    "All the lines that are indented a similar amount are taken to belong to a given block.\n",
    "\n",
    "```Python\n",
    "for i in range(10):\n",
    "    # beginning of code block in for loop\n",
    "    j = i * 10\n",
    "    k = k + j\n",
    "    # end of code block\n",
    "print(k)\n",
    "```\n",
    "\n",
    "Many people that are used to other languages find this weird at first.\n",
    "\n",
    "You'll get over it.\n",
    "\n",
    "Once you do, you'll realize that it enforces readability in a way that other languages do not.\n",
    "\n",
    "For example, in Java, people can choose how much they indent. As long as there's opening and closing curly braces, it doesn't matter where they are. In practice, good Java coders use consistent indentation, but there's actually nothing about the language that says they have to.\n",
    "\n",
    "\n",
    "\n",
    "How's our `parsed_file` look now?"
   ]
  },
  {
   "cell_type": "code",
   "execution_count": 31,
   "metadata": {
    "collapsed": false
   },
   "outputs": [
    {
     "data": {
      "text/plain": [
       "[['// For more info on these data visit phenome.jax.org and type Wiltshire3 into search box',\n",
       "  '',\n",
       "  '',\n",
       "  '',\n",
       "  '',\n",
       "  '',\n",
       "  '',\n",
       "  '',\n",
       "  '',\n",
       "  '',\n",
       "  ''],\n",
       " ['', '', '', '', '', '', '', '', '', '', '', ''],\n",
       " ['measnum',\n",
       "  'varname',\n",
       "  'strain',\n",
       "  'sex',\n",
       "  'mean',\n",
       "  'sd',\n",
       "  'sem',\n",
       "  'nmice',\n",
       "  'cv',\n",
       "  'zscore',\n",
       "  '',\n",
       "  '',\n",
       "  '']]"
      ]
     },
     "execution_count": 31,
     "metadata": {},
     "output_type": "execute_result"
    }
   ],
   "source": [
    "parsed_file[3:6]"
   ]
  },
  {
   "cell_type": "markdown",
   "metadata": {},
   "source": [
    "Okay, good, the csv reader is no longer splitting up"
   ]
  },
  {
   "cell_type": "code",
   "execution_count": null,
   "metadata": {
    "collapsed": true
   },
   "outputs": [],
   "source": [
    "def parse_jackson_csv(csv_string):\n",
    "    \"\"\"\n",
    "    Parses csv files from Jackson labs website.\n",
    "    Deals with some of the idiosyncracies that csv.sniffer doesn't recognize.\n",
    "    \"\"\"\n",
    "    SEPARATOR_BEFORE_HEADER = \",,,,,,,,,,\\n,,,,,,,,,,,\\n\"\n",
    "    index = csv_string.rfind(SEPARATOR_BEFORE_HEADER)\n",
    "    new_start_index = index+len(SEPARATOR_BEFORE_HEADER)+1\n",
    "    csv_string = csv_string[new_start_index:]\n",
    "    return csv_string"
   ]
  },
  {
   "cell_type": "code",
   "execution_count": null,
   "metadata": {
    "collapsed": true
   },
   "outputs": [],
   "source": [
    "csv_string = parse_jackson_csv(csv_file)"
   ]
  },
  {
   "cell_type": "code",
   "execution_count": null,
   "metadata": {
    "collapsed": false
   },
   "outputs": [],
   "source": [
    "dialect = csv.Sniffer()kj.sniff(csv_string)\n",
    "reader = csv.reader(csv_string, dialect)\n",
    "thing = list(reader)"
   ]
  },
  {
   "cell_type": "code",
   "execution_count": null,
   "metadata": {
    "collapsed": false
   },
   "outputs": [],
   "source": [
    "thing"
   ]
  },
  {
   "cell_type": "code",
   "execution_count": null,
   "metadata": {
    "collapsed": true
   },
   "outputs": [],
   "source": [
    "url_for_file = \"http://phenome.jax.org/tmp/Willott1_table.csv\"\n",
    "with urllib.request.urlopen(url_for_file) as response:\n",
    "   csv_file = response.read().decode('utf-8')\n",
    "reader = csv.reader(csv_file, delimiter=',', quotechar='\"')"
   ]
  },
  {
   "cell_type": "markdown",
   "metadata": {},
   "source": [
    "## Lists"
   ]
  },
  {
   "cell_type": "markdown",
   "metadata": {},
   "source": [
    "## the easy way"
   ]
  },
  {
   "cell_type": "code",
   "execution_count": null,
   "metadata": {
    "collapsed": true
   },
   "outputs": [],
   "source": [
    "!pip install openpyxl"
   ]
  }
 ],
 "metadata": {
  "anaconda-cloud": {},
  "kernelspec": {
   "display_name": "Python [Root]",
   "language": "python",
   "name": "Python [Root]"
  },
  "language_info": {
   "codemirror_mode": {
    "name": "ipython",
    "version": 3
   },
   "file_extension": ".py",
   "mimetype": "text/x-python",
   "name": "python",
   "nbconvert_exporter": "python",
   "pygments_lexer": "ipython3",
   "version": "3.5.2"
  }
 },
 "nbformat": 4,
 "nbformat_minor": 0
}
